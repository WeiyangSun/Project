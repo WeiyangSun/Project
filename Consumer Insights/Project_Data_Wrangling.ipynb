{
 "cells": [
  {
   "cell_type": "code",
   "execution_count": 1,
   "metadata": {},
   "outputs": [
    {
     "name": "stderr",
     "output_type": "stream",
     "text": [
      "/Users/Weiyang/anaconda3/lib/python3.6/site-packages/statsmodels/compat/pandas.py:56: FutureWarning: The pandas.core.datetools module is deprecated and will be removed in a future version. Please use the pandas.tseries module instead.\n",
      "  from pandas.core import datetools\n"
     ]
    }
   ],
   "source": [
    "import pandas as pd\n",
    "import numpy as np\n",
    "import matplotlib.pyplot as plt\n",
    "\n",
    "import os\n",
    "\n",
    "from sklearn.model_selection import train_test_split\n",
    "from sklearn.linear_model import LogisticRegression\n",
    "from sklearn.linear_model import LinearRegression\n",
    "from sklearn.metrics import confusion_matrix, mean_squared_error, r2_score, mean_absolute_error\n",
    "\n",
    "import statsmodels.api as sm\n",
    "\n",
    "from sklearn.decomposition import FactorAnalysis"
   ]
  },
  {
   "cell_type": "code",
   "execution_count": 2,
   "metadata": {
    "collapsed": true
   },
   "outputs": [],
   "source": [
    "pd.set_option('display.width', 4000)\n",
    "pd.set_option('max_colwidth', 4000)\n",
    "pd.set_option('max_columns', 200)\n",
    "pd.set_option('max_rows', 200)"
   ]
  },
  {
   "cell_type": "code",
   "execution_count": 3,
   "metadata": {
    "collapsed": true
   },
   "outputs": [],
   "source": [
    "os.chdir('/Users/Weiyang/Desktop/Morris Hitte Customer Insights')"
   ]
  },
  {
   "cell_type": "code",
   "execution_count": 4,
   "metadata": {
    "collapsed": true
   },
   "outputs": [],
   "source": [
    "dataset = pd.read_csv('utdallas_contest_data-1.csv', low_memory = False)"
   ]
  },
  {
   "cell_type": "code",
   "execution_count": 5,
   "metadata": {},
   "outputs": [
    {
     "data": {
      "text/html": [
       "<div>\n",
       "<style>\n",
       "    .dataframe thead tr:only-child th {\n",
       "        text-align: right;\n",
       "    }\n",
       "\n",
       "    .dataframe thead th {\n",
       "        text-align: left;\n",
       "    }\n",
       "\n",
       "    .dataframe tbody tr th {\n",
       "        vertical-align: top;\n",
       "    }\n",
       "</style>\n",
       "<table border=\"1\" class=\"dataframe\">\n",
       "  <thead>\n",
       "    <tr style=\"text-align: right;\">\n",
       "      <th></th>\n",
       "      <th>wgtpop</th>\n",
       "      <th>wgthh</th>\n",
       "      <th>dataright_seq</th>\n",
       "      <th>match</th>\n",
       "      <th>match_level_1</th>\n",
       "      <th>State_99039</th>\n",
       "      <th>Zip_Code_99040</th>\n",
       "      <th>Zip4_Code_99041</th>\n",
       "      <th>Len_of_Residence_90300</th>\n",
       "      <th>Marital_Status_90301</th>\n",
       "      <th>Dwelling_Type_90302</th>\n",
       "      <th>Homeowner_Renter_90303</th>\n",
       "      <th>Gender_Code_90304</th>\n",
       "      <th>Age_Range_90305</th>\n",
       "      <th>Num_Adults_HH_90306</th>\n",
       "      <th>Num_Child_in_HH_90307</th>\n",
       "      <th>Race_Code_90308</th>\n",
       "      <th>Est_HH_Income_90309</th>\n",
       "      <th>Home_Market_Value_90310</th>\n",
       "      <th>Presence_Children_90311</th>\n",
       "      <th>Networth_90312</th>\n",
       "      <th>BnkCrd_Pres_in_HH_90313</th>\n",
       "      <th>Spanish_Speaking_90314</th>\n",
       "      <th>Mail_Order_Byr_90315</th>\n",
       "      <th>Mail_Order_Resp_90316</th>\n",
       "      <th>Occ_1st_Indv_90317</th>\n",
       "      <th>Edu_1st_Indv_90318</th>\n",
       "      <th>Designated_Mkt_Area_U324014</th>\n",
       "      <th>Nielsen_County_Sz_U324016</th>\n",
       "      <th>Cen10_Education_Lev_U324023</th>\n",
       "      <th>Cen10_Med_Age_HHer_U324024</th>\n",
       "      <th>Cen10_Pct_White_U324025</th>\n",
       "      <th>Cen10_Pct_Hispanic_U324026</th>\n",
       "      <th>Cen10_Pct_Black_U324027</th>\n",
       "      <th>Cen10_Med_HH_Inc_U324028</th>\n",
       "      <th>Cen10_Incom_Pctile_U324029</th>\n",
       "      <th>Cen10_Pct_Homeoner_U324030</th>\n",
       "      <th>Cen10_Med_Home_Val_U324031</th>\n",
       "      <th>Cen10_Pct_SFDU_U324032</th>\n",
       "      <th>Cen10_Pct_Mob_Homes_U324033</th>\n",
       "      <th>Cen10_Pct_BCol_Emp_U324034</th>\n",
       "      <th>Cen10_Pct_WhtColEmp_U324035</th>\n",
       "      <th>Cen10_Pct_Married_U324036</th>\n",
       "      <th>Cen10_Pct_HH_w_Chld_U324037</th>\n",
       "      <th>Cen10_Avg_Num_Auto_U324038</th>\n",
       "      <th>Cen10_MedHH_EffInc_U324039</th>\n",
       "      <th>Cen10_Pct_Divorced_U324040</th>\n",
       "      <th>Cen10_Pct_MtrVehOwn_U324041</th>\n",
       "      <th>Cen10_Pct_AbvPovrty_U324042</th>\n",
       "      <th>Cen10_Pct_BelPovLvl_U324043</th>\n",
       "      <th>Cen10_Pct_Move_2000_U324044</th>\n",
       "      <th>Cen10_Pct_Blt_2000p_U324045</th>\n",
       "      <th>Cen10_SocioEcon_Scr_U324046</th>\n",
       "      <th>Cen10_PopDen_St_Cen_U324047</th>\n",
       "      <th>Cen10_PopDen_USCent_U324048</th>\n",
       "      <th>Age_Range_U324055</th>\n",
       "      <th>Est_Age_U324056</th>\n",
       "      <th>Gender_U324057</th>\n",
       "      <th>Race_U324058</th>\n",
       "      <th>Family_PositionCode_U324059</th>\n",
       "      <th>Presence_Eld_Parent_U324060</th>\n",
       "      <th>Length_of_Residnce_U324061</th>\n",
       "      <th>Homeowner_Status_U324062</th>\n",
       "      <th>Dwelling_Type_U324063</th>\n",
       "      <th>Est_HH_Income_3_U324064</th>\n",
       "      <th>Net_Worth_3_U324065</th>\n",
       "      <th>ZIP_Income_Decile_U324066</th>\n",
       "      <th>Dual_Income_Indx_3_U324067</th>\n",
       "      <th>Mail_Order_Respnder_U324068</th>\n",
       "      <th>Mail_Order_Byr_U324069</th>\n",
       "      <th>Married_U324070</th>\n",
       "      <th>Num_Adults_in_HH_U324071</th>\n",
       "      <th>Num_Persons_in_HH_U324072</th>\n",
       "      <th>Num_ReportingSource_U324073</th>\n",
       "      <th>Number_Children_U324074</th>\n",
       "      <th>Child_Pres_0002_Yrs_U324075</th>\n",
       "      <th>Child_Pres_0305_Yrs_U324076</th>\n",
       "      <th>Child_Pres_0610_Yrs_U324077</th>\n",
       "      <th>Child_Pres_1115_Yrs_U324078</th>\n",
       "      <th>Child_Pres_1618_Yrs_U324079</th>\n",
       "      <th>Presence_Children_U324080</th>\n",
       "      <th>Indv_Occ_U324081</th>\n",
       "      <th>Indv_Spouse_Occ_U324082</th>\n",
       "      <th>SOHO_Ind_Indv_U324083</th>\n",
       "      <th>SOHO_Indicator_HH_U324084</th>\n",
       "      <th>Online_Access_U324085</th>\n",
       "      <th>ZIP4_Home_Value_U324093</th>\n",
       "      <th>Age_U324094</th>\n",
       "      <th>Bank_Card_New_IssDt_U324098</th>\n",
       "      <th>Bank_Card_U324099</th>\n",
       "      <th>Ret_Card_U324100</th>\n",
       "      <th>Credit_Active_U324101</th>\n",
       "      <th>Credit_Act_Std_Ret_U324102</th>\n",
       "      <th>Cred_Act_LwEndDpStr_U324103</th>\n",
       "      <th>Cred_Act_MainStrRet_U324104</th>\n",
       "      <th>Cred_Act_HighEnd_Rt_U324105</th>\n",
       "      <th>Credit_Act_TravPers_U324106</th>\n",
       "      <th>Credit_Act_Speclty_U324107</th>\n",
       "      <th>Credit_Actv_Spc_App_U324108</th>\n",
       "      <th>Cred_Act_FinSvc_Bnk_U324109</th>\n",
       "      <th>...</th>\n",
       "      <th>Number_Vehicles_U324600</th>\n",
       "      <th>HlthInsPrem_Tol_Idx_U324602</th>\n",
       "      <th>Hlthcare_Treat_Pref_U324603</th>\n",
       "      <th>Medicar_SpInsByrIdx_U324604</th>\n",
       "      <th>Smart_HHs_Appliance_U324605</th>\n",
       "      <th>Smart_HHs_Security_U324606</th>\n",
       "      <th>Digital_Dest_Groups_U324611</th>\n",
       "      <th>Digital_Devices_U324612</th>\n",
       "      <th>Digital_Destination_U324613</th>\n",
       "      <th>Digi_Neighborhoods_U324614</th>\n",
       "      <th>Mult_HlthBeh_Ch_Idx_U324615</th>\n",
       "      <th>Sust_Hlth_BehCh_Idx_U324616</th>\n",
       "      <th>Gender1_99013</th>\n",
       "      <th>Gender2_99014</th>\n",
       "      <th>State_U324007</th>\n",
       "      <th>ZIP_Code_U324008</th>\n",
       "      <th>ZIP_Plus_4_U324009</th>\n",
       "      <th>Numeric_State_Code_U324012</th>\n",
       "      <th>Numeric_Cty_Code_U324013</th>\n",
       "      <th>Cen_BasTrct_SbCdNum_U324020</th>\n",
       "      <th>Census_Basic_BlkGrp_U324021</th>\n",
       "      <th>Census_Block_Code_U324022</th>\n",
       "      <th>Date_of_Birth_Mth_U324095</th>\n",
       "      <th>Date_of_Birth_Day_U324096</th>\n",
       "      <th>Date_of_Birth_Year_U324097</th>\n",
       "      <th>Child_1_Date_Birth_U324125</th>\n",
       "      <th>Child_2_Date_Birth_U324127</th>\n",
       "      <th>Child_3_Date_Birth_U324129</th>\n",
       "      <th>Child_4_Date_Birth_U324131</th>\n",
       "      <th>Cen_Basic_Tract_Num_U324019</th>\n",
       "      <th>Public_Housing_Addr_U324089</th>\n",
       "      <th>Census_Coding_Lvl_U324049</th>\n",
       "      <th>wc_bought_any</th>\n",
       "      <th>wc_num_items</th>\n",
       "      <th>wc_big_ticket_bought_any</th>\n",
       "      <th>wc_big_ticket_num_items</th>\n",
       "      <th>wc_low_ticket_bought_any</th>\n",
       "      <th>wc_low_ticket_num_items</th>\n",
       "      <th>wc_big_ticket_amt_spent</th>\n",
       "      <th>wc_low_ticket_amt_spent</th>\n",
       "      <th>client_times_shopped_30_days</th>\n",
       "      <th>client_shopped_3_mos</th>\n",
       "      <th>comp1_times_shopped_30_days</th>\n",
       "      <th>comp1_shopped_3_mos</th>\n",
       "      <th>comp2_times_shopped_30_days</th>\n",
       "      <th>comp2_shopped_3_mos</th>\n",
       "      <th>comp3_times_shopped_30_days</th>\n",
       "      <th>comp3_shopped_3_mos</th>\n",
       "      <th>other1_times_shopped_30_days</th>\n",
       "      <th>other1_shopped_3_mos</th>\n",
       "      <th>other2_times_shopped_30_days</th>\n",
       "      <th>other2_shopped_3_mos</th>\n",
       "      <th>other3_times_shopped_30_days</th>\n",
       "      <th>other3_shopped_3_mos</th>\n",
       "      <th>other4_times_shopped_30_days</th>\n",
       "      <th>other4_shopped_3_mos</th>\n",
       "      <th>other5_times_shopped_30_days</th>\n",
       "      <th>other5_shopped_3_mos</th>\n",
       "      <th>other6_times_shopped_30_days</th>\n",
       "      <th>other6_shopped_3_mos</th>\n",
       "      <th>other7_times_shopped_30_days</th>\n",
       "      <th>other7_shopped_3_mos</th>\n",
       "      <th>other8_times_shopped_30_days</th>\n",
       "      <th>other8_shopped_3_mos</th>\n",
       "      <th>other9_times_shopped_30_days</th>\n",
       "      <th>other9_shopped_3_mos</th>\n",
       "      <th>other10_times_shopped_30_days</th>\n",
       "      <th>other10_shopped_3_mos</th>\n",
       "      <th>other11_times_shopped_30_days</th>\n",
       "      <th>other11_shopped_3_mos</th>\n",
       "      <th>other12_times_shopped_30_days</th>\n",
       "      <th>other12_shopped_3_mos</th>\n",
       "      <th>other13_times_shopped_30_days</th>\n",
       "      <th>other13_shopped_3_mos</th>\n",
       "      <th>other14_times_shopped_30_days</th>\n",
       "      <th>other14_shopped_3_mos</th>\n",
       "      <th>other15_times_shopped_30_days</th>\n",
       "      <th>other15_shopped_3_mos</th>\n",
       "      <th>other16_times_shopped_30_days</th>\n",
       "      <th>other16_shopped_3_mos</th>\n",
       "      <th>other17_times_shopped_30_days</th>\n",
       "      <th>other17_shopped_3_mos</th>\n",
       "      <th>other18_times_shopped_30_days</th>\n",
       "      <th>other18_shopped_3_mos</th>\n",
       "      <th>other19_times_shopped_30_days</th>\n",
       "      <th>other19_shopped_3_mos</th>\n",
       "      <th>other20_times_shopped_30_days</th>\n",
       "      <th>other20_shopped_3_mos</th>\n",
       "      <th>other21_times_shopped_30_days</th>\n",
       "      <th>other21_shopped_3_mos</th>\n",
       "      <th>other22_times_shopped_30_days</th>\n",
       "      <th>other22_shopped_3_mos</th>\n",
       "      <th>other23_times_shopped_30_days</th>\n",
       "      <th>other23_shopped_3_mos</th>\n",
       "      <th>other24_times_shopped_30_days</th>\n",
       "      <th>other24_shopped_3_mos</th>\n",
       "      <th>other25_times_shopped_30_days</th>\n",
       "      <th>other25_shopped_3_mos</th>\n",
       "      <th>other26_times_shopped_30_days</th>\n",
       "      <th>other26_shopped_3_mos</th>\n",
       "    </tr>\n",
       "  </thead>\n",
       "  <tbody>\n",
       "    <tr>\n",
       "      <th>0</th>\n",
       "      <td>1973</td>\n",
       "      <td>391</td>\n",
       "      <td>2517</td>\n",
       "      <td>Y</td>\n",
       "      <td>1.0</td>\n",
       "      <td>CT</td>\n",
       "      <td>6604.0</td>\n",
       "      <td>2004.0</td>\n",
       "      <td>NaN</td>\n",
       "      <td>NaN</td>\n",
       "      <td>S</td>\n",
       "      <td>O</td>\n",
       "      <td>M</td>\n",
       "      <td>A</td>\n",
       "      <td>5.0</td>\n",
       "      <td>NaN</td>\n",
       "      <td>B</td>\n",
       "      <td>D</td>\n",
       "      <td>E</td>\n",
       "      <td>Y</td>\n",
       "      <td>E</td>\n",
       "      <td>NaN</td>\n",
       "      <td>NaN</td>\n",
       "      <td>Y</td>\n",
       "      <td>Y</td>\n",
       "      <td>NaN</td>\n",
       "      <td>NaN</td>\n",
       "      <td>501.0</td>\n",
       "      <td>A</td>\n",
       "      <td>4.0</td>\n",
       "      <td>54.0</td>\n",
       "      <td>47.0</td>\n",
       "      <td>25.0</td>\n",
       "      <td>35.0</td>\n",
       "      <td>53.0</td>\n",
       "      <td>22.0</td>\n",
       "      <td>50.0</td>\n",
       "      <td>196.0</td>\n",
       "      <td>21.0</td>\n",
       "      <td>0.0</td>\n",
       "      <td>16.0</td>\n",
       "      <td>55.0</td>\n",
       "      <td>27.0</td>\n",
       "      <td>20.0</td>\n",
       "      <td>14.0</td>\n",
       "      <td>43.0</td>\n",
       "      <td>23.0</td>\n",
       "      <td>84.0</td>\n",
       "      <td>92.0</td>\n",
       "      <td>8.0</td>\n",
       "      <td>68.0</td>\n",
       "      <td>0.0</td>\n",
       "      <td>84.0</td>\n",
       "      <td>9.0</td>\n",
       "      <td>12.0</td>\n",
       "      <td>B</td>\n",
       "      <td>NaN</td>\n",
       "      <td>M</td>\n",
       "      <td>NaN</td>\n",
       "      <td>C</td>\n",
       "      <td>NaN</td>\n",
       "      <td>NaN</td>\n",
       "      <td>Y</td>\n",
       "      <td>S</td>\n",
       "      <td>H</td>\n",
       "      <td>G</td>\n",
       "      <td>9.0</td>\n",
       "      <td>6.0</td>\n",
       "      <td>M</td>\n",
       "      <td>M</td>\n",
       "      <td>NaN</td>\n",
       "      <td>5.0</td>\n",
       "      <td>5.0</td>\n",
       "      <td>2.0</td>\n",
       "      <td>0.0</td>\n",
       "      <td>NaN</td>\n",
       "      <td>NaN</td>\n",
       "      <td>NaN</td>\n",
       "      <td>NaN</td>\n",
       "      <td>NaN</td>\n",
       "      <td>P</td>\n",
       "      <td>NaN</td>\n",
       "      <td>NaN</td>\n",
       "      <td>NaN</td>\n",
       "      <td>NaN</td>\n",
       "      <td>Y</td>\n",
       "      <td>176.0</td>\n",
       "      <td>21.0</td>\n",
       "      <td>NaN</td>\n",
       "      <td>NaN</td>\n",
       "      <td>NaN</td>\n",
       "      <td>NaN</td>\n",
       "      <td>NaN</td>\n",
       "      <td>NaN</td>\n",
       "      <td>NaN</td>\n",
       "      <td>NaN</td>\n",
       "      <td>NaN</td>\n",
       "      <td>NaN</td>\n",
       "      <td>NaN</td>\n",
       "      <td>NaN</td>\n",
       "      <td>...</td>\n",
       "      <td>NaN</td>\n",
       "      <td>NaN</td>\n",
       "      <td>C</td>\n",
       "      <td>9.0</td>\n",
       "      <td>1.0</td>\n",
       "      <td>2.0</td>\n",
       "      <td>1.0</td>\n",
       "      <td>2.0</td>\n",
       "      <td>18.0</td>\n",
       "      <td>1.0</td>\n",
       "      <td>1.0</td>\n",
       "      <td>5.0</td>\n",
       "      <td>M</td>\n",
       "      <td>U</td>\n",
       "      <td>CT</td>\n",
       "      <td>6604.0</td>\n",
       "      <td>2004.0</td>\n",
       "      <td>9.0</td>\n",
       "      <td>1.0</td>\n",
       "      <td>0.0</td>\n",
       "      <td>3.0</td>\n",
       "      <td>3012.0</td>\n",
       "      <td>10.0</td>\n",
       "      <td>19.0</td>\n",
       "      <td>1996.0</td>\n",
       "      <td>NaN</td>\n",
       "      <td>NaN</td>\n",
       "      <td>NaN</td>\n",
       "      <td>NaN</td>\n",
       "      <td>721.0</td>\n",
       "      <td>NaN</td>\n",
       "      <td>B</td>\n",
       "      <td>0</td>\n",
       "      <td>NaN</td>\n",
       "      <td>0</td>\n",
       "      <td>NaN</td>\n",
       "      <td>0</td>\n",
       "      <td>NaN</td>\n",
       "      <td>NaN</td>\n",
       "      <td>NaN</td>\n",
       "      <td>NaN</td>\n",
       "      <td>0</td>\n",
       "      <td>NaN</td>\n",
       "      <td>0</td>\n",
       "      <td>NaN</td>\n",
       "      <td>0</td>\n",
       "      <td>NaN</td>\n",
       "      <td>0</td>\n",
       "      <td>NaN</td>\n",
       "      <td>0</td>\n",
       "      <td>NaN</td>\n",
       "      <td>0</td>\n",
       "      <td>NaN</td>\n",
       "      <td>0</td>\n",
       "      <td>NaN</td>\n",
       "      <td>0</td>\n",
       "      <td>NaN</td>\n",
       "      <td>0</td>\n",
       "      <td>NaN</td>\n",
       "      <td>0</td>\n",
       "      <td>NaN</td>\n",
       "      <td>0</td>\n",
       "      <td>NaN</td>\n",
       "      <td>0</td>\n",
       "      <td>NaN</td>\n",
       "      <td>0</td>\n",
       "      <td>NaN</td>\n",
       "      <td>0</td>\n",
       "      <td>NaN</td>\n",
       "      <td>0</td>\n",
       "      <td>A</td>\n",
       "      <td>1</td>\n",
       "      <td>B</td>\n",
       "      <td>1</td>\n",
       "      <td>NaN</td>\n",
       "      <td>0</td>\n",
       "      <td>NaN</td>\n",
       "      <td>0</td>\n",
       "      <td>NaN</td>\n",
       "      <td>0</td>\n",
       "      <td>NaN</td>\n",
       "      <td>0</td>\n",
       "      <td>B</td>\n",
       "      <td>1</td>\n",
       "      <td>NaN</td>\n",
       "      <td>0</td>\n",
       "      <td>NaN</td>\n",
       "      <td>0</td>\n",
       "      <td>NaN</td>\n",
       "      <td>0</td>\n",
       "      <td>NaN</td>\n",
       "      <td>0</td>\n",
       "      <td>NaN</td>\n",
       "      <td>0</td>\n",
       "      <td>C</td>\n",
       "      <td>1</td>\n",
       "      <td>NaN</td>\n",
       "      <td>0</td>\n",
       "      <td>NaN</td>\n",
       "      <td>0</td>\n",
       "    </tr>\n",
       "    <tr>\n",
       "      <th>1</th>\n",
       "      <td>348</td>\n",
       "      <td>345</td>\n",
       "      <td>2518</td>\n",
       "      <td>Y</td>\n",
       "      <td>1.0</td>\n",
       "      <td>CT</td>\n",
       "      <td>6604.0</td>\n",
       "      <td>2004.0</td>\n",
       "      <td>1.0</td>\n",
       "      <td>NaN</td>\n",
       "      <td>S</td>\n",
       "      <td>NaN</td>\n",
       "      <td>F</td>\n",
       "      <td>D</td>\n",
       "      <td>NaN</td>\n",
       "      <td>NaN</td>\n",
       "      <td>H</td>\n",
       "      <td>B</td>\n",
       "      <td>A</td>\n",
       "      <td>NaN</td>\n",
       "      <td>A</td>\n",
       "      <td>NaN</td>\n",
       "      <td>NaN</td>\n",
       "      <td>NaN</td>\n",
       "      <td>NaN</td>\n",
       "      <td>NaN</td>\n",
       "      <td>NaN</td>\n",
       "      <td>501.0</td>\n",
       "      <td>A</td>\n",
       "      <td>4.0</td>\n",
       "      <td>54.0</td>\n",
       "      <td>47.0</td>\n",
       "      <td>25.0</td>\n",
       "      <td>35.0</td>\n",
       "      <td>53.0</td>\n",
       "      <td>22.0</td>\n",
       "      <td>50.0</td>\n",
       "      <td>196.0</td>\n",
       "      <td>21.0</td>\n",
       "      <td>0.0</td>\n",
       "      <td>16.0</td>\n",
       "      <td>55.0</td>\n",
       "      <td>27.0</td>\n",
       "      <td>20.0</td>\n",
       "      <td>14.0</td>\n",
       "      <td>43.0</td>\n",
       "      <td>23.0</td>\n",
       "      <td>84.0</td>\n",
       "      <td>92.0</td>\n",
       "      <td>8.0</td>\n",
       "      <td>68.0</td>\n",
       "      <td>0.0</td>\n",
       "      <td>84.0</td>\n",
       "      <td>9.0</td>\n",
       "      <td>12.0</td>\n",
       "      <td>H</td>\n",
       "      <td>NaN</td>\n",
       "      <td>F</td>\n",
       "      <td>NaN</td>\n",
       "      <td>O</td>\n",
       "      <td>NaN</td>\n",
       "      <td>1.0</td>\n",
       "      <td>NaN</td>\n",
       "      <td>S</td>\n",
       "      <td>D</td>\n",
       "      <td>A</td>\n",
       "      <td>5.0</td>\n",
       "      <td>9.0</td>\n",
       "      <td>NaN</td>\n",
       "      <td>NaN</td>\n",
       "      <td>NaN</td>\n",
       "      <td>NaN</td>\n",
       "      <td>NaN</td>\n",
       "      <td>3.0</td>\n",
       "      <td>0.0</td>\n",
       "      <td>NaN</td>\n",
       "      <td>4.0</td>\n",
       "      <td>NaN</td>\n",
       "      <td>NaN</td>\n",
       "      <td>NaN</td>\n",
       "      <td>NaN</td>\n",
       "      <td>NaN</td>\n",
       "      <td>NaN</td>\n",
       "      <td>NaN</td>\n",
       "      <td>NaN</td>\n",
       "      <td>NaN</td>\n",
       "      <td>176.0</td>\n",
       "      <td>51.0</td>\n",
       "      <td>NaN</td>\n",
       "      <td>NaN</td>\n",
       "      <td>Y</td>\n",
       "      <td>NaN</td>\n",
       "      <td>NaN</td>\n",
       "      <td>NaN</td>\n",
       "      <td>NaN</td>\n",
       "      <td>NaN</td>\n",
       "      <td>NaN</td>\n",
       "      <td>NaN</td>\n",
       "      <td>NaN</td>\n",
       "      <td>NaN</td>\n",
       "      <td>...</td>\n",
       "      <td>NaN</td>\n",
       "      <td>5.0</td>\n",
       "      <td>P</td>\n",
       "      <td>9.0</td>\n",
       "      <td>1.0</td>\n",
       "      <td>3.0</td>\n",
       "      <td>7.0</td>\n",
       "      <td>2.0</td>\n",
       "      <td>4.0</td>\n",
       "      <td>1.0</td>\n",
       "      <td>6.0</td>\n",
       "      <td>3.0</td>\n",
       "      <td>F</td>\n",
       "      <td>U</td>\n",
       "      <td>CT</td>\n",
       "      <td>6604.0</td>\n",
       "      <td>2004.0</td>\n",
       "      <td>9.0</td>\n",
       "      <td>1.0</td>\n",
       "      <td>0.0</td>\n",
       "      <td>3.0</td>\n",
       "      <td>3012.0</td>\n",
       "      <td>10.0</td>\n",
       "      <td>10.0</td>\n",
       "      <td>1966.0</td>\n",
       "      <td>201212.0</td>\n",
       "      <td>NaN</td>\n",
       "      <td>NaN</td>\n",
       "      <td>NaN</td>\n",
       "      <td>721.0</td>\n",
       "      <td>NaN</td>\n",
       "      <td>B</td>\n",
       "      <td>1</td>\n",
       "      <td>C</td>\n",
       "      <td>1</td>\n",
       "      <td>B</td>\n",
       "      <td>1</td>\n",
       "      <td>C</td>\n",
       "      <td>B</td>\n",
       "      <td>F</td>\n",
       "      <td>NaN</td>\n",
       "      <td>0</td>\n",
       "      <td>NaN</td>\n",
       "      <td>0</td>\n",
       "      <td>NaN</td>\n",
       "      <td>0</td>\n",
       "      <td>NaN</td>\n",
       "      <td>0</td>\n",
       "      <td>NaN</td>\n",
       "      <td>0</td>\n",
       "      <td>NaN</td>\n",
       "      <td>0</td>\n",
       "      <td>NaN</td>\n",
       "      <td>0</td>\n",
       "      <td>NaN</td>\n",
       "      <td>0</td>\n",
       "      <td>NaN</td>\n",
       "      <td>0</td>\n",
       "      <td>NaN</td>\n",
       "      <td>0</td>\n",
       "      <td>NaN</td>\n",
       "      <td>0</td>\n",
       "      <td>NaN</td>\n",
       "      <td>0</td>\n",
       "      <td>NaN</td>\n",
       "      <td>0</td>\n",
       "      <td>B</td>\n",
       "      <td>1</td>\n",
       "      <td>B</td>\n",
       "      <td>1</td>\n",
       "      <td>NaN</td>\n",
       "      <td>0</td>\n",
       "      <td>NaN</td>\n",
       "      <td>0</td>\n",
       "      <td>NaN</td>\n",
       "      <td>0</td>\n",
       "      <td>NaN</td>\n",
       "      <td>0</td>\n",
       "      <td>NaN</td>\n",
       "      <td>0</td>\n",
       "      <td>NaN</td>\n",
       "      <td>0</td>\n",
       "      <td>C</td>\n",
       "      <td>1</td>\n",
       "      <td>NaN</td>\n",
       "      <td>0</td>\n",
       "      <td>NaN</td>\n",
       "      <td>0</td>\n",
       "      <td>NaN</td>\n",
       "      <td>0</td>\n",
       "      <td>NaN</td>\n",
       "      <td>0</td>\n",
       "      <td>NaN</td>\n",
       "      <td>0</td>\n",
       "      <td>C</td>\n",
       "      <td>1</td>\n",
       "      <td>NaN</td>\n",
       "      <td>0</td>\n",
       "      <td>NaN</td>\n",
       "      <td>0</td>\n",
       "    </tr>\n",
       "    <tr>\n",
       "      <th>2</th>\n",
       "      <td>396</td>\n",
       "      <td>392</td>\n",
       "      <td>2519</td>\n",
       "      <td>Y</td>\n",
       "      <td>1.0</td>\n",
       "      <td>CT</td>\n",
       "      <td>6604.0</td>\n",
       "      <td>2003.0</td>\n",
       "      <td>15.0</td>\n",
       "      <td>NaN</td>\n",
       "      <td>M</td>\n",
       "      <td>R</td>\n",
       "      <td>F</td>\n",
       "      <td>D</td>\n",
       "      <td>1.0</td>\n",
       "      <td>NaN</td>\n",
       "      <td>W</td>\n",
       "      <td>B</td>\n",
       "      <td>A</td>\n",
       "      <td>NaN</td>\n",
       "      <td>A</td>\n",
       "      <td>Y</td>\n",
       "      <td>NaN</td>\n",
       "      <td>Y</td>\n",
       "      <td>Y</td>\n",
       "      <td>B</td>\n",
       "      <td>NaN</td>\n",
       "      <td>501.0</td>\n",
       "      <td>A</td>\n",
       "      <td>4.0</td>\n",
       "      <td>54.0</td>\n",
       "      <td>47.0</td>\n",
       "      <td>25.0</td>\n",
       "      <td>35.0</td>\n",
       "      <td>53.0</td>\n",
       "      <td>22.0</td>\n",
       "      <td>50.0</td>\n",
       "      <td>196.0</td>\n",
       "      <td>21.0</td>\n",
       "      <td>0.0</td>\n",
       "      <td>16.0</td>\n",
       "      <td>55.0</td>\n",
       "      <td>27.0</td>\n",
       "      <td>20.0</td>\n",
       "      <td>14.0</td>\n",
       "      <td>43.0</td>\n",
       "      <td>23.0</td>\n",
       "      <td>84.0</td>\n",
       "      <td>92.0</td>\n",
       "      <td>8.0</td>\n",
       "      <td>68.0</td>\n",
       "      <td>0.0</td>\n",
       "      <td>84.0</td>\n",
       "      <td>9.0</td>\n",
       "      <td>12.0</td>\n",
       "      <td>G</td>\n",
       "      <td>NaN</td>\n",
       "      <td>F</td>\n",
       "      <td>B</td>\n",
       "      <td>F</td>\n",
       "      <td>NaN</td>\n",
       "      <td>15.0</td>\n",
       "      <td>R</td>\n",
       "      <td>C</td>\n",
       "      <td>C</td>\n",
       "      <td>A</td>\n",
       "      <td>4.0</td>\n",
       "      <td>9.0</td>\n",
       "      <td>M</td>\n",
       "      <td>M</td>\n",
       "      <td>NaN</td>\n",
       "      <td>1.0</td>\n",
       "      <td>1.0</td>\n",
       "      <td>7.0</td>\n",
       "      <td>0.0</td>\n",
       "      <td>NaN</td>\n",
       "      <td>NaN</td>\n",
       "      <td>NaN</td>\n",
       "      <td>NaN</td>\n",
       "      <td>NaN</td>\n",
       "      <td>NaN</td>\n",
       "      <td>A264</td>\n",
       "      <td>NaN</td>\n",
       "      <td>NaN</td>\n",
       "      <td>Y</td>\n",
       "      <td>Y</td>\n",
       "      <td>171.0</td>\n",
       "      <td>50.0</td>\n",
       "      <td>NaN</td>\n",
       "      <td>M</td>\n",
       "      <td>M</td>\n",
       "      <td>Y</td>\n",
       "      <td>Y</td>\n",
       "      <td>Y</td>\n",
       "      <td>NaN</td>\n",
       "      <td>NaN</td>\n",
       "      <td>NaN</td>\n",
       "      <td>Y</td>\n",
       "      <td>NaN</td>\n",
       "      <td>Y</td>\n",
       "      <td>...</td>\n",
       "      <td>NaN</td>\n",
       "      <td>1.0</td>\n",
       "      <td>P</td>\n",
       "      <td>9.0</td>\n",
       "      <td>5.0</td>\n",
       "      <td>5.0</td>\n",
       "      <td>13.0</td>\n",
       "      <td>5.0</td>\n",
       "      <td>29.0</td>\n",
       "      <td>12.0</td>\n",
       "      <td>8.0</td>\n",
       "      <td>0.0</td>\n",
       "      <td>F</td>\n",
       "      <td>U</td>\n",
       "      <td>CT</td>\n",
       "      <td>6604.0</td>\n",
       "      <td>2003.0</td>\n",
       "      <td>9.0</td>\n",
       "      <td>1.0</td>\n",
       "      <td>0.0</td>\n",
       "      <td>3.0</td>\n",
       "      <td>3016.0</td>\n",
       "      <td>2.0</td>\n",
       "      <td>13.0</td>\n",
       "      <td>1968.0</td>\n",
       "      <td>NaN</td>\n",
       "      <td>NaN</td>\n",
       "      <td>NaN</td>\n",
       "      <td>NaN</td>\n",
       "      <td>721.0</td>\n",
       "      <td>NaN</td>\n",
       "      <td>B</td>\n",
       "      <td>1</td>\n",
       "      <td>B</td>\n",
       "      <td>0</td>\n",
       "      <td>NaN</td>\n",
       "      <td>1</td>\n",
       "      <td>B</td>\n",
       "      <td>NaN</td>\n",
       "      <td>A</td>\n",
       "      <td>NaN</td>\n",
       "      <td>0</td>\n",
       "      <td>NaN</td>\n",
       "      <td>0</td>\n",
       "      <td>NaN</td>\n",
       "      <td>0</td>\n",
       "      <td>NaN</td>\n",
       "      <td>0</td>\n",
       "      <td>NaN</td>\n",
       "      <td>0</td>\n",
       "      <td>NaN</td>\n",
       "      <td>0</td>\n",
       "      <td>NaN</td>\n",
       "      <td>0</td>\n",
       "      <td>NaN</td>\n",
       "      <td>0</td>\n",
       "      <td>NaN</td>\n",
       "      <td>0</td>\n",
       "      <td>NaN</td>\n",
       "      <td>0</td>\n",
       "      <td>NaN</td>\n",
       "      <td>0</td>\n",
       "      <td>NaN</td>\n",
       "      <td>0</td>\n",
       "      <td>NaN</td>\n",
       "      <td>0</td>\n",
       "      <td>NaN</td>\n",
       "      <td>0</td>\n",
       "      <td>NaN</td>\n",
       "      <td>0</td>\n",
       "      <td>NaN</td>\n",
       "      <td>0</td>\n",
       "      <td>NaN</td>\n",
       "      <td>0</td>\n",
       "      <td>NaN</td>\n",
       "      <td>0</td>\n",
       "      <td>NaN</td>\n",
       "      <td>0</td>\n",
       "      <td>NaN</td>\n",
       "      <td>0</td>\n",
       "      <td>NaN</td>\n",
       "      <td>0</td>\n",
       "      <td>C</td>\n",
       "      <td>1</td>\n",
       "      <td>NaN</td>\n",
       "      <td>0</td>\n",
       "      <td>NaN</td>\n",
       "      <td>0</td>\n",
       "      <td>NaN</td>\n",
       "      <td>0</td>\n",
       "      <td>NaN</td>\n",
       "      <td>0</td>\n",
       "      <td>NaN</td>\n",
       "      <td>0</td>\n",
       "      <td>NaN</td>\n",
       "      <td>0</td>\n",
       "      <td>NaN</td>\n",
       "      <td>0</td>\n",
       "      <td>NaN</td>\n",
       "      <td>0</td>\n",
       "    </tr>\n",
       "    <tr>\n",
       "      <th>3</th>\n",
       "      <td>838</td>\n",
       "      <td>276</td>\n",
       "      <td>2520</td>\n",
       "      <td>N</td>\n",
       "      <td>NaN</td>\n",
       "      <td>NaN</td>\n",
       "      <td>NaN</td>\n",
       "      <td>NaN</td>\n",
       "      <td>NaN</td>\n",
       "      <td>NaN</td>\n",
       "      <td>NaN</td>\n",
       "      <td>NaN</td>\n",
       "      <td>NaN</td>\n",
       "      <td>NaN</td>\n",
       "      <td>NaN</td>\n",
       "      <td>NaN</td>\n",
       "      <td>NaN</td>\n",
       "      <td>NaN</td>\n",
       "      <td>NaN</td>\n",
       "      <td>NaN</td>\n",
       "      <td>NaN</td>\n",
       "      <td>NaN</td>\n",
       "      <td>NaN</td>\n",
       "      <td>NaN</td>\n",
       "      <td>NaN</td>\n",
       "      <td>NaN</td>\n",
       "      <td>NaN</td>\n",
       "      <td>NaN</td>\n",
       "      <td>NaN</td>\n",
       "      <td>NaN</td>\n",
       "      <td>NaN</td>\n",
       "      <td>NaN</td>\n",
       "      <td>NaN</td>\n",
       "      <td>NaN</td>\n",
       "      <td>NaN</td>\n",
       "      <td>NaN</td>\n",
       "      <td>NaN</td>\n",
       "      <td>NaN</td>\n",
       "      <td>NaN</td>\n",
       "      <td>NaN</td>\n",
       "      <td>NaN</td>\n",
       "      <td>NaN</td>\n",
       "      <td>NaN</td>\n",
       "      <td>NaN</td>\n",
       "      <td>NaN</td>\n",
       "      <td>NaN</td>\n",
       "      <td>NaN</td>\n",
       "      <td>NaN</td>\n",
       "      <td>NaN</td>\n",
       "      <td>NaN</td>\n",
       "      <td>NaN</td>\n",
       "      <td>NaN</td>\n",
       "      <td>NaN</td>\n",
       "      <td>NaN</td>\n",
       "      <td>NaN</td>\n",
       "      <td>NaN</td>\n",
       "      <td>NaN</td>\n",
       "      <td>NaN</td>\n",
       "      <td>NaN</td>\n",
       "      <td>NaN</td>\n",
       "      <td>NaN</td>\n",
       "      <td>NaN</td>\n",
       "      <td>NaN</td>\n",
       "      <td>NaN</td>\n",
       "      <td>NaN</td>\n",
       "      <td>NaN</td>\n",
       "      <td>NaN</td>\n",
       "      <td>NaN</td>\n",
       "      <td>NaN</td>\n",
       "      <td>NaN</td>\n",
       "      <td>NaN</td>\n",
       "      <td>NaN</td>\n",
       "      <td>NaN</td>\n",
       "      <td>NaN</td>\n",
       "      <td>NaN</td>\n",
       "      <td>NaN</td>\n",
       "      <td>NaN</td>\n",
       "      <td>NaN</td>\n",
       "      <td>NaN</td>\n",
       "      <td>NaN</td>\n",
       "      <td>NaN</td>\n",
       "      <td>NaN</td>\n",
       "      <td>NaN</td>\n",
       "      <td>NaN</td>\n",
       "      <td>NaN</td>\n",
       "      <td>NaN</td>\n",
       "      <td>NaN</td>\n",
       "      <td>NaN</td>\n",
       "      <td>NaN</td>\n",
       "      <td>NaN</td>\n",
       "      <td>NaN</td>\n",
       "      <td>NaN</td>\n",
       "      <td>NaN</td>\n",
       "      <td>NaN</td>\n",
       "      <td>NaN</td>\n",
       "      <td>NaN</td>\n",
       "      <td>NaN</td>\n",
       "      <td>NaN</td>\n",
       "      <td>NaN</td>\n",
       "      <td>NaN</td>\n",
       "      <td>...</td>\n",
       "      <td>NaN</td>\n",
       "      <td>NaN</td>\n",
       "      <td>NaN</td>\n",
       "      <td>NaN</td>\n",
       "      <td>NaN</td>\n",
       "      <td>NaN</td>\n",
       "      <td>NaN</td>\n",
       "      <td>NaN</td>\n",
       "      <td>NaN</td>\n",
       "      <td>NaN</td>\n",
       "      <td>NaN</td>\n",
       "      <td>NaN</td>\n",
       "      <td>NaN</td>\n",
       "      <td>NaN</td>\n",
       "      <td>NaN</td>\n",
       "      <td>NaN</td>\n",
       "      <td>NaN</td>\n",
       "      <td>NaN</td>\n",
       "      <td>NaN</td>\n",
       "      <td>NaN</td>\n",
       "      <td>NaN</td>\n",
       "      <td>NaN</td>\n",
       "      <td>NaN</td>\n",
       "      <td>NaN</td>\n",
       "      <td>NaN</td>\n",
       "      <td>NaN</td>\n",
       "      <td>NaN</td>\n",
       "      <td>NaN</td>\n",
       "      <td>NaN</td>\n",
       "      <td>NaN</td>\n",
       "      <td>NaN</td>\n",
       "      <td>NaN</td>\n",
       "      <td>0</td>\n",
       "      <td>NaN</td>\n",
       "      <td>0</td>\n",
       "      <td>NaN</td>\n",
       "      <td>0</td>\n",
       "      <td>NaN</td>\n",
       "      <td>NaN</td>\n",
       "      <td>NaN</td>\n",
       "      <td>NaN</td>\n",
       "      <td>0</td>\n",
       "      <td>NaN</td>\n",
       "      <td>0</td>\n",
       "      <td>NaN</td>\n",
       "      <td>0</td>\n",
       "      <td>C</td>\n",
       "      <td>1</td>\n",
       "      <td>NaN</td>\n",
       "      <td>0</td>\n",
       "      <td>NaN</td>\n",
       "      <td>0</td>\n",
       "      <td>NaN</td>\n",
       "      <td>0</td>\n",
       "      <td>B</td>\n",
       "      <td>1</td>\n",
       "      <td>B</td>\n",
       "      <td>1</td>\n",
       "      <td>NaN</td>\n",
       "      <td>0</td>\n",
       "      <td>NaN</td>\n",
       "      <td>0</td>\n",
       "      <td>NaN</td>\n",
       "      <td>0</td>\n",
       "      <td>NaN</td>\n",
       "      <td>0</td>\n",
       "      <td>NaN</td>\n",
       "      <td>0</td>\n",
       "      <td>NaN</td>\n",
       "      <td>0</td>\n",
       "      <td>NaN</td>\n",
       "      <td>0</td>\n",
       "      <td>NaN</td>\n",
       "      <td>0</td>\n",
       "      <td>NaN</td>\n",
       "      <td>0</td>\n",
       "      <td>NaN</td>\n",
       "      <td>0</td>\n",
       "      <td>NaN</td>\n",
       "      <td>0</td>\n",
       "      <td>NaN</td>\n",
       "      <td>0</td>\n",
       "      <td>B</td>\n",
       "      <td>1</td>\n",
       "      <td>NaN</td>\n",
       "      <td>0</td>\n",
       "      <td>NaN</td>\n",
       "      <td>0</td>\n",
       "      <td>NaN</td>\n",
       "      <td>0</td>\n",
       "      <td>NaN</td>\n",
       "      <td>0</td>\n",
       "      <td>NaN</td>\n",
       "      <td>0</td>\n",
       "      <td>NaN</td>\n",
       "      <td>0</td>\n",
       "      <td>NaN</td>\n",
       "      <td>0</td>\n",
       "      <td>NaN</td>\n",
       "      <td>0</td>\n",
       "    </tr>\n",
       "    <tr>\n",
       "      <th>4</th>\n",
       "      <td>1040</td>\n",
       "      <td>515</td>\n",
       "      <td>2521</td>\n",
       "      <td>Y</td>\n",
       "      <td>1.0</td>\n",
       "      <td>CT</td>\n",
       "      <td>6604.0</td>\n",
       "      <td>2004.0</td>\n",
       "      <td>15.0</td>\n",
       "      <td>M</td>\n",
       "      <td>S</td>\n",
       "      <td>O</td>\n",
       "      <td>F</td>\n",
       "      <td>D</td>\n",
       "      <td>5.0</td>\n",
       "      <td>1.0</td>\n",
       "      <td>B</td>\n",
       "      <td>C</td>\n",
       "      <td>D</td>\n",
       "      <td>Y</td>\n",
       "      <td>E</td>\n",
       "      <td>Y</td>\n",
       "      <td>NaN</td>\n",
       "      <td>Y</td>\n",
       "      <td>Y</td>\n",
       "      <td>NaN</td>\n",
       "      <td>NaN</td>\n",
       "      <td>501.0</td>\n",
       "      <td>A</td>\n",
       "      <td>4.0</td>\n",
       "      <td>54.0</td>\n",
       "      <td>47.0</td>\n",
       "      <td>25.0</td>\n",
       "      <td>35.0</td>\n",
       "      <td>53.0</td>\n",
       "      <td>22.0</td>\n",
       "      <td>50.0</td>\n",
       "      <td>196.0</td>\n",
       "      <td>21.0</td>\n",
       "      <td>0.0</td>\n",
       "      <td>16.0</td>\n",
       "      <td>55.0</td>\n",
       "      <td>27.0</td>\n",
       "      <td>20.0</td>\n",
       "      <td>14.0</td>\n",
       "      <td>43.0</td>\n",
       "      <td>23.0</td>\n",
       "      <td>84.0</td>\n",
       "      <td>92.0</td>\n",
       "      <td>8.0</td>\n",
       "      <td>68.0</td>\n",
       "      <td>0.0</td>\n",
       "      <td>84.0</td>\n",
       "      <td>9.0</td>\n",
       "      <td>12.0</td>\n",
       "      <td>G</td>\n",
       "      <td>NaN</td>\n",
       "      <td>F</td>\n",
       "      <td>NaN</td>\n",
       "      <td>W</td>\n",
       "      <td>Y</td>\n",
       "      <td>15.0</td>\n",
       "      <td>Y</td>\n",
       "      <td>S</td>\n",
       "      <td>G</td>\n",
       "      <td>H</td>\n",
       "      <td>9.0</td>\n",
       "      <td>7.0</td>\n",
       "      <td>M</td>\n",
       "      <td>M</td>\n",
       "      <td>Y</td>\n",
       "      <td>5.0</td>\n",
       "      <td>6.0</td>\n",
       "      <td>10.0</td>\n",
       "      <td>1.0</td>\n",
       "      <td>NaN</td>\n",
       "      <td>4.0</td>\n",
       "      <td>NaN</td>\n",
       "      <td>NaN</td>\n",
       "      <td>NaN</td>\n",
       "      <td>Y</td>\n",
       "      <td>NaN</td>\n",
       "      <td>NaN</td>\n",
       "      <td>NaN</td>\n",
       "      <td>NaN</td>\n",
       "      <td>Y</td>\n",
       "      <td>176.0</td>\n",
       "      <td>50.0</td>\n",
       "      <td>200506.0</td>\n",
       "      <td>M</td>\n",
       "      <td>M</td>\n",
       "      <td>Y</td>\n",
       "      <td>Y</td>\n",
       "      <td>Y</td>\n",
       "      <td>Y</td>\n",
       "      <td>NaN</td>\n",
       "      <td>Y</td>\n",
       "      <td>NaN</td>\n",
       "      <td>NaN</td>\n",
       "      <td>Y</td>\n",
       "      <td>...</td>\n",
       "      <td>NaN</td>\n",
       "      <td>8.0</td>\n",
       "      <td>P</td>\n",
       "      <td>9.0</td>\n",
       "      <td>1.0</td>\n",
       "      <td>2.0</td>\n",
       "      <td>13.0</td>\n",
       "      <td>2.0</td>\n",
       "      <td>29.0</td>\n",
       "      <td>1.0</td>\n",
       "      <td>8.0</td>\n",
       "      <td>6.0</td>\n",
       "      <td>F</td>\n",
       "      <td>U</td>\n",
       "      <td>CT</td>\n",
       "      <td>6604.0</td>\n",
       "      <td>2004.0</td>\n",
       "      <td>9.0</td>\n",
       "      <td>1.0</td>\n",
       "      <td>0.0</td>\n",
       "      <td>3.0</td>\n",
       "      <td>3012.0</td>\n",
       "      <td>6.0</td>\n",
       "      <td>16.0</td>\n",
       "      <td>1967.0</td>\n",
       "      <td>201407.0</td>\n",
       "      <td>NaN</td>\n",
       "      <td>NaN</td>\n",
       "      <td>NaN</td>\n",
       "      <td>721.0</td>\n",
       "      <td>NaN</td>\n",
       "      <td>B</td>\n",
       "      <td>1</td>\n",
       "      <td>C</td>\n",
       "      <td>0</td>\n",
       "      <td>NaN</td>\n",
       "      <td>1</td>\n",
       "      <td>C</td>\n",
       "      <td>NaN</td>\n",
       "      <td>E</td>\n",
       "      <td>NaN</td>\n",
       "      <td>0</td>\n",
       "      <td>NaN</td>\n",
       "      <td>0</td>\n",
       "      <td>NaN</td>\n",
       "      <td>0</td>\n",
       "      <td>NaN</td>\n",
       "      <td>0</td>\n",
       "      <td>NaN</td>\n",
       "      <td>0</td>\n",
       "      <td>NaN</td>\n",
       "      <td>0</td>\n",
       "      <td>NaN</td>\n",
       "      <td>0</td>\n",
       "      <td>NaN</td>\n",
       "      <td>0</td>\n",
       "      <td>NaN</td>\n",
       "      <td>0</td>\n",
       "      <td>NaN</td>\n",
       "      <td>0</td>\n",
       "      <td>NaN</td>\n",
       "      <td>0</td>\n",
       "      <td>NaN</td>\n",
       "      <td>0</td>\n",
       "      <td>NaN</td>\n",
       "      <td>0</td>\n",
       "      <td>NaN</td>\n",
       "      <td>0</td>\n",
       "      <td>NaN</td>\n",
       "      <td>0</td>\n",
       "      <td>NaN</td>\n",
       "      <td>0</td>\n",
       "      <td>NaN</td>\n",
       "      <td>0</td>\n",
       "      <td>NaN</td>\n",
       "      <td>0</td>\n",
       "      <td>NaN</td>\n",
       "      <td>0</td>\n",
       "      <td>NaN</td>\n",
       "      <td>0</td>\n",
       "      <td>NaN</td>\n",
       "      <td>0</td>\n",
       "      <td>NaN</td>\n",
       "      <td>0</td>\n",
       "      <td>D</td>\n",
       "      <td>1</td>\n",
       "      <td>NaN</td>\n",
       "      <td>0</td>\n",
       "      <td>NaN</td>\n",
       "      <td>0</td>\n",
       "      <td>NaN</td>\n",
       "      <td>0</td>\n",
       "      <td>NaN</td>\n",
       "      <td>0</td>\n",
       "      <td>NaN</td>\n",
       "      <td>0</td>\n",
       "      <td>NaN</td>\n",
       "      <td>0</td>\n",
       "      <td>NaN</td>\n",
       "      <td>0</td>\n",
       "    </tr>\n",
       "  </tbody>\n",
       "</table>\n",
       "<p>5 rows × 684 columns</p>\n",
       "</div>"
      ],
      "text/plain": [
       "   wgtpop  wgthh  dataright_seq match  match_level_1 State_99039  Zip_Code_99040  Zip4_Code_99041  Len_of_Residence_90300 Marital_Status_90301 Dwelling_Type_90302 Homeowner_Renter_90303 Gender_Code_90304 Age_Range_90305  Num_Adults_HH_90306  Num_Child_in_HH_90307 Race_Code_90308 Est_HH_Income_90309 Home_Market_Value_90310 Presence_Children_90311 Networth_90312 BnkCrd_Pres_in_HH_90313 Spanish_Speaking_90314 Mail_Order_Byr_90315 Mail_Order_Resp_90316 Occ_1st_Indv_90317  Edu_1st_Indv_90318  Designated_Mkt_Area_U324014 Nielsen_County_Sz_U324016  Cen10_Education_Lev_U324023  Cen10_Med_Age_HHer_U324024  Cen10_Pct_White_U324025  Cen10_Pct_Hispanic_U324026  Cen10_Pct_Black_U324027  Cen10_Med_HH_Inc_U324028  Cen10_Incom_Pctile_U324029  Cen10_Pct_Homeoner_U324030  Cen10_Med_Home_Val_U324031  Cen10_Pct_SFDU_U324032  Cen10_Pct_Mob_Homes_U324033  Cen10_Pct_BCol_Emp_U324034  Cen10_Pct_WhtColEmp_U324035  Cen10_Pct_Married_U324036  Cen10_Pct_HH_w_Chld_U324037  Cen10_Avg_Num_Auto_U324038  Cen10_MedHH_EffInc_U324039  Cen10_Pct_Divorced_U324040  Cen10_Pct_MtrVehOwn_U324041  Cen10_Pct_AbvPovrty_U324042  Cen10_Pct_BelPovLvl_U324043  Cen10_Pct_Move_2000_U324044  Cen10_Pct_Blt_2000p_U324045  Cen10_SocioEcon_Scr_U324046  Cen10_PopDen_St_Cen_U324047  Cen10_PopDen_USCent_U324048 Age_Range_U324055 Est_Age_U324056 Gender_U324057 Race_U324058 Family_PositionCode_U324059 Presence_Eld_Parent_U324060  Length_of_Residnce_U324061 Homeowner_Status_U324062 Dwelling_Type_U324063 Est_HH_Income_3_U324064 Net_Worth_3_U324065  ZIP_Income_Decile_U324066  Dual_Income_Indx_3_U324067 Mail_Order_Respnder_U324068 Mail_Order_Byr_U324069 Married_U324070  Num_Adults_in_HH_U324071  Num_Persons_in_HH_U324072  Num_ReportingSource_U324073  Number_Children_U324074  Child_Pres_0002_Yrs_U324075  Child_Pres_0305_Yrs_U324076  Child_Pres_0610_Yrs_U324077  Child_Pres_1115_Yrs_U324078  Child_Pres_1618_Yrs_U324079 Presence_Children_U324080 Indv_Occ_U324081 Indv_Spouse_Occ_U324082 SOHO_Ind_Indv_U324083 SOHO_Indicator_HH_U324084 Online_Access_U324085  ZIP4_Home_Value_U324093  Age_U324094  Bank_Card_New_IssDt_U324098 Bank_Card_U324099 Ret_Card_U324100 Credit_Active_U324101 Credit_Act_Std_Ret_U324102 Cred_Act_LwEndDpStr_U324103 Cred_Act_MainStrRet_U324104 Cred_Act_HighEnd_Rt_U324105 Credit_Act_TravPers_U324106 Credit_Act_Speclty_U324107 Credit_Actv_Spc_App_U324108 Cred_Act_FinSvc_Bnk_U324109          ...          Number_Vehicles_U324600 HlthInsPrem_Tol_Idx_U324602 Hlthcare_Treat_Pref_U324603 Medicar_SpInsByrIdx_U324604 Smart_HHs_Appliance_U324605 Smart_HHs_Security_U324606 Digital_Dest_Groups_U324611 Digital_Devices_U324612 Digital_Destination_U324613 Digi_Neighborhoods_U324614 Mult_HlthBeh_Ch_Idx_U324615 Sust_Hlth_BehCh_Idx_U324616 Gender1_99013  Gender2_99014  State_U324007 ZIP_Code_U324008 ZIP_Plus_4_U324009 Numeric_State_Code_U324012 Numeric_Cty_Code_U324013 Cen_BasTrct_SbCdNum_U324020 Census_Basic_BlkGrp_U324021 Census_Block_Code_U324022 Date_of_Birth_Mth_U324095 Date_of_Birth_Day_U324096 Date_of_Birth_Year_U324097 Child_1_Date_Birth_U324125 Child_2_Date_Birth_U324127 Child_3_Date_Birth_U324129 Child_4_Date_Birth_U324131 Cen_Basic_Tract_Num_U324019 Public_Housing_Addr_U324089 Census_Coding_Lvl_U324049 wc_bought_any wc_num_items wc_big_ticket_bought_any wc_big_ticket_num_items wc_low_ticket_bought_any wc_low_ticket_num_items wc_big_ticket_amt_spent wc_low_ticket_amt_spent client_times_shopped_30_days client_shopped_3_mos comp1_times_shopped_30_days  comp1_shopped_3_mos  comp2_times_shopped_30_days  comp2_shopped_3_mos comp3_times_shopped_30_days comp3_shopped_3_mos other1_times_shopped_30_days other1_shopped_3_mos other2_times_shopped_30_days other2_shopped_3_mos other3_times_shopped_30_days other3_shopped_3_mos other4_times_shopped_30_days other4_shopped_3_mos other5_times_shopped_30_days other5_shopped_3_mos  other6_times_shopped_30_days  other6_shopped_3_mos other7_times_shopped_30_days other7_shopped_3_mos other8_times_shopped_30_days  other8_shopped_3_mos  \\\n",
       "0    1973    391           2517     Y            1.0          CT          6604.0           2004.0                     NaN                  NaN                   S                      O                 M               A                  5.0                    NaN               B                   D                       E                       Y              E                     NaN                    NaN                    Y                     Y                NaN                 NaN                        501.0                         A                          4.0                        54.0                     47.0                        25.0                     35.0                      53.0                        22.0                        50.0                       196.0                    21.0                          0.0                        16.0                         55.0                       27.0                         20.0                        14.0                        43.0                        23.0                         84.0                         92.0                          8.0                         68.0                          0.0                         84.0                          9.0                         12.0                 B             NaN              M          NaN                           C                         NaN                         NaN                        Y                     S                       H                   G                        9.0                         6.0                           M                      M             NaN                       5.0                        5.0                          2.0                      0.0                          NaN                          NaN                          NaN                          NaN                          NaN                         P              NaN                     NaN                   NaN                       NaN                     Y                    176.0         21.0                          NaN               NaN              NaN                   NaN                        NaN                         NaN                         NaN                         NaN                         NaN                        NaN                         NaN                         NaN          ...                              NaN                         NaN                           C                         9.0                         1.0                        2.0                         1.0                     2.0                        18.0                        1.0                         1.0                         5.0             M              U             CT           6604.0             2004.0                        9.0                      1.0                         0.0                         3.0                    3012.0                      10.0                      19.0                     1996.0                        NaN                        NaN                        NaN                        NaN                       721.0                         NaN                         B             0          NaN                        0                     NaN                        0                     NaN                     NaN                     NaN                          NaN                    0                         NaN                    0                          NaN                    0                         NaN                   0                          NaN                    0                          NaN                    0                          NaN                    0                          NaN                    0                          NaN                    0                           NaN                     0                          NaN                    0                          NaN                     0   \n",
       "1     348    345           2518     Y            1.0          CT          6604.0           2004.0                     1.0                  NaN                   S                    NaN                 F               D                  NaN                    NaN               H                   B                       A                     NaN              A                     NaN                    NaN                  NaN                   NaN                NaN                 NaN                        501.0                         A                          4.0                        54.0                     47.0                        25.0                     35.0                      53.0                        22.0                        50.0                       196.0                    21.0                          0.0                        16.0                         55.0                       27.0                         20.0                        14.0                        43.0                        23.0                         84.0                         92.0                          8.0                         68.0                          0.0                         84.0                          9.0                         12.0                 H             NaN              F          NaN                           O                         NaN                         1.0                      NaN                     S                       D                   A                        5.0                         9.0                         NaN                    NaN             NaN                       NaN                        NaN                          3.0                      0.0                          NaN                          4.0                          NaN                          NaN                          NaN                       NaN              NaN                     NaN                   NaN                       NaN                   NaN                    176.0         51.0                          NaN               NaN                Y                   NaN                        NaN                         NaN                         NaN                         NaN                         NaN                        NaN                         NaN                         NaN          ...                              NaN                         5.0                           P                         9.0                         1.0                        3.0                         7.0                     2.0                         4.0                        1.0                         6.0                         3.0             F              U             CT           6604.0             2004.0                        9.0                      1.0                         0.0                         3.0                    3012.0                      10.0                      10.0                     1966.0                   201212.0                        NaN                        NaN                        NaN                       721.0                         NaN                         B             1            C                        1                       B                        1                       C                       B                       F                          NaN                    0                         NaN                    0                          NaN                    0                         NaN                   0                          NaN                    0                          NaN                    0                          NaN                    0                          NaN                    0                          NaN                    0                           NaN                     0                          NaN                    0                          NaN                     0   \n",
       "2     396    392           2519     Y            1.0          CT          6604.0           2003.0                    15.0                  NaN                   M                      R                 F               D                  1.0                    NaN               W                   B                       A                     NaN              A                       Y                    NaN                    Y                     Y                  B                 NaN                        501.0                         A                          4.0                        54.0                     47.0                        25.0                     35.0                      53.0                        22.0                        50.0                       196.0                    21.0                          0.0                        16.0                         55.0                       27.0                         20.0                        14.0                        43.0                        23.0                         84.0                         92.0                          8.0                         68.0                          0.0                         84.0                          9.0                         12.0                 G             NaN              F            B                           F                         NaN                        15.0                        R                     C                       C                   A                        4.0                         9.0                           M                      M             NaN                       1.0                        1.0                          7.0                      0.0                          NaN                          NaN                          NaN                          NaN                          NaN                       NaN             A264                     NaN                   NaN                         Y                     Y                    171.0         50.0                          NaN                 M                M                     Y                          Y                           Y                         NaN                         NaN                         NaN                          Y                         NaN                           Y          ...                              NaN                         1.0                           P                         9.0                         5.0                        5.0                        13.0                     5.0                        29.0                       12.0                         8.0                         0.0             F              U             CT           6604.0             2003.0                        9.0                      1.0                         0.0                         3.0                    3016.0                       2.0                      13.0                     1968.0                        NaN                        NaN                        NaN                        NaN                       721.0                         NaN                         B             1            B                        0                     NaN                        1                       B                     NaN                       A                          NaN                    0                         NaN                    0                          NaN                    0                         NaN                   0                          NaN                    0                          NaN                    0                          NaN                    0                          NaN                    0                          NaN                    0                           NaN                     0                          NaN                    0                          NaN                     0   \n",
       "3     838    276           2520     N            NaN         NaN             NaN              NaN                     NaN                  NaN                 NaN                    NaN               NaN             NaN                  NaN                    NaN             NaN                 NaN                     NaN                     NaN            NaN                     NaN                    NaN                  NaN                   NaN                NaN                 NaN                          NaN                       NaN                          NaN                         NaN                      NaN                         NaN                      NaN                       NaN                         NaN                         NaN                         NaN                     NaN                          NaN                         NaN                          NaN                        NaN                          NaN                         NaN                         NaN                         NaN                          NaN                          NaN                          NaN                          NaN                          NaN                          NaN                          NaN                          NaN               NaN             NaN            NaN          NaN                         NaN                         NaN                         NaN                      NaN                   NaN                     NaN                 NaN                        NaN                         NaN                         NaN                    NaN             NaN                       NaN                        NaN                          NaN                      NaN                          NaN                          NaN                          NaN                          NaN                          NaN                       NaN              NaN                     NaN                   NaN                       NaN                   NaN                      NaN          NaN                          NaN               NaN              NaN                   NaN                        NaN                         NaN                         NaN                         NaN                         NaN                        NaN                         NaN                         NaN          ...                              NaN                         NaN                         NaN                         NaN                         NaN                        NaN                         NaN                     NaN                         NaN                        NaN                         NaN                         NaN           NaN            NaN            NaN              NaN                NaN                        NaN                      NaN                         NaN                         NaN                       NaN                       NaN                       NaN                        NaN                        NaN                        NaN                        NaN                        NaN                         NaN                         NaN                       NaN             0          NaN                        0                     NaN                        0                     NaN                     NaN                     NaN                          NaN                    0                         NaN                    0                          NaN                    0                           C                   1                          NaN                    0                          NaN                    0                          NaN                    0                            B                    1                            B                    1                           NaN                     0                          NaN                    0                          NaN                     0   \n",
       "4    1040    515           2521     Y            1.0          CT          6604.0           2004.0                    15.0                    M                   S                      O                 F               D                  5.0                    1.0               B                   C                       D                       Y              E                       Y                    NaN                    Y                     Y                NaN                 NaN                        501.0                         A                          4.0                        54.0                     47.0                        25.0                     35.0                      53.0                        22.0                        50.0                       196.0                    21.0                          0.0                        16.0                         55.0                       27.0                         20.0                        14.0                        43.0                        23.0                         84.0                         92.0                          8.0                         68.0                          0.0                         84.0                          9.0                         12.0                 G             NaN              F          NaN                           W                           Y                        15.0                        Y                     S                       G                   H                        9.0                         7.0                           M                      M               Y                       5.0                        6.0                         10.0                      1.0                          NaN                          4.0                          NaN                          NaN                          NaN                         Y              NaN                     NaN                   NaN                       NaN                     Y                    176.0         50.0                     200506.0                 M                M                     Y                          Y                           Y                           Y                         NaN                           Y                        NaN                         NaN                           Y          ...                              NaN                         8.0                           P                         9.0                         1.0                        2.0                        13.0                     2.0                        29.0                        1.0                         8.0                         6.0             F              U             CT           6604.0             2004.0                        9.0                      1.0                         0.0                         3.0                    3012.0                       6.0                      16.0                     1967.0                   201407.0                        NaN                        NaN                        NaN                       721.0                         NaN                         B             1            C                        0                     NaN                        1                       C                     NaN                       E                          NaN                    0                         NaN                    0                          NaN                    0                         NaN                   0                          NaN                    0                          NaN                    0                          NaN                    0                          NaN                    0                          NaN                    0                           NaN                     0                          NaN                    0                          NaN                     0   \n",
       "\n",
       "  other9_times_shopped_30_days other9_shopped_3_mos other10_times_shopped_30_days other10_shopped_3_mos other11_times_shopped_30_days other11_shopped_3_mos other12_times_shopped_30_days other12_shopped_3_mos other13_times_shopped_30_days other13_shopped_3_mos other14_times_shopped_30_days other14_shopped_3_mos other15_times_shopped_30_days other15_shopped_3_mos other16_times_shopped_30_days other16_shopped_3_mos other17_times_shopped_30_days other17_shopped_3_mos other18_times_shopped_30_days other18_shopped_3_mos other19_times_shopped_30_days other19_shopped_3_mos other20_times_shopped_30_days other20_shopped_3_mos other21_times_shopped_30_days other21_shopped_3_mos other22_times_shopped_30_days other22_shopped_3_mos other23_times_shopped_30_days other23_shopped_3_mos other24_times_shopped_30_days other24_shopped_3_mos other25_times_shopped_30_days other25_shopped_3_mos other26_times_shopped_30_days other26_shopped_3_mos  \n",
       "0                          NaN                    0                           NaN                     0                           NaN                     0                             A                     1                             B                     1                           NaN                     0                           NaN                     0                           NaN                     0                           NaN                     0                             B                     1                           NaN                     0                           NaN                     0                           NaN                     0                           NaN                     0                           NaN                     0                             C                     1                           NaN                     0                           NaN                     0  \n",
       "1                          NaN                    0                             B                     1                             B                     1                           NaN                     0                           NaN                     0                           NaN                     0                           NaN                     0                           NaN                     0                           NaN                     0                             C                     1                           NaN                     0                           NaN                     0                           NaN                     0                           NaN                     0                           NaN                     0                             C                     1                           NaN                     0                           NaN                     0  \n",
       "2                          NaN                    0                           NaN                     0                           NaN                     0                           NaN                     0                           NaN                     0                           NaN                     0                           NaN                     0                           NaN                     0                           NaN                     0                             C                     1                           NaN                     0                           NaN                     0                           NaN                     0                           NaN                     0                           NaN                     0                           NaN                     0                           NaN                     0                           NaN                     0  \n",
       "3                          NaN                    0                           NaN                     0                           NaN                     0                           NaN                     0                           NaN                     0                           NaN                     0                           NaN                     0                           NaN                     0                           NaN                     0                             B                     1                           NaN                     0                           NaN                     0                           NaN                     0                           NaN                     0                           NaN                     0                           NaN                     0                           NaN                     0                           NaN                     0  \n",
       "4                          NaN                    0                           NaN                     0                           NaN                     0                           NaN                     0                           NaN                     0                           NaN                     0                           NaN                     0                           NaN                     0                           NaN                     0                           NaN                     0                             D                     1                           NaN                     0                           NaN                     0                           NaN                     0                           NaN                     0                           NaN                     0                           NaN                     0                           NaN                     0  \n",
       "\n",
       "[5 rows x 684 columns]"
      ]
     },
     "execution_count": 5,
     "metadata": {},
     "output_type": "execute_result"
    }
   ],
   "source": [
    "dataset.head(5)"
   ]
  },
  {
   "cell_type": "code",
   "execution_count": 6,
   "metadata": {
    "collapsed": true
   },
   "outputs": [],
   "source": [
    "interested_columns = ['dataright_seq', 'State_99039', 'Len_of_Residence_90300', 'Length_of_Residnce_U324061', 'Marital_Status_90301', 'Dwelling_Type_90302', 'Homeowner_Renter_90303',\n",
    "                     'Gender_Code_90304', 'Age_Range_90305', 'Num_Adults_HH_90306', 'Num_Adults_in_HH_U324071', 'Num_Persons_in_HH_U324072', 'Num_Child_in_HH_90307', 'Number_Children_U324074', 'Child_Pres_0002_Yrs_U324075', 'Child_Pres_0305_Yrs_U324076', 'Child_Pres_0610_Yrs_U324077', 'Child_Pres_1115_Yrs_U324078', 'Child_Pres_1618_Yrs_U324079', 'Race_Code_90308', 'Est_HH_Income_90309',\n",
    "                     'Home_Market_Value_90310', 'Networth_90312', 'Mail_Order_Byr_90315', 'Mail_Order_Resp_90316', 'Occ_1st_Indv_90317', 'Edu_1st_Indv_90318', 'Cen10_Med_HH_Inc_U324028', 'Cen10_MedHH_EffInc_U324039', 'Cen10_SocioEcon_Scr_U324046', 'ZIP_Income_Decile_U324066', 'Dual_Income_Indx_3_U324067',\n",
    "                     'Srvy_Mail_Ord_Books_U324254', 'Srvy_MO_BooksMags_U324255', 'Srvy_MO_Child_Prod_U324256', 'Srvy_Mail_Ord_Clthg_U324257', 'Srvy_MailOrd_Cosmtc_U324258', 'Srvy_MO_Food_Prod_U324259', 'Srvy_MailOrderGifts_U324260', 'Srvy_MailOrd_HmeFrn_U324261', 'Srvy_Mail_Order_Mag_U324262', 'Srvy_MailOrderOther_U324263', 'Srvy_MailOrdr_Jewel_U324264', 'Srvy_Mail_Ord_PlsSz_U324265', 'Srvy_Mail_Order_DVD_U324266',\n",
    "                     'Designated_Mkt_Area_U324014', 'Age_Range_U324055', 'Household_Comp_U324163', 'Est_Age_U324056', 'Gender_U324057', 'Race_U324058', 'Family_PositionCode_U324059',\n",
    "                     'Homeowner_Status_U324062', 'Dwelling_Type_U324063', 'Est_HH_Income_3_U324064', 'Net_Worth_3_U324065', 'Mail_Order_Respnder_U324068', 'Mail_Order_Byr_U324069',\n",
    "                     'Indv_Occ_U324081', 'Bank_Card_U324099', 'Bank_Card_New_IssDt_U324098', 'Married_U324070', 'Srvy_OwnRent_U324178', 'Ret_Card_U324100', 'Byr_Ret_Last_OrdDt_U324480', 'Byr_Ret_Orders_U324481', 'Byr_Ret_Dollars_U324482',\n",
    "                     'Est_HH_Debt_Level_U324161', 'Est_HH_Invest_Asset_U324162', 'wc_bought_any', 'wc_num_items',\n",
    "                     'wc_big_ticket_bought_any', 'wc_big_ticket_num_items', 'wc_low_ticket_bought_any', 'wc_low_ticket_num_items', 'wc_big_ticket_amt_spent', 'wc_low_ticket_amt_spent',\n",
    "                     'client_times_shopped_30_days', 'client_shopped_3_mos', 'comp1_times_shopped_30_days', 'comp1_shopped_3_mos', 'comp2_times_shopped_30_days', 'comp2_shopped_3_mos',\n",
    "                     'comp3_times_shopped_30_days', 'comp3_shopped_3_mos']"
   ]
  },
  {
   "cell_type": "code",
   "execution_count": 7,
   "metadata": {
    "collapsed": true
   },
   "outputs": [],
   "source": [
    "interested_dataset = dataset[interested_columns]"
   ]
  },
  {
   "cell_type": "code",
   "execution_count": 8,
   "metadata": {},
   "outputs": [
    {
     "name": "stdout",
     "output_type": "stream",
     "text": [
      "(48646, 85)\n"
     ]
    }
   ],
   "source": [
    "print(interested_dataset.shape)"
   ]
  },
  {
   "cell_type": "markdown",
   "metadata": {},
   "source": [
    "### Cleaning up Dataset"
   ]
  },
  {
   "cell_type": "markdown",
   "metadata": {},
   "source": [
    "#### Filling up rows with given estimation"
   ]
  },
  {
   "cell_type": "code",
   "execution_count": 9,
   "metadata": {},
   "outputs": [
    {
     "data": {
      "text/plain": [
       "['wgtpop',\n",
       " 'wgthh',\n",
       " 'dataright_seq',\n",
       " 'match',\n",
       " 'match_level_1',\n",
       " 'State_99039',\n",
       " 'Zip_Code_99040',\n",
       " 'Zip4_Code_99041',\n",
       " 'Len_of_Residence_90300',\n",
       " 'Marital_Status_90301',\n",
       " 'Dwelling_Type_90302',\n",
       " 'Homeowner_Renter_90303',\n",
       " 'Gender_Code_90304',\n",
       " 'Age_Range_90305',\n",
       " 'Num_Adults_HH_90306',\n",
       " 'Num_Child_in_HH_90307',\n",
       " 'Race_Code_90308',\n",
       " 'Est_HH_Income_90309',\n",
       " 'Home_Market_Value_90310',\n",
       " 'Presence_Children_90311',\n",
       " 'Networth_90312',\n",
       " 'BnkCrd_Pres_in_HH_90313',\n",
       " 'Spanish_Speaking_90314',\n",
       " 'Mail_Order_Byr_90315',\n",
       " 'Mail_Order_Resp_90316',\n",
       " 'Occ_1st_Indv_90317',\n",
       " 'Edu_1st_Indv_90318',\n",
       " 'Designated_Mkt_Area_U324014',\n",
       " 'Nielsen_County_Sz_U324016',\n",
       " 'Cen10_Education_Lev_U324023',\n",
       " 'Cen10_Med_Age_HHer_U324024',\n",
       " 'Cen10_Pct_White_U324025',\n",
       " 'Cen10_Pct_Hispanic_U324026',\n",
       " 'Cen10_Pct_Black_U324027',\n",
       " 'Cen10_Med_HH_Inc_U324028',\n",
       " 'Cen10_Incom_Pctile_U324029',\n",
       " 'Cen10_Pct_Homeoner_U324030',\n",
       " 'Cen10_Med_Home_Val_U324031',\n",
       " 'Cen10_Pct_SFDU_U324032',\n",
       " 'Cen10_Pct_Mob_Homes_U324033',\n",
       " 'Cen10_Pct_BCol_Emp_U324034',\n",
       " 'Cen10_Pct_WhtColEmp_U324035',\n",
       " 'Cen10_Pct_Married_U324036',\n",
       " 'Cen10_Pct_HH_w_Chld_U324037',\n",
       " 'Cen10_Avg_Num_Auto_U324038',\n",
       " 'Cen10_MedHH_EffInc_U324039',\n",
       " 'Cen10_Pct_Divorced_U324040',\n",
       " 'Cen10_Pct_MtrVehOwn_U324041',\n",
       " 'Cen10_Pct_AbvPovrty_U324042',\n",
       " 'Cen10_Pct_BelPovLvl_U324043',\n",
       " 'Cen10_Pct_Move_2000_U324044',\n",
       " 'Cen10_Pct_Blt_2000p_U324045',\n",
       " 'Cen10_SocioEcon_Scr_U324046',\n",
       " 'Cen10_PopDen_St_Cen_U324047',\n",
       " 'Cen10_PopDen_USCent_U324048',\n",
       " 'Age_Range_U324055',\n",
       " 'Est_Age_U324056',\n",
       " 'Gender_U324057',\n",
       " 'Race_U324058',\n",
       " 'Family_PositionCode_U324059',\n",
       " 'Presence_Eld_Parent_U324060',\n",
       " 'Length_of_Residnce_U324061',\n",
       " 'Homeowner_Status_U324062',\n",
       " 'Dwelling_Type_U324063',\n",
       " 'Est_HH_Income_3_U324064',\n",
       " 'Net_Worth_3_U324065',\n",
       " 'ZIP_Income_Decile_U324066',\n",
       " 'Dual_Income_Indx_3_U324067',\n",
       " 'Mail_Order_Respnder_U324068',\n",
       " 'Mail_Order_Byr_U324069',\n",
       " 'Married_U324070',\n",
       " 'Num_Adults_in_HH_U324071',\n",
       " 'Num_Persons_in_HH_U324072',\n",
       " 'Num_ReportingSource_U324073',\n",
       " 'Number_Children_U324074',\n",
       " 'Child_Pres_0002_Yrs_U324075',\n",
       " 'Child_Pres_0305_Yrs_U324076',\n",
       " 'Child_Pres_0610_Yrs_U324077',\n",
       " 'Child_Pres_1115_Yrs_U324078',\n",
       " 'Child_Pres_1618_Yrs_U324079',\n",
       " 'Presence_Children_U324080',\n",
       " 'Indv_Occ_U324081',\n",
       " 'Indv_Spouse_Occ_U324082',\n",
       " 'SOHO_Ind_Indv_U324083',\n",
       " 'SOHO_Indicator_HH_U324084',\n",
       " 'Online_Access_U324085',\n",
       " 'ZIP4_Home_Value_U324093',\n",
       " 'Age_U324094',\n",
       " 'Bank_Card_New_IssDt_U324098',\n",
       " 'Bank_Card_U324099',\n",
       " 'Ret_Card_U324100',\n",
       " 'Credit_Active_U324101',\n",
       " 'Credit_Act_Std_Ret_U324102',\n",
       " 'Cred_Act_LwEndDpStr_U324103',\n",
       " 'Cred_Act_MainStrRet_U324104',\n",
       " 'Cred_Act_HighEnd_Rt_U324105',\n",
       " 'Credit_Act_TravPers_U324106',\n",
       " 'Credit_Act_Speclty_U324107',\n",
       " 'Credit_Actv_Spc_App_U324108',\n",
       " 'Cred_Act_FinSvc_Bnk_U324109',\n",
       " 'Credit_Act_FinSvIns_U324110',\n",
       " 'Credit_Actv_FinSvc_U324111',\n",
       " 'Credit_ActCatShwRet_U324112',\n",
       " 'Credit_Actv_CmpElec_U324113',\n",
       " 'Credit_Active_Furn_U324114',\n",
       " 'Cred_Act_HmeOf_Sup_U324115',\n",
       " 'Credit_Actv_HomeImp_U324116',\n",
       " 'Credit_Actv_Mem_WH_U324117',\n",
       " 'Credit_Actv_SprtGds_U324118',\n",
       " 'CrdAct_TVMailOrdPrc_U324119',\n",
       " 'Credit_Active_Groc_U324120',\n",
       " 'Credit_Act_Oil_Comp_U324121',\n",
       " 'Credit_Act_Miscs_U324122',\n",
       " 'Cred_Act_LstPostDt_U324123',\n",
       " 'Cred_Act_Trade_Line_U324124',\n",
       " 'Child_1_Gender_U324126',\n",
       " 'Child_2_Gender_U324128',\n",
       " 'Child_3_Gender_U324130',\n",
       " 'Child_4_Gender_U324132',\n",
       " 'Presence_Comp_Owner_U324133',\n",
       " 'Email_Access_U324134',\n",
       " 'Register_Voter_Prty_U324135',\n",
       " 'Registerd_Voter_Ind_U324136',\n",
       " 'Hunting_Fishing_U324138',\n",
       " 'Boating_U324139',\n",
       " 'Presence_of_Donor_U324140',\n",
       " 'Presence_Dnr_Animal_U324141',\n",
       " 'Presence_Donor_Art_U324142',\n",
       " 'Presence_DonorChild_U324143',\n",
       " 'Presence_Donor_Cons_U324144',\n",
       " 'Pres_Donor_Environ_U324145',\n",
       " 'Presence_Donor_Hlth_U324146',\n",
       " 'Presence_Donor_Hum_U324147',\n",
       " 'Pres_Donor_Liberal_U324148',\n",
       " 'Presence_Donr_Relig_U324149',\n",
       " 'Presence_Donor_Vets_U324150',\n",
       " 'Presence_Veteran_U324151',\n",
       " 'Presnce_College_Grd_U324152',\n",
       " 'US_Aircraft_U324153',\n",
       " 'Pilots_U324154',\n",
       " 'All_Terrain_Vehicle_U324155',\n",
       " 'Snowmobiles_U324156',\n",
       " 'Concealed_Weapons_U324157',\n",
       " 'Home_Val_AddrLevel_U324158',\n",
       " 'LTV_Ratio_U324159',\n",
       " 'Est_Disc_Income_Pct_U324160',\n",
       " 'Est_HH_Debt_Level_U324161',\n",
       " 'Est_HH_Invest_Asset_U324162',\n",
       " 'Household_Comp_U324163',\n",
       " 'Family_Member_65p_U324164',\n",
       " 'Family_Member_6064_U324165',\n",
       " 'Family_Member_5059_U324166',\n",
       " 'Family_Member_4049_U324167',\n",
       " 'Family_Member_3039_U324168',\n",
       " 'Family_Member_2029_U324169',\n",
       " 'Family_Member_1819_U324170',\n",
       " 'Family_Member_U18_U324171',\n",
       " 'Shrt_Trm_Loan_App_U324172',\n",
       " 'Short_Term_Loan_Idx_U324173',\n",
       " 'Bankrupt_Docket_Dte_U324174',\n",
       " 'Bankruptcy_HH_Ind_U324175',\n",
       " 'Bankruptcy_Ind_Ind_U324176',\n",
       " 'Presence_Srvy_Data_U324177',\n",
       " 'Srvy_OwnRent_U324178',\n",
       " 'Srvy_HH_Lvl_Match_U324179',\n",
       " 'Srvy_Indv_Lev_Match_U324180',\n",
       " 'Srvy_HH_Lvl_Mtch_On_U324181',\n",
       " 'Srvy_Indv_LvlMth_On_U324182',\n",
       " 'Srvy_Own_A_Cat_U324183',\n",
       " 'Srvy_Own_A_Dog_U324184',\n",
       " 'Srvy_Own_CDDVD_Play_U324185',\n",
       " 'Srvy_Own_CellPhone_U324186',\n",
       " 'Srvy_Own_Motorcycle_U324187',\n",
       " 'Srvy_Own_An_RV_U324188',\n",
       " 'Srvy_Own_Swim_Pool_U324189',\n",
       " 'Srvy_Own_A_Horse_U324190',\n",
       " 'Srvy_Own_DgVid_Cmra_U324191',\n",
       " 'Srvy_Own_Smart_Phne_U324192',\n",
       " 'Srvy_Own_ATV_U324193',\n",
       " 'Srvy_Collectibles_U324194',\n",
       " 'Srvy_Collect_Coins_U324195',\n",
       " 'Srvy_Collect_Dolls_U324196',\n",
       " 'Srvy_Coll_Figurines_U324197',\n",
       " 'Srvy_Collect_Other_U324198',\n",
       " 'Srvy_Collect_Plates_U324199',\n",
       " 'Srvy_Collect_Sports_U324200',\n",
       " 'Srvy_Collect_Stamps_U324201',\n",
       " 'Srvy_Coll_Fine_Arts_U324202',\n",
       " 'Srvy_CC_Prem_AMEX_U324203',\n",
       " 'Srvy_CC_Prem_Discvr_U324204',\n",
       " 'Srvy_CC_Prem_Other_U324205',\n",
       " 'Srvy_CC_Prm_Str_Ret_U324206',\n",
       " 'Srvy_CC_Prm_Visa_MC_U324207',\n",
       " 'Srvy_CC_Reg_AMEX_U324208',\n",
       " 'Srvy_CC_Reg_Discov_U324209',\n",
       " 'Srvy_CC_Reg_Other_U324210',\n",
       " 'Srvy_CC_Reg_Str_Ret_U324211',\n",
       " 'Srvy_CC_Reg_Visa_MC_U324212',\n",
       " 'Srvy_CC_ATMDebit_U324213',\n",
       " 'Srvy_Diet_Concerns_U324214',\n",
       " 'Srvy_Diet_Lose_Wgt_U324215',\n",
       " 'Srvy_Diet_Eat_Natur_U324216',\n",
       " 'Srvy_Diet_Vit_Suppl_U324217',\n",
       " 'Srvy_Diet_LowFatFds_U324218',\n",
       " 'Srvy_Grandchildren_U324219',\n",
       " 'Srvy_Hby_U324220',\n",
       " 'Srvy_Hby_Baking_U324221',\n",
       " 'Srvy_Hby_Bird_Watch_U324222',\n",
       " 'Srvy_Hby_Car_Repair_U324223',\n",
       " 'Srvy_Hby_CigarSmokg_U324224',\n",
       " 'Srvy_Hby_Gour_Cook_U324225',\n",
       " 'Srvy_Hby_Cooking_U324226',\n",
       " 'Srvy_Hby_Crafts_U324227',\n",
       " 'Srvy_Hby_Casino_Gam_U324228',\n",
       " 'Srvy_Hby_Gardening_U324229',\n",
       " 'Srvy_Hby_Gardening_U324230',\n",
       " 'Srvy_Hby_Garden_Org_U324231',\n",
       " 'Srvy_Hby_Garden_Veg_U324232',\n",
       " 'Srvy_Hby_Home_ImpRp_U324233',\n",
       " 'Srvy_Hby_HmeStdyCrs_U324234',\n",
       " 'Srvy_Hby_Knitting_U324235',\n",
       " 'Srvy_Hby_Lotteries_U324236',\n",
       " 'Srvy_Hby_Quilting_U324237',\n",
       " 'Srvy_Hby_SelfImpCrs_U324238',\n",
       " 'Srvy_Hby_Sewing_U324239',\n",
       " 'Srvy_Hby_Theater_U324240',\n",
       " 'Srvy_Hby_Wood_Work_U324241',\n",
       " 'Srvy_Hby_Wine_Appr_U324242',\n",
       " 'Srvy_Hby_Photogrphy_U324243',\n",
       " 'Srvy_Hby_Exr_3px_wk_U324244',\n",
       " 'Srvy_Hby_Scrap_Book_U324245',\n",
       " 'Srvy_Hby_Cook_lwfat_U324246',\n",
       " 'Srvy_Hby_CareerAdv_U324247',\n",
       " 'Srvy_Hby_Jewlry_Mak_U324248',\n",
       " 'Srvy_Hby_DIY_U324249',\n",
       " 'Srvy_Hby_Green_U324250',\n",
       " 'Srvy_Hby_Social_Ntw_U324251',\n",
       " 'Srvy_Hby_Spiritual_U324252',\n",
       " 'Srvy_Online_Purchr_U324253',\n",
       " 'Srvy_Mail_Ord_Books_U324254',\n",
       " 'Srvy_MO_BooksMags_U324255',\n",
       " 'Srvy_MO_Child_Prod_U324256',\n",
       " 'Srvy_Mail_Ord_Clthg_U324257',\n",
       " 'Srvy_MailOrd_Cosmtc_U324258',\n",
       " 'Srvy_MO_Food_Prod_U324259',\n",
       " 'Srvy_MailOrderGifts_U324260',\n",
       " 'Srvy_MailOrd_HmeFrn_U324261',\n",
       " 'Srvy_Mail_Order_Mag_U324262',\n",
       " 'Srvy_MailOrderOther_U324263',\n",
       " 'Srvy_MailOrdr_Jewel_U324264',\n",
       " 'Srvy_Mail_Ord_PlsSz_U324265',\n",
       " 'Srvy_Mail_Order_DVD_U324266',\n",
       " 'Srvy_Inv_U324267',\n",
       " 'Srvy_Inv_Other_U324268',\n",
       " 'Srvy_Inv_Life_Ins_U324269',\n",
       " 'Srvy_Inv_MutualFund_U324270',\n",
       " 'Srvy_Inv_StockBond_U324271',\n",
       " 'Srvy_Inv_RealEstate_U324272',\n",
       " 'Srvy_Inv_MedicareCv_U324273',\n",
       " 'Srvy_Inv_401K_U324274',\n",
       " 'Srvy_Inv_CD_U324275',\n",
       " 'Srvy_Inv_IRA_U324276',\n",
       " 'Srvy_InvInt_MediCvg_U324277',\n",
       " 'Srvy_Inv_No_Medi_Cv_U324278',\n",
       " 'Srvy_Music_U324279',\n",
       " 'Srvy_MusicChristian_U324280',\n",
       " 'Srvy_Music_Classcal_U324281',\n",
       " 'Srvy_Music_Country_U324282',\n",
       " 'Srvy_Music_Jazz_U324283',\n",
       " 'Srvy_Music_Other_U324284',\n",
       " 'Srvy_Music_RandB_U324285',\n",
       " 'Srvy_Music_RockRoll_U324286',\n",
       " 'Srvy_Music_SoftRock_U324287',\n",
       " 'Srvy_Music_Big_bnd_U324288',\n",
       " 'Srvy_Music_Altern_U324289',\n",
       " 'Srvy_Veteran_in_HH_U324290',\n",
       " 'Srvy_High_Schl_Grad_U324291',\n",
       " 'Srvy_Occ_Homemaker_U324292',\n",
       " 'Srvy_Occ_Managemnt_U324293',\n",
       " 'Srvy_Occ_Sale_Mktng_U324294',\n",
       " 'Srvy_Occ_TrdesmnLbr_U324295',\n",
       " 'Srvy_Occ_Prof_Tech_U324296',\n",
       " 'Srvy_Occ_Retired_U324297',\n",
       " 'Srvy_Occ_Self_Emp_U324298',\n",
       " 'Srvy_Occ_Op_HomeBiz_U324299',\n",
       " 'Srvy_Occ_Student_U324300',\n",
       " 'Srvy_Occ_MilityGovt_U324301',\n",
       " 'Srvy_Occ_Doctor_U324302',\n",
       " 'Srvy_Occ_Full_Time_U324303',\n",
       " 'Srvy_Occ_Nurse_U324304',\n",
       " 'Srvy_Occ_Part_Time_U324305',\n",
       " 'Srvy_Occ_Teacher_U324306',\n",
       " 'Srvy_Likes_To_Read_U324307',\n",
       " 'srvy_rding_Astrolgy_U324308',\n",
       " 'srvy_rding_Bible_U324309',\n",
       " 'Srvy_rdin_BstSelFic_U324310',\n",
       " 'Srvy_Rding_BookTape_U324311',\n",
       " 'srvy_rding_Children_U324312',\n",
       " 'srvy_rding_Cooking_U324313',\n",
       " 'srvy_rding_Computr_U324314',\n",
       " 'Srvy_rd_ContryLfsty_U324315',\n",
       " 'srvy_rding_Fashion_U324316',\n",
       " 'srvy_rding_History_U324317',\n",
       " 'srvy_rding_Int_Decr_U324318',\n",
       " 'srvy_rding_Med_Hlth_U324319',\n",
       " 'srvy_rdingMilitary_U324320',\n",
       " 'srvy_rding_Mystery_U324321',\n",
       " 'Srvy_rd_Nat_Hth_Rem_U324322',\n",
       " 'srvy_rding_People_U324323',\n",
       " 'srvy_rding_Romance_U324324',\n",
       " 'srvy_rding_SciFi_U324325',\n",
       " 'Srvy_Rding_SciTech_U324326',\n",
       " 'srvy_rding_Sports_U324327',\n",
       " 'Srvy_Rding_WldNwPol_U324328',\n",
       " 'Srvy_rding_Thrill_U324329',\n",
       " 'Srvy_Rding_BestSell_U324330',\n",
       " 'srvy_rding_BookClub_U324331',\n",
       " 'srvy_rding_Comics_U324332',\n",
       " 'srvy_rding_Financal_U324333',\n",
       " 'Srvy_rding_HomeGard_U324334',\n",
       " 'srvy_rdingSelfImprv_U324335',\n",
       " 'Srvy_rding_Trav_Ent_U324336',\n",
       " 'srvy_rding_Magazine_U324337',\n",
       " 'Srvy_Donor_Animal_U324338',\n",
       " 'Srvy_Donor_ArtsCult_U324339',\n",
       " 'Srvy_Donor_Children_U324340',\n",
       " 'Srvy_Donor_Environ_U324341',\n",
       " 'Srvy_Donor_Health_U324342',\n",
       " 'Srvy_Donor_Other_U324343',\n",
       " 'Srvy_Donr_PolConsrv_U324344',\n",
       " 'Srvy_Dnr_PolLiberal_U324345',\n",
       " 'Srvy_DonorReligious_U324346',\n",
       " 'Srvy_Donor_Veterans_U324347',\n",
       " 'Srvy_Donor_Humanitr_U324348',\n",
       " 'Srvy_Sportng_Other_U324349',\n",
       " 'Srvy_Sprtng_Campin_U324350',\n",
       " 'Srvy_Sport_Baseball_U324351',\n",
       " 'Srvy_Sprting_Boatng_U324352',\n",
       " 'Srvy_Sprt_Basketbal_U324353',\n",
       " 'Srvy_Sport_Fishing_U324354',\n",
       " 'Srvy_Sport_Football_U324355',\n",
       " 'Srvy_Sport_Fitness_U324356',\n",
       " 'Srvy_Sporting_Golf_U324357',\n",
       " 'Srvy_SportingHockey_U324358',\n",
       " 'Srvy_Sport_Hunting_U324359',\n",
       " 'Srvy_SportingNASCAR_U324360',\n",
       " 'Srvy_Sprtng_Snw_Ski_U324361',\n",
       " 'Srvy_Sport_Walking_U324362',\n",
       " 'Srvy_Sport_Running_U324363',\n",
       " 'Srvy_Sportng_Scuba_U324364',\n",
       " 'Srvy_SportingTennis_U324365',\n",
       " 'Srvy_Sprt_Wght_Lift_U324366',\n",
       " 'Srvy_Sporting_Bikng_U324367',\n",
       " 'Srvy_Sprtg_Ext_Sprt_U324368',\n",
       " 'Srvy_Sporting_Moto_U324369',\n",
       " 'Srvy_Sprt_Skatebord_U324370',\n",
       " 'Srvy_Sprting_Snwbrd_U324371',\n",
       " 'Srvy_Sprt_Rollrblad_U324372',\n",
       " 'Srvy_Sport_Interest_U324373',\n",
       " 'Srvy_Travel_U324374',\n",
       " 'Srvy_Travel_Biz_USA_U324375',\n",
       " 'Srvy_Trav_Busn_Intl_U324376',\n",
       " 'Srvy_Trav_Pers_USA_U324377',\n",
       " 'Srvy_Trav_Pers_Intl_U324378',\n",
       " 'Srvy_Trv_Casino_Vac_U324379',\n",
       " 'Srvy_Trv_Family_Vac_U324380',\n",
       " 'Srvy_Trav_Freq_Flyr_U324381',\n",
       " 'Srvy_Trav_Timeshare_U324382',\n",
       " 'Srvy_Travel_Cruise_U324383',\n",
       " 'Srvy_Trvl_Theme_Prk_U324384',\n",
       " 'Srvy_Travel_RV_U324385',\n",
       " 'Srvy_Religious_U324386',\n",
       " 'Srvy_Elec_Apple_Dv_U324387',\n",
       " 'Srvy_Elctrncs_Cable_U324388',\n",
       " 'Srvy_Elctrncs_HSI_U324389',\n",
       " 'Srvy_Electronic_DVR_U324390',\n",
       " 'Srvy_Electronic_GPS_U324391',\n",
       " 'Srvy_Elctrnc_HDDVD_U324392',\n",
       " 'Srvy_Electnics_HDTV_U324393',\n",
       " 'Srvy_Elec_HmeTh_Sys_U324394',\n",
       " 'Srvy_Elec_Sat_Radio_U324395',\n",
       " 'Srvy_Elec_Sat_TV_U324396',\n",
       " 'Srvy_Elec_VidGameSy_U324397',\n",
       " 'Srvy_Electronic_Oth_U324398',\n",
       " 'Srvy_Purch_HomeDcor_U324399',\n",
       " 'Srvy_PrchBeautyProd_U324400',\n",
       " 'Srvy_PurchClubStore_U324401',\n",
       " 'Srvy_Purch_FastFood_U324402',\n",
       " 'Srvy_Prch_SpcltyBty_U324403',\n",
       " 'Srvy_Purch_Coupons_U324404',\n",
       " 'Srvy_Date_U324405',\n",
       " 'Srvy_Date_Online_U324406',\n",
       " 'Srvy_Group_DIY_U324407',\n",
       " 'Srvy_Group_Fine_Art_U324408',\n",
       " 'Srvy_Group_HomeLife_U324409',\n",
       " 'Srvy_Group_Lux_Life_U324410',\n",
       " 'Srvy_Grp_Outdoor_U324411',\n",
       " 'Srvy_Grp_Phys_Actv_U324412',\n",
       " 'Srvy_Grp_Sprts_Enth_U324413',\n",
       " 'Srvy_Group_Techies_U324414',\n",
       " 'Srvy_Group_Up_Town_U324415',\n",
       " 'Byr_Cat_Last_OrdDt_U324416',\n",
       " 'Byr_Cat_Lst_OnOrdDt_U324417',\n",
       " 'ByrCat_Lst_OffOrdDt_U324418',\n",
       " 'Byr_Cat_Total_Ordrs_U324419',\n",
       " 'Byr_Cat_Total_Dollr_U324420',\n",
       " 'Byr_Cat_Online_Ords_U324421',\n",
       " 'Byr_Cat_Online_Doll_U324422',\n",
       " 'Byr_Cat_Offline_Ord_U324423',\n",
       " 'Byr_Cat_Off_Dollars_U324424',\n",
       " 'Byr_Cat_Avg_Ord_Dol_U324425',\n",
       " 'Byr_Cat_Avg_Onl_Dol_U324426',\n",
       " 'Byr_Cat_Avg_Off_Dol_U324427',\n",
       " 'Byr_Cat_Online_Shop_U324428',\n",
       " 'Byr_Cat_Cont_Shppr_U324429',\n",
       " 'Byr_Cat_Apprl_Gen_U324430',\n",
       " 'Byr_Cat_AppMen_BgTl_U324431',\n",
       " 'Byr_Cat_Appar_Child_U324432',\n",
       " 'Byr_Cat_App_Teen_U324433',\n",
       " 'Byr_Cat_Apparel_Men_U324434',\n",
       " 'Byr_Cat_App_Wmn_Pet_U324435',\n",
       " 'Byr_Cat_AppWmnPlsSz_U324436',\n",
       " 'Byr_Cat_Appar_Women_U324437',\n",
       " 'Byr_Cat_AppNogendSp_U324438',\n",
       " 'Byr_Cat_Arts_Antiqs_U324439',\n",
       " 'Byr_Cat_Collectible_U324440',\n",
       " 'Byr_Cat_Novelty_U324441',\n",
       " 'Byr_Cat_Automotive_U324442',\n",
       " 'Byr_Cat_Books_U324443',\n",
       " 'Byr_Cat_Child_Prod_U324444',\n",
       " 'Byr_Cat_CompHme_Off_U324445',\n",
       " 'Byr_Cat_CraftsHobbi_U324446',\n",
       " 'Byr_Cat_FoodBev_U324447',\n",
       " 'Byr_Cat_Gen_Merch_U324448',\n",
       " 'Byr_Cat_Gift_U324449',\n",
       " 'Byr_Cat_Speci_Food_U324450',\n",
       " 'Byr_Cat_Holiday_Itm_U324451',\n",
       " 'Byr_Cat_Speci_Gifts_U324452',\n",
       " 'Byr_Cat_Stationery_U324453',\n",
       " 'Byr_Cat_Beauty_U324454',\n",
       " 'Byr_Cat_Health_U324455',\n",
       " 'Byr_Cat_Persnl_Care_U324456',\n",
       " 'Byr_Cat_Electronic_U324457',\n",
       " 'Byr_Cat_Home_Furn_U324458',\n",
       " 'Byr_Cat_Furniture_U324459',\n",
       " 'Byr_Cat_Housewares_U324460',\n",
       " 'Byr_Cat_Linens_U324461',\n",
       " 'Byr_Cat_Home_Care_U324462',\n",
       " 'Byr_Cat_Garden_U324463',\n",
       " 'Byr_Cat_Jewelry_U324464',\n",
       " 'Byr_Cat_Music_U324465',\n",
       " 'Byr_Cat_Oth_MrchSvc_U324466',\n",
       " 'Byr_Cat_Pets_U324467',\n",
       " 'Byr_Cat_PhotoVid_Eq_U324468',\n",
       " 'Byr_Cat_Sports_Leis_U324469',\n",
       " 'Byr_Cat_Travel_U324470',\n",
       " 'Byr_Cat_VideosDVDs_U324471',\n",
       " 'Byr_Cat_Paymnt_AMEX_U324472',\n",
       " 'Byr_Cat_Payment_CC_U324473',\n",
       " 'Byr_Cat_Pay_Discver_U324474',\n",
       " 'Byr_Cat_PmtHouseChr_U324475',\n",
       " 'Byr_Cat_Pmnt_MstCrd_U324476',\n",
       " 'Byr_Cat_Pmt_Ret_Crd_U324477',\n",
       " 'Byr_Cat_Paymnt_Visa_U324478',\n",
       " 'Byr_Cat_Data_Presnt_U324479',\n",
       " 'Byr_Ret_Last_OrdDt_U324480',\n",
       " 'Byr_Ret_Orders_U324481',\n",
       " 'Byr_Ret_Dollars_U324482',\n",
       " 'Byr_Ret_Apprl_Gen_U324483',\n",
       " 'Byr_Ret_App_Mens_BT_U324484',\n",
       " 'Byr_Ret_App_Child_U324485',\n",
       " 'Byr_Ret_App_Teen_U324486',\n",
       " 'Byr_Ret_Aparel_Men_U324487',\n",
       " 'Byr_Ret_App_Wmn_Pet_U324488',\n",
       " 'Byr_Ret_AppWmnPlsSz_U324489',\n",
       " 'Byr_Ret_Appar_Women_U324490',\n",
       " 'Byr_Ret_AppNogendSp_U324491',\n",
       " 'Byr_Ret_Arts_Antiqs_U324492',\n",
       " 'Byr_Ret_Automotive_U324493',\n",
       " 'Byr_Ret_Beauty_U324494',\n",
       " 'Byr_Ret_Books_U324495',\n",
       " 'Byr_Ret_Childs_Prod_U324496',\n",
       " 'Byr_Ret_Collectible_U324497',\n",
       " 'Byr_Ret_CompHomeOfc_U324498',\n",
       " 'Byr_Ret_CraftsHobbi_U324499',\n",
       " 'Byr_Ret_Electronic_U324500',\n",
       " 'Byr_Ret_FoodBeverag_U324501',\n",
       " 'Byr_Ret_Furniture_U324502',\n",
       " 'Byr_Ret_Garden_U324503',\n",
       " 'Byr_Ret_Gen_Merch_U324504',\n",
       " 'Byr_Ret_Gift_U324505',\n",
       " 'Byr_Ret_Health_U324506',\n",
       " 'Byr_Ret_Holid_Items_U324507',\n",
       " 'Byr_Ret_Home_Care_U324508',\n",
       " 'Byr_Ret_Home_Furn_U324509',\n",
       " 'Byr_Ret_Housewares_U324510',\n",
       " 'Byr_Ret_Jewelry_U324511',\n",
       " 'Byr_Ret_Linens_U324512',\n",
       " 'Byr_Ret_Music_U324513',\n",
       " 'Byr_Ret_Novelty_U324514',\n",
       " 'Byr_Ret_Oth_MrchSvc_U324515',\n",
       " 'Byr_Ret_Persnl_Care_U324516',\n",
       " 'Byr_Ret_Pets_U324517',\n",
       " 'Byr_Ret_PhotoVid_Eq_U324518',\n",
       " 'Byr_Ret_Spec_Food_U324519',\n",
       " 'Byr_Ret_Speci_Gifts_U324520',\n",
       " 'Byr_Ret_Sports_Leis_U324521',\n",
       " 'Byr_Ret_Stationery_U324522',\n",
       " 'Byr_Ret_Travel_U324523',\n",
       " 'Byr_Ret_VideosDVDs_U324524',\n",
       " 'Byr_Ret_DataPresent_U324525',\n",
       " 'Byr_Cat_Spend_Patrn_U324526',\n",
       " 'Generations_2_U324527',\n",
       " 'Medicare_Advtge_Pct_U324529',\n",
       " 'Rx_Drug_Pln_Enr_Pct_U324530',\n",
       " 'Private_Fee_Srv_Pct_U324531',\n",
       " 'Medicr_SpIns_RspIdx_U324532',\n",
       " 'Long_TrmCare_InsIdx_U324533',\n",
       " 'Hlth_InsSubsidy_Ind_U324534',\n",
       " 'Pct_HlthcreUninsEst_U324535',\n",
       " 'Ins_Resp_Index_Hlth_U324536',\n",
       " 'Ins_Resp_Index_Life_U324537',\n",
       " 'Ins_Resp_Indx_Senrs_U324538',\n",
       " 'Ins_Resp_Index_Auto_U324539',\n",
       " 'Hlth_Ins_Engag_Idx_U324540',\n",
       " 'Hlth_Ins_Infl_Index_U324541',\n",
       " 'Chan_Pref_FirstPref_U324542',\n",
       " 'Chan_Pref_Scnd_Pref_U324543',\n",
       " 'Chan_Pref_Idx_Cell_U324544',\n",
       " 'Chan_Pref_Idx_Email_U324545',\n",
       " 'Chan_Pref_Idx_Mail_U324546',\n",
       " 'Chan_Pref_Index_Ph_U324547',\n",
       " 'Chan_Pref_Idx_Text_U324548',\n",
       " 'Chan_Pref_Indx_Web_U324549',\n",
       " 'Uninsured_Index_U324550',\n",
       " 'Dual_Eligible_Indx_U324551',\n",
       " 'Hlth_Ins_Dir_PayIdx_U324552',\n",
       " 'Singl_Srvc_Pln_Dent_U324553',\n",
       " 'Sing_Srvc_Plan_Vis_U324554',\n",
       " 'Sngl_Srv_Plan_Dis_U324555',\n",
       " 'Ins_Index_Juv_Life_U324556',\n",
       " 'Ins_Index_Final_Exp_U324557',\n",
       " 'Ins_Idx_Pre_Funeral_U324558',\n",
       " 'Ins_Index_Term_Life_U324559',\n",
       " 'Ins_Amount_TermLife_U324560',\n",
       " 'Ins_Index_WholeLife_U324561',\n",
       " 'Ins_Amt_Whole_Life_U324562',\n",
       " 'AtoHmeIns_PrchDstCh_U324563',\n",
       " 'AutoHomeIns_Qte_Chn_U324564',\n",
       " 'LifeIns_Prch_DstChn_U324565',\n",
       " 'Life_Ins_Qt_Dst_Chn_U324566',\n",
       " 'Altruist_Index_U324567',\n",
       " 'Annuity_Resp_Index_U324568',\n",
       " 'Hlth_Idx_MngBizHlth_U324569',\n",
       " 'Hlth_Idx_Manag_Hlth_U324570',\n",
       " 'Hlth_Indx_Mng_Illns_U324571',\n",
       " 'Hlth_Idx_Hlth_Trkr_U324572',\n",
       " 'Religion_U324573',\n",
       " 'Country_of_Origin_U324574',\n",
       " 'Assimilation_U324575',\n",
       " 'Ethnic_Group_U324576',\n",
       " 'Ethnicity_U324577',\n",
       " 'Language_U324578',\n",
       " 'Vehicle_1_Year_U324579',\n",
       " 'Vehicle_1_Make_U324580',\n",
       " 'Vehicle_1_Model_U324581',\n",
       " 'Vehicle_1_BodyStyle_U324582',\n",
       " 'Veh_1_Fuel_Type_U324583',\n",
       " 'Vehicle_1_Purch_Dt_U324584',\n",
       " 'Vehicle_1_PurchType_U324585',\n",
       " 'Vehicle_2_Year_U324586',\n",
       " 'Vehicle_2_Make_U324587',\n",
       " 'Vehicle_2_Model_U324588',\n",
       " 'Vehicle_2_BodyStyle_U324589',\n",
       " 'Veh_2_Fuel_Type_U324590',\n",
       " 'Vehicle_2_Purch_Dt_U324591',\n",
       " 'Vehicle_2_PurchType_U324592',\n",
       " 'Vehicle_3_Year_U324593',\n",
       " 'Vehicle_3_Make_U324594',\n",
       " 'Vehicle_3_Model_U324595',\n",
       " 'Vehicle_3_BodyStyle_U324596',\n",
       " 'Veh_3_Fuel_Type_U324597',\n",
       " 'Vehicle_3_Purch_Dt_U324598',\n",
       " 'Vehicle_3_PurchType_U324599',\n",
       " 'Number_Vehicles_U324600',\n",
       " 'HlthInsPrem_Tol_Idx_U324602',\n",
       " 'Hlthcare_Treat_Pref_U324603',\n",
       " 'Medicar_SpInsByrIdx_U324604',\n",
       " 'Smart_HHs_Appliance_U324605',\n",
       " 'Smart_HHs_Security_U324606',\n",
       " 'Digital_Dest_Groups_U324611',\n",
       " 'Digital_Devices_U324612',\n",
       " 'Digital_Destination_U324613',\n",
       " 'Digi_Neighborhoods_U324614',\n",
       " 'Mult_HlthBeh_Ch_Idx_U324615',\n",
       " 'Sust_Hlth_BehCh_Idx_U324616',\n",
       " 'Gender1_99013',\n",
       " 'Gender2_99014',\n",
       " 'State_U324007',\n",
       " 'ZIP_Code_U324008',\n",
       " 'ZIP_Plus_4_U324009',\n",
       " 'Numeric_State_Code_U324012',\n",
       " 'Numeric_Cty_Code_U324013',\n",
       " 'Cen_BasTrct_SbCdNum_U324020',\n",
       " 'Census_Basic_BlkGrp_U324021',\n",
       " 'Census_Block_Code_U324022',\n",
       " 'Date_of_Birth_Mth_U324095',\n",
       " 'Date_of_Birth_Day_U324096',\n",
       " 'Date_of_Birth_Year_U324097',\n",
       " 'Child_1_Date_Birth_U324125',\n",
       " 'Child_2_Date_Birth_U324127',\n",
       " 'Child_3_Date_Birth_U324129',\n",
       " 'Child_4_Date_Birth_U324131',\n",
       " 'Cen_Basic_Tract_Num_U324019',\n",
       " 'Public_Housing_Addr_U324089',\n",
       " 'Census_Coding_Lvl_U324049',\n",
       " 'wc_bought_any',\n",
       " 'wc_num_items',\n",
       " 'wc_big_ticket_bought_any',\n",
       " 'wc_big_ticket_num_items',\n",
       " 'wc_low_ticket_bought_any',\n",
       " 'wc_low_ticket_num_items',\n",
       " 'wc_big_ticket_amt_spent',\n",
       " 'wc_low_ticket_amt_spent',\n",
       " 'client_times_shopped_30_days',\n",
       " 'client_shopped_3_mos',\n",
       " 'comp1_times_shopped_30_days',\n",
       " 'comp1_shopped_3_mos',\n",
       " 'comp2_times_shopped_30_days',\n",
       " 'comp2_shopped_3_mos',\n",
       " 'comp3_times_shopped_30_days',\n",
       " 'comp3_shopped_3_mos',\n",
       " 'other1_times_shopped_30_days',\n",
       " 'other1_shopped_3_mos',\n",
       " 'other2_times_shopped_30_days',\n",
       " 'other2_shopped_3_mos',\n",
       " 'other3_times_shopped_30_days',\n",
       " 'other3_shopped_3_mos',\n",
       " 'other4_times_shopped_30_days',\n",
       " 'other4_shopped_3_mos',\n",
       " 'other5_times_shopped_30_days',\n",
       " 'other5_shopped_3_mos',\n",
       " 'other6_times_shopped_30_days',\n",
       " 'other6_shopped_3_mos',\n",
       " 'other7_times_shopped_30_days',\n",
       " 'other7_shopped_3_mos',\n",
       " 'other8_times_shopped_30_days',\n",
       " 'other8_shopped_3_mos',\n",
       " 'other9_times_shopped_30_days',\n",
       " 'other9_shopped_3_mos',\n",
       " 'other10_times_shopped_30_days',\n",
       " 'other10_shopped_3_mos',\n",
       " 'other11_times_shopped_30_days',\n",
       " 'other11_shopped_3_mos',\n",
       " 'other12_times_shopped_30_days',\n",
       " 'other12_shopped_3_mos',\n",
       " 'other13_times_shopped_30_days',\n",
       " 'other13_shopped_3_mos',\n",
       " 'other14_times_shopped_30_days',\n",
       " 'other14_shopped_3_mos',\n",
       " 'other15_times_shopped_30_days',\n",
       " 'other15_shopped_3_mos',\n",
       " 'other16_times_shopped_30_days',\n",
       " 'other16_shopped_3_mos',\n",
       " 'other17_times_shopped_30_days',\n",
       " 'other17_shopped_3_mos',\n",
       " 'other18_times_shopped_30_days',\n",
       " 'other18_shopped_3_mos',\n",
       " 'other19_times_shopped_30_days',\n",
       " 'other19_shopped_3_mos',\n",
       " 'other20_times_shopped_30_days',\n",
       " 'other20_shopped_3_mos',\n",
       " 'other21_times_shopped_30_days',\n",
       " 'other21_shopped_3_mos',\n",
       " 'other22_times_shopped_30_days',\n",
       " 'other22_shopped_3_mos',\n",
       " 'other23_times_shopped_30_days',\n",
       " 'other23_shopped_3_mos',\n",
       " 'other24_times_shopped_30_days',\n",
       " 'other24_shopped_3_mos',\n",
       " 'other25_times_shopped_30_days',\n",
       " 'other25_shopped_3_mos',\n",
       " 'other26_times_shopped_30_days',\n",
       " 'other26_shopped_3_mos']"
      ]
     },
     "execution_count": 9,
     "metadata": {},
     "output_type": "execute_result"
    }
   ],
   "source": [
    "list(dataset.columns)"
   ]
  },
  {
   "cell_type": "markdown",
   "metadata": {},
   "source": [
    "### Focusing on Marital Status"
   ]
  },
  {
   "cell_type": "code",
   "execution_count": 10,
   "metadata": {},
   "outputs": [
    {
     "data": {
      "text/plain": [
       "M    13322\n",
       "Name: Marital_Status_90301, dtype: int64"
      ]
     },
     "execution_count": 10,
     "metadata": {},
     "output_type": "execute_result"
    }
   ],
   "source": [
    "dataset['Marital_Status_90301'].value_counts()"
   ]
  },
  {
   "cell_type": "code",
   "execution_count": 11,
   "metadata": {
    "collapsed": true
   },
   "outputs": [],
   "source": [
    "interested_dataset.is_copy = False"
   ]
  },
  {
   "cell_type": "code",
   "execution_count": 12,
   "metadata": {
    "collapsed": true
   },
   "outputs": [],
   "source": [
    "interested_dataset.loc[:,'Marital_Status'] = dataset['Marital_Status_90301'].fillna(dataset['Married_U324070'])"
   ]
  },
  {
   "cell_type": "code",
   "execution_count": 13,
   "metadata": {
    "collapsed": true
   },
   "outputs": [],
   "source": [
    "interested_dataset['Household_Comp_U324163'] = interested_dataset['Household_Comp_U324163'].fillna('U')"
   ]
  },
  {
   "cell_type": "code",
   "execution_count": 14,
   "metadata": {
    "collapsed": true
   },
   "outputs": [],
   "source": [
    "new_list = []\n",
    "\n",
    "for row in interested_dataset['Household_Comp_U324163']:\n",
    "    \n",
    "    if row == 'A' or row == 'B' or row == 'C' or row == 'D':\n",
    "        new_list.append('M')\n",
    "        \n",
    "    elif row == 'U':\n",
    "        new_list.append('U')\n",
    "        \n",
    "    else:\n",
    "        new_list.append('S')"
   ]
  },
  {
   "cell_type": "code",
   "execution_count": 15,
   "metadata": {
    "collapsed": true
   },
   "outputs": [],
   "source": [
    "new_list = pd.DataFrame(new_list, columns = ['Household'])"
   ]
  },
  {
   "cell_type": "code",
   "execution_count": 16,
   "metadata": {
    "collapsed": true
   },
   "outputs": [],
   "source": [
    "interested_dataset = pd.concat([new_list, interested_dataset], axis = 1)"
   ]
  },
  {
   "cell_type": "code",
   "execution_count": 17,
   "metadata": {
    "collapsed": true
   },
   "outputs": [],
   "source": [
    "interested_dataset['Marital_Status'] = interested_dataset['Marital_Status'].fillna(interested_dataset['Household'])"
   ]
  },
  {
   "cell_type": "code",
   "execution_count": 18,
   "metadata": {
    "collapsed": true,
    "scrolled": true
   },
   "outputs": [],
   "source": [
    "interested_dataset = interested_dataset.drop(['Household', 'Married_U324070'], axis = 1)"
   ]
  },
  {
   "cell_type": "code",
   "execution_count": 19,
   "metadata": {},
   "outputs": [
    {
     "data": {
      "text/plain": [
       "U    19749\n",
       "M    16453\n",
       "S    12444\n",
       "Name: Marital_Status, dtype: int64"
      ]
     },
     "execution_count": 19,
     "metadata": {},
     "output_type": "execute_result"
    }
   ],
   "source": [
    "interested_dataset['Marital_Status'].value_counts()"
   ]
  },
  {
   "cell_type": "code",
   "execution_count": 20,
   "metadata": {
    "collapsed": true
   },
   "outputs": [],
   "source": [
    "interested_dataset['Family_PositionCode_U324059'] = interested_dataset['Family_PositionCode_U324059'].fillna('U')"
   ]
  },
  {
   "cell_type": "code",
   "execution_count": 21,
   "metadata": {
    "collapsed": true
   },
   "outputs": [],
   "source": [
    "new_list = []\n",
    "\n",
    "for row in interested_dataset['Family_PositionCode_U324059']:\n",
    "    \n",
    "    if row == 'H' or row == 'W' or row == 'G' or row == 'P':\n",
    "        \n",
    "        new_list.append('M')\n",
    "        \n",
    "    elif row == 'U':\n",
    "    \n",
    "        new_list.append('U')\n",
    "        \n",
    "    else:\n",
    "        \n",
    "        new_list.append('S')    "
   ]
  },
  {
   "cell_type": "code",
   "execution_count": 22,
   "metadata": {
    "collapsed": true
   },
   "outputs": [],
   "source": [
    "new_list = pd.DataFrame(new_list, columns = ['Family'])"
   ]
  },
  {
   "cell_type": "code",
   "execution_count": 23,
   "metadata": {
    "collapsed": true
   },
   "outputs": [],
   "source": [
    "interested_dataset = pd.concat([new_list, interested_dataset], axis = 1)"
   ]
  },
  {
   "cell_type": "code",
   "execution_count": 24,
   "metadata": {
    "collapsed": true
   },
   "outputs": [],
   "source": [
    "interested_dataset['Marital_Status'] = np.where(interested_dataset['Marital_Status'] == 'U', interested_dataset['Family'], interested_dataset['Marital_Status'])"
   ]
  },
  {
   "cell_type": "code",
   "execution_count": 25,
   "metadata": {},
   "outputs": [
    {
     "data": {
      "text/plain": [
       "S    19426\n",
       "M    16540\n",
       "U    12680\n",
       "Name: Marital_Status, dtype: int64"
      ]
     },
     "execution_count": 25,
     "metadata": {},
     "output_type": "execute_result"
    }
   ],
   "source": [
    "interested_dataset['Marital_Status'].value_counts()"
   ]
  },
  {
   "cell_type": "code",
   "execution_count": 26,
   "metadata": {
    "collapsed": true
   },
   "outputs": [],
   "source": [
    "interested_dataset = interested_dataset.drop(['Family', 'Marital_Status_90301'], axis = 1)"
   ]
  },
  {
   "cell_type": "markdown",
   "metadata": {},
   "source": [
    "### Focusing on Homeowner Status"
   ]
  },
  {
   "cell_type": "code",
   "execution_count": 27,
   "metadata": {
    "collapsed": true
   },
   "outputs": [],
   "source": [
    "interested_dataset['Homeowner_Renter_90303'] = interested_dataset['Homeowner_Renter_90303'].fillna('U')"
   ]
  },
  {
   "cell_type": "code",
   "execution_count": 28,
   "metadata": {},
   "outputs": [
    {
     "data": {
      "text/plain": [
       "O    28550\n",
       "U    15399\n",
       "R     4697\n",
       "Name: Homeowner_Renter_90303, dtype: int64"
      ]
     },
     "execution_count": 28,
     "metadata": {},
     "output_type": "execute_result"
    }
   ],
   "source": [
    "interested_dataset['Homeowner_Renter_90303'].value_counts()"
   ]
  },
  {
   "cell_type": "code",
   "execution_count": 29,
   "metadata": {
    "collapsed": true
   },
   "outputs": [],
   "source": [
    "interested_dataset['Homeowner_Status_U324062'] = interested_dataset['Homeowner_Status_U324062'].fillna('U')"
   ]
  },
  {
   "cell_type": "code",
   "execution_count": 30,
   "metadata": {
    "collapsed": true
   },
   "outputs": [],
   "source": [
    "interested_dataset['Homeowner_Status_U324062'] = interested_dataset['Homeowner_Status_U324062'].replace('Y', 'H')"
   ]
  },
  {
   "cell_type": "code",
   "execution_count": 31,
   "metadata": {},
   "outputs": [
    {
     "data": {
      "text/plain": [
       "H    26659\n",
       "U    15399\n",
       "R     2882\n",
       "P     1891\n",
       "T     1815\n",
       "Name: Homeowner_Status_U324062, dtype: int64"
      ]
     },
     "execution_count": 31,
     "metadata": {},
     "output_type": "execute_result"
    }
   ],
   "source": [
    "interested_dataset['Homeowner_Status_U324062'].value_counts()"
   ]
  },
  {
   "cell_type": "code",
   "execution_count": 32,
   "metadata": {
    "collapsed": true
   },
   "outputs": [],
   "source": [
    "new_list = []\n",
    "\n",
    "for row in interested_dataset['Homeowner_Status_U324062']:\n",
    "    \n",
    "    if row == 'H' or row == 'P':\n",
    "        new_list.append('O')\n",
    "        \n",
    "    elif row == 'U':\n",
    "        new_list.append('U')\n",
    "        \n",
    "    else:\n",
    "        new_list.append('R')"
   ]
  },
  {
   "cell_type": "code",
   "execution_count": 33,
   "metadata": {
    "collapsed": true
   },
   "outputs": [],
   "source": [
    "new_list = pd.DataFrame(new_list, columns = ['Home_Status'])"
   ]
  },
  {
   "cell_type": "code",
   "execution_count": 34,
   "metadata": {
    "collapsed": true
   },
   "outputs": [],
   "source": [
    "interested_dataset = pd.concat([new_list, interested_dataset], axis = 1)"
   ]
  },
  {
   "cell_type": "code",
   "execution_count": 35,
   "metadata": {
    "collapsed": true
   },
   "outputs": [],
   "source": [
    "interested_dataset['Homeowner_Status'] = np.where(interested_dataset['Homeowner_Renter_90303'] == 'U', interested_dataset['Home_Status'], interested_dataset['Homeowner_Renter_90303'])"
   ]
  },
  {
   "cell_type": "code",
   "execution_count": 36,
   "metadata": {},
   "outputs": [
    {
     "data": {
      "text/plain": [
       "O    28550\n",
       "U    15399\n",
       "R     4697\n",
       "Name: Homeowner_Status, dtype: int64"
      ]
     },
     "execution_count": 36,
     "metadata": {},
     "output_type": "execute_result"
    }
   ],
   "source": [
    "interested_dataset['Homeowner_Status'].value_counts()"
   ]
  },
  {
   "cell_type": "code",
   "execution_count": 37,
   "metadata": {
    "collapsed": true
   },
   "outputs": [],
   "source": [
    "interested_dataset = interested_dataset.drop(['Home_Status', 'Homeowner_Status_U324062'], axis = 1)"
   ]
  },
  {
   "cell_type": "code",
   "execution_count": 38,
   "metadata": {
    "collapsed": true
   },
   "outputs": [],
   "source": [
    "new_list = []\n",
    "\n",
    "for row in interested_dataset['Srvy_OwnRent_U324178']:\n",
    "    \n",
    "    if row == 1.0 or row == 2.0 or row == 3.0:\n",
    "        new_list.append('O')\n",
    "        \n",
    "    elif row == 4.0 or row == 5.0 or row == 6.0:\n",
    "        new_list.append('R')\n",
    "        \n",
    "    else:\n",
    "        new_list.append('U')"
   ]
  },
  {
   "cell_type": "code",
   "execution_count": 39,
   "metadata": {
    "collapsed": true
   },
   "outputs": [],
   "source": [
    "new_list = pd.DataFrame(new_list, columns = ['Survey_OwnRent'])"
   ]
  },
  {
   "cell_type": "code",
   "execution_count": 40,
   "metadata": {
    "collapsed": true
   },
   "outputs": [],
   "source": [
    "interested_dataset = pd.concat([new_list, interested_dataset], axis = 1)"
   ]
  },
  {
   "cell_type": "code",
   "execution_count": 41,
   "metadata": {
    "collapsed": true
   },
   "outputs": [],
   "source": [
    "interested_dataset['Homeowner_Status'] = np.where(interested_dataset['Homeowner_Status'] == 'U', interested_dataset['Survey_OwnRent'], interested_dataset['Homeowner_Status'])"
   ]
  },
  {
   "cell_type": "code",
   "execution_count": 42,
   "metadata": {},
   "outputs": [
    {
     "data": {
      "text/plain": [
       "O    28564\n",
       "U    15299\n",
       "R     4783\n",
       "Name: Homeowner_Status, dtype: int64"
      ]
     },
     "execution_count": 42,
     "metadata": {},
     "output_type": "execute_result"
    }
   ],
   "source": [
    "interested_dataset['Homeowner_Status'].value_counts()"
   ]
  },
  {
   "cell_type": "code",
   "execution_count": 43,
   "metadata": {
    "collapsed": true
   },
   "outputs": [],
   "source": [
    "interested_dataset = interested_dataset.drop(['Survey_OwnRent', 'Homeowner_Renter_90303', 'Srvy_OwnRent_U324178'], axis = 1)"
   ]
  },
  {
   "cell_type": "markdown",
   "metadata": {},
   "source": [
    "### Focusing on Dwelling Type"
   ]
  },
  {
   "cell_type": "code",
   "execution_count": 44,
   "metadata": {
    "collapsed": true
   },
   "outputs": [],
   "source": [
    "interested_dataset['Dwelling_Type_90302'] = interested_dataset['Dwelling_Type_90302'].fillna('U')"
   ]
  },
  {
   "cell_type": "code",
   "execution_count": 45,
   "metadata": {},
   "outputs": [
    {
     "data": {
      "text/plain": [
       "S    32130\n",
       "U    12928\n",
       "M     3588\n",
       "Name: Dwelling_Type_90302, dtype: int64"
      ]
     },
     "execution_count": 45,
     "metadata": {},
     "output_type": "execute_result"
    }
   ],
   "source": [
    "interested_dataset['Dwelling_Type_90302'].value_counts()"
   ]
  },
  {
   "cell_type": "code",
   "execution_count": 46,
   "metadata": {
    "collapsed": true
   },
   "outputs": [],
   "source": [
    "interested_dataset['Dwelling_Type_U324063'] = interested_dataset['Dwelling_Type_U324063'].fillna('U')"
   ]
  },
  {
   "cell_type": "code",
   "execution_count": 47,
   "metadata": {
    "collapsed": true
   },
   "outputs": [],
   "source": [
    "new_list = []\n",
    "\n",
    "for row in interested_dataset['Dwelling_Type_U324063']:\n",
    "    \n",
    "    if row == 'S' or row == 'B' or row == 'M' or row == 'P':\n",
    "        new_list.append('S')\n",
    "        \n",
    "    elif row == 'U':\n",
    "        new_list.append('U')\n",
    "        \n",
    "    else:\n",
    "        new_list.append('M')"
   ]
  },
  {
   "cell_type": "code",
   "execution_count": 48,
   "metadata": {
    "collapsed": true
   },
   "outputs": [],
   "source": [
    "new_list = pd.DataFrame(new_list, columns = ['Dwell_Type'])"
   ]
  },
  {
   "cell_type": "code",
   "execution_count": 49,
   "metadata": {
    "collapsed": true
   },
   "outputs": [],
   "source": [
    "interested_dataset = pd.concat([new_list, interested_dataset], axis = 1)"
   ]
  },
  {
   "cell_type": "code",
   "execution_count": 50,
   "metadata": {
    "collapsed": true
   },
   "outputs": [],
   "source": [
    "interested_dataset['Dwelling_Type'] = np.where(interested_dataset['Dwelling_Type_90302'] == 'U', interested_dataset['Dwell_Type'], interested_dataset['Dwelling_Type_90302'])"
   ]
  },
  {
   "cell_type": "code",
   "execution_count": 51,
   "metadata": {
    "collapsed": true
   },
   "outputs": [],
   "source": [
    "interested_dataset = interested_dataset.drop(['Dwell_Type', 'Dwelling_Type_90302', 'Dwelling_Type_U324063'], axis = 1)"
   ]
  },
  {
   "cell_type": "code",
   "execution_count": 52,
   "metadata": {},
   "outputs": [
    {
     "data": {
      "text/plain": [
       "S    32154\n",
       "U    12680\n",
       "M     3812\n",
       "Name: Dwelling_Type, dtype: int64"
      ]
     },
     "execution_count": 52,
     "metadata": {},
     "output_type": "execute_result"
    }
   ],
   "source": [
    "interested_dataset['Dwelling_Type'].value_counts()"
   ]
  },
  {
   "cell_type": "markdown",
   "metadata": {},
   "source": [
    "### Focusing on Gender"
   ]
  },
  {
   "cell_type": "code",
   "execution_count": 53,
   "metadata": {
    "collapsed": true
   },
   "outputs": [],
   "source": [
    "interested_dataset['Gender_U324057'] = interested_dataset['Gender_U324057'].fillna('U')"
   ]
  },
  {
   "cell_type": "code",
   "execution_count": 54,
   "metadata": {},
   "outputs": [
    {
     "data": {
      "text/plain": [
       "F    18124\n",
       "M    17842\n",
       "U    12680\n",
       "Name: Gender_U324057, dtype: int64"
      ]
     },
     "execution_count": 54,
     "metadata": {},
     "output_type": "execute_result"
    }
   ],
   "source": [
    "interested_dataset['Gender_U324057'].value_counts()"
   ]
  },
  {
   "cell_type": "code",
   "execution_count": 55,
   "metadata": {
    "collapsed": true
   },
   "outputs": [],
   "source": [
    "interested_dataset['Gender_Code_90304'] = interested_dataset['Gender_Code_90304'].fillna('U')"
   ]
  },
  {
   "cell_type": "code",
   "execution_count": 56,
   "metadata": {
    "scrolled": true
   },
   "outputs": [
    {
     "data": {
      "text/plain": [
       "F    18525\n",
       "M    16521\n",
       "U    13600\n",
       "Name: Gender_Code_90304, dtype: int64"
      ]
     },
     "execution_count": 56,
     "metadata": {},
     "output_type": "execute_result"
    }
   ],
   "source": [
    "interested_dataset['Gender_Code_90304'].value_counts()"
   ]
  },
  {
   "cell_type": "code",
   "execution_count": 57,
   "metadata": {
    "collapsed": true
   },
   "outputs": [],
   "source": [
    "interested_dataset['Gender'] = np.where(interested_dataset['Gender_Code_90304'] == 'U', interested_dataset['Gender_U324057'], interested_dataset['Gender_Code_90304'])"
   ]
  },
  {
   "cell_type": "code",
   "execution_count": 58,
   "metadata": {},
   "outputs": [
    {
     "data": {
      "text/plain": [
       "F    18525\n",
       "M    17441\n",
       "U    12680\n",
       "Name: Gender, dtype: int64"
      ]
     },
     "execution_count": 58,
     "metadata": {},
     "output_type": "execute_result"
    }
   ],
   "source": [
    "interested_dataset['Gender'].value_counts()"
   ]
  },
  {
   "cell_type": "code",
   "execution_count": 59,
   "metadata": {
    "collapsed": true
   },
   "outputs": [],
   "source": [
    "new_list = []\n",
    "\n",
    "for row in interested_dataset['Family_PositionCode_U324059']:\n",
    "    \n",
    "    if row == 'H' or row == 'M' or row =='P':\n",
    "        new_list.append('M')\n",
    "        \n",
    "    elif row == 'W' or row == 'F' or row == 'G':\n",
    "        new_list.append('F')\n",
    "        \n",
    "    else:\n",
    "        new_list.append('U')"
   ]
  },
  {
   "cell_type": "code",
   "execution_count": 60,
   "metadata": {
    "collapsed": true
   },
   "outputs": [],
   "source": [
    "new_list = pd.DataFrame(new_list, columns = ['Family_Gender'])"
   ]
  },
  {
   "cell_type": "code",
   "execution_count": 61,
   "metadata": {
    "collapsed": true
   },
   "outputs": [],
   "source": [
    "interested_dataset = pd.concat([new_list, interested_dataset], axis = 1)"
   ]
  },
  {
   "cell_type": "code",
   "execution_count": 62,
   "metadata": {
    "collapsed": true
   },
   "outputs": [],
   "source": [
    "interested_dataset['Gender'] = np.where(interested_dataset['Gender'] == 'U', interested_dataset['Family_Gender'], interested_dataset['Gender'])"
   ]
  },
  {
   "cell_type": "code",
   "execution_count": 63,
   "metadata": {
    "collapsed": true
   },
   "outputs": [],
   "source": [
    "new_list = []\n",
    "\n",
    "for row in interested_dataset['Household_Comp_U324163']:\n",
    "    \n",
    "    if row == 'E' or row == 'F' or row =='I' or row == 'J':\n",
    "        new_list.append('M')\n",
    "        \n",
    "    elif row == 'G' or row == 'H' or row == 'K' or row == 'L':\n",
    "        new_list.append('F')\n",
    "        \n",
    "    else:\n",
    "        new_list.append('U')"
   ]
  },
  {
   "cell_type": "code",
   "execution_count": 64,
   "metadata": {
    "collapsed": true
   },
   "outputs": [],
   "source": [
    "new_list = pd.DataFrame(new_list, columns = ['Household_Gender'])"
   ]
  },
  {
   "cell_type": "code",
   "execution_count": 65,
   "metadata": {
    "collapsed": true
   },
   "outputs": [],
   "source": [
    "interested_dataset = pd.concat([new_list, interested_dataset], axis = 1)"
   ]
  },
  {
   "cell_type": "code",
   "execution_count": 66,
   "metadata": {
    "collapsed": true
   },
   "outputs": [],
   "source": [
    "interested_dataset['Gender'] = np.where(interested_dataset['Gender'] == 'U', interested_dataset['Household_Gender'], interested_dataset['Gender'])"
   ]
  },
  {
   "cell_type": "code",
   "execution_count": 67,
   "metadata": {},
   "outputs": [
    {
     "data": {
      "text/plain": [
       "F    18525\n",
       "M    17441\n",
       "U    12680\n",
       "Name: Gender, dtype: int64"
      ]
     },
     "execution_count": 67,
     "metadata": {},
     "output_type": "execute_result"
    }
   ],
   "source": [
    "interested_dataset['Gender'].value_counts()"
   ]
  },
  {
   "cell_type": "code",
   "execution_count": 68,
   "metadata": {
    "collapsed": true
   },
   "outputs": [],
   "source": [
    "interested_dataset = interested_dataset.drop(['Family_Gender', 'Household_Gender', 'Household_Comp_U324163', 'Family_PositionCode_U324059', 'Gender_Code_90304', 'Gender_U324057'], axis = 1)"
   ]
  },
  {
   "cell_type": "markdown",
   "metadata": {},
   "source": [
    "### Focusing on Age Range"
   ]
  },
  {
   "cell_type": "code",
   "execution_count": 69,
   "metadata": {
    "collapsed": true
   },
   "outputs": [],
   "source": [
    "interested_dataset['Age_Range_90305'] = interested_dataset['Age_Range_90305'].fillna('U')"
   ]
  },
  {
   "cell_type": "code",
   "execution_count": 70,
   "metadata": {},
   "outputs": [
    {
     "data": {
      "text/plain": [
       "U    12743\n",
       "D     7071\n",
       "E     6871\n",
       "C     5619\n",
       "F     5550\n",
       "G     4906\n",
       "B     3471\n",
       "A     2415\n",
       "Name: Age_Range_90305, dtype: int64"
      ]
     },
     "execution_count": 70,
     "metadata": {},
     "output_type": "execute_result"
    }
   ],
   "source": [
    "interested_dataset['Age_Range_90305'].value_counts()"
   ]
  },
  {
   "cell_type": "code",
   "execution_count": 71,
   "metadata": {
    "collapsed": true
   },
   "outputs": [],
   "source": [
    "interested_dataset['Est_Age_U324056'] = interested_dataset['Est_Age_U324056'].fillna('U')"
   ]
  },
  {
   "cell_type": "code",
   "execution_count": 72,
   "metadata": {
    "collapsed": true
   },
   "outputs": [],
   "source": [
    "new_list = []\n",
    "\n",
    "for row in interested_dataset['Est_Age_U324056']:\n",
    "    \n",
    "    if row == 'I1':\n",
    "        new_list.append('A')\n",
    "        \n",
    "    elif row == 'I2':\n",
    "        new_list.append('B')\n",
    "        \n",
    "    elif row == 'I3':\n",
    "        new_list.append('C')\n",
    "        \n",
    "    elif row == 'I4':\n",
    "        new_list.append('D')\n",
    "        \n",
    "    elif row == 'I5':\n",
    "        new_list.append('E')\n",
    "        \n",
    "    elif row == 'I6':\n",
    "        new_list.append('F')\n",
    "        \n",
    "    elif row == 'I7':\n",
    "        new_list.append('G')\n",
    "        \n",
    "    else:\n",
    "        new_list.append('U')"
   ]
  },
  {
   "cell_type": "code",
   "execution_count": 73,
   "metadata": {
    "collapsed": true
   },
   "outputs": [],
   "source": [
    "new_list = pd.DataFrame(new_list, columns = ['Estimated_Age'])"
   ]
  },
  {
   "cell_type": "code",
   "execution_count": 74,
   "metadata": {
    "collapsed": true
   },
   "outputs": [],
   "source": [
    "interested_dataset = pd.concat([new_list, interested_dataset], axis = 1)"
   ]
  },
  {
   "cell_type": "code",
   "execution_count": 75,
   "metadata": {
    "collapsed": true
   },
   "outputs": [],
   "source": [
    "interested_dataset['Age'] = np.where(interested_dataset['Age_Range_90305'] == 'U', interested_dataset['Estimated_Age'], interested_dataset['Age_Range_90305'])"
   ]
  },
  {
   "cell_type": "code",
   "execution_count": 76,
   "metadata": {},
   "outputs": [
    {
     "data": {
      "text/plain": [
       "U    12743\n",
       "D     7071\n",
       "E     6871\n",
       "C     5619\n",
       "F     5550\n",
       "G     4906\n",
       "B     3471\n",
       "A     2415\n",
       "Name: Age, dtype: int64"
      ]
     },
     "execution_count": 76,
     "metadata": {},
     "output_type": "execute_result"
    }
   ],
   "source": [
    "interested_dataset['Age'].value_counts()"
   ]
  },
  {
   "cell_type": "code",
   "execution_count": 77,
   "metadata": {
    "collapsed": true
   },
   "outputs": [],
   "source": [
    "interested_dataset = interested_dataset.drop(['Estimated_Age', 'Age_Range_90305', 'Est_Age_U324056', 'Age_Range_U324055'], axis = 1)"
   ]
  },
  {
   "cell_type": "code",
   "execution_count": 78,
   "metadata": {},
   "outputs": [
    {
     "data": {
      "text/html": [
       "<div>\n",
       "<style>\n",
       "    .dataframe thead tr:only-child th {\n",
       "        text-align: right;\n",
       "    }\n",
       "\n",
       "    .dataframe thead th {\n",
       "        text-align: left;\n",
       "    }\n",
       "\n",
       "    .dataframe tbody tr th {\n",
       "        vertical-align: top;\n",
       "    }\n",
       "</style>\n",
       "<table border=\"1\" class=\"dataframe\">\n",
       "  <thead>\n",
       "    <tr style=\"text-align: right;\">\n",
       "      <th></th>\n",
       "      <th>dataright_seq</th>\n",
       "      <th>State_99039</th>\n",
       "      <th>Len_of_Residence_90300</th>\n",
       "      <th>Length_of_Residnce_U324061</th>\n",
       "      <th>Num_Adults_HH_90306</th>\n",
       "      <th>Num_Adults_in_HH_U324071</th>\n",
       "      <th>Num_Persons_in_HH_U324072</th>\n",
       "      <th>Num_Child_in_HH_90307</th>\n",
       "      <th>Number_Children_U324074</th>\n",
       "      <th>Child_Pres_0002_Yrs_U324075</th>\n",
       "      <th>Child_Pres_0305_Yrs_U324076</th>\n",
       "      <th>Child_Pres_0610_Yrs_U324077</th>\n",
       "      <th>Child_Pres_1115_Yrs_U324078</th>\n",
       "      <th>Child_Pres_1618_Yrs_U324079</th>\n",
       "      <th>Race_Code_90308</th>\n",
       "      <th>Est_HH_Income_90309</th>\n",
       "      <th>Home_Market_Value_90310</th>\n",
       "      <th>Networth_90312</th>\n",
       "      <th>Mail_Order_Byr_90315</th>\n",
       "      <th>Mail_Order_Resp_90316</th>\n",
       "      <th>Occ_1st_Indv_90317</th>\n",
       "      <th>Edu_1st_Indv_90318</th>\n",
       "      <th>Cen10_Med_HH_Inc_U324028</th>\n",
       "      <th>Cen10_MedHH_EffInc_U324039</th>\n",
       "      <th>Cen10_SocioEcon_Scr_U324046</th>\n",
       "      <th>ZIP_Income_Decile_U324066</th>\n",
       "      <th>Dual_Income_Indx_3_U324067</th>\n",
       "      <th>Srvy_Mail_Ord_Books_U324254</th>\n",
       "      <th>Srvy_MO_BooksMags_U324255</th>\n",
       "      <th>Srvy_MO_Child_Prod_U324256</th>\n",
       "      <th>Srvy_Mail_Ord_Clthg_U324257</th>\n",
       "      <th>Srvy_MailOrd_Cosmtc_U324258</th>\n",
       "      <th>Srvy_MO_Food_Prod_U324259</th>\n",
       "      <th>Srvy_MailOrderGifts_U324260</th>\n",
       "      <th>Srvy_MailOrd_HmeFrn_U324261</th>\n",
       "      <th>Srvy_Mail_Order_Mag_U324262</th>\n",
       "      <th>Srvy_MailOrderOther_U324263</th>\n",
       "      <th>Srvy_MailOrdr_Jewel_U324264</th>\n",
       "      <th>Srvy_Mail_Ord_PlsSz_U324265</th>\n",
       "      <th>Srvy_Mail_Order_DVD_U324266</th>\n",
       "      <th>Designated_Mkt_Area_U324014</th>\n",
       "      <th>Race_U324058</th>\n",
       "      <th>Est_HH_Income_3_U324064</th>\n",
       "      <th>Net_Worth_3_U324065</th>\n",
       "      <th>Mail_Order_Respnder_U324068</th>\n",
       "      <th>Mail_Order_Byr_U324069</th>\n",
       "      <th>Indv_Occ_U324081</th>\n",
       "      <th>Bank_Card_U324099</th>\n",
       "      <th>Bank_Card_New_IssDt_U324098</th>\n",
       "      <th>Ret_Card_U324100</th>\n",
       "      <th>Byr_Ret_Last_OrdDt_U324480</th>\n",
       "      <th>Byr_Ret_Orders_U324481</th>\n",
       "      <th>Byr_Ret_Dollars_U324482</th>\n",
       "      <th>Est_HH_Debt_Level_U324161</th>\n",
       "      <th>Est_HH_Invest_Asset_U324162</th>\n",
       "      <th>wc_bought_any</th>\n",
       "      <th>wc_num_items</th>\n",
       "      <th>wc_big_ticket_bought_any</th>\n",
       "      <th>wc_big_ticket_num_items</th>\n",
       "      <th>wc_low_ticket_bought_any</th>\n",
       "      <th>wc_low_ticket_num_items</th>\n",
       "      <th>wc_big_ticket_amt_spent</th>\n",
       "      <th>wc_low_ticket_amt_spent</th>\n",
       "      <th>client_times_shopped_30_days</th>\n",
       "      <th>client_shopped_3_mos</th>\n",
       "      <th>comp1_times_shopped_30_days</th>\n",
       "      <th>comp1_shopped_3_mos</th>\n",
       "      <th>comp2_times_shopped_30_days</th>\n",
       "      <th>comp2_shopped_3_mos</th>\n",
       "      <th>comp3_times_shopped_30_days</th>\n",
       "      <th>comp3_shopped_3_mos</th>\n",
       "      <th>Marital_Status</th>\n",
       "      <th>Homeowner_Status</th>\n",
       "      <th>Dwelling_Type</th>\n",
       "      <th>Gender</th>\n",
       "      <th>Age</th>\n",
       "    </tr>\n",
       "  </thead>\n",
       "  <tbody>\n",
       "    <tr>\n",
       "      <th>0</th>\n",
       "      <td>2517</td>\n",
       "      <td>CT</td>\n",
       "      <td>NaN</td>\n",
       "      <td>NaN</td>\n",
       "      <td>5.0</td>\n",
       "      <td>5.0</td>\n",
       "      <td>5.0</td>\n",
       "      <td>NaN</td>\n",
       "      <td>0.0</td>\n",
       "      <td>NaN</td>\n",
       "      <td>NaN</td>\n",
       "      <td>NaN</td>\n",
       "      <td>NaN</td>\n",
       "      <td>NaN</td>\n",
       "      <td>B</td>\n",
       "      <td>D</td>\n",
       "      <td>E</td>\n",
       "      <td>E</td>\n",
       "      <td>Y</td>\n",
       "      <td>Y</td>\n",
       "      <td>NaN</td>\n",
       "      <td>NaN</td>\n",
       "      <td>53.0</td>\n",
       "      <td>43.0</td>\n",
       "      <td>84.0</td>\n",
       "      <td>9.0</td>\n",
       "      <td>6.0</td>\n",
       "      <td>NaN</td>\n",
       "      <td>NaN</td>\n",
       "      <td>NaN</td>\n",
       "      <td>NaN</td>\n",
       "      <td>NaN</td>\n",
       "      <td>NaN</td>\n",
       "      <td>NaN</td>\n",
       "      <td>NaN</td>\n",
       "      <td>NaN</td>\n",
       "      <td>NaN</td>\n",
       "      <td>NaN</td>\n",
       "      <td>NaN</td>\n",
       "      <td>NaN</td>\n",
       "      <td>501.0</td>\n",
       "      <td>NaN</td>\n",
       "      <td>H</td>\n",
       "      <td>G</td>\n",
       "      <td>M</td>\n",
       "      <td>M</td>\n",
       "      <td>NaN</td>\n",
       "      <td>NaN</td>\n",
       "      <td>NaN</td>\n",
       "      <td>NaN</td>\n",
       "      <td>1610.0</td>\n",
       "      <td>1.0</td>\n",
       "      <td>80.0</td>\n",
       "      <td>C</td>\n",
       "      <td>C</td>\n",
       "      <td>0</td>\n",
       "      <td>NaN</td>\n",
       "      <td>0</td>\n",
       "      <td>NaN</td>\n",
       "      <td>0</td>\n",
       "      <td>NaN</td>\n",
       "      <td>NaN</td>\n",
       "      <td>NaN</td>\n",
       "      <td>NaN</td>\n",
       "      <td>0</td>\n",
       "      <td>NaN</td>\n",
       "      <td>0</td>\n",
       "      <td>NaN</td>\n",
       "      <td>0</td>\n",
       "      <td>NaN</td>\n",
       "      <td>0</td>\n",
       "      <td>M</td>\n",
       "      <td>O</td>\n",
       "      <td>S</td>\n",
       "      <td>M</td>\n",
       "      <td>A</td>\n",
       "    </tr>\n",
       "    <tr>\n",
       "      <th>1</th>\n",
       "      <td>2518</td>\n",
       "      <td>CT</td>\n",
       "      <td>1.0</td>\n",
       "      <td>1.0</td>\n",
       "      <td>NaN</td>\n",
       "      <td>NaN</td>\n",
       "      <td>NaN</td>\n",
       "      <td>NaN</td>\n",
       "      <td>0.0</td>\n",
       "      <td>NaN</td>\n",
       "      <td>4.0</td>\n",
       "      <td>NaN</td>\n",
       "      <td>NaN</td>\n",
       "      <td>NaN</td>\n",
       "      <td>H</td>\n",
       "      <td>B</td>\n",
       "      <td>A</td>\n",
       "      <td>A</td>\n",
       "      <td>NaN</td>\n",
       "      <td>NaN</td>\n",
       "      <td>NaN</td>\n",
       "      <td>NaN</td>\n",
       "      <td>53.0</td>\n",
       "      <td>43.0</td>\n",
       "      <td>84.0</td>\n",
       "      <td>5.0</td>\n",
       "      <td>9.0</td>\n",
       "      <td>NaN</td>\n",
       "      <td>NaN</td>\n",
       "      <td>NaN</td>\n",
       "      <td>NaN</td>\n",
       "      <td>NaN</td>\n",
       "      <td>NaN</td>\n",
       "      <td>NaN</td>\n",
       "      <td>NaN</td>\n",
       "      <td>NaN</td>\n",
       "      <td>NaN</td>\n",
       "      <td>NaN</td>\n",
       "      <td>NaN</td>\n",
       "      <td>NaN</td>\n",
       "      <td>501.0</td>\n",
       "      <td>NaN</td>\n",
       "      <td>D</td>\n",
       "      <td>A</td>\n",
       "      <td>NaN</td>\n",
       "      <td>NaN</td>\n",
       "      <td>NaN</td>\n",
       "      <td>NaN</td>\n",
       "      <td>NaN</td>\n",
       "      <td>Y</td>\n",
       "      <td>NaN</td>\n",
       "      <td>0.0</td>\n",
       "      <td>0.0</td>\n",
       "      <td>B</td>\n",
       "      <td>B</td>\n",
       "      <td>1</td>\n",
       "      <td>C</td>\n",
       "      <td>1</td>\n",
       "      <td>B</td>\n",
       "      <td>1</td>\n",
       "      <td>C</td>\n",
       "      <td>B</td>\n",
       "      <td>F</td>\n",
       "      <td>NaN</td>\n",
       "      <td>0</td>\n",
       "      <td>NaN</td>\n",
       "      <td>0</td>\n",
       "      <td>NaN</td>\n",
       "      <td>0</td>\n",
       "      <td>NaN</td>\n",
       "      <td>0</td>\n",
       "      <td>S</td>\n",
       "      <td>U</td>\n",
       "      <td>S</td>\n",
       "      <td>F</td>\n",
       "      <td>D</td>\n",
       "    </tr>\n",
       "    <tr>\n",
       "      <th>2</th>\n",
       "      <td>2519</td>\n",
       "      <td>CT</td>\n",
       "      <td>15.0</td>\n",
       "      <td>15.0</td>\n",
       "      <td>1.0</td>\n",
       "      <td>1.0</td>\n",
       "      <td>1.0</td>\n",
       "      <td>NaN</td>\n",
       "      <td>0.0</td>\n",
       "      <td>NaN</td>\n",
       "      <td>NaN</td>\n",
       "      <td>NaN</td>\n",
       "      <td>NaN</td>\n",
       "      <td>NaN</td>\n",
       "      <td>W</td>\n",
       "      <td>B</td>\n",
       "      <td>A</td>\n",
       "      <td>A</td>\n",
       "      <td>Y</td>\n",
       "      <td>Y</td>\n",
       "      <td>B</td>\n",
       "      <td>NaN</td>\n",
       "      <td>53.0</td>\n",
       "      <td>43.0</td>\n",
       "      <td>84.0</td>\n",
       "      <td>4.0</td>\n",
       "      <td>9.0</td>\n",
       "      <td>Y</td>\n",
       "      <td>Y</td>\n",
       "      <td>NaN</td>\n",
       "      <td>NaN</td>\n",
       "      <td>NaN</td>\n",
       "      <td>NaN</td>\n",
       "      <td>NaN</td>\n",
       "      <td>NaN</td>\n",
       "      <td>NaN</td>\n",
       "      <td>NaN</td>\n",
       "      <td>NaN</td>\n",
       "      <td>NaN</td>\n",
       "      <td>Y</td>\n",
       "      <td>501.0</td>\n",
       "      <td>B</td>\n",
       "      <td>C</td>\n",
       "      <td>A</td>\n",
       "      <td>M</td>\n",
       "      <td>M</td>\n",
       "      <td>A264</td>\n",
       "      <td>M</td>\n",
       "      <td>NaN</td>\n",
       "      <td>M</td>\n",
       "      <td>NaN</td>\n",
       "      <td>0.0</td>\n",
       "      <td>0.0</td>\n",
       "      <td>F</td>\n",
       "      <td>A</td>\n",
       "      <td>1</td>\n",
       "      <td>B</td>\n",
       "      <td>0</td>\n",
       "      <td>NaN</td>\n",
       "      <td>1</td>\n",
       "      <td>B</td>\n",
       "      <td>NaN</td>\n",
       "      <td>A</td>\n",
       "      <td>NaN</td>\n",
       "      <td>0</td>\n",
       "      <td>NaN</td>\n",
       "      <td>0</td>\n",
       "      <td>NaN</td>\n",
       "      <td>0</td>\n",
       "      <td>NaN</td>\n",
       "      <td>0</td>\n",
       "      <td>S</td>\n",
       "      <td>R</td>\n",
       "      <td>M</td>\n",
       "      <td>F</td>\n",
       "      <td>D</td>\n",
       "    </tr>\n",
       "    <tr>\n",
       "      <th>3</th>\n",
       "      <td>2520</td>\n",
       "      <td>NaN</td>\n",
       "      <td>NaN</td>\n",
       "      <td>NaN</td>\n",
       "      <td>NaN</td>\n",
       "      <td>NaN</td>\n",
       "      <td>NaN</td>\n",
       "      <td>NaN</td>\n",
       "      <td>NaN</td>\n",
       "      <td>NaN</td>\n",
       "      <td>NaN</td>\n",
       "      <td>NaN</td>\n",
       "      <td>NaN</td>\n",
       "      <td>NaN</td>\n",
       "      <td>NaN</td>\n",
       "      <td>NaN</td>\n",
       "      <td>NaN</td>\n",
       "      <td>NaN</td>\n",
       "      <td>NaN</td>\n",
       "      <td>NaN</td>\n",
       "      <td>NaN</td>\n",
       "      <td>NaN</td>\n",
       "      <td>NaN</td>\n",
       "      <td>NaN</td>\n",
       "      <td>NaN</td>\n",
       "      <td>NaN</td>\n",
       "      <td>NaN</td>\n",
       "      <td>NaN</td>\n",
       "      <td>NaN</td>\n",
       "      <td>NaN</td>\n",
       "      <td>NaN</td>\n",
       "      <td>NaN</td>\n",
       "      <td>NaN</td>\n",
       "      <td>NaN</td>\n",
       "      <td>NaN</td>\n",
       "      <td>NaN</td>\n",
       "      <td>NaN</td>\n",
       "      <td>NaN</td>\n",
       "      <td>NaN</td>\n",
       "      <td>NaN</td>\n",
       "      <td>NaN</td>\n",
       "      <td>NaN</td>\n",
       "      <td>NaN</td>\n",
       "      <td>NaN</td>\n",
       "      <td>NaN</td>\n",
       "      <td>NaN</td>\n",
       "      <td>NaN</td>\n",
       "      <td>NaN</td>\n",
       "      <td>NaN</td>\n",
       "      <td>NaN</td>\n",
       "      <td>NaN</td>\n",
       "      <td>NaN</td>\n",
       "      <td>NaN</td>\n",
       "      <td>NaN</td>\n",
       "      <td>NaN</td>\n",
       "      <td>0</td>\n",
       "      <td>NaN</td>\n",
       "      <td>0</td>\n",
       "      <td>NaN</td>\n",
       "      <td>0</td>\n",
       "      <td>NaN</td>\n",
       "      <td>NaN</td>\n",
       "      <td>NaN</td>\n",
       "      <td>NaN</td>\n",
       "      <td>0</td>\n",
       "      <td>NaN</td>\n",
       "      <td>0</td>\n",
       "      <td>NaN</td>\n",
       "      <td>0</td>\n",
       "      <td>C</td>\n",
       "      <td>1</td>\n",
       "      <td>U</td>\n",
       "      <td>U</td>\n",
       "      <td>U</td>\n",
       "      <td>U</td>\n",
       "      <td>U</td>\n",
       "    </tr>\n",
       "    <tr>\n",
       "      <th>4</th>\n",
       "      <td>2521</td>\n",
       "      <td>CT</td>\n",
       "      <td>15.0</td>\n",
       "      <td>15.0</td>\n",
       "      <td>5.0</td>\n",
       "      <td>5.0</td>\n",
       "      <td>6.0</td>\n",
       "      <td>1.0</td>\n",
       "      <td>1.0</td>\n",
       "      <td>NaN</td>\n",
       "      <td>4.0</td>\n",
       "      <td>NaN</td>\n",
       "      <td>NaN</td>\n",
       "      <td>NaN</td>\n",
       "      <td>B</td>\n",
       "      <td>C</td>\n",
       "      <td>D</td>\n",
       "      <td>E</td>\n",
       "      <td>Y</td>\n",
       "      <td>Y</td>\n",
       "      <td>NaN</td>\n",
       "      <td>NaN</td>\n",
       "      <td>53.0</td>\n",
       "      <td>43.0</td>\n",
       "      <td>84.0</td>\n",
       "      <td>9.0</td>\n",
       "      <td>7.0</td>\n",
       "      <td>NaN</td>\n",
       "      <td>NaN</td>\n",
       "      <td>NaN</td>\n",
       "      <td>NaN</td>\n",
       "      <td>NaN</td>\n",
       "      <td>NaN</td>\n",
       "      <td>NaN</td>\n",
       "      <td>NaN</td>\n",
       "      <td>NaN</td>\n",
       "      <td>NaN</td>\n",
       "      <td>NaN</td>\n",
       "      <td>NaN</td>\n",
       "      <td>NaN</td>\n",
       "      <td>501.0</td>\n",
       "      <td>NaN</td>\n",
       "      <td>G</td>\n",
       "      <td>H</td>\n",
       "      <td>M</td>\n",
       "      <td>M</td>\n",
       "      <td>NaN</td>\n",
       "      <td>M</td>\n",
       "      <td>200506.0</td>\n",
       "      <td>M</td>\n",
       "      <td>NaN</td>\n",
       "      <td>0.0</td>\n",
       "      <td>0.0</td>\n",
       "      <td>B</td>\n",
       "      <td>D</td>\n",
       "      <td>1</td>\n",
       "      <td>C</td>\n",
       "      <td>0</td>\n",
       "      <td>NaN</td>\n",
       "      <td>1</td>\n",
       "      <td>C</td>\n",
       "      <td>NaN</td>\n",
       "      <td>E</td>\n",
       "      <td>NaN</td>\n",
       "      <td>0</td>\n",
       "      <td>NaN</td>\n",
       "      <td>0</td>\n",
       "      <td>NaN</td>\n",
       "      <td>0</td>\n",
       "      <td>NaN</td>\n",
       "      <td>0</td>\n",
       "      <td>M</td>\n",
       "      <td>O</td>\n",
       "      <td>S</td>\n",
       "      <td>F</td>\n",
       "      <td>D</td>\n",
       "    </tr>\n",
       "  </tbody>\n",
       "</table>\n",
       "</div>"
      ],
      "text/plain": [
       "   dataright_seq State_99039  Len_of_Residence_90300  Length_of_Residnce_U324061  Num_Adults_HH_90306  Num_Adults_in_HH_U324071  Num_Persons_in_HH_U324072  Num_Child_in_HH_90307  Number_Children_U324074  Child_Pres_0002_Yrs_U324075  Child_Pres_0305_Yrs_U324076  Child_Pres_0610_Yrs_U324077  Child_Pres_1115_Yrs_U324078  Child_Pres_1618_Yrs_U324079 Race_Code_90308 Est_HH_Income_90309 Home_Market_Value_90310 Networth_90312 Mail_Order_Byr_90315 Mail_Order_Resp_90316 Occ_1st_Indv_90317  Edu_1st_Indv_90318  Cen10_Med_HH_Inc_U324028  Cen10_MedHH_EffInc_U324039  Cen10_SocioEcon_Scr_U324046  ZIP_Income_Decile_U324066  Dual_Income_Indx_3_U324067 Srvy_Mail_Ord_Books_U324254 Srvy_MO_BooksMags_U324255 Srvy_MO_Child_Prod_U324256 Srvy_Mail_Ord_Clthg_U324257 Srvy_MailOrd_Cosmtc_U324258 Srvy_MO_Food_Prod_U324259 Srvy_MailOrderGifts_U324260 Srvy_MailOrd_HmeFrn_U324261 Srvy_Mail_Order_Mag_U324262 Srvy_MailOrderOther_U324263 Srvy_MailOrdr_Jewel_U324264 Srvy_Mail_Ord_PlsSz_U324265 Srvy_Mail_Order_DVD_U324266  Designated_Mkt_Area_U324014 Race_U324058 Est_HH_Income_3_U324064 Net_Worth_3_U324065 Mail_Order_Respnder_U324068 Mail_Order_Byr_U324069 Indv_Occ_U324081 Bank_Card_U324099  Bank_Card_New_IssDt_U324098 Ret_Card_U324100  Byr_Ret_Last_OrdDt_U324480  Byr_Ret_Orders_U324481  Byr_Ret_Dollars_U324482 Est_HH_Debt_Level_U324161 Est_HH_Invest_Asset_U324162  wc_bought_any wc_num_items  wc_big_ticket_bought_any wc_big_ticket_num_items  wc_low_ticket_bought_any wc_low_ticket_num_items wc_big_ticket_amt_spent wc_low_ticket_amt_spent client_times_shopped_30_days  client_shopped_3_mos comp1_times_shopped_30_days  comp1_shopped_3_mos comp2_times_shopped_30_days  comp2_shopped_3_mos comp3_times_shopped_30_days  comp3_shopped_3_mos Marital_Status Homeowner_Status Dwelling_Type Gender Age\n",
       "0           2517          CT                     NaN                         NaN                  5.0                       5.0                        5.0                    NaN                      0.0                          NaN                          NaN                          NaN                          NaN                          NaN               B                   D                       E              E                    Y                     Y                NaN                 NaN                      53.0                        43.0                         84.0                        9.0                         6.0                         NaN                       NaN                        NaN                         NaN                         NaN                       NaN                         NaN                         NaN                         NaN                         NaN                         NaN                         NaN                         NaN                        501.0          NaN                       H                   G                           M                      M              NaN               NaN                          NaN              NaN                      1610.0                     1.0                     80.0                         C                           C              0          NaN                         0                     NaN                         0                     NaN                     NaN                     NaN                          NaN                     0                         NaN                    0                         NaN                    0                         NaN                    0              M                O             S      M   A\n",
       "1           2518          CT                     1.0                         1.0                  NaN                       NaN                        NaN                    NaN                      0.0                          NaN                          4.0                          NaN                          NaN                          NaN               H                   B                       A              A                  NaN                   NaN                NaN                 NaN                      53.0                        43.0                         84.0                        5.0                         9.0                         NaN                       NaN                        NaN                         NaN                         NaN                       NaN                         NaN                         NaN                         NaN                         NaN                         NaN                         NaN                         NaN                        501.0          NaN                       D                   A                         NaN                    NaN              NaN               NaN                          NaN                Y                         NaN                     0.0                      0.0                         B                           B              1            C                         1                       B                         1                       C                       B                       F                          NaN                     0                         NaN                    0                         NaN                    0                         NaN                    0              S                U             S      F   D\n",
       "2           2519          CT                    15.0                        15.0                  1.0                       1.0                        1.0                    NaN                      0.0                          NaN                          NaN                          NaN                          NaN                          NaN               W                   B                       A              A                    Y                     Y                  B                 NaN                      53.0                        43.0                         84.0                        4.0                         9.0                           Y                         Y                        NaN                         NaN                         NaN                       NaN                         NaN                         NaN                         NaN                         NaN                         NaN                         NaN                           Y                        501.0            B                       C                   A                           M                      M             A264                 M                          NaN                M                         NaN                     0.0                      0.0                         F                           A              1            B                         0                     NaN                         1                       B                     NaN                       A                          NaN                     0                         NaN                    0                         NaN                    0                         NaN                    0              S                R             M      F   D\n",
       "3           2520         NaN                     NaN                         NaN                  NaN                       NaN                        NaN                    NaN                      NaN                          NaN                          NaN                          NaN                          NaN                          NaN             NaN                 NaN                     NaN            NaN                  NaN                   NaN                NaN                 NaN                       NaN                         NaN                          NaN                        NaN                         NaN                         NaN                       NaN                        NaN                         NaN                         NaN                       NaN                         NaN                         NaN                         NaN                         NaN                         NaN                         NaN                         NaN                          NaN          NaN                     NaN                 NaN                         NaN                    NaN              NaN               NaN                          NaN              NaN                         NaN                     NaN                      NaN                       NaN                         NaN              0          NaN                         0                     NaN                         0                     NaN                     NaN                     NaN                          NaN                     0                         NaN                    0                         NaN                    0                           C                    1              U                U             U      U   U\n",
       "4           2521          CT                    15.0                        15.0                  5.0                       5.0                        6.0                    1.0                      1.0                          NaN                          4.0                          NaN                          NaN                          NaN               B                   C                       D              E                    Y                     Y                NaN                 NaN                      53.0                        43.0                         84.0                        9.0                         7.0                         NaN                       NaN                        NaN                         NaN                         NaN                       NaN                         NaN                         NaN                         NaN                         NaN                         NaN                         NaN                         NaN                        501.0          NaN                       G                   H                           M                      M              NaN                 M                     200506.0                M                         NaN                     0.0                      0.0                         B                           D              1            C                         0                     NaN                         1                       C                     NaN                       E                          NaN                     0                         NaN                    0                         NaN                    0                         NaN                    0              M                O             S      F   D"
      ]
     },
     "execution_count": 78,
     "metadata": {},
     "output_type": "execute_result"
    }
   ],
   "source": [
    "interested_dataset.head()"
   ]
  },
  {
   "cell_type": "markdown",
   "metadata": {},
   "source": [
    "### Focusing on Number of Adults"
   ]
  },
  {
   "cell_type": "code",
   "execution_count": 79,
   "metadata": {
    "collapsed": true
   },
   "outputs": [],
   "source": [
    "interested_dataset['Num_Adults_HH_90306'] = interested_dataset['Num_Adults_HH_90306'].fillna('U')"
   ]
  },
  {
   "cell_type": "code",
   "execution_count": 80,
   "metadata": {
    "collapsed": true
   },
   "outputs": [],
   "source": [
    "interested_dataset['Num_Adults_in_HH_U324071'] = interested_dataset['Num_Adults_in_HH_U324071'].fillna('U')"
   ]
  },
  {
   "cell_type": "code",
   "execution_count": 81,
   "metadata": {},
   "outputs": [
    {
     "data": {
      "text/plain": [
       "U      17608\n",
       "2.0    11927\n",
       "1.0    11205\n",
       "3.0     4966\n",
       "4.0     2111\n",
       "5.0      630\n",
       "6.0      161\n",
       "7.0       30\n",
       "8.0        7\n",
       "9.0        1\n",
       "Name: Num_Adults_in_HH_U324071, dtype: int64"
      ]
     },
     "execution_count": 81,
     "metadata": {},
     "output_type": "execute_result"
    }
   ],
   "source": [
    "interested_dataset['Num_Adults_in_HH_U324071'].value_counts()"
   ]
  },
  {
   "cell_type": "code",
   "execution_count": 82,
   "metadata": {
    "collapsed": true
   },
   "outputs": [],
   "source": [
    "interested_dataset['Num_Adults'] = np.where(interested_dataset['Num_Adults_in_HH_U324071'] == 'U', interested_dataset['Num_Adults_HH_90306'], interested_dataset['Num_Adults_in_HH_U324071'])"
   ]
  },
  {
   "cell_type": "code",
   "execution_count": 83,
   "metadata": {},
   "outputs": [
    {
     "data": {
      "text/plain": [
       "U      17608\n",
       "2.0    11927\n",
       "1.0    11205\n",
       "3.0     4966\n",
       "4.0     2111\n",
       "5.0      630\n",
       "6.0      161\n",
       "7.0       30\n",
       "8.0        7\n",
       "9.0        1\n",
       "Name: Num_Adults, dtype: int64"
      ]
     },
     "execution_count": 83,
     "metadata": {},
     "output_type": "execute_result"
    }
   ],
   "source": [
    "interested_dataset['Num_Adults'].value_counts()"
   ]
  },
  {
   "cell_type": "code",
   "execution_count": 84,
   "metadata": {
    "collapsed": true
   },
   "outputs": [],
   "source": [
    "interested_dataset = interested_dataset.drop(['Num_Adults_in_HH_U324071', 'Num_Adults_HH_90306', 'Num_Persons_in_HH_U324072'], axis = 1)"
   ]
  },
  {
   "cell_type": "code",
   "execution_count": 85,
   "metadata": {
    "collapsed": true
   },
   "outputs": [],
   "source": [
    "result1 = interested_dataset[(interested_dataset['Marital_Status'] != 'U') & (interested_dataset['Num_Adults'] == 'U')]"
   ]
  },
  {
   "cell_type": "code",
   "execution_count": 86,
   "metadata": {},
   "outputs": [
    {
     "data": {
      "text/plain": [
       "(4928, 74)"
      ]
     },
     "execution_count": 86,
     "metadata": {},
     "output_type": "execute_result"
    }
   ],
   "source": [
    "result1.shape"
   ]
  },
  {
   "cell_type": "code",
   "execution_count": 87,
   "metadata": {},
   "outputs": [
    {
     "name": "stderr",
     "output_type": "stream",
     "text": [
      "/Users/Weiyang/anaconda3/lib/python3.6/site-packages/ipykernel_launcher.py:11: SettingWithCopyWarning: \n",
      "A value is trying to be set on a copy of a slice from a DataFrame\n",
      "\n",
      "See the caveats in the documentation: http://pandas.pydata.org/pandas-docs/stable/indexing.html#indexing-view-versus-copy\n",
      "  # This is added back by InteractiveShellApp.init_path()\n"
     ]
    }
   ],
   "source": [
    "for i in range(len(dataset)):\n",
    "    \n",
    "    if interested_dataset['Marital_Status'][i] != 'U' and interested_dataset['Num_Adults'][i] == 'U':\n",
    "        \n",
    "        if interested_dataset['Marital_Status'][i] == 'M':\n",
    "            \n",
    "            interested_dataset['Num_Adults'][i] = 2.0\n",
    "            \n",
    "        else:\n",
    "            \n",
    "            interested_dataset['Num_Adults'][i] = 1.0"
   ]
  },
  {
   "cell_type": "code",
   "execution_count": 88,
   "metadata": {},
   "outputs": [
    {
     "data": {
      "text/plain": [
       "1.0    16133\n",
       "U      12680\n",
       "2.0    11927\n",
       "3.0     4966\n",
       "4.0     2111\n",
       "5.0      630\n",
       "6.0      161\n",
       "7.0       30\n",
       "8.0        7\n",
       "9.0        1\n",
       "Name: Num_Adults, dtype: int64"
      ]
     },
     "execution_count": 88,
     "metadata": {},
     "output_type": "execute_result"
    }
   ],
   "source": [
    "interested_dataset['Num_Adults'].value_counts()"
   ]
  },
  {
   "cell_type": "markdown",
   "metadata": {},
   "source": [
    "### Focusing on Number of Children"
   ]
  },
  {
   "cell_type": "code",
   "execution_count": 89,
   "metadata": {
    "collapsed": true
   },
   "outputs": [],
   "source": [
    "interested_dataset['Number_Children_U324074'] = interested_dataset['Number_Children_U324074'].fillna('U')"
   ]
  },
  {
   "cell_type": "code",
   "execution_count": 90,
   "metadata": {
    "collapsed": true
   },
   "outputs": [],
   "source": [
    "interested_dataset['Num_Child_in_HH_90307'] = interested_dataset['Num_Child_in_HH_90307'].fillna('U')"
   ]
  },
  {
   "cell_type": "code",
   "execution_count": 91,
   "metadata": {
    "collapsed": true
   },
   "outputs": [],
   "source": [
    "interested_dataset['Num_Children'] = np.where(interested_dataset['Number_Children_U324074'] == \"U\", interested_dataset['Num_Child_in_HH_90307'], interested_dataset['Number_Children_U324074'])"
   ]
  },
  {
   "cell_type": "code",
   "execution_count": 92,
   "metadata": {
    "collapsed": true
   },
   "outputs": [],
   "source": [
    "interested_dataset = interested_dataset.drop(['Num_Child_in_HH_90307', 'Number_Children_U324074'], axis = 1)"
   ]
  },
  {
   "cell_type": "markdown",
   "metadata": {},
   "source": [
    "### Creating Binary Variables for Survey - Children"
   ]
  },
  {
   "cell_type": "code",
   "execution_count": 93,
   "metadata": {
    "collapsed": true
   },
   "outputs": [],
   "source": [
    "interested_dataset['Child_Pres_0002_Yrs_U324075'] = interested_dataset['Child_Pres_0002_Yrs_U324075'].fillna(0)\n",
    "interested_dataset['Child_0_2'] = np.where(interested_dataset['Child_Pres_0002_Yrs_U324075'] == 0, interested_dataset['Child_Pres_0002_Yrs_U324075'], 1)\n",
    "interested_dataset = interested_dataset.drop(['Child_Pres_0002_Yrs_U324075'], axis = 1)"
   ]
  },
  {
   "cell_type": "code",
   "execution_count": 94,
   "metadata": {
    "collapsed": true
   },
   "outputs": [],
   "source": [
    "interested_dataset['Child_Pres_0305_Yrs_U324076'] = interested_dataset['Child_Pres_0305_Yrs_U324076'].fillna(0)\n",
    "interested_dataset['Child_3_5'] = np.where(interested_dataset['Child_Pres_0305_Yrs_U324076'] == 0, interested_dataset['Child_Pres_0305_Yrs_U324076'], 1)\n",
    "interested_dataset = interested_dataset.drop(['Child_Pres_0305_Yrs_U324076'], axis = 1)"
   ]
  },
  {
   "cell_type": "code",
   "execution_count": 95,
   "metadata": {
    "collapsed": true
   },
   "outputs": [],
   "source": [
    "interested_dataset['Child_Pres_0610_Yrs_U324077'] = interested_dataset['Child_Pres_0610_Yrs_U324077'].fillna(0)\n",
    "interested_dataset['Child_6_10'] = np.where(interested_dataset['Child_Pres_0610_Yrs_U324077'] == 0, interested_dataset['Child_Pres_0610_Yrs_U324077'], 1)\n",
    "interested_dataset = interested_dataset.drop(['Child_Pres_0610_Yrs_U324077'], axis = 1)"
   ]
  },
  {
   "cell_type": "code",
   "execution_count": 96,
   "metadata": {
    "collapsed": true
   },
   "outputs": [],
   "source": [
    "interested_dataset['Child_Pres_1115_Yrs_U324078'] = interested_dataset['Child_Pres_1115_Yrs_U324078'].fillna(0)\n",
    "interested_dataset['Child_11_15'] = np.where(interested_dataset['Child_Pres_1115_Yrs_U324078'] == 0, interested_dataset['Child_Pres_1115_Yrs_U324078'], 1)\n",
    "interested_dataset = interested_dataset.drop(['Child_Pres_1115_Yrs_U324078'], axis = 1)"
   ]
  },
  {
   "cell_type": "code",
   "execution_count": 97,
   "metadata": {
    "collapsed": true
   },
   "outputs": [],
   "source": [
    "interested_dataset['Child_Pres_1618_Yrs_U324079'] = interested_dataset['Child_Pres_1618_Yrs_U324079'].fillna(0)\n",
    "interested_dataset['Child_16_18'] = np.where(interested_dataset['Child_Pres_1618_Yrs_U324079'] == 0, interested_dataset['Child_Pres_1618_Yrs_U324079'], 1)\n",
    "interested_dataset = interested_dataset.drop(['Child_Pres_1618_Yrs_U324079'], axis = 1)"
   ]
  },
  {
   "cell_type": "markdown",
   "metadata": {},
   "source": [
    "### Focusing on Race"
   ]
  },
  {
   "cell_type": "code",
   "execution_count": 98,
   "metadata": {
    "collapsed": true
   },
   "outputs": [],
   "source": [
    "interested_dataset['Race_Code_90308'] = interested_dataset['Race_Code_90308'].fillna('U')"
   ]
  },
  {
   "cell_type": "code",
   "execution_count": 99,
   "metadata": {},
   "outputs": [
    {
     "data": {
      "text/plain": [
       "W    26228\n",
       "U    13519\n",
       "H     3897\n",
       "B     3512\n",
       "A     1490\n",
       "Name: Race_Code_90308, dtype: int64"
      ]
     },
     "execution_count": 99,
     "metadata": {},
     "output_type": "execute_result"
    }
   ],
   "source": [
    "interested_dataset['Race_Code_90308'].value_counts()"
   ]
  },
  {
   "cell_type": "code",
   "execution_count": 100,
   "metadata": {
    "collapsed": true
   },
   "outputs": [],
   "source": [
    "interested_dataset['Race_U324058'] = interested_dataset['Race_U324058'].fillna('U')"
   ]
  },
  {
   "cell_type": "code",
   "execution_count": 101,
   "metadata": {},
   "outputs": [
    {
     "data": {
      "text/plain": [
       "U    38791\n",
       "W     4251\n",
       "H     2880\n",
       "J     1102\n",
       "B      983\n",
       "P      503\n",
       "A      116\n",
       "N       16\n",
       "C        4\n",
       "Name: Race_U324058, dtype: int64"
      ]
     },
     "execution_count": 101,
     "metadata": {},
     "output_type": "execute_result"
    }
   ],
   "source": [
    "interested_dataset['Race_U324058'].value_counts()"
   ]
  },
  {
   "cell_type": "code",
   "execution_count": 102,
   "metadata": {
    "collapsed": true
   },
   "outputs": [],
   "source": [
    "interested_dataset['Race'] = np.where(interested_dataset['Race_Code_90308'] == 'U', interested_dataset['Race_U324058'], interested_dataset['Race_Code_90308'])"
   ]
  },
  {
   "cell_type": "code",
   "execution_count": 103,
   "metadata": {},
   "outputs": [
    {
     "data": {
      "text/plain": [
       "W    26311\n",
       "U    13422\n",
       "H     3901\n",
       "B     3519\n",
       "A     1491\n",
       "J        2\n",
       "Name: Race, dtype: int64"
      ]
     },
     "execution_count": 103,
     "metadata": {},
     "output_type": "execute_result"
    }
   ],
   "source": [
    "interested_dataset['Race'].value_counts()"
   ]
  },
  {
   "cell_type": "code",
   "execution_count": 104,
   "metadata": {
    "collapsed": true
   },
   "outputs": [],
   "source": [
    "interested_dataset['Race'] = interested_dataset['Race'].replace('J', 'W')"
   ]
  },
  {
   "cell_type": "code",
   "execution_count": 105,
   "metadata": {
    "collapsed": true
   },
   "outputs": [],
   "source": [
    "interested_dataset = interested_dataset.drop(['Race_Code_90308', 'Race_U324058'], axis = 1)"
   ]
  },
  {
   "cell_type": "markdown",
   "metadata": {},
   "source": [
    "### Focusing on Household Income"
   ]
  },
  {
   "cell_type": "code",
   "execution_count": 106,
   "metadata": {
    "collapsed": true
   },
   "outputs": [],
   "source": [
    "interested_dataset['Est_HH_Income_90309'] = interested_dataset['Est_HH_Income_90309'].fillna('U')"
   ]
  },
  {
   "cell_type": "code",
   "execution_count": 107,
   "metadata": {},
   "outputs": [
    {
     "data": {
      "text/plain": [
       "U    12680\n",
       "E     7328\n",
       "B     6897\n",
       "C     6421\n",
       "D     5707\n",
       "F     3420\n",
       "H     2148\n",
       "A     2144\n",
       "G     1901\n",
       "Name: Est_HH_Income_90309, dtype: int64"
      ]
     },
     "execution_count": 107,
     "metadata": {},
     "output_type": "execute_result"
    }
   ],
   "source": [
    "interested_dataset['Est_HH_Income_90309'].value_counts()"
   ]
  },
  {
   "cell_type": "code",
   "execution_count": 108,
   "metadata": {
    "collapsed": true
   },
   "outputs": [],
   "source": [
    "new_list = []\n",
    "\n",
    "for row in interested_dataset['Est_HH_Income_3_U324064']:\n",
    "    \n",
    "    if row == 'A':\n",
    "        new_list.append('A')\n",
    "        \n",
    "    elif row == 'B':\n",
    "        new_list.append('B')\n",
    "        \n",
    "    elif row == 'C':\n",
    "        new_list.append('B')\n",
    "        \n",
    "    elif row == 'D':\n",
    "        new_list.append('B')\n",
    "        \n",
    "    elif row == 'E':\n",
    "        new_list.append('B')\n",
    "        \n",
    "    elif row == 'F':\n",
    "        new_list.append('C')\n",
    "        \n",
    "    elif row == 'G':\n",
    "        new_list.append('C')\n",
    "        \n",
    "    elif row == 'H':\n",
    "        new_list.append('D')\n",
    "        \n",
    "    elif row == 'I':\n",
    "        new_list.append('E')\n",
    "\n",
    "    elif row == 'J':\n",
    "        new_list.append('E')\n",
    "        \n",
    "    elif row == 'K':\n",
    "        new_list.append('F')\n",
    "        \n",
    "    elif row == 'L':\n",
    "        new_list.append('G')\n",
    "        \n",
    "    elif row == 'M':\n",
    "        new_list.append('H')\n",
    "\n",
    "    elif row == 'N':\n",
    "        new_list.append('H')\n",
    "        \n",
    "    elif row == 'O':\n",
    "        new_list.append('H')\n",
    "        \n",
    "    else:\n",
    "        new_list.append('U')"
   ]
  },
  {
   "cell_type": "code",
   "execution_count": 109,
   "metadata": {
    "collapsed": true
   },
   "outputs": [],
   "source": [
    "new_list = pd.DataFrame(new_list, columns = ['Est_Income'])"
   ]
  },
  {
   "cell_type": "code",
   "execution_count": 110,
   "metadata": {
    "collapsed": true
   },
   "outputs": [],
   "source": [
    "interested_dataset = pd.concat([new_list, interested_dataset], axis = 1)"
   ]
  },
  {
   "cell_type": "code",
   "execution_count": 111,
   "metadata": {
    "collapsed": true
   },
   "outputs": [],
   "source": [
    "interested_dataset['HH_Income'] = np.where(interested_dataset['Est_HH_Income_90309'] == 'U', interested_dataset['Est_Income'], interested_dataset['Est_HH_Income_90309'])"
   ]
  },
  {
   "cell_type": "code",
   "execution_count": 112,
   "metadata": {
    "collapsed": true
   },
   "outputs": [],
   "source": [
    "interested_dataset = interested_dataset.drop(['Est_Income', 'Est_HH_Income_90309', 'Est_HH_Income_3_U324064'], axis = 1)"
   ]
  },
  {
   "cell_type": "code",
   "execution_count": 113,
   "metadata": {},
   "outputs": [
    {
     "data": {
      "text/html": [
       "<div>\n",
       "<style>\n",
       "    .dataframe thead tr:only-child th {\n",
       "        text-align: right;\n",
       "    }\n",
       "\n",
       "    .dataframe thead th {\n",
       "        text-align: left;\n",
       "    }\n",
       "\n",
       "    .dataframe tbody tr th {\n",
       "        vertical-align: top;\n",
       "    }\n",
       "</style>\n",
       "<table border=\"1\" class=\"dataframe\">\n",
       "  <thead>\n",
       "    <tr style=\"text-align: right;\">\n",
       "      <th></th>\n",
       "      <th>dataright_seq</th>\n",
       "      <th>State_99039</th>\n",
       "      <th>Len_of_Residence_90300</th>\n",
       "      <th>Length_of_Residnce_U324061</th>\n",
       "      <th>Home_Market_Value_90310</th>\n",
       "      <th>Networth_90312</th>\n",
       "      <th>Mail_Order_Byr_90315</th>\n",
       "      <th>Mail_Order_Resp_90316</th>\n",
       "      <th>Occ_1st_Indv_90317</th>\n",
       "      <th>Edu_1st_Indv_90318</th>\n",
       "      <th>Cen10_Med_HH_Inc_U324028</th>\n",
       "      <th>Cen10_MedHH_EffInc_U324039</th>\n",
       "      <th>Cen10_SocioEcon_Scr_U324046</th>\n",
       "      <th>ZIP_Income_Decile_U324066</th>\n",
       "      <th>Dual_Income_Indx_3_U324067</th>\n",
       "      <th>Srvy_Mail_Ord_Books_U324254</th>\n",
       "      <th>Srvy_MO_BooksMags_U324255</th>\n",
       "      <th>Srvy_MO_Child_Prod_U324256</th>\n",
       "      <th>Srvy_Mail_Ord_Clthg_U324257</th>\n",
       "      <th>Srvy_MailOrd_Cosmtc_U324258</th>\n",
       "      <th>Srvy_MO_Food_Prod_U324259</th>\n",
       "      <th>Srvy_MailOrderGifts_U324260</th>\n",
       "      <th>Srvy_MailOrd_HmeFrn_U324261</th>\n",
       "      <th>Srvy_Mail_Order_Mag_U324262</th>\n",
       "      <th>Srvy_MailOrderOther_U324263</th>\n",
       "      <th>Srvy_MailOrdr_Jewel_U324264</th>\n",
       "      <th>Srvy_Mail_Ord_PlsSz_U324265</th>\n",
       "      <th>Srvy_Mail_Order_DVD_U324266</th>\n",
       "      <th>Designated_Mkt_Area_U324014</th>\n",
       "      <th>Net_Worth_3_U324065</th>\n",
       "      <th>Mail_Order_Respnder_U324068</th>\n",
       "      <th>Mail_Order_Byr_U324069</th>\n",
       "      <th>Indv_Occ_U324081</th>\n",
       "      <th>Bank_Card_U324099</th>\n",
       "      <th>Bank_Card_New_IssDt_U324098</th>\n",
       "      <th>Ret_Card_U324100</th>\n",
       "      <th>Byr_Ret_Last_OrdDt_U324480</th>\n",
       "      <th>Byr_Ret_Orders_U324481</th>\n",
       "      <th>Byr_Ret_Dollars_U324482</th>\n",
       "      <th>Est_HH_Debt_Level_U324161</th>\n",
       "      <th>Est_HH_Invest_Asset_U324162</th>\n",
       "      <th>wc_bought_any</th>\n",
       "      <th>wc_num_items</th>\n",
       "      <th>wc_big_ticket_bought_any</th>\n",
       "      <th>wc_big_ticket_num_items</th>\n",
       "      <th>wc_low_ticket_bought_any</th>\n",
       "      <th>wc_low_ticket_num_items</th>\n",
       "      <th>wc_big_ticket_amt_spent</th>\n",
       "      <th>wc_low_ticket_amt_spent</th>\n",
       "      <th>client_times_shopped_30_days</th>\n",
       "      <th>client_shopped_3_mos</th>\n",
       "      <th>comp1_times_shopped_30_days</th>\n",
       "      <th>comp1_shopped_3_mos</th>\n",
       "      <th>comp2_times_shopped_30_days</th>\n",
       "      <th>comp2_shopped_3_mos</th>\n",
       "      <th>comp3_times_shopped_30_days</th>\n",
       "      <th>comp3_shopped_3_mos</th>\n",
       "      <th>Marital_Status</th>\n",
       "      <th>Homeowner_Status</th>\n",
       "      <th>Dwelling_Type</th>\n",
       "      <th>Gender</th>\n",
       "      <th>Age</th>\n",
       "      <th>Num_Adults</th>\n",
       "      <th>Num_Children</th>\n",
       "      <th>Child_0_2</th>\n",
       "      <th>Child_3_5</th>\n",
       "      <th>Child_6_10</th>\n",
       "      <th>Child_11_15</th>\n",
       "      <th>Child_16_18</th>\n",
       "      <th>Race</th>\n",
       "      <th>HH_Income</th>\n",
       "    </tr>\n",
       "  </thead>\n",
       "  <tbody>\n",
       "    <tr>\n",
       "      <th>0</th>\n",
       "      <td>2517</td>\n",
       "      <td>CT</td>\n",
       "      <td>NaN</td>\n",
       "      <td>NaN</td>\n",
       "      <td>E</td>\n",
       "      <td>E</td>\n",
       "      <td>Y</td>\n",
       "      <td>Y</td>\n",
       "      <td>NaN</td>\n",
       "      <td>NaN</td>\n",
       "      <td>53.0</td>\n",
       "      <td>43.0</td>\n",
       "      <td>84.0</td>\n",
       "      <td>9.0</td>\n",
       "      <td>6.0</td>\n",
       "      <td>NaN</td>\n",
       "      <td>NaN</td>\n",
       "      <td>NaN</td>\n",
       "      <td>NaN</td>\n",
       "      <td>NaN</td>\n",
       "      <td>NaN</td>\n",
       "      <td>NaN</td>\n",
       "      <td>NaN</td>\n",
       "      <td>NaN</td>\n",
       "      <td>NaN</td>\n",
       "      <td>NaN</td>\n",
       "      <td>NaN</td>\n",
       "      <td>NaN</td>\n",
       "      <td>501.0</td>\n",
       "      <td>G</td>\n",
       "      <td>M</td>\n",
       "      <td>M</td>\n",
       "      <td>NaN</td>\n",
       "      <td>NaN</td>\n",
       "      <td>NaN</td>\n",
       "      <td>NaN</td>\n",
       "      <td>1610.0</td>\n",
       "      <td>1.0</td>\n",
       "      <td>80.0</td>\n",
       "      <td>C</td>\n",
       "      <td>C</td>\n",
       "      <td>0</td>\n",
       "      <td>NaN</td>\n",
       "      <td>0</td>\n",
       "      <td>NaN</td>\n",
       "      <td>0</td>\n",
       "      <td>NaN</td>\n",
       "      <td>NaN</td>\n",
       "      <td>NaN</td>\n",
       "      <td>NaN</td>\n",
       "      <td>0</td>\n",
       "      <td>NaN</td>\n",
       "      <td>0</td>\n",
       "      <td>NaN</td>\n",
       "      <td>0</td>\n",
       "      <td>NaN</td>\n",
       "      <td>0</td>\n",
       "      <td>M</td>\n",
       "      <td>O</td>\n",
       "      <td>S</td>\n",
       "      <td>M</td>\n",
       "      <td>A</td>\n",
       "      <td>5</td>\n",
       "      <td>0</td>\n",
       "      <td>0.0</td>\n",
       "      <td>0.0</td>\n",
       "      <td>0.0</td>\n",
       "      <td>0.0</td>\n",
       "      <td>0.0</td>\n",
       "      <td>B</td>\n",
       "      <td>D</td>\n",
       "    </tr>\n",
       "    <tr>\n",
       "      <th>1</th>\n",
       "      <td>2518</td>\n",
       "      <td>CT</td>\n",
       "      <td>1.0</td>\n",
       "      <td>1.0</td>\n",
       "      <td>A</td>\n",
       "      <td>A</td>\n",
       "      <td>NaN</td>\n",
       "      <td>NaN</td>\n",
       "      <td>NaN</td>\n",
       "      <td>NaN</td>\n",
       "      <td>53.0</td>\n",
       "      <td>43.0</td>\n",
       "      <td>84.0</td>\n",
       "      <td>5.0</td>\n",
       "      <td>9.0</td>\n",
       "      <td>NaN</td>\n",
       "      <td>NaN</td>\n",
       "      <td>NaN</td>\n",
       "      <td>NaN</td>\n",
       "      <td>NaN</td>\n",
       "      <td>NaN</td>\n",
       "      <td>NaN</td>\n",
       "      <td>NaN</td>\n",
       "      <td>NaN</td>\n",
       "      <td>NaN</td>\n",
       "      <td>NaN</td>\n",
       "      <td>NaN</td>\n",
       "      <td>NaN</td>\n",
       "      <td>501.0</td>\n",
       "      <td>A</td>\n",
       "      <td>NaN</td>\n",
       "      <td>NaN</td>\n",
       "      <td>NaN</td>\n",
       "      <td>NaN</td>\n",
       "      <td>NaN</td>\n",
       "      <td>Y</td>\n",
       "      <td>NaN</td>\n",
       "      <td>0.0</td>\n",
       "      <td>0.0</td>\n",
       "      <td>B</td>\n",
       "      <td>B</td>\n",
       "      <td>1</td>\n",
       "      <td>C</td>\n",
       "      <td>1</td>\n",
       "      <td>B</td>\n",
       "      <td>1</td>\n",
       "      <td>C</td>\n",
       "      <td>B</td>\n",
       "      <td>F</td>\n",
       "      <td>NaN</td>\n",
       "      <td>0</td>\n",
       "      <td>NaN</td>\n",
       "      <td>0</td>\n",
       "      <td>NaN</td>\n",
       "      <td>0</td>\n",
       "      <td>NaN</td>\n",
       "      <td>0</td>\n",
       "      <td>S</td>\n",
       "      <td>U</td>\n",
       "      <td>S</td>\n",
       "      <td>F</td>\n",
       "      <td>D</td>\n",
       "      <td>1</td>\n",
       "      <td>0</td>\n",
       "      <td>0.0</td>\n",
       "      <td>1.0</td>\n",
       "      <td>0.0</td>\n",
       "      <td>0.0</td>\n",
       "      <td>0.0</td>\n",
       "      <td>H</td>\n",
       "      <td>B</td>\n",
       "    </tr>\n",
       "    <tr>\n",
       "      <th>2</th>\n",
       "      <td>2519</td>\n",
       "      <td>CT</td>\n",
       "      <td>15.0</td>\n",
       "      <td>15.0</td>\n",
       "      <td>A</td>\n",
       "      <td>A</td>\n",
       "      <td>Y</td>\n",
       "      <td>Y</td>\n",
       "      <td>B</td>\n",
       "      <td>NaN</td>\n",
       "      <td>53.0</td>\n",
       "      <td>43.0</td>\n",
       "      <td>84.0</td>\n",
       "      <td>4.0</td>\n",
       "      <td>9.0</td>\n",
       "      <td>Y</td>\n",
       "      <td>Y</td>\n",
       "      <td>NaN</td>\n",
       "      <td>NaN</td>\n",
       "      <td>NaN</td>\n",
       "      <td>NaN</td>\n",
       "      <td>NaN</td>\n",
       "      <td>NaN</td>\n",
       "      <td>NaN</td>\n",
       "      <td>NaN</td>\n",
       "      <td>NaN</td>\n",
       "      <td>NaN</td>\n",
       "      <td>Y</td>\n",
       "      <td>501.0</td>\n",
       "      <td>A</td>\n",
       "      <td>M</td>\n",
       "      <td>M</td>\n",
       "      <td>A264</td>\n",
       "      <td>M</td>\n",
       "      <td>NaN</td>\n",
       "      <td>M</td>\n",
       "      <td>NaN</td>\n",
       "      <td>0.0</td>\n",
       "      <td>0.0</td>\n",
       "      <td>F</td>\n",
       "      <td>A</td>\n",
       "      <td>1</td>\n",
       "      <td>B</td>\n",
       "      <td>0</td>\n",
       "      <td>NaN</td>\n",
       "      <td>1</td>\n",
       "      <td>B</td>\n",
       "      <td>NaN</td>\n",
       "      <td>A</td>\n",
       "      <td>NaN</td>\n",
       "      <td>0</td>\n",
       "      <td>NaN</td>\n",
       "      <td>0</td>\n",
       "      <td>NaN</td>\n",
       "      <td>0</td>\n",
       "      <td>NaN</td>\n",
       "      <td>0</td>\n",
       "      <td>S</td>\n",
       "      <td>R</td>\n",
       "      <td>M</td>\n",
       "      <td>F</td>\n",
       "      <td>D</td>\n",
       "      <td>1</td>\n",
       "      <td>0</td>\n",
       "      <td>0.0</td>\n",
       "      <td>0.0</td>\n",
       "      <td>0.0</td>\n",
       "      <td>0.0</td>\n",
       "      <td>0.0</td>\n",
       "      <td>W</td>\n",
       "      <td>B</td>\n",
       "    </tr>\n",
       "    <tr>\n",
       "      <th>3</th>\n",
       "      <td>2520</td>\n",
       "      <td>NaN</td>\n",
       "      <td>NaN</td>\n",
       "      <td>NaN</td>\n",
       "      <td>NaN</td>\n",
       "      <td>NaN</td>\n",
       "      <td>NaN</td>\n",
       "      <td>NaN</td>\n",
       "      <td>NaN</td>\n",
       "      <td>NaN</td>\n",
       "      <td>NaN</td>\n",
       "      <td>NaN</td>\n",
       "      <td>NaN</td>\n",
       "      <td>NaN</td>\n",
       "      <td>NaN</td>\n",
       "      <td>NaN</td>\n",
       "      <td>NaN</td>\n",
       "      <td>NaN</td>\n",
       "      <td>NaN</td>\n",
       "      <td>NaN</td>\n",
       "      <td>NaN</td>\n",
       "      <td>NaN</td>\n",
       "      <td>NaN</td>\n",
       "      <td>NaN</td>\n",
       "      <td>NaN</td>\n",
       "      <td>NaN</td>\n",
       "      <td>NaN</td>\n",
       "      <td>NaN</td>\n",
       "      <td>NaN</td>\n",
       "      <td>NaN</td>\n",
       "      <td>NaN</td>\n",
       "      <td>NaN</td>\n",
       "      <td>NaN</td>\n",
       "      <td>NaN</td>\n",
       "      <td>NaN</td>\n",
       "      <td>NaN</td>\n",
       "      <td>NaN</td>\n",
       "      <td>NaN</td>\n",
       "      <td>NaN</td>\n",
       "      <td>NaN</td>\n",
       "      <td>NaN</td>\n",
       "      <td>0</td>\n",
       "      <td>NaN</td>\n",
       "      <td>0</td>\n",
       "      <td>NaN</td>\n",
       "      <td>0</td>\n",
       "      <td>NaN</td>\n",
       "      <td>NaN</td>\n",
       "      <td>NaN</td>\n",
       "      <td>NaN</td>\n",
       "      <td>0</td>\n",
       "      <td>NaN</td>\n",
       "      <td>0</td>\n",
       "      <td>NaN</td>\n",
       "      <td>0</td>\n",
       "      <td>C</td>\n",
       "      <td>1</td>\n",
       "      <td>U</td>\n",
       "      <td>U</td>\n",
       "      <td>U</td>\n",
       "      <td>U</td>\n",
       "      <td>U</td>\n",
       "      <td>U</td>\n",
       "      <td>U</td>\n",
       "      <td>0.0</td>\n",
       "      <td>0.0</td>\n",
       "      <td>0.0</td>\n",
       "      <td>0.0</td>\n",
       "      <td>0.0</td>\n",
       "      <td>U</td>\n",
       "      <td>U</td>\n",
       "    </tr>\n",
       "    <tr>\n",
       "      <th>4</th>\n",
       "      <td>2521</td>\n",
       "      <td>CT</td>\n",
       "      <td>15.0</td>\n",
       "      <td>15.0</td>\n",
       "      <td>D</td>\n",
       "      <td>E</td>\n",
       "      <td>Y</td>\n",
       "      <td>Y</td>\n",
       "      <td>NaN</td>\n",
       "      <td>NaN</td>\n",
       "      <td>53.0</td>\n",
       "      <td>43.0</td>\n",
       "      <td>84.0</td>\n",
       "      <td>9.0</td>\n",
       "      <td>7.0</td>\n",
       "      <td>NaN</td>\n",
       "      <td>NaN</td>\n",
       "      <td>NaN</td>\n",
       "      <td>NaN</td>\n",
       "      <td>NaN</td>\n",
       "      <td>NaN</td>\n",
       "      <td>NaN</td>\n",
       "      <td>NaN</td>\n",
       "      <td>NaN</td>\n",
       "      <td>NaN</td>\n",
       "      <td>NaN</td>\n",
       "      <td>NaN</td>\n",
       "      <td>NaN</td>\n",
       "      <td>501.0</td>\n",
       "      <td>H</td>\n",
       "      <td>M</td>\n",
       "      <td>M</td>\n",
       "      <td>NaN</td>\n",
       "      <td>M</td>\n",
       "      <td>200506.0</td>\n",
       "      <td>M</td>\n",
       "      <td>NaN</td>\n",
       "      <td>0.0</td>\n",
       "      <td>0.0</td>\n",
       "      <td>B</td>\n",
       "      <td>D</td>\n",
       "      <td>1</td>\n",
       "      <td>C</td>\n",
       "      <td>0</td>\n",
       "      <td>NaN</td>\n",
       "      <td>1</td>\n",
       "      <td>C</td>\n",
       "      <td>NaN</td>\n",
       "      <td>E</td>\n",
       "      <td>NaN</td>\n",
       "      <td>0</td>\n",
       "      <td>NaN</td>\n",
       "      <td>0</td>\n",
       "      <td>NaN</td>\n",
       "      <td>0</td>\n",
       "      <td>NaN</td>\n",
       "      <td>0</td>\n",
       "      <td>M</td>\n",
       "      <td>O</td>\n",
       "      <td>S</td>\n",
       "      <td>F</td>\n",
       "      <td>D</td>\n",
       "      <td>5</td>\n",
       "      <td>1</td>\n",
       "      <td>0.0</td>\n",
       "      <td>1.0</td>\n",
       "      <td>0.0</td>\n",
       "      <td>0.0</td>\n",
       "      <td>0.0</td>\n",
       "      <td>B</td>\n",
       "      <td>C</td>\n",
       "    </tr>\n",
       "  </tbody>\n",
       "</table>\n",
       "</div>"
      ],
      "text/plain": [
       "   dataright_seq State_99039  Len_of_Residence_90300  Length_of_Residnce_U324061 Home_Market_Value_90310 Networth_90312 Mail_Order_Byr_90315 Mail_Order_Resp_90316 Occ_1st_Indv_90317  Edu_1st_Indv_90318  Cen10_Med_HH_Inc_U324028  Cen10_MedHH_EffInc_U324039  Cen10_SocioEcon_Scr_U324046  ZIP_Income_Decile_U324066  Dual_Income_Indx_3_U324067 Srvy_Mail_Ord_Books_U324254 Srvy_MO_BooksMags_U324255 Srvy_MO_Child_Prod_U324256 Srvy_Mail_Ord_Clthg_U324257 Srvy_MailOrd_Cosmtc_U324258 Srvy_MO_Food_Prod_U324259 Srvy_MailOrderGifts_U324260 Srvy_MailOrd_HmeFrn_U324261 Srvy_Mail_Order_Mag_U324262 Srvy_MailOrderOther_U324263 Srvy_MailOrdr_Jewel_U324264 Srvy_Mail_Ord_PlsSz_U324265 Srvy_Mail_Order_DVD_U324266  Designated_Mkt_Area_U324014 Net_Worth_3_U324065 Mail_Order_Respnder_U324068 Mail_Order_Byr_U324069 Indv_Occ_U324081 Bank_Card_U324099  Bank_Card_New_IssDt_U324098 Ret_Card_U324100  Byr_Ret_Last_OrdDt_U324480  Byr_Ret_Orders_U324481  Byr_Ret_Dollars_U324482 Est_HH_Debt_Level_U324161 Est_HH_Invest_Asset_U324162  wc_bought_any wc_num_items  wc_big_ticket_bought_any wc_big_ticket_num_items  wc_low_ticket_bought_any wc_low_ticket_num_items wc_big_ticket_amt_spent wc_low_ticket_amt_spent client_times_shopped_30_days  client_shopped_3_mos comp1_times_shopped_30_days  comp1_shopped_3_mos comp2_times_shopped_30_days  comp2_shopped_3_mos comp3_times_shopped_30_days  comp3_shopped_3_mos Marital_Status Homeowner_Status Dwelling_Type Gender Age Num_Adults Num_Children  Child_0_2  Child_3_5  Child_6_10  Child_11_15  Child_16_18 Race HH_Income\n",
       "0           2517          CT                     NaN                         NaN                       E              E                    Y                     Y                NaN                 NaN                      53.0                        43.0                         84.0                        9.0                         6.0                         NaN                       NaN                        NaN                         NaN                         NaN                       NaN                         NaN                         NaN                         NaN                         NaN                         NaN                         NaN                         NaN                        501.0                   G                           M                      M              NaN               NaN                          NaN              NaN                      1610.0                     1.0                     80.0                         C                           C              0          NaN                         0                     NaN                         0                     NaN                     NaN                     NaN                          NaN                     0                         NaN                    0                         NaN                    0                         NaN                    0              M                O             S      M   A          5            0        0.0        0.0         0.0          0.0          0.0    B         D\n",
       "1           2518          CT                     1.0                         1.0                       A              A                  NaN                   NaN                NaN                 NaN                      53.0                        43.0                         84.0                        5.0                         9.0                         NaN                       NaN                        NaN                         NaN                         NaN                       NaN                         NaN                         NaN                         NaN                         NaN                         NaN                         NaN                         NaN                        501.0                   A                         NaN                    NaN              NaN               NaN                          NaN                Y                         NaN                     0.0                      0.0                         B                           B              1            C                         1                       B                         1                       C                       B                       F                          NaN                     0                         NaN                    0                         NaN                    0                         NaN                    0              S                U             S      F   D          1            0        0.0        1.0         0.0          0.0          0.0    H         B\n",
       "2           2519          CT                    15.0                        15.0                       A              A                    Y                     Y                  B                 NaN                      53.0                        43.0                         84.0                        4.0                         9.0                           Y                         Y                        NaN                         NaN                         NaN                       NaN                         NaN                         NaN                         NaN                         NaN                         NaN                         NaN                           Y                        501.0                   A                           M                      M             A264                 M                          NaN                M                         NaN                     0.0                      0.0                         F                           A              1            B                         0                     NaN                         1                       B                     NaN                       A                          NaN                     0                         NaN                    0                         NaN                    0                         NaN                    0              S                R             M      F   D          1            0        0.0        0.0         0.0          0.0          0.0    W         B\n",
       "3           2520         NaN                     NaN                         NaN                     NaN            NaN                  NaN                   NaN                NaN                 NaN                       NaN                         NaN                          NaN                        NaN                         NaN                         NaN                       NaN                        NaN                         NaN                         NaN                       NaN                         NaN                         NaN                         NaN                         NaN                         NaN                         NaN                         NaN                          NaN                 NaN                         NaN                    NaN              NaN               NaN                          NaN              NaN                         NaN                     NaN                      NaN                       NaN                         NaN              0          NaN                         0                     NaN                         0                     NaN                     NaN                     NaN                          NaN                     0                         NaN                    0                         NaN                    0                           C                    1              U                U             U      U   U          U            U        0.0        0.0         0.0          0.0          0.0    U         U\n",
       "4           2521          CT                    15.0                        15.0                       D              E                    Y                     Y                NaN                 NaN                      53.0                        43.0                         84.0                        9.0                         7.0                         NaN                       NaN                        NaN                         NaN                         NaN                       NaN                         NaN                         NaN                         NaN                         NaN                         NaN                         NaN                         NaN                        501.0                   H                           M                      M              NaN                 M                     200506.0                M                         NaN                     0.0                      0.0                         B                           D              1            C                         0                     NaN                         1                       C                     NaN                       E                          NaN                     0                         NaN                    0                         NaN                    0                         NaN                    0              M                O             S      F   D          5            1        0.0        1.0         0.0          0.0          0.0    B         C"
      ]
     },
     "execution_count": 113,
     "metadata": {},
     "output_type": "execute_result"
    }
   ],
   "source": [
    "interested_dataset.head()"
   ]
  },
  {
   "cell_type": "code",
   "execution_count": 114,
   "metadata": {
    "collapsed": true
   },
   "outputs": [],
   "source": [
    "interested_dataset['Cen10_Med_HH_Inc_U324028'] = interested_dataset['Cen10_Med_HH_Inc_U324028']*1000"
   ]
  },
  {
   "cell_type": "code",
   "execution_count": 115,
   "metadata": {
    "collapsed": true
   },
   "outputs": [],
   "source": [
    "new_list = []\n",
    "\n",
    "for row in interested_dataset['Cen10_Med_HH_Inc_U324028']:\n",
    "    \n",
    "    if row < 15000.0:\n",
    "        new_list.append('A')\n",
    "        \n",
    "    elif row >= 15000.0 and row <= 49999.0:\n",
    "        new_list.append('B')\n",
    "        \n",
    "    elif row >= 50000.0 and row <= 74999.0:\n",
    "        new_list.append('C')\n",
    "        \n",
    "    elif row >= 75000.0 and row <= 99999.0:\n",
    "        new_list.append('D')\n",
    "        \n",
    "    elif row >= 100000 and row <= 149999.0:\n",
    "        new_list.append('E')\n",
    "        \n",
    "    elif row >= 150000 and row <= 199999.0:\n",
    "        new_list.append('F')\n",
    "        \n",
    "    elif row >= 200000 and row <= 249999.0:\n",
    "        new_list.append('G')\n",
    "        \n",
    "    elif row >= 250000:\n",
    "        new_list.append('H')\n",
    "        \n",
    "    else:\n",
    "        new_list.append('U')"
   ]
  },
  {
   "cell_type": "code",
   "execution_count": 116,
   "metadata": {
    "collapsed": true
   },
   "outputs": [],
   "source": [
    "new_list = pd.DataFrame(new_list, columns = ['Censor_Income'])"
   ]
  },
  {
   "cell_type": "code",
   "execution_count": 117,
   "metadata": {
    "collapsed": true
   },
   "outputs": [],
   "source": [
    "interested_dataset = pd.concat([new_list, interested_dataset], axis = 1)"
   ]
  },
  {
   "cell_type": "code",
   "execution_count": 118,
   "metadata": {
    "collapsed": true
   },
   "outputs": [],
   "source": [
    "interested_dataset['HH_Income'] = np.where(interested_dataset['HH_Income'] == 'U',interested_dataset['Censor_Income'],interested_dataset['HH_Income'])"
   ]
  },
  {
   "cell_type": "code",
   "execution_count": 119,
   "metadata": {
    "collapsed": true
   },
   "outputs": [],
   "source": [
    "interested_dataset = interested_dataset.drop(['Censor_Income', 'Cen10_Med_HH_Inc_U324028'], axis = 1)"
   ]
  },
  {
   "cell_type": "markdown",
   "metadata": {},
   "source": [
    "### Creating Effective Income based on Census Data 2010"
   ]
  },
  {
   "cell_type": "code",
   "execution_count": 120,
   "metadata": {
    "collapsed": true
   },
   "outputs": [],
   "source": [
    "interested_dataset['Cen10_MedHH_EffInc_U324039'] = interested_dataset['Cen10_MedHH_EffInc_U324039']*1000"
   ]
  },
  {
   "cell_type": "code",
   "execution_count": 121,
   "metadata": {
    "collapsed": true
   },
   "outputs": [],
   "source": [
    "new_list = []\n",
    "\n",
    "for row in interested_dataset['Cen10_MedHH_EffInc_U324039']:\n",
    "    \n",
    "    if row < 15000.0:\n",
    "        new_list.append('A')\n",
    "        \n",
    "    elif row >= 15000.0 and row <= 49999.0:\n",
    "        new_list.append('B')\n",
    "        \n",
    "    elif row >= 50000.0 and row <= 74999.0:\n",
    "        new_list.append('C')\n",
    "        \n",
    "    elif row >= 75000.0 and row <= 99999.0:\n",
    "        new_list.append('D')\n",
    "        \n",
    "    elif row >= 100000 and row <= 149999.0:\n",
    "        new_list.append('E')\n",
    "        \n",
    "    elif row >= 150000 and row <= 199999.0:\n",
    "        new_list.append('F')\n",
    "        \n",
    "    elif row >= 200000 and row <= 249999.0:\n",
    "        new_list.append('G')\n",
    "        \n",
    "    elif row >= 250000:\n",
    "        new_list.append('H')\n",
    "        \n",
    "    else:\n",
    "        new_list.append('U')"
   ]
  },
  {
   "cell_type": "code",
   "execution_count": 122,
   "metadata": {
    "collapsed": true
   },
   "outputs": [],
   "source": [
    "new_list = pd.DataFrame(new_list, columns = ['Eff_Income'])"
   ]
  },
  {
   "cell_type": "code",
   "execution_count": 123,
   "metadata": {
    "collapsed": true
   },
   "outputs": [],
   "source": [
    "interested_dataset = pd.concat([interested_dataset, new_list], axis = 1)"
   ]
  },
  {
   "cell_type": "code",
   "execution_count": 124,
   "metadata": {
    "collapsed": true
   },
   "outputs": [],
   "source": [
    "interested_dataset = interested_dataset.drop(['Cen10_MedHH_EffInc_U324039'], axis = 1)"
   ]
  },
  {
   "cell_type": "markdown",
   "metadata": {},
   "source": [
    "### Creating Social Economic Score based on Census Data 2010"
   ]
  },
  {
   "cell_type": "code",
   "execution_count": 125,
   "metadata": {},
   "outputs": [
    {
     "data": {
      "text/plain": [
       "count    35966.000000\n",
       "mean        96.694878\n",
       "std         21.845786\n",
       "min         60.000000\n",
       "25%         80.000000\n",
       "50%         93.000000\n",
       "75%        108.000000\n",
       "max        170.000000\n",
       "Name: Cen10_SocioEcon_Scr_U324046, dtype: float64"
      ]
     },
     "execution_count": 125,
     "metadata": {},
     "output_type": "execute_result"
    }
   ],
   "source": [
    "interested_dataset['Cen10_SocioEcon_Scr_U324046'].describe()"
   ]
  },
  {
   "cell_type": "code",
   "execution_count": 126,
   "metadata": {},
   "outputs": [
    {
     "data": {
      "text/plain": [
       "0.00     60.0\n",
       "0.25     80.0\n",
       "0.50     93.0\n",
       "0.75    108.0\n",
       "1.00    170.0\n",
       "Name: Cen10_SocioEcon_Scr_U324046, dtype: float64"
      ]
     },
     "execution_count": 126,
     "metadata": {},
     "output_type": "execute_result"
    }
   ],
   "source": [
    "interested_dataset.Cen10_SocioEcon_Scr_U324046.quantile([0,0.25,0.5,0.75,1])"
   ]
  },
  {
   "cell_type": "code",
   "execution_count": 127,
   "metadata": {
    "collapsed": true
   },
   "outputs": [],
   "source": [
    "new_list = []\n",
    "\n",
    "for row in interested_dataset['Cen10_SocioEcon_Scr_U324046']:\n",
    "    \n",
    "    if row >= interested_dataset.Cen10_SocioEcon_Scr_U324046.quantile(0) and row < interested_dataset.Cen10_SocioEcon_Scr_U324046.quantile(0.25):\n",
    "        new_list.append('A')\n",
    "        \n",
    "    elif row >= interested_dataset.Cen10_SocioEcon_Scr_U324046.quantile(0.25) and row < interested_dataset.Cen10_SocioEcon_Scr_U324046.quantile(0.5):\n",
    "        new_list.append('B')\n",
    "        \n",
    "    elif row >= interested_dataset.Cen10_SocioEcon_Scr_U324046.quantile(0.5) and row < interested_dataset.Cen10_SocioEcon_Scr_U324046.quantile(0.75):\n",
    "        new_list.append('C')\n",
    "        \n",
    "    elif row >= interested_dataset.Cen10_SocioEcon_Scr_U324046.quantile(0.75) and row <= interested_dataset.Cen10_SocioEcon_Scr_U324046.quantile(1):\n",
    "        new_list.append('D')\n",
    "        \n",
    "    else:\n",
    "        new_list.append('U')"
   ]
  },
  {
   "cell_type": "code",
   "execution_count": 128,
   "metadata": {
    "collapsed": true
   },
   "outputs": [],
   "source": [
    "new_list = pd.DataFrame(new_list, columns = ['Socioeconomic_Score'])"
   ]
  },
  {
   "cell_type": "code",
   "execution_count": 129,
   "metadata": {
    "collapsed": true
   },
   "outputs": [],
   "source": [
    "interested_dataset = pd.concat([interested_dataset, new_list], axis = 1)"
   ]
  },
  {
   "cell_type": "code",
   "execution_count": 130,
   "metadata": {
    "collapsed": true
   },
   "outputs": [],
   "source": [
    "interested_dataset = interested_dataset.drop(['Cen10_SocioEcon_Scr_U324046'], axis = 1)"
   ]
  },
  {
   "cell_type": "markdown",
   "metadata": {},
   "source": [
    "### Creating Zip Income based on Census Data 2010"
   ]
  },
  {
   "cell_type": "code",
   "execution_count": 131,
   "metadata": {
    "collapsed": true
   },
   "outputs": [],
   "source": [
    "interested_dataset['ZIP_Income_Decile_U324066'] = interested_dataset['ZIP_Income_Decile_U324066'].fillna('U')"
   ]
  },
  {
   "cell_type": "code",
   "execution_count": 132,
   "metadata": {
    "collapsed": true
   },
   "outputs": [],
   "source": [
    "interested_dataset['ZIP_Income_Decile_U324066'] = interested_dataset['ZIP_Income_Decile_U324066'].astype('str')"
   ]
  },
  {
   "cell_type": "code",
   "execution_count": 133,
   "metadata": {
    "collapsed": true
   },
   "outputs": [],
   "source": [
    "interested_dataset['ZIP_Income'] = interested_dataset['ZIP_Income_Decile_U324066']"
   ]
  },
  {
   "cell_type": "code",
   "execution_count": 134,
   "metadata": {
    "collapsed": true
   },
   "outputs": [],
   "source": [
    "interested_dataset = interested_dataset.drop(['ZIP_Income_Decile_U324066'], axis = 1)"
   ]
  },
  {
   "cell_type": "markdown",
   "metadata": {},
   "source": [
    "### Creating Dual Income based on Census Data 2010"
   ]
  },
  {
   "cell_type": "code",
   "execution_count": 135,
   "metadata": {},
   "outputs": [
    {
     "data": {
      "text/plain": [
       "9.0    13637\n",
       "3.0     3268\n",
       "4.0     3134\n",
       "8.0     3057\n",
       "2.0     2580\n",
       "7.0     2516\n",
       "6.0     2245\n",
       "5.0     2101\n",
       "1.0     1944\n",
       "0.0     1484\n",
       "Name: Dual_Income_Indx_3_U324067, dtype: int64"
      ]
     },
     "execution_count": 135,
     "metadata": {},
     "output_type": "execute_result"
    }
   ],
   "source": [
    "interested_dataset['Dual_Income_Indx_3_U324067'].value_counts()"
   ]
  },
  {
   "cell_type": "code",
   "execution_count": 136,
   "metadata": {
    "collapsed": true
   },
   "outputs": [],
   "source": [
    "new_list = []\n",
    "\n",
    "for row in interested_dataset['Dual_Income_Indx_3_U324067']:\n",
    "    \n",
    "    if row >= 5:\n",
    "        new_list.append('Y')\n",
    "        \n",
    "    elif row < 5:\n",
    "        new_list.append('N')\n",
    "    \n",
    "    else:\n",
    "        new_list.append('U')"
   ]
  },
  {
   "cell_type": "code",
   "execution_count": 137,
   "metadata": {
    "collapsed": true
   },
   "outputs": [],
   "source": [
    "new_list = pd.DataFrame(new_list, columns = ['Dual_Income'])"
   ]
  },
  {
   "cell_type": "code",
   "execution_count": 138,
   "metadata": {
    "collapsed": true
   },
   "outputs": [],
   "source": [
    "interested_dataset = pd.concat([interested_dataset, new_list], axis = 1)"
   ]
  },
  {
   "cell_type": "code",
   "execution_count": 139,
   "metadata": {
    "collapsed": true
   },
   "outputs": [],
   "source": [
    "interested_dataset = interested_dataset.drop(['Dual_Income_Indx_3_U324067'], axis = 1)"
   ]
  },
  {
   "cell_type": "markdown",
   "metadata": {},
   "source": [
    "### Focusing on Home Market Value "
   ]
  },
  {
   "cell_type": "code",
   "execution_count": 140,
   "metadata": {
    "collapsed": true
   },
   "outputs": [],
   "source": [
    "interested_dataset['Home_Market_Value_90310'] = interested_dataset['Home_Market_Value_90310'].fillna('U')"
   ]
  },
  {
   "cell_type": "code",
   "execution_count": 141,
   "metadata": {
    "collapsed": true
   },
   "outputs": [],
   "source": [
    "interested_dataset['Home_Market_Value'] = interested_dataset['Home_Market_Value_90310']"
   ]
  },
  {
   "cell_type": "code",
   "execution_count": 142,
   "metadata": {
    "collapsed": true
   },
   "outputs": [],
   "source": [
    "interested_dataset = interested_dataset.drop(['Home_Market_Value_90310'], axis = 1)"
   ]
  },
  {
   "cell_type": "markdown",
   "metadata": {},
   "source": [
    "### Focusing on Net Worth"
   ]
  },
  {
   "cell_type": "code",
   "execution_count": 143,
   "metadata": {},
   "outputs": [
    {
     "data": {
      "text/plain": [
       "G    6570\n",
       "E    6119\n",
       "F    6021\n",
       "A    5676\n",
       "H    4456\n",
       "D    2879\n",
       "B    2594\n",
       "C    1651\n",
       "Name: Networth_90312, dtype: int64"
      ]
     },
     "execution_count": 143,
     "metadata": {},
     "output_type": "execute_result"
    }
   ],
   "source": [
    "interested_dataset['Networth_90312'].value_counts()"
   ]
  },
  {
   "cell_type": "code",
   "execution_count": 144,
   "metadata": {
    "collapsed": true
   },
   "outputs": [],
   "source": [
    "interested_dataset['Networth_90312'] = interested_dataset['Networth_90312'].fillna('U')"
   ]
  },
  {
   "cell_type": "code",
   "execution_count": 145,
   "metadata": {
    "collapsed": true
   },
   "outputs": [],
   "source": [
    "new_list = []\n",
    "\n",
    "for row in interested_dataset['Net_Worth_3_U324065']:\n",
    "    \n",
    "    if row == 'A':\n",
    "        new_list.append('A')\n",
    "        \n",
    "    elif row == 'B':\n",
    "        new_list.append('B')\n",
    "        \n",
    "    elif row == 'C':\n",
    "        new_list.append('B')\n",
    "        \n",
    "    elif row == 'D':\n",
    "        new_list.append('C')\n",
    "        \n",
    "    elif row == 'E':\n",
    "        new_list.append('D')\n",
    "        \n",
    "    elif row == 'F':\n",
    "        new_list.append('D')\n",
    "        \n",
    "    elif row == 'G':\n",
    "        new_list.append('E')\n",
    "        \n",
    "    elif row == 'H':\n",
    "        new_list.append('E')\n",
    "        \n",
    "    elif row == 'I':\n",
    "        new_list.append('F')\n",
    "\n",
    "    elif row == 'J':\n",
    "        new_list.append('F')\n",
    "        \n",
    "    elif row == 'K':\n",
    "        new_list.append('G')\n",
    "        \n",
    "    elif row == 'L':\n",
    "        new_list.append('G')\n",
    "        \n",
    "    elif row == 'M':\n",
    "        new_list.append('H')\n",
    "        \n",
    "    else:\n",
    "        new_list.append('U')"
   ]
  },
  {
   "cell_type": "code",
   "execution_count": 146,
   "metadata": {
    "collapsed": true
   },
   "outputs": [],
   "source": [
    "new_list = pd.DataFrame(new_list, columns = ['Est_Worth'])"
   ]
  },
  {
   "cell_type": "code",
   "execution_count": 147,
   "metadata": {
    "collapsed": true
   },
   "outputs": [],
   "source": [
    "interested_dataset = pd.concat([new_list, interested_dataset], axis = 1)"
   ]
  },
  {
   "cell_type": "code",
   "execution_count": 148,
   "metadata": {
    "collapsed": true
   },
   "outputs": [],
   "source": [
    "interested_dataset['Net_Worth'] = np.where(interested_dataset['Networth_90312'] == 'U', interested_dataset['Est_Worth'], interested_dataset['Networth_90312'])"
   ]
  },
  {
   "cell_type": "code",
   "execution_count": 149,
   "metadata": {},
   "outputs": [
    {
     "data": {
      "text/plain": [
       "U    12680\n",
       "G     6570\n",
       "E     6119\n",
       "F     6021\n",
       "A     5676\n",
       "H     4456\n",
       "D     2879\n",
       "B     2594\n",
       "C     1651\n",
       "Name: Net_Worth, dtype: int64"
      ]
     },
     "execution_count": 149,
     "metadata": {},
     "output_type": "execute_result"
    }
   ],
   "source": [
    "interested_dataset['Net_Worth'].value_counts()"
   ]
  },
  {
   "cell_type": "code",
   "execution_count": 150,
   "metadata": {
    "collapsed": true
   },
   "outputs": [],
   "source": [
    "interested_dataset = interested_dataset.drop(['Est_Worth', 'Networth_90312', 'Net_Worth_3_U324065'], axis = 1)"
   ]
  },
  {
   "cell_type": "markdown",
   "metadata": {},
   "source": [
    "### Formatting Mail Order Buyers"
   ]
  },
  {
   "cell_type": "code",
   "execution_count": 151,
   "metadata": {},
   "outputs": [
    {
     "data": {
      "text/html": [
       "<div>\n",
       "<style>\n",
       "    .dataframe thead tr:only-child th {\n",
       "        text-align: right;\n",
       "    }\n",
       "\n",
       "    .dataframe thead th {\n",
       "        text-align: left;\n",
       "    }\n",
       "\n",
       "    .dataframe tbody tr th {\n",
       "        vertical-align: top;\n",
       "    }\n",
       "</style>\n",
       "<table border=\"1\" class=\"dataframe\">\n",
       "  <thead>\n",
       "    <tr style=\"text-align: right;\">\n",
       "      <th></th>\n",
       "      <th>dataright_seq</th>\n",
       "      <th>State_99039</th>\n",
       "      <th>Len_of_Residence_90300</th>\n",
       "      <th>Length_of_Residnce_U324061</th>\n",
       "      <th>Mail_Order_Byr_90315</th>\n",
       "      <th>Mail_Order_Resp_90316</th>\n",
       "      <th>Occ_1st_Indv_90317</th>\n",
       "      <th>Edu_1st_Indv_90318</th>\n",
       "      <th>Srvy_Mail_Ord_Books_U324254</th>\n",
       "      <th>Srvy_MO_BooksMags_U324255</th>\n",
       "      <th>Srvy_MO_Child_Prod_U324256</th>\n",
       "      <th>Srvy_Mail_Ord_Clthg_U324257</th>\n",
       "      <th>Srvy_MailOrd_Cosmtc_U324258</th>\n",
       "      <th>Srvy_MO_Food_Prod_U324259</th>\n",
       "      <th>Srvy_MailOrderGifts_U324260</th>\n",
       "      <th>Srvy_MailOrd_HmeFrn_U324261</th>\n",
       "      <th>Srvy_Mail_Order_Mag_U324262</th>\n",
       "      <th>Srvy_MailOrderOther_U324263</th>\n",
       "      <th>Srvy_MailOrdr_Jewel_U324264</th>\n",
       "      <th>Srvy_Mail_Ord_PlsSz_U324265</th>\n",
       "      <th>Srvy_Mail_Order_DVD_U324266</th>\n",
       "      <th>Designated_Mkt_Area_U324014</th>\n",
       "      <th>Mail_Order_Respnder_U324068</th>\n",
       "      <th>Mail_Order_Byr_U324069</th>\n",
       "      <th>Indv_Occ_U324081</th>\n",
       "      <th>Bank_Card_U324099</th>\n",
       "      <th>Bank_Card_New_IssDt_U324098</th>\n",
       "      <th>Ret_Card_U324100</th>\n",
       "      <th>Byr_Ret_Last_OrdDt_U324480</th>\n",
       "      <th>Byr_Ret_Orders_U324481</th>\n",
       "      <th>Byr_Ret_Dollars_U324482</th>\n",
       "      <th>Est_HH_Debt_Level_U324161</th>\n",
       "      <th>Est_HH_Invest_Asset_U324162</th>\n",
       "      <th>wc_bought_any</th>\n",
       "      <th>wc_num_items</th>\n",
       "      <th>wc_big_ticket_bought_any</th>\n",
       "      <th>wc_big_ticket_num_items</th>\n",
       "      <th>wc_low_ticket_bought_any</th>\n",
       "      <th>wc_low_ticket_num_items</th>\n",
       "      <th>wc_big_ticket_amt_spent</th>\n",
       "      <th>wc_low_ticket_amt_spent</th>\n",
       "      <th>client_times_shopped_30_days</th>\n",
       "      <th>client_shopped_3_mos</th>\n",
       "      <th>comp1_times_shopped_30_days</th>\n",
       "      <th>comp1_shopped_3_mos</th>\n",
       "      <th>comp2_times_shopped_30_days</th>\n",
       "      <th>comp2_shopped_3_mos</th>\n",
       "      <th>comp3_times_shopped_30_days</th>\n",
       "      <th>comp3_shopped_3_mos</th>\n",
       "      <th>Marital_Status</th>\n",
       "      <th>Homeowner_Status</th>\n",
       "      <th>Dwelling_Type</th>\n",
       "      <th>Gender</th>\n",
       "      <th>Age</th>\n",
       "      <th>Num_Adults</th>\n",
       "      <th>Num_Children</th>\n",
       "      <th>Child_0_2</th>\n",
       "      <th>Child_3_5</th>\n",
       "      <th>Child_6_10</th>\n",
       "      <th>Child_11_15</th>\n",
       "      <th>Child_16_18</th>\n",
       "      <th>Race</th>\n",
       "      <th>HH_Income</th>\n",
       "      <th>Eff_Income</th>\n",
       "      <th>Socioeconomic_Score</th>\n",
       "      <th>ZIP_Income</th>\n",
       "      <th>Dual_Income</th>\n",
       "      <th>Home_Market_Value</th>\n",
       "      <th>Net_Worth</th>\n",
       "    </tr>\n",
       "  </thead>\n",
       "  <tbody>\n",
       "    <tr>\n",
       "      <th>0</th>\n",
       "      <td>2517</td>\n",
       "      <td>CT</td>\n",
       "      <td>NaN</td>\n",
       "      <td>NaN</td>\n",
       "      <td>Y</td>\n",
       "      <td>Y</td>\n",
       "      <td>NaN</td>\n",
       "      <td>NaN</td>\n",
       "      <td>NaN</td>\n",
       "      <td>NaN</td>\n",
       "      <td>NaN</td>\n",
       "      <td>NaN</td>\n",
       "      <td>NaN</td>\n",
       "      <td>NaN</td>\n",
       "      <td>NaN</td>\n",
       "      <td>NaN</td>\n",
       "      <td>NaN</td>\n",
       "      <td>NaN</td>\n",
       "      <td>NaN</td>\n",
       "      <td>NaN</td>\n",
       "      <td>NaN</td>\n",
       "      <td>501.0</td>\n",
       "      <td>M</td>\n",
       "      <td>M</td>\n",
       "      <td>NaN</td>\n",
       "      <td>NaN</td>\n",
       "      <td>NaN</td>\n",
       "      <td>NaN</td>\n",
       "      <td>1610.0</td>\n",
       "      <td>1.0</td>\n",
       "      <td>80.0</td>\n",
       "      <td>C</td>\n",
       "      <td>C</td>\n",
       "      <td>0</td>\n",
       "      <td>NaN</td>\n",
       "      <td>0</td>\n",
       "      <td>NaN</td>\n",
       "      <td>0</td>\n",
       "      <td>NaN</td>\n",
       "      <td>NaN</td>\n",
       "      <td>NaN</td>\n",
       "      <td>NaN</td>\n",
       "      <td>0</td>\n",
       "      <td>NaN</td>\n",
       "      <td>0</td>\n",
       "      <td>NaN</td>\n",
       "      <td>0</td>\n",
       "      <td>NaN</td>\n",
       "      <td>0</td>\n",
       "      <td>M</td>\n",
       "      <td>O</td>\n",
       "      <td>S</td>\n",
       "      <td>M</td>\n",
       "      <td>A</td>\n",
       "      <td>5</td>\n",
       "      <td>0</td>\n",
       "      <td>0.0</td>\n",
       "      <td>0.0</td>\n",
       "      <td>0.0</td>\n",
       "      <td>0.0</td>\n",
       "      <td>0.0</td>\n",
       "      <td>B</td>\n",
       "      <td>D</td>\n",
       "      <td>B</td>\n",
       "      <td>B</td>\n",
       "      <td>9.0</td>\n",
       "      <td>Y</td>\n",
       "      <td>E</td>\n",
       "      <td>E</td>\n",
       "    </tr>\n",
       "    <tr>\n",
       "      <th>1</th>\n",
       "      <td>2518</td>\n",
       "      <td>CT</td>\n",
       "      <td>1.0</td>\n",
       "      <td>1.0</td>\n",
       "      <td>NaN</td>\n",
       "      <td>NaN</td>\n",
       "      <td>NaN</td>\n",
       "      <td>NaN</td>\n",
       "      <td>NaN</td>\n",
       "      <td>NaN</td>\n",
       "      <td>NaN</td>\n",
       "      <td>NaN</td>\n",
       "      <td>NaN</td>\n",
       "      <td>NaN</td>\n",
       "      <td>NaN</td>\n",
       "      <td>NaN</td>\n",
       "      <td>NaN</td>\n",
       "      <td>NaN</td>\n",
       "      <td>NaN</td>\n",
       "      <td>NaN</td>\n",
       "      <td>NaN</td>\n",
       "      <td>501.0</td>\n",
       "      <td>NaN</td>\n",
       "      <td>NaN</td>\n",
       "      <td>NaN</td>\n",
       "      <td>NaN</td>\n",
       "      <td>NaN</td>\n",
       "      <td>Y</td>\n",
       "      <td>NaN</td>\n",
       "      <td>0.0</td>\n",
       "      <td>0.0</td>\n",
       "      <td>B</td>\n",
       "      <td>B</td>\n",
       "      <td>1</td>\n",
       "      <td>C</td>\n",
       "      <td>1</td>\n",
       "      <td>B</td>\n",
       "      <td>1</td>\n",
       "      <td>C</td>\n",
       "      <td>B</td>\n",
       "      <td>F</td>\n",
       "      <td>NaN</td>\n",
       "      <td>0</td>\n",
       "      <td>NaN</td>\n",
       "      <td>0</td>\n",
       "      <td>NaN</td>\n",
       "      <td>0</td>\n",
       "      <td>NaN</td>\n",
       "      <td>0</td>\n",
       "      <td>S</td>\n",
       "      <td>U</td>\n",
       "      <td>S</td>\n",
       "      <td>F</td>\n",
       "      <td>D</td>\n",
       "      <td>1</td>\n",
       "      <td>0</td>\n",
       "      <td>0.0</td>\n",
       "      <td>1.0</td>\n",
       "      <td>0.0</td>\n",
       "      <td>0.0</td>\n",
       "      <td>0.0</td>\n",
       "      <td>H</td>\n",
       "      <td>B</td>\n",
       "      <td>B</td>\n",
       "      <td>B</td>\n",
       "      <td>5.0</td>\n",
       "      <td>Y</td>\n",
       "      <td>A</td>\n",
       "      <td>A</td>\n",
       "    </tr>\n",
       "    <tr>\n",
       "      <th>2</th>\n",
       "      <td>2519</td>\n",
       "      <td>CT</td>\n",
       "      <td>15.0</td>\n",
       "      <td>15.0</td>\n",
       "      <td>Y</td>\n",
       "      <td>Y</td>\n",
       "      <td>B</td>\n",
       "      <td>NaN</td>\n",
       "      <td>Y</td>\n",
       "      <td>Y</td>\n",
       "      <td>NaN</td>\n",
       "      <td>NaN</td>\n",
       "      <td>NaN</td>\n",
       "      <td>NaN</td>\n",
       "      <td>NaN</td>\n",
       "      <td>NaN</td>\n",
       "      <td>NaN</td>\n",
       "      <td>NaN</td>\n",
       "      <td>NaN</td>\n",
       "      <td>NaN</td>\n",
       "      <td>Y</td>\n",
       "      <td>501.0</td>\n",
       "      <td>M</td>\n",
       "      <td>M</td>\n",
       "      <td>A264</td>\n",
       "      <td>M</td>\n",
       "      <td>NaN</td>\n",
       "      <td>M</td>\n",
       "      <td>NaN</td>\n",
       "      <td>0.0</td>\n",
       "      <td>0.0</td>\n",
       "      <td>F</td>\n",
       "      <td>A</td>\n",
       "      <td>1</td>\n",
       "      <td>B</td>\n",
       "      <td>0</td>\n",
       "      <td>NaN</td>\n",
       "      <td>1</td>\n",
       "      <td>B</td>\n",
       "      <td>NaN</td>\n",
       "      <td>A</td>\n",
       "      <td>NaN</td>\n",
       "      <td>0</td>\n",
       "      <td>NaN</td>\n",
       "      <td>0</td>\n",
       "      <td>NaN</td>\n",
       "      <td>0</td>\n",
       "      <td>NaN</td>\n",
       "      <td>0</td>\n",
       "      <td>S</td>\n",
       "      <td>R</td>\n",
       "      <td>M</td>\n",
       "      <td>F</td>\n",
       "      <td>D</td>\n",
       "      <td>1</td>\n",
       "      <td>0</td>\n",
       "      <td>0.0</td>\n",
       "      <td>0.0</td>\n",
       "      <td>0.0</td>\n",
       "      <td>0.0</td>\n",
       "      <td>0.0</td>\n",
       "      <td>W</td>\n",
       "      <td>B</td>\n",
       "      <td>B</td>\n",
       "      <td>B</td>\n",
       "      <td>4.0</td>\n",
       "      <td>Y</td>\n",
       "      <td>A</td>\n",
       "      <td>A</td>\n",
       "    </tr>\n",
       "    <tr>\n",
       "      <th>3</th>\n",
       "      <td>2520</td>\n",
       "      <td>NaN</td>\n",
       "      <td>NaN</td>\n",
       "      <td>NaN</td>\n",
       "      <td>NaN</td>\n",
       "      <td>NaN</td>\n",
       "      <td>NaN</td>\n",
       "      <td>NaN</td>\n",
       "      <td>NaN</td>\n",
       "      <td>NaN</td>\n",
       "      <td>NaN</td>\n",
       "      <td>NaN</td>\n",
       "      <td>NaN</td>\n",
       "      <td>NaN</td>\n",
       "      <td>NaN</td>\n",
       "      <td>NaN</td>\n",
       "      <td>NaN</td>\n",
       "      <td>NaN</td>\n",
       "      <td>NaN</td>\n",
       "      <td>NaN</td>\n",
       "      <td>NaN</td>\n",
       "      <td>NaN</td>\n",
       "      <td>NaN</td>\n",
       "      <td>NaN</td>\n",
       "      <td>NaN</td>\n",
       "      <td>NaN</td>\n",
       "      <td>NaN</td>\n",
       "      <td>NaN</td>\n",
       "      <td>NaN</td>\n",
       "      <td>NaN</td>\n",
       "      <td>NaN</td>\n",
       "      <td>NaN</td>\n",
       "      <td>NaN</td>\n",
       "      <td>0</td>\n",
       "      <td>NaN</td>\n",
       "      <td>0</td>\n",
       "      <td>NaN</td>\n",
       "      <td>0</td>\n",
       "      <td>NaN</td>\n",
       "      <td>NaN</td>\n",
       "      <td>NaN</td>\n",
       "      <td>NaN</td>\n",
       "      <td>0</td>\n",
       "      <td>NaN</td>\n",
       "      <td>0</td>\n",
       "      <td>NaN</td>\n",
       "      <td>0</td>\n",
       "      <td>C</td>\n",
       "      <td>1</td>\n",
       "      <td>U</td>\n",
       "      <td>U</td>\n",
       "      <td>U</td>\n",
       "      <td>U</td>\n",
       "      <td>U</td>\n",
       "      <td>U</td>\n",
       "      <td>U</td>\n",
       "      <td>0.0</td>\n",
       "      <td>0.0</td>\n",
       "      <td>0.0</td>\n",
       "      <td>0.0</td>\n",
       "      <td>0.0</td>\n",
       "      <td>U</td>\n",
       "      <td>U</td>\n",
       "      <td>U</td>\n",
       "      <td>U</td>\n",
       "      <td>U</td>\n",
       "      <td>U</td>\n",
       "      <td>U</td>\n",
       "      <td>U</td>\n",
       "    </tr>\n",
       "    <tr>\n",
       "      <th>4</th>\n",
       "      <td>2521</td>\n",
       "      <td>CT</td>\n",
       "      <td>15.0</td>\n",
       "      <td>15.0</td>\n",
       "      <td>Y</td>\n",
       "      <td>Y</td>\n",
       "      <td>NaN</td>\n",
       "      <td>NaN</td>\n",
       "      <td>NaN</td>\n",
       "      <td>NaN</td>\n",
       "      <td>NaN</td>\n",
       "      <td>NaN</td>\n",
       "      <td>NaN</td>\n",
       "      <td>NaN</td>\n",
       "      <td>NaN</td>\n",
       "      <td>NaN</td>\n",
       "      <td>NaN</td>\n",
       "      <td>NaN</td>\n",
       "      <td>NaN</td>\n",
       "      <td>NaN</td>\n",
       "      <td>NaN</td>\n",
       "      <td>501.0</td>\n",
       "      <td>M</td>\n",
       "      <td>M</td>\n",
       "      <td>NaN</td>\n",
       "      <td>M</td>\n",
       "      <td>200506.0</td>\n",
       "      <td>M</td>\n",
       "      <td>NaN</td>\n",
       "      <td>0.0</td>\n",
       "      <td>0.0</td>\n",
       "      <td>B</td>\n",
       "      <td>D</td>\n",
       "      <td>1</td>\n",
       "      <td>C</td>\n",
       "      <td>0</td>\n",
       "      <td>NaN</td>\n",
       "      <td>1</td>\n",
       "      <td>C</td>\n",
       "      <td>NaN</td>\n",
       "      <td>E</td>\n",
       "      <td>NaN</td>\n",
       "      <td>0</td>\n",
       "      <td>NaN</td>\n",
       "      <td>0</td>\n",
       "      <td>NaN</td>\n",
       "      <td>0</td>\n",
       "      <td>NaN</td>\n",
       "      <td>0</td>\n",
       "      <td>M</td>\n",
       "      <td>O</td>\n",
       "      <td>S</td>\n",
       "      <td>F</td>\n",
       "      <td>D</td>\n",
       "      <td>5</td>\n",
       "      <td>1</td>\n",
       "      <td>0.0</td>\n",
       "      <td>1.0</td>\n",
       "      <td>0.0</td>\n",
       "      <td>0.0</td>\n",
       "      <td>0.0</td>\n",
       "      <td>B</td>\n",
       "      <td>C</td>\n",
       "      <td>B</td>\n",
       "      <td>B</td>\n",
       "      <td>9.0</td>\n",
       "      <td>Y</td>\n",
       "      <td>D</td>\n",
       "      <td>E</td>\n",
       "    </tr>\n",
       "  </tbody>\n",
       "</table>\n",
       "</div>"
      ],
      "text/plain": [
       "   dataright_seq State_99039  Len_of_Residence_90300  Length_of_Residnce_U324061 Mail_Order_Byr_90315 Mail_Order_Resp_90316 Occ_1st_Indv_90317  Edu_1st_Indv_90318 Srvy_Mail_Ord_Books_U324254 Srvy_MO_BooksMags_U324255 Srvy_MO_Child_Prod_U324256 Srvy_Mail_Ord_Clthg_U324257 Srvy_MailOrd_Cosmtc_U324258 Srvy_MO_Food_Prod_U324259 Srvy_MailOrderGifts_U324260 Srvy_MailOrd_HmeFrn_U324261 Srvy_Mail_Order_Mag_U324262 Srvy_MailOrderOther_U324263 Srvy_MailOrdr_Jewel_U324264 Srvy_Mail_Ord_PlsSz_U324265 Srvy_Mail_Order_DVD_U324266  Designated_Mkt_Area_U324014 Mail_Order_Respnder_U324068 Mail_Order_Byr_U324069 Indv_Occ_U324081 Bank_Card_U324099  Bank_Card_New_IssDt_U324098 Ret_Card_U324100  Byr_Ret_Last_OrdDt_U324480  Byr_Ret_Orders_U324481  Byr_Ret_Dollars_U324482 Est_HH_Debt_Level_U324161 Est_HH_Invest_Asset_U324162  wc_bought_any wc_num_items  wc_big_ticket_bought_any wc_big_ticket_num_items  wc_low_ticket_bought_any wc_low_ticket_num_items wc_big_ticket_amt_spent wc_low_ticket_amt_spent client_times_shopped_30_days  client_shopped_3_mos comp1_times_shopped_30_days  comp1_shopped_3_mos comp2_times_shopped_30_days  comp2_shopped_3_mos comp3_times_shopped_30_days  comp3_shopped_3_mos Marital_Status Homeowner_Status Dwelling_Type Gender Age Num_Adults Num_Children  Child_0_2  Child_3_5  Child_6_10  Child_11_15  Child_16_18 Race HH_Income Eff_Income Socioeconomic_Score ZIP_Income Dual_Income Home_Market_Value Net_Worth\n",
       "0           2517          CT                     NaN                         NaN                    Y                     Y                NaN                 NaN                         NaN                       NaN                        NaN                         NaN                         NaN                       NaN                         NaN                         NaN                         NaN                         NaN                         NaN                         NaN                         NaN                        501.0                           M                      M              NaN               NaN                          NaN              NaN                      1610.0                     1.0                     80.0                         C                           C              0          NaN                         0                     NaN                         0                     NaN                     NaN                     NaN                          NaN                     0                         NaN                    0                         NaN                    0                         NaN                    0              M                O             S      M   A          5            0        0.0        0.0         0.0          0.0          0.0    B         D          B                   B        9.0           Y                 E         E\n",
       "1           2518          CT                     1.0                         1.0                  NaN                   NaN                NaN                 NaN                         NaN                       NaN                        NaN                         NaN                         NaN                       NaN                         NaN                         NaN                         NaN                         NaN                         NaN                         NaN                         NaN                        501.0                         NaN                    NaN              NaN               NaN                          NaN                Y                         NaN                     0.0                      0.0                         B                           B              1            C                         1                       B                         1                       C                       B                       F                          NaN                     0                         NaN                    0                         NaN                    0                         NaN                    0              S                U             S      F   D          1            0        0.0        1.0         0.0          0.0          0.0    H         B          B                   B        5.0           Y                 A         A\n",
       "2           2519          CT                    15.0                        15.0                    Y                     Y                  B                 NaN                           Y                         Y                        NaN                         NaN                         NaN                       NaN                         NaN                         NaN                         NaN                         NaN                         NaN                         NaN                           Y                        501.0                           M                      M             A264                 M                          NaN                M                         NaN                     0.0                      0.0                         F                           A              1            B                         0                     NaN                         1                       B                     NaN                       A                          NaN                     0                         NaN                    0                         NaN                    0                         NaN                    0              S                R             M      F   D          1            0        0.0        0.0         0.0          0.0          0.0    W         B          B                   B        4.0           Y                 A         A\n",
       "3           2520         NaN                     NaN                         NaN                  NaN                   NaN                NaN                 NaN                         NaN                       NaN                        NaN                         NaN                         NaN                       NaN                         NaN                         NaN                         NaN                         NaN                         NaN                         NaN                         NaN                          NaN                         NaN                    NaN              NaN               NaN                          NaN              NaN                         NaN                     NaN                      NaN                       NaN                         NaN              0          NaN                         0                     NaN                         0                     NaN                     NaN                     NaN                          NaN                     0                         NaN                    0                         NaN                    0                           C                    1              U                U             U      U   U          U            U        0.0        0.0         0.0          0.0          0.0    U         U          U                   U          U           U                 U         U\n",
       "4           2521          CT                    15.0                        15.0                    Y                     Y                NaN                 NaN                         NaN                       NaN                        NaN                         NaN                         NaN                       NaN                         NaN                         NaN                         NaN                         NaN                         NaN                         NaN                         NaN                        501.0                           M                      M              NaN                 M                     200506.0                M                         NaN                     0.0                      0.0                         B                           D              1            C                         0                     NaN                         1                       C                     NaN                       E                          NaN                     0                         NaN                    0                         NaN                    0                         NaN                    0              M                O             S      F   D          5            1        0.0        1.0         0.0          0.0          0.0    B         C          B                   B        9.0           Y                 D         E"
      ]
     },
     "execution_count": 151,
     "metadata": {},
     "output_type": "execute_result"
    }
   ],
   "source": [
    "interested_dataset.head()"
   ]
  },
  {
   "cell_type": "code",
   "execution_count": 152,
   "metadata": {
    "collapsed": true
   },
   "outputs": [],
   "source": [
    "interested_dataset['Mail_Order_Byr_90315'] = interested_dataset['Mail_Order_Byr_90315'].fillna('U')"
   ]
  },
  {
   "cell_type": "code",
   "execution_count": 153,
   "metadata": {},
   "outputs": [
    {
     "data": {
      "text/plain": [
       "U    25796\n",
       "Y    22850\n",
       "Name: Mail_Order_Byr_90315, dtype: int64"
      ]
     },
     "execution_count": 153,
     "metadata": {},
     "output_type": "execute_result"
    }
   ],
   "source": [
    "interested_dataset['Mail_Order_Byr_90315'].value_counts()"
   ]
  },
  {
   "cell_type": "code",
   "execution_count": 154,
   "metadata": {
    "collapsed": true
   },
   "outputs": [],
   "source": [
    "interested_dataset['Mail_Order_Buyer'] = interested_dataset['Mail_Order_Byr_90315']"
   ]
  },
  {
   "cell_type": "code",
   "execution_count": 155,
   "metadata": {
    "collapsed": true
   },
   "outputs": [],
   "source": [
    "interested_dataset = interested_dataset.drop(['Mail_Order_Byr_90315'], axis = 1)"
   ]
  },
  {
   "cell_type": "markdown",
   "metadata": {},
   "source": [
    "### Creating Binary Variables for Mail Order Survey"
   ]
  },
  {
   "cell_type": "code",
   "execution_count": 156,
   "metadata": {
    "collapsed": true
   },
   "outputs": [],
   "source": [
    "interested_dataset['Srvy_Mail_Ord_Books_U324254'] = interested_dataset['Srvy_Mail_Ord_Books_U324254'].fillna(0)\n",
    "interested_dataset['Mail_Ord_Books'] = np.where(interested_dataset['Srvy_Mail_Ord_Books_U324254'] == 0, interested_dataset['Srvy_Mail_Ord_Books_U324254'], 1)\n",
    "interested_dataset = interested_dataset.drop(['Srvy_Mail_Ord_Books_U324254'], axis = 1)"
   ]
  },
  {
   "cell_type": "code",
   "execution_count": 157,
   "metadata": {
    "collapsed": true
   },
   "outputs": [],
   "source": [
    "interested_dataset['Srvy_MO_BooksMags_U324255'] = interested_dataset['Srvy_MO_BooksMags_U324255'].fillna(0)\n",
    "interested_dataset['Mail_Ord_BooksMags'] = np.where(interested_dataset['Srvy_MO_BooksMags_U324255'] == 0, interested_dataset['Srvy_MO_BooksMags_U324255'], 1)\n",
    "interested_dataset = interested_dataset.drop(['Srvy_MO_BooksMags_U324255'], axis = 1)"
   ]
  },
  {
   "cell_type": "code",
   "execution_count": 158,
   "metadata": {
    "collapsed": true
   },
   "outputs": [],
   "source": [
    "interested_dataset['Srvy_MO_Child_Prod_U324256'] = interested_dataset['Srvy_MO_Child_Prod_U324256'].fillna(0)\n",
    "interested_dataset['Mail_Ord_Child_Prod'] = np.where(interested_dataset['Srvy_MO_Child_Prod_U324256'] == 0, interested_dataset['Srvy_MO_Child_Prod_U324256'], 1)\n",
    "interested_dataset = interested_dataset.drop(['Srvy_MO_Child_Prod_U324256'], axis = 1)"
   ]
  },
  {
   "cell_type": "code",
   "execution_count": 159,
   "metadata": {
    "collapsed": true
   },
   "outputs": [],
   "source": [
    "interested_dataset['Srvy_Mail_Ord_Clthg_U324257'] = interested_dataset['Srvy_Mail_Ord_Clthg_U324257'].fillna(0)\n",
    "interested_dataset['Mail_Ord_Clothes'] = np.where(interested_dataset['Srvy_Mail_Ord_Clthg_U324257'] == 0, interested_dataset['Srvy_Mail_Ord_Clthg_U324257'], 1)\n",
    "interested_dataset = interested_dataset.drop(['Srvy_Mail_Ord_Clthg_U324257'], axis = 1)"
   ]
  },
  {
   "cell_type": "code",
   "execution_count": 160,
   "metadata": {
    "collapsed": true
   },
   "outputs": [],
   "source": [
    "interested_dataset['Srvy_MailOrd_Cosmtc_U324258'] = interested_dataset['Srvy_MailOrd_Cosmtc_U324258'].fillna(0)\n",
    "interested_dataset['Mail_Ord_Cosmetic'] = np.where(interested_dataset['Srvy_MailOrd_Cosmtc_U324258'] == 0, interested_dataset['Srvy_MailOrd_Cosmtc_U324258'], 1)\n",
    "interested_dataset = interested_dataset.drop(['Srvy_MailOrd_Cosmtc_U324258'], axis = 1)"
   ]
  },
  {
   "cell_type": "code",
   "execution_count": 161,
   "metadata": {
    "collapsed": true
   },
   "outputs": [],
   "source": [
    "interested_dataset['Srvy_MO_Food_Prod_U324259'] = interested_dataset['Srvy_MO_Food_Prod_U324259'].fillna(0)\n",
    "interested_dataset['Mail_Ord_Food'] = np.where(interested_dataset['Srvy_MO_Food_Prod_U324259'] == 0, interested_dataset['Srvy_MO_Food_Prod_U324259'], 1)\n",
    "interested_dataset = interested_dataset.drop(['Srvy_MO_Food_Prod_U324259'], axis = 1)"
   ]
  },
  {
   "cell_type": "code",
   "execution_count": 162,
   "metadata": {
    "collapsed": true
   },
   "outputs": [],
   "source": [
    "interested_dataset['Srvy_MailOrderGifts_U324260'] = interested_dataset['Srvy_MailOrderGifts_U324260'].fillna(0)\n",
    "interested_dataset['Mail_Ord_Gifts'] = np.where(interested_dataset['Srvy_MailOrderGifts_U324260'] == 0, interested_dataset['Srvy_MailOrderGifts_U324260'], 1)\n",
    "interested_dataset = interested_dataset.drop(['Srvy_MailOrderGifts_U324260'], axis = 1)"
   ]
  },
  {
   "cell_type": "code",
   "execution_count": 163,
   "metadata": {
    "collapsed": true
   },
   "outputs": [],
   "source": [
    "interested_dataset['Srvy_MailOrd_HmeFrn_U324261'] = interested_dataset['Srvy_MailOrd_HmeFrn_U324261'].fillna(0)\n",
    "interested_dataset['Mail_Ord_Furniture'] = np.where(interested_dataset['Srvy_MailOrd_HmeFrn_U324261'] == 0, interested_dataset['Srvy_MailOrd_HmeFrn_U324261'], 1)\n",
    "interested_dataset = interested_dataset.drop(['Srvy_MailOrd_HmeFrn_U324261'], axis = 1)"
   ]
  },
  {
   "cell_type": "code",
   "execution_count": 164,
   "metadata": {
    "collapsed": true
   },
   "outputs": [],
   "source": [
    "interested_dataset['Srvy_Mail_Order_Mag_U324262'] = interested_dataset['Srvy_Mail_Order_Mag_U324262'].fillna(0)\n",
    "interested_dataset['Mail_Ord_Mags'] = np.where(interested_dataset['Srvy_Mail_Order_Mag_U324262'] == 0, interested_dataset['Srvy_Mail_Order_Mag_U324262'], 1)\n",
    "interested_dataset = interested_dataset.drop(['Srvy_Mail_Order_Mag_U324262'], axis = 1)"
   ]
  },
  {
   "cell_type": "code",
   "execution_count": 165,
   "metadata": {
    "collapsed": true
   },
   "outputs": [],
   "source": [
    "interested_dataset['Srvy_MailOrderOther_U324263'] = interested_dataset['Srvy_MailOrderOther_U324263'].fillna(0)\n",
    "interested_dataset['Mail_Ord_Others'] = np.where(interested_dataset['Srvy_MailOrderOther_U324263'] == 0, interested_dataset['Srvy_MailOrderOther_U324263'], 1)\n",
    "interested_dataset = interested_dataset.drop(['Srvy_MailOrderOther_U324263'], axis = 1)"
   ]
  },
  {
   "cell_type": "code",
   "execution_count": 166,
   "metadata": {
    "collapsed": true
   },
   "outputs": [],
   "source": [
    "interested_dataset['Srvy_MailOrdr_Jewel_U324264'] = interested_dataset['Srvy_MailOrdr_Jewel_U324264'].fillna(0)\n",
    "interested_dataset['Mail_Ord_Jewel'] = np.where(interested_dataset['Srvy_MailOrdr_Jewel_U324264'] == 0, interested_dataset['Srvy_MailOrdr_Jewel_U324264'], 1)\n",
    "interested_dataset = interested_dataset.drop(['Srvy_MailOrdr_Jewel_U324264'], axis = 1)"
   ]
  },
  {
   "cell_type": "code",
   "execution_count": 167,
   "metadata": {
    "collapsed": true
   },
   "outputs": [],
   "source": [
    "interested_dataset['Srvy_Mail_Ord_PlsSz_U324265'] = interested_dataset['Srvy_Mail_Ord_PlsSz_U324265'].fillna(0)\n",
    "interested_dataset['Mail_Ord_Big_Clothes'] = np.where(interested_dataset['Srvy_Mail_Ord_PlsSz_U324265'] == 0, interested_dataset['Srvy_Mail_Ord_PlsSz_U324265'], 1)\n",
    "interested_dataset = interested_dataset.drop(['Srvy_Mail_Ord_PlsSz_U324265'], axis = 1)"
   ]
  },
  {
   "cell_type": "code",
   "execution_count": 168,
   "metadata": {
    "collapsed": true
   },
   "outputs": [],
   "source": [
    "interested_dataset['Srvy_Mail_Order_DVD_U324266'] = interested_dataset['Srvy_Mail_Order_DVD_U324266'].fillna(0)\n",
    "interested_dataset['Mail_Ord_DVD'] = np.where(interested_dataset['Srvy_Mail_Order_DVD_U324266'] == 0, interested_dataset['Srvy_Mail_Order_DVD_U324266'], 1)\n",
    "interested_dataset = interested_dataset.drop(['Srvy_Mail_Order_DVD_U324266'], axis = 1)"
   ]
  },
  {
   "cell_type": "markdown",
   "metadata": {},
   "source": [
    "### Double Checking Mail Order Buyers"
   ]
  },
  {
   "cell_type": "code",
   "execution_count": 169,
   "metadata": {},
   "outputs": [
    {
     "name": "stderr",
     "output_type": "stream",
     "text": [
      "/Users/Weiyang/anaconda3/lib/python3.6/site-packages/ipykernel_launcher.py:11: SettingWithCopyWarning: \n",
      "A value is trying to be set on a copy of a slice from a DataFrame\n",
      "\n",
      "See the caveats in the documentation: http://pandas.pydata.org/pandas-docs/stable/indexing.html#indexing-view-versus-copy\n",
      "  # This is added back by InteractiveShellApp.init_path()\n",
      "/Users/Weiyang/anaconda3/lib/python3.6/site-packages/ipykernel_launcher.py:7: SettingWithCopyWarning: \n",
      "A value is trying to be set on a copy of a slice from a DataFrame\n",
      "\n",
      "See the caveats in the documentation: http://pandas.pydata.org/pandas-docs/stable/indexing.html#indexing-view-versus-copy\n",
      "  import sys\n"
     ]
    }
   ],
   "source": [
    "for i in range(len(interested_dataset)):\n",
    "    \n",
    "    if interested_dataset['Mail_Order_Buyer'][i] == 'U':\n",
    "        \n",
    "        if interested_dataset['Mail_Ord_Books'][i] != 0 or interested_dataset['Mail_Ord_BooksMags'][i] != 0 or interested_dataset['Mail_Ord_Child_Prod'][i] != 0 or interested_dataset['Mail_Ord_Clothes'][i] != 0 or interested_dataset['Mail_Ord_Cosmetic'][i] != 0 or interested_dataset['Mail_Ord_Food'][i] != 0 or interested_dataset['Mail_Ord_Gifts'][i] != 0 or interested_dataset['Mail_Ord_Furniture'][i] != 0 or interested_dataset['Mail_Ord_Mags'][i] != 0 or interested_dataset['Mail_Ord_Others'][i] != 0 or interested_dataset['Mail_Ord_Jewel'][i] != 0 or interested_dataset['Mail_Ord_Big_Clothes'][i] != 0 or interested_dataset['Mail_Ord_DVD'][i] != 0:\n",
    "            \n",
    "            interested_dataset['Mail_Order_Buyer'][i] = 'Y'\n",
    "            \n",
    "        elif interested_dataset['Mail_Ord_Books'][i] == 0 or interested_dataset['Mail_Ord_BooksMags'][i] == 0 or interested_dataset['Mail_Ord_Child_Prod'][i] == 0 or interested_dataset['Mail_Ord_Clothes'][i] == 0 or interested_dataset['Mail_Ord_Cosmetic'][i] == 0 or interested_dataset['Mail_Ord_Food'][i] == 0 or interested_dataset['Mail_Ord_Gifts'][i] == 0 or interested_dataset['Mail_Ord_Furniture'][i] == 0 or interested_dataset['Mail_Ord_Mags'][i] == 0 or interested_dataset['Mail_Ord_Others'][i] == 0 or interested_dataset['Mail_Ord_Jewel'][i] == 0 or interested_dataset['Mail_Ord_Big_Clothes'][i] == 0 or interested_dataset['Mail_Ord_DVD'][i] == 0:\n",
    "            \n",
    "            interested_dataset['Mail_Order_Buyer'][i] = 'N'\n"
   ]
  },
  {
   "cell_type": "code",
   "execution_count": 170,
   "metadata": {},
   "outputs": [
    {
     "data": {
      "text/plain": [
       "N    25794\n",
       "Y    22852\n",
       "Name: Mail_Order_Buyer, dtype: int64"
      ]
     },
     "execution_count": 170,
     "metadata": {},
     "output_type": "execute_result"
    }
   ],
   "source": [
    "interested_dataset['Mail_Order_Buyer'].value_counts()"
   ]
  },
  {
   "cell_type": "code",
   "execution_count": 171,
   "metadata": {
    "collapsed": true
   },
   "outputs": [],
   "source": [
    "interested_dataset['Mail_Order_Buyer'] = np.where((interested_dataset['Mail_Order_Buyer'] == 'Y') & (interested_dataset['Mail_Order_Byr_U324069'] == 'M'), 'M', interested_dataset['Mail_Order_Buyer'])"
   ]
  },
  {
   "cell_type": "code",
   "execution_count": 172,
   "metadata": {
    "collapsed": true
   },
   "outputs": [],
   "source": [
    "interested_dataset['Mail_Order_Buyer'] = np.where((interested_dataset['Mail_Order_Buyer'] == 'Y') & (interested_dataset['Mail_Order_Byr_U324069'] == 'P'), 'P', interested_dataset['Mail_Order_Buyer'])"
   ]
  },
  {
   "cell_type": "code",
   "execution_count": 173,
   "metadata": {
    "collapsed": true
   },
   "outputs": [],
   "source": [
    "interested_dataset['Mail_Order_Buyer'] = np.where((interested_dataset['Mail_Order_Buyer'] == 'Y') & (interested_dataset['Mail_Order_Byr_U324069'] == 'U'), 'Y', interested_dataset['Mail_Order_Buyer'])"
   ]
  },
  {
   "cell_type": "code",
   "execution_count": 174,
   "metadata": {
    "collapsed": true
   },
   "outputs": [],
   "source": [
    "interested_dataset['Mail_Order_Buyer'] = np.where((interested_dataset['Mail_Order_Buyer'] == 'U') & (interested_dataset['Mail_Order_Byr_U324069'] == 'M'), 'M', interested_dataset['Mail_Order_Buyer'])"
   ]
  },
  {
   "cell_type": "code",
   "execution_count": 175,
   "metadata": {
    "collapsed": true
   },
   "outputs": [],
   "source": [
    "interested_dataset['Mail_Order_Buyer'] = np.where((interested_dataset['Mail_Order_Buyer'] == 'U') & (interested_dataset['Mail_Order_Byr_U324069'] == 'P'), 'P', interested_dataset['Mail_Order_Buyer'])"
   ]
  },
  {
   "cell_type": "code",
   "execution_count": 176,
   "metadata": {
    "collapsed": true
   },
   "outputs": [],
   "source": [
    "interested_dataset['Mail_Order_Buyer'] = np.where((interested_dataset['Mail_Order_Buyer'] == 'U') & (interested_dataset['Mail_Order_Byr_U324069'] == 'Y'), 'Y', interested_dataset['Mail_Order_Buyer'])"
   ]
  },
  {
   "cell_type": "code",
   "execution_count": 177,
   "metadata": {},
   "outputs": [
    {
     "data": {
      "text/plain": [
       "N    25794\n",
       "M    20246\n",
       "Y     1651\n",
       "P      955\n",
       "Name: Mail_Order_Buyer, dtype: int64"
      ]
     },
     "execution_count": 177,
     "metadata": {},
     "output_type": "execute_result"
    }
   ],
   "source": [
    "interested_dataset['Mail_Order_Buyer'].value_counts()"
   ]
  },
  {
   "cell_type": "code",
   "execution_count": 178,
   "metadata": {
    "collapsed": true
   },
   "outputs": [],
   "source": [
    "interested_dataset = interested_dataset.drop(['Mail_Order_Byr_U324069'], axis = 1)"
   ]
  },
  {
   "cell_type": "markdown",
   "metadata": {},
   "source": [
    "### Checking Mail Order Response"
   ]
  },
  {
   "cell_type": "code",
   "execution_count": 179,
   "metadata": {
    "collapsed": true
   },
   "outputs": [],
   "source": [
    "interested_dataset['Mail_Order_Resp_90316'] = interested_dataset['Mail_Order_Resp_90316'].fillna('U')"
   ]
  },
  {
   "cell_type": "code",
   "execution_count": 180,
   "metadata": {
    "collapsed": true
   },
   "outputs": [],
   "source": [
    "interested_dataset['Mail_Order_Response'] = interested_dataset['Mail_Order_Resp_90316']"
   ]
  },
  {
   "cell_type": "code",
   "execution_count": 181,
   "metadata": {
    "collapsed": true
   },
   "outputs": [],
   "source": [
    "interested_dataset = interested_dataset.drop(['Mail_Order_Resp_90316'], axis = 1)"
   ]
  },
  {
   "cell_type": "code",
   "execution_count": 182,
   "metadata": {},
   "outputs": [
    {
     "name": "stderr",
     "output_type": "stream",
     "text": [
      "/Users/Weiyang/anaconda3/lib/python3.6/site-packages/ipykernel_launcher.py:11: SettingWithCopyWarning: \n",
      "A value is trying to be set on a copy of a slice from a DataFrame\n",
      "\n",
      "See the caveats in the documentation: http://pandas.pydata.org/pandas-docs/stable/indexing.html#indexing-view-versus-copy\n",
      "  # This is added back by InteractiveShellApp.init_path()\n",
      "/Users/Weiyang/anaconda3/lib/python3.6/site-packages/ipykernel_launcher.py:7: SettingWithCopyWarning: \n",
      "A value is trying to be set on a copy of a slice from a DataFrame\n",
      "\n",
      "See the caveats in the documentation: http://pandas.pydata.org/pandas-docs/stable/indexing.html#indexing-view-versus-copy\n",
      "  import sys\n"
     ]
    }
   ],
   "source": [
    "for i in range(len(interested_dataset)):\n",
    "    \n",
    "    if interested_dataset['Mail_Order_Response'][i] == 'U':\n",
    "        \n",
    "        if interested_dataset['Mail_Ord_Books'][i] != 0 or interested_dataset['Mail_Ord_BooksMags'][i] != 0 or interested_dataset['Mail_Ord_Child_Prod'][i] != 0 or interested_dataset['Mail_Ord_Clothes'][i] != 0 or interested_dataset['Mail_Ord_Cosmetic'][i] != 0 or interested_dataset['Mail_Ord_Food'][i] != 0 or interested_dataset['Mail_Ord_Gifts'][i] != 0 or interested_dataset['Mail_Ord_Furniture'][i] != 0 or interested_dataset['Mail_Ord_Mags'][i] != 0 or interested_dataset['Mail_Ord_Others'][i] != 0 or interested_dataset['Mail_Ord_Jewel'][i] != 0 or interested_dataset['Mail_Ord_Big_Clothes'][i] != 0 or interested_dataset['Mail_Ord_DVD'][i] != 0:\n",
    "            \n",
    "            interested_dataset['Mail_Order_Response'][i] = 'Y'\n",
    "            \n",
    "        elif interested_dataset['Mail_Ord_Books'][i] == 0 or interested_dataset['Mail_Ord_BooksMags'][i] == 0 or interested_dataset['Mail_Ord_Child_Prod'][i] == 0 or interested_dataset['Mail_Ord_Clothes'][i] == 0 or interested_dataset['Mail_Ord_Cosmetic'][i] == 0 or interested_dataset['Mail_Ord_Food'][i] == 0 or interested_dataset['Mail_Ord_Gifts'][i] == 0 or interested_dataset['Mail_Ord_Furniture'][i] == 0 or interested_dataset['Mail_Ord_Mags'][i] == 0 or interested_dataset['Mail_Ord_Others'][i] == 0 or interested_dataset['Mail_Ord_Jewel'][i] == 0 or interested_dataset['Mail_Ord_Big_Clothes'][i] == 0 or interested_dataset['Mail_Ord_DVD'][i] == 0:\n",
    "            \n",
    "            interested_dataset['Mail_Order_Response'][i] = 'N'"
   ]
  },
  {
   "cell_type": "code",
   "execution_count": 183,
   "metadata": {},
   "outputs": [
    {
     "data": {
      "text/plain": [
       "Y    25709\n",
       "N    22937\n",
       "Name: Mail_Order_Response, dtype: int64"
      ]
     },
     "execution_count": 183,
     "metadata": {},
     "output_type": "execute_result"
    }
   ],
   "source": [
    "interested_dataset['Mail_Order_Response'].value_counts()"
   ]
  },
  {
   "cell_type": "code",
   "execution_count": 184,
   "metadata": {
    "collapsed": true
   },
   "outputs": [],
   "source": [
    "interested_dataset['Mail_Order_Respnder_U324068'] = interested_dataset['Mail_Order_Respnder_U324068'].fillna('U')"
   ]
  },
  {
   "cell_type": "code",
   "execution_count": 185,
   "metadata": {},
   "outputs": [
    {
     "data": {
      "text/plain": [
       "M    23873\n",
       "U    22939\n",
       "Y     1834\n",
       "Name: Mail_Order_Respnder_U324068, dtype: int64"
      ]
     },
     "execution_count": 185,
     "metadata": {},
     "output_type": "execute_result"
    }
   ],
   "source": [
    "interested_dataset['Mail_Order_Respnder_U324068'].value_counts()"
   ]
  },
  {
   "cell_type": "code",
   "execution_count": 186,
   "metadata": {
    "collapsed": true
   },
   "outputs": [],
   "source": [
    "interested_dataset['Mail_Order_Response'] = np.where((interested_dataset['Mail_Order_Response'] == 'Y') & (interested_dataset['Mail_Order_Respnder_U324068'] == 'M'), 'M', interested_dataset['Mail_Order_Response'])"
   ]
  },
  {
   "cell_type": "code",
   "execution_count": 187,
   "metadata": {
    "collapsed": true
   },
   "outputs": [],
   "source": [
    "interested_dataset['Mail_Order_Response'] = np.where((interested_dataset['Mail_Order_Response'] == 'Y') & (interested_dataset['Mail_Order_Respnder_U324068'] == 'Y'), 'Y', interested_dataset['Mail_Order_Response'])"
   ]
  },
  {
   "cell_type": "code",
   "execution_count": 188,
   "metadata": {
    "collapsed": true
   },
   "outputs": [],
   "source": [
    "interested_dataset['Mail_Order_Response'] = np.where((interested_dataset['Mail_Order_Response'] == 'Y') & (interested_dataset['Mail_Order_Respnder_U324068'] == 'U'), 'Y', interested_dataset['Mail_Order_Response'])"
   ]
  },
  {
   "cell_type": "code",
   "execution_count": 189,
   "metadata": {
    "collapsed": true
   },
   "outputs": [],
   "source": [
    "interested_dataset['Mail_Order_Response'] = np.where((interested_dataset['Mail_Order_Response'] == 'N') & (interested_dataset['Mail_Order_Respnder_U324068'] == 'M'), 'M', interested_dataset['Mail_Order_Response'])"
   ]
  },
  {
   "cell_type": "code",
   "execution_count": 190,
   "metadata": {
    "collapsed": true
   },
   "outputs": [],
   "source": [
    "interested_dataset['Mail_Order_Response'] = np.where((interested_dataset['Mail_Order_Response'] == 'N') & (interested_dataset['Mail_Order_Respnder_U324068'] == 'Y'), 'Y', interested_dataset['Mail_Order_Response'])"
   ]
  },
  {
   "cell_type": "code",
   "execution_count": 191,
   "metadata": {},
   "outputs": [
    {
     "data": {
      "text/plain": [
       "M    23873\n",
       "N    22937\n",
       "Y     1836\n",
       "Name: Mail_Order_Response, dtype: int64"
      ]
     },
     "execution_count": 191,
     "metadata": {},
     "output_type": "execute_result"
    }
   ],
   "source": [
    "interested_dataset['Mail_Order_Response'].value_counts()"
   ]
  },
  {
   "cell_type": "code",
   "execution_count": 192,
   "metadata": {
    "collapsed": true
   },
   "outputs": [],
   "source": [
    "interested_dataset = interested_dataset.drop(['Mail_Order_Respnder_U324068'], axis = 1)"
   ]
  },
  {
   "cell_type": "markdown",
   "metadata": {},
   "source": [
    "### Focusing on Occupation and Education"
   ]
  },
  {
   "cell_type": "code",
   "execution_count": 193,
   "metadata": {
    "collapsed": true
   },
   "outputs": [],
   "source": [
    "interested_dataset['Occupation'] = interested_dataset['Occ_1st_Indv_90317'].fillna('U')"
   ]
  },
  {
   "cell_type": "code",
   "execution_count": 194,
   "metadata": {
    "collapsed": true
   },
   "outputs": [],
   "source": [
    "interested_dataset = interested_dataset.drop(['Occ_1st_Indv_90317'], axis = 1)"
   ]
  },
  {
   "cell_type": "code",
   "execution_count": 195,
   "metadata": {},
   "outputs": [
    {
     "data": {
      "text/plain": [
       "U    40538\n",
       "G     1848\n",
       "B     1535\n",
       "E     1158\n",
       "D     1109\n",
       "Q      951\n",
       "H      947\n",
       "A      325\n",
       "J       86\n",
       "O       80\n",
       "M       69\n",
       "Name: Occupation, dtype: int64"
      ]
     },
     "execution_count": 195,
     "metadata": {},
     "output_type": "execute_result"
    }
   ],
   "source": [
    "interested_dataset['Occupation'].value_counts()"
   ]
  },
  {
   "cell_type": "code",
   "execution_count": 196,
   "metadata": {
    "collapsed": true
   },
   "outputs": [],
   "source": [
    "interested_dataset['Education'] = interested_dataset['Edu_1st_Indv_90318'].fillna('U')"
   ]
  },
  {
   "cell_type": "code",
   "execution_count": 197,
   "metadata": {
    "collapsed": true
   },
   "outputs": [],
   "source": [
    "interested_dataset = interested_dataset.drop(['Edu_1st_Indv_90318', 'Indv_Occ_U324081'], axis = 1)"
   ]
  },
  {
   "cell_type": "markdown",
   "metadata": {},
   "source": [
    "### Focusing on Designated Market Area based on Nielson"
   ]
  },
  {
   "cell_type": "code",
   "execution_count": 198,
   "metadata": {},
   "outputs": [
    {
     "data": {
      "text/plain": [
       "12680"
      ]
     },
     "execution_count": 198,
     "metadata": {},
     "output_type": "execute_result"
    }
   ],
   "source": [
    "interested_dataset['Designated_Mkt_Area_U324014'].isnull().sum()"
   ]
  },
  {
   "cell_type": "markdown",
   "metadata": {},
   "source": [
    "##### Comments:\n",
    "\n",
    "##### 1) Designated_Market_Area is identical to State variable.\n",
    "\n",
    "##### 2) Null rows in State = Null rows in Designated_Market_Area"
   ]
  },
  {
   "cell_type": "code",
   "execution_count": 199,
   "metadata": {
    "collapsed": true
   },
   "outputs": [],
   "source": [
    "interested_dataset['State'] = interested_dataset['State_99039'].fillna('U')"
   ]
  },
  {
   "cell_type": "code",
   "execution_count": 200,
   "metadata": {
    "collapsed": true
   },
   "outputs": [],
   "source": [
    "interested_dataset = interested_dataset.drop(['State_99039', 'Designated_Mkt_Area_U324014'], axis = 1)"
   ]
  },
  {
   "cell_type": "markdown",
   "metadata": {},
   "source": [
    "### Focusing on Household Debt"
   ]
  },
  {
   "cell_type": "code",
   "execution_count": 201,
   "metadata": {
    "collapsed": true
   },
   "outputs": [],
   "source": [
    "interested_dataset['Est_HH_Debt_Level'] = interested_dataset['Est_HH_Debt_Level_U324161'].fillna('U')"
   ]
  },
  {
   "cell_type": "code",
   "execution_count": 202,
   "metadata": {
    "collapsed": true
   },
   "outputs": [],
   "source": [
    "interested_dataset = interested_dataset.drop(['Est_HH_Debt_Level_U324161'], axis = 1)"
   ]
  },
  {
   "cell_type": "markdown",
   "metadata": {},
   "source": [
    "### Focusing on Investment Asset"
   ]
  },
  {
   "cell_type": "code",
   "execution_count": 203,
   "metadata": {
    "collapsed": true
   },
   "outputs": [],
   "source": [
    "interested_dataset['Est_HH_Invest_Asset'] = interested_dataset['Est_HH_Invest_Asset_U324162'].fillna('U')"
   ]
  },
  {
   "cell_type": "code",
   "execution_count": 204,
   "metadata": {
    "collapsed": true
   },
   "outputs": [],
   "source": [
    "interested_dataset = interested_dataset.drop(['Est_HH_Invest_Asset_U324162'], axis = 1)"
   ]
  },
  {
   "cell_type": "markdown",
   "metadata": {},
   "source": [
    "### Focusing on Length of Residence"
   ]
  },
  {
   "cell_type": "code",
   "execution_count": 205,
   "metadata": {
    "collapsed": true
   },
   "outputs": [],
   "source": [
    "interested_dataset['Len_of_Residence'] = interested_dataset['Len_of_Residence_90300'].fillna('U')"
   ]
  },
  {
   "cell_type": "code",
   "execution_count": 206,
   "metadata": {},
   "outputs": [
    {
     "data": {
      "text/plain": [
       "U       14591\n",
       "15.0    11615\n",
       "1.0      5018\n",
       "3.0      2058\n",
       "12.0     1994\n",
       "7.0      1750\n",
       "2.0      1661\n",
       "4.0      1575\n",
       "10.0     1303\n",
       "5.0      1297\n",
       "13.0      966\n",
       "11.0      946\n",
       "8.0       940\n",
       "6.0       937\n",
       "14.0      867\n",
       "9.0       851\n",
       "0.0       277\n",
       "Name: Len_of_Residence, dtype: int64"
      ]
     },
     "execution_count": 206,
     "metadata": {},
     "output_type": "execute_result"
    }
   ],
   "source": [
    "interested_dataset['Len_of_Residence'].value_counts()"
   ]
  },
  {
   "cell_type": "code",
   "execution_count": 207,
   "metadata": {
    "collapsed": true
   },
   "outputs": [],
   "source": [
    "interested_dataset = interested_dataset.drop(['Len_of_Residence_90300'], axis = 1)"
   ]
  },
  {
   "cell_type": "code",
   "execution_count": 208,
   "metadata": {
    "collapsed": true
   },
   "outputs": [],
   "source": [
    "interested_dataset['Len_of_Residence'] = np.where(interested_dataset['Len_of_Residence'] == 'U', interested_dataset['Length_of_Residnce_U324061'], interested_dataset['Len_of_Residence'])"
   ]
  },
  {
   "cell_type": "code",
   "execution_count": 209,
   "metadata": {
    "collapsed": true
   },
   "outputs": [],
   "source": [
    "interested_dataset = interested_dataset.drop(['Length_of_Residnce_U324061'], axis = 1)"
   ]
  },
  {
   "cell_type": "markdown",
   "metadata": {},
   "source": [
    "### Creating Bank Card Year of Issue"
   ]
  },
  {
   "cell_type": "code",
   "execution_count": 210,
   "metadata": {
    "collapsed": true
   },
   "outputs": [],
   "source": [
    "interested_dataset['Bank_Card_New_IssDt_U324098'] = interested_dataset['Bank_Card_New_IssDt_U324098'].astype('str')"
   ]
  },
  {
   "cell_type": "code",
   "execution_count": 211,
   "metadata": {
    "collapsed": true
   },
   "outputs": [],
   "source": [
    "new_list = []\n",
    "\n",
    "for row in interested_dataset['Bank_Card_New_IssDt_U324098']:\n",
    "    \n",
    "    if row != 'nan':\n",
    "    \n",
    "        year = row[2]\n",
    "        year_1 = row[3]\n",
    "\n",
    "        final_year = year + year_1\n",
    "\n",
    "        new_list.append(final_year)\n",
    "        \n",
    "    else:\n",
    "        new_list.append('U')"
   ]
  },
  {
   "cell_type": "code",
   "execution_count": 212,
   "metadata": {
    "collapsed": true
   },
   "outputs": [],
   "source": [
    "new_list = pd.DataFrame(new_list, columns = ['Bank_Card_New_Issue_Year'])"
   ]
  },
  {
   "cell_type": "code",
   "execution_count": 213,
   "metadata": {
    "collapsed": true
   },
   "outputs": [],
   "source": [
    "interested_dataset = pd.concat([interested_dataset, new_list], axis = 1)"
   ]
  },
  {
   "cell_type": "code",
   "execution_count": 214,
   "metadata": {
    "collapsed": true
   },
   "outputs": [],
   "source": [
    "interested_dataset = interested_dataset.drop(['Bank_Card_New_IssDt_U324098'], axis = 1)"
   ]
  },
  {
   "cell_type": "markdown",
   "metadata": {},
   "source": [
    "### Creating Bank Card"
   ]
  },
  {
   "cell_type": "code",
   "execution_count": 215,
   "metadata": {
    "collapsed": true
   },
   "outputs": [],
   "source": [
    "interested_dataset['Bank_Card'] = interested_dataset['Bank_Card_U324099'].fillna('U')"
   ]
  },
  {
   "cell_type": "code",
   "execution_count": 216,
   "metadata": {
    "collapsed": true
   },
   "outputs": [],
   "source": [
    "interested_dataset = interested_dataset.drop(['Bank_Card_U324099'], axis = 1)"
   ]
  },
  {
   "cell_type": "code",
   "execution_count": 217,
   "metadata": {},
   "outputs": [
    {
     "data": {
      "text/plain": [
       "U    22208\n",
       "M    20630\n",
       "Y     5808\n",
       "Name: Bank_Card, dtype: int64"
      ]
     },
     "execution_count": 217,
     "metadata": {},
     "output_type": "execute_result"
    }
   ],
   "source": [
    "interested_dataset['Bank_Card'].value_counts()"
   ]
  },
  {
   "cell_type": "code",
   "execution_count": 218,
   "metadata": {
    "collapsed": true
   },
   "outputs": [],
   "source": [
    "interested_dataset['Bank_Card'] = np.where(interested_dataset['Bank_Card'] == 'U', interested_dataset['Bank_Card_New_Issue_Year'], interested_dataset['Bank_Card'])"
   ]
  },
  {
   "cell_type": "code",
   "execution_count": 219,
   "metadata": {},
   "outputs": [
    {
     "data": {
      "text/plain": [
       "U    22208\n",
       "M    20630\n",
       "Y     5808\n",
       "Name: Bank_Card, dtype: int64"
      ]
     },
     "execution_count": 219,
     "metadata": {},
     "output_type": "execute_result"
    }
   ],
   "source": [
    "interested_dataset['Bank_Card'].value_counts()"
   ]
  },
  {
   "cell_type": "markdown",
   "metadata": {},
   "source": [
    "### Focusing on Retail Card"
   ]
  },
  {
   "cell_type": "code",
   "execution_count": 220,
   "metadata": {
    "collapsed": true
   },
   "outputs": [],
   "source": [
    "interested_dataset['Retail_Card'] = interested_dataset['Ret_Card_U324100'].fillna('U')"
   ]
  },
  {
   "cell_type": "code",
   "execution_count": 221,
   "metadata": {
    "collapsed": true
   },
   "outputs": [],
   "source": [
    "interested_dataset = interested_dataset.drop(['Ret_Card_U324100'], axis = 1)"
   ]
  },
  {
   "cell_type": "markdown",
   "metadata": {},
   "source": [
    "### Focusing on Buyer Retail Last Order Date"
   ]
  },
  {
   "cell_type": "code",
   "execution_count": 222,
   "metadata": {},
   "outputs": [
    {
     "data": {
      "text/plain": [
       "count    8289.000000\n",
       "mean     1585.852938\n",
       "std       117.183520\n",
       "min      1311.000000\n",
       "25%      1506.000000\n",
       "50%      1607.000000\n",
       "75%      1705.000000\n",
       "max      1711.000000\n",
       "Name: Byr_Ret_Last_OrdDt_U324480, dtype: float64"
      ]
     },
     "execution_count": 222,
     "metadata": {},
     "output_type": "execute_result"
    }
   ],
   "source": [
    "interested_dataset['Byr_Ret_Last_OrdDt_U324480'].describe()"
   ]
  },
  {
   "cell_type": "code",
   "execution_count": 223,
   "metadata": {
    "collapsed": true
   },
   "outputs": [],
   "source": [
    "new_list = []\n",
    "\n",
    "for row in interested_dataset['Byr_Ret_Last_OrdDt_U324480']:\n",
    "    \n",
    "    if row >= interested_dataset.Byr_Ret_Last_OrdDt_U324480.quantile(0.5):\n",
    "\n",
    "        new_list.append('Y')\n",
    "        \n",
    "    else:\n",
    "        new_list.append('N')"
   ]
  },
  {
   "cell_type": "code",
   "execution_count": 224,
   "metadata": {
    "collapsed": true
   },
   "outputs": [],
   "source": [
    "new_list = pd.DataFrame(new_list, columns = ['Buyer_Retail_Last_Order_2yrs'])"
   ]
  },
  {
   "cell_type": "code",
   "execution_count": 225,
   "metadata": {
    "collapsed": true
   },
   "outputs": [],
   "source": [
    "interested_dataset = pd.concat([interested_dataset, new_list], axis = 1)"
   ]
  },
  {
   "cell_type": "code",
   "execution_count": 226,
   "metadata": {
    "collapsed": true
   },
   "outputs": [],
   "source": [
    "new_list = []\n",
    "\n",
    "for row in interested_dataset['Byr_Ret_Last_OrdDt_U324480']:\n",
    "    \n",
    "    if row >= interested_dataset.Byr_Ret_Last_OrdDt_U324480.quantile(0.75):\n",
    "\n",
    "        new_list.append('Y')\n",
    "        \n",
    "    else:\n",
    "        new_list.append('N')"
   ]
  },
  {
   "cell_type": "code",
   "execution_count": 227,
   "metadata": {
    "collapsed": true
   },
   "outputs": [],
   "source": [
    "new_list = pd.DataFrame(new_list, columns = ['Buyer_Retail_Last_Order_1yrs'])"
   ]
  },
  {
   "cell_type": "code",
   "execution_count": 228,
   "metadata": {
    "collapsed": true
   },
   "outputs": [],
   "source": [
    "interested_dataset = pd.concat([interested_dataset, new_list], axis = 1)"
   ]
  },
  {
   "cell_type": "code",
   "execution_count": 229,
   "metadata": {
    "collapsed": true
   },
   "outputs": [],
   "source": [
    "interested_dataset = interested_dataset.drop(['Byr_Ret_Last_OrdDt_U324480'], axis = 1)"
   ]
  },
  {
   "cell_type": "markdown",
   "metadata": {},
   "source": [
    "### Focusing on Buyer Retail Last Orders Quantity"
   ]
  },
  {
   "cell_type": "code",
   "execution_count": 230,
   "metadata": {
    "collapsed": true
   },
   "outputs": [],
   "source": [
    "interested_dataset['Buyer_Reatil_Last_Order_Quantity'] = interested_dataset['Byr_Ret_Orders_U324481'].fillna(0.0)"
   ]
  },
  {
   "cell_type": "code",
   "execution_count": 231,
   "metadata": {
    "collapsed": true
   },
   "outputs": [],
   "source": [
    "interested_dataset = interested_dataset.drop(['Byr_Ret_Orders_U324481'], axis = 1)"
   ]
  },
  {
   "cell_type": "markdown",
   "metadata": {},
   "source": [
    "### Focusing on Buyer Retail Last Orders Dollars"
   ]
  },
  {
   "cell_type": "code",
   "execution_count": 232,
   "metadata": {
    "collapsed": true
   },
   "outputs": [],
   "source": [
    "interested_dataset['Buyer_Reatil_Last_Order_Dollars'] = interested_dataset['Byr_Ret_Dollars_U324482'].fillna(0.0)"
   ]
  },
  {
   "cell_type": "code",
   "execution_count": 233,
   "metadata": {
    "collapsed": true
   },
   "outputs": [],
   "source": [
    "interested_dataset = interested_dataset.drop(['Byr_Ret_Dollars_U324482'], axis = 1)"
   ]
  },
  {
   "cell_type": "markdown",
   "metadata": {},
   "source": [
    "### Cleaning up Women Clothes Number of Items"
   ]
  },
  {
   "cell_type": "code",
   "execution_count": 234,
   "metadata": {
    "collapsed": true
   },
   "outputs": [],
   "source": [
    "interested_dataset['wc_num_items'] = interested_dataset['wc_num_items'].fillna('U')"
   ]
  },
  {
   "cell_type": "code",
   "execution_count": 235,
   "metadata": {
    "collapsed": true
   },
   "outputs": [],
   "source": [
    "interested_dataset['wc_num_items'] = np.where(interested_dataset['wc_num_items'] == 'U', interested_dataset['wc_bought_any'], interested_dataset['wc_num_items'])"
   ]
  },
  {
   "cell_type": "markdown",
   "metadata": {},
   "source": [
    "### Cleaning up Women Clothes Big Ticket Number of Items"
   ]
  },
  {
   "cell_type": "code",
   "execution_count": 236,
   "metadata": {
    "collapsed": true
   },
   "outputs": [],
   "source": [
    "interested_dataset['wc_big_ticket_num_items'] = interested_dataset['wc_big_ticket_num_items'].fillna('U')"
   ]
  },
  {
   "cell_type": "code",
   "execution_count": 237,
   "metadata": {
    "collapsed": true
   },
   "outputs": [],
   "source": [
    "interested_dataset['wc_big_ticket_num_items'] = np.where(interested_dataset['wc_big_ticket_num_items'] == 'U', interested_dataset['wc_big_ticket_bought_any'], interested_dataset['wc_big_ticket_num_items'])"
   ]
  },
  {
   "cell_type": "markdown",
   "metadata": {},
   "source": [
    "### Cleaning up Women Clothes Small Ticket Number of Items"
   ]
  },
  {
   "cell_type": "code",
   "execution_count": 238,
   "metadata": {
    "collapsed": true
   },
   "outputs": [],
   "source": [
    "interested_dataset['wc_low_ticket_num_items'] = interested_dataset['wc_low_ticket_num_items'].fillna('U')"
   ]
  },
  {
   "cell_type": "code",
   "execution_count": 239,
   "metadata": {
    "collapsed": true
   },
   "outputs": [],
   "source": [
    "interested_dataset['wc_low_ticket_num_items'] = np.where(interested_dataset['wc_low_ticket_num_items'] == 'U', interested_dataset['wc_low_ticket_bought_any'], interested_dataset['wc_low_ticket_num_items'])"
   ]
  },
  {
   "cell_type": "markdown",
   "metadata": {},
   "source": [
    "### Cleaning up Women Clothes Big Ticket Amount Spent"
   ]
  },
  {
   "cell_type": "code",
   "execution_count": 240,
   "metadata": {
    "collapsed": true
   },
   "outputs": [],
   "source": [
    "interested_dataset['wc_big_ticket_amt_spent'] = interested_dataset['wc_big_ticket_amt_spent'].fillna('U')"
   ]
  },
  {
   "cell_type": "code",
   "execution_count": 241,
   "metadata": {
    "collapsed": true
   },
   "outputs": [],
   "source": [
    "interested_dataset['wc_big_ticket_amt_spent'] = np.where(interested_dataset['wc_big_ticket_amt_spent'] == 'U', interested_dataset['wc_big_ticket_bought_any'], interested_dataset['wc_big_ticket_amt_spent'])"
   ]
  },
  {
   "cell_type": "markdown",
   "metadata": {},
   "source": [
    "### Cleaning up Women Clothes Low Ticket Amount Spent"
   ]
  },
  {
   "cell_type": "code",
   "execution_count": 242,
   "metadata": {
    "collapsed": true
   },
   "outputs": [],
   "source": [
    "interested_dataset['wc_low_ticket_amt_spent'] = interested_dataset['wc_low_ticket_amt_spent'].fillna('U')"
   ]
  },
  {
   "cell_type": "code",
   "execution_count": 243,
   "metadata": {
    "collapsed": true
   },
   "outputs": [],
   "source": [
    "interested_dataset['wc_low_ticket_amt_spent'] = np.where(interested_dataset['wc_low_ticket_amt_spent'] == 'U', interested_dataset['wc_low_ticket_bought_any'], interested_dataset['wc_low_ticket_amt_spent'])"
   ]
  },
  {
   "cell_type": "markdown",
   "metadata": {},
   "source": [
    "### Filtering out the Final Dataset"
   ]
  },
  {
   "cell_type": "code",
   "execution_count": 244,
   "metadata": {},
   "outputs": [
    {
     "data": {
      "text/plain": [
       "(48646, 65)"
      ]
     },
     "execution_count": 244,
     "metadata": {},
     "output_type": "execute_result"
    }
   ],
   "source": [
    "interested_dataset.shape"
   ]
  },
  {
   "cell_type": "code",
   "execution_count": 245,
   "metadata": {
    "collapsed": true
   },
   "outputs": [],
   "source": [
    "for i in range(len(interested_dataset)):\n",
    "    \n",
    "    if interested_dataset['Marital_Status'][i] == 'U':\n",
    "        \n",
    "         if interested_dataset['Homeowner_Status'][i] == 'U':\n",
    "            \n",
    "             if interested_dataset['Dwelling_Type'][i] == 'U':\n",
    "                \n",
    "                 if interested_dataset['Gender'][i] == 'U':\n",
    "                    \n",
    "                     if interested_dataset['Age'][i] == 'U':\n",
    "                            \n",
    "                            interested_dataset = interested_dataset.drop(i)"
   ]
  },
  {
   "cell_type": "markdown",
   "metadata": {},
   "source": [
    "### Writing out into CSV"
   ]
  },
  {
   "cell_type": "code",
   "execution_count": 246,
   "metadata": {
    "collapsed": true
   },
   "outputs": [],
   "source": [
    "interested_dataset.to_csv('final_dataset.csv', index = False)"
   ]
  }
 ],
 "metadata": {
  "kernelspec": {
   "display_name": "Python 3",
   "language": "python",
   "name": "python3"
  },
  "language_info": {
   "codemirror_mode": {
    "name": "ipython",
    "version": 3
   },
   "file_extension": ".py",
   "mimetype": "text/x-python",
   "name": "python",
   "nbconvert_exporter": "python",
   "pygments_lexer": "ipython3",
   "version": "3.6.2"
  }
 },
 "nbformat": 4,
 "nbformat_minor": 2
}
