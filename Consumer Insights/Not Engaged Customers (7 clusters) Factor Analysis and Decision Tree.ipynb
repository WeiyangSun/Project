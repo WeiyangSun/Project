{
 "cells": [
  {
   "cell_type": "code",
   "execution_count": 162,
   "metadata": {
    "collapsed": true
   },
   "outputs": [],
   "source": [
    "import pandas as pd\n",
    "import numpy as np\n",
    "import matplotlib.pyplot as plt\n",
    "\n",
    "import os\n",
    "\n",
    "from sklearn.model_selection import train_test_split\n",
    "from sklearn.linear_model import LogisticRegression\n",
    "from sklearn import cluster, tree\n",
    "\n",
    "from sklearn.metrics import confusion_matrix\n",
    "from sklearn.externals.six import StringIO\n",
    "\n",
    "from sklearn.decomposition import FactorAnalysis\n",
    "\n",
    "import pydot\n",
    "import seaborn as sns"
   ]
  },
  {
   "cell_type": "code",
   "execution_count": 163,
   "metadata": {
    "collapsed": true
   },
   "outputs": [],
   "source": [
    "pd.set_option('display.width', 4000)\n",
    "pd.set_option('max_colwidth', 4000)\n",
    "pd.set_option('max_columns', 200)\n",
    "pd.set_option('max_rows', 200)"
   ]
  },
  {
   "cell_type": "code",
   "execution_count": 164,
   "metadata": {
    "collapsed": true
   },
   "outputs": [],
   "source": [
    "os.chdir('/Users/Weiyang/Desktop/Morris Hitte Customer Insights')"
   ]
  },
  {
   "cell_type": "code",
   "execution_count": 165,
   "metadata": {
    "collapsed": true
   },
   "outputs": [],
   "source": [
    "dataset = pd.read_csv('not_engaged_customers_dataset_7_clusters.csv', low_memory = False)"
   ]
  },
  {
   "cell_type": "code",
   "execution_count": 166,
   "metadata": {},
   "outputs": [
    {
     "data": {
      "text/html": [
       "<div>\n",
       "<style>\n",
       "    .dataframe thead tr:only-child th {\n",
       "        text-align: right;\n",
       "    }\n",
       "\n",
       "    .dataframe thead th {\n",
       "        text-align: left;\n",
       "    }\n",
       "\n",
       "    .dataframe tbody tr th {\n",
       "        vertical-align: top;\n",
       "    }\n",
       "</style>\n",
       "<table border=\"1\" class=\"dataframe\">\n",
       "  <thead>\n",
       "    <tr style=\"text-align: right;\">\n",
       "      <th></th>\n",
       "      <th>dataright_seq</th>\n",
       "      <th>Loyalty</th>\n",
       "      <th>RFM_score</th>\n",
       "      <th>wc_bought_any</th>\n",
       "      <th>wc_num_items</th>\n",
       "      <th>wc_big_ticket_bought_any</th>\n",
       "      <th>wc_big_ticket_num_items</th>\n",
       "      <th>wc_low_ticket_bought_any</th>\n",
       "      <th>wc_low_ticket_num_items</th>\n",
       "      <th>wc_big_ticket_amt_spent</th>\n",
       "      <th>wc_low_ticket_amt_spent</th>\n",
       "      <th>client_times_shopped_30_days</th>\n",
       "      <th>client_shopped_3_mos</th>\n",
       "      <th>comp1_times_shopped_30_days</th>\n",
       "      <th>comp1_shopped_3_mos</th>\n",
       "      <th>comp2_times_shopped_30_days</th>\n",
       "      <th>comp2_shopped_3_mos</th>\n",
       "      <th>comp3_times_shopped_30_days</th>\n",
       "      <th>comp3_shopped_3_mos</th>\n",
       "      <th>Marital_Status</th>\n",
       "      <th>Homeowner_Status</th>\n",
       "      <th>Dwelling_Type</th>\n",
       "      <th>Gender</th>\n",
       "      <th>Age</th>\n",
       "      <th>Num_Adults</th>\n",
       "      <th>Num_Children</th>\n",
       "      <th>Child_0_2</th>\n",
       "      <th>Child_3_5</th>\n",
       "      <th>Child_6_10</th>\n",
       "      <th>Child_11_15</th>\n",
       "      <th>Child_16_18</th>\n",
       "      <th>Race</th>\n",
       "      <th>HH_Income</th>\n",
       "      <th>Eff_Income</th>\n",
       "      <th>Socioeconomic_Score</th>\n",
       "      <th>ZIP_Income</th>\n",
       "      <th>Dual_Income</th>\n",
       "      <th>Home_Market_Value</th>\n",
       "      <th>Net_Worth</th>\n",
       "      <th>Mail_Order_Buyer</th>\n",
       "      <th>Mail_Ord_Books</th>\n",
       "      <th>Mail_Ord_BooksMags</th>\n",
       "      <th>Mail_Ord_Child_Prod</th>\n",
       "      <th>Mail_Ord_Clothes</th>\n",
       "      <th>Mail_Ord_Cosmetic</th>\n",
       "      <th>Mail_Ord_Food</th>\n",
       "      <th>Mail_Ord_Gifts</th>\n",
       "      <th>Mail_Ord_Furniture</th>\n",
       "      <th>Mail_Ord_Mags</th>\n",
       "      <th>Mail_Ord_Others</th>\n",
       "      <th>Mail_Ord_Jewel</th>\n",
       "      <th>Mail_Ord_Big_Clothes</th>\n",
       "      <th>Mail_Ord_DVD</th>\n",
       "      <th>Mail_Order_Response</th>\n",
       "      <th>Occupation</th>\n",
       "      <th>Education</th>\n",
       "      <th>State</th>\n",
       "      <th>Est_HH_Debt_Level</th>\n",
       "      <th>Est_HH_Invest_Asset</th>\n",
       "      <th>Len_of_Residence</th>\n",
       "      <th>Bank_Card_New_Issue_Year</th>\n",
       "      <th>Bank_Card</th>\n",
       "      <th>Retail_Card</th>\n",
       "      <th>Buyer_Retail_Last_Order_2yrs</th>\n",
       "      <th>Buyer_Retail_Last_Order_1yrs</th>\n",
       "      <th>Buyer_Reatil_Last_Order_Quantity</th>\n",
       "      <th>Buyer_Reatil_Last_Order_Dollars</th>\n",
       "      <th>client_shopped_30_days</th>\n",
       "      <th>comp1_shopped_30_days</th>\n",
       "      <th>comp2_shopped_30_days</th>\n",
       "      <th>comp3_shopped_30_days</th>\n",
       "      <th>Cluster</th>\n",
       "    </tr>\n",
       "  </thead>\n",
       "  <tbody>\n",
       "    <tr>\n",
       "      <th>0</th>\n",
       "      <td>2517</td>\n",
       "      <td>0</td>\n",
       "      <td>0</td>\n",
       "      <td>0</td>\n",
       "      <td>0</td>\n",
       "      <td>0</td>\n",
       "      <td>0</td>\n",
       "      <td>0</td>\n",
       "      <td>0</td>\n",
       "      <td>0</td>\n",
       "      <td>0</td>\n",
       "      <td>U</td>\n",
       "      <td>0</td>\n",
       "      <td>U</td>\n",
       "      <td>0</td>\n",
       "      <td>U</td>\n",
       "      <td>0</td>\n",
       "      <td>U</td>\n",
       "      <td>0</td>\n",
       "      <td>M</td>\n",
       "      <td>O</td>\n",
       "      <td>S</td>\n",
       "      <td>M</td>\n",
       "      <td>A</td>\n",
       "      <td>5</td>\n",
       "      <td>0</td>\n",
       "      <td>0</td>\n",
       "      <td>0</td>\n",
       "      <td>0</td>\n",
       "      <td>0</td>\n",
       "      <td>0</td>\n",
       "      <td>B</td>\n",
       "      <td>D</td>\n",
       "      <td>B</td>\n",
       "      <td>B</td>\n",
       "      <td>9</td>\n",
       "      <td>Y</td>\n",
       "      <td>E</td>\n",
       "      <td>E</td>\n",
       "      <td>M</td>\n",
       "      <td>0</td>\n",
       "      <td>0</td>\n",
       "      <td>0</td>\n",
       "      <td>0</td>\n",
       "      <td>0</td>\n",
       "      <td>0</td>\n",
       "      <td>0</td>\n",
       "      <td>0</td>\n",
       "      <td>0</td>\n",
       "      <td>0</td>\n",
       "      <td>0</td>\n",
       "      <td>0</td>\n",
       "      <td>0</td>\n",
       "      <td>M</td>\n",
       "      <td>U</td>\n",
       "      <td>U</td>\n",
       "      <td>CT</td>\n",
       "      <td>C</td>\n",
       "      <td>C</td>\n",
       "      <td>NaN</td>\n",
       "      <td>U</td>\n",
       "      <td>U</td>\n",
       "      <td>U</td>\n",
       "      <td>Y</td>\n",
       "      <td>N</td>\n",
       "      <td>1</td>\n",
       "      <td>80</td>\n",
       "      <td>0</td>\n",
       "      <td>0</td>\n",
       "      <td>0</td>\n",
       "      <td>0</td>\n",
       "      <td>2</td>\n",
       "    </tr>\n",
       "    <tr>\n",
       "      <th>1</th>\n",
       "      <td>2522</td>\n",
       "      <td>0</td>\n",
       "      <td>0</td>\n",
       "      <td>0</td>\n",
       "      <td>0</td>\n",
       "      <td>0</td>\n",
       "      <td>0</td>\n",
       "      <td>0</td>\n",
       "      <td>0</td>\n",
       "      <td>0</td>\n",
       "      <td>0</td>\n",
       "      <td>U</td>\n",
       "      <td>0</td>\n",
       "      <td>U</td>\n",
       "      <td>0</td>\n",
       "      <td>U</td>\n",
       "      <td>0</td>\n",
       "      <td>U</td>\n",
       "      <td>0</td>\n",
       "      <td>S</td>\n",
       "      <td>U</td>\n",
       "      <td>S</td>\n",
       "      <td>M</td>\n",
       "      <td>D</td>\n",
       "      <td>4</td>\n",
       "      <td>0</td>\n",
       "      <td>0</td>\n",
       "      <td>0</td>\n",
       "      <td>0</td>\n",
       "      <td>0</td>\n",
       "      <td>0</td>\n",
       "      <td>W</td>\n",
       "      <td>C</td>\n",
       "      <td>B</td>\n",
       "      <td>B</td>\n",
       "      <td>9</td>\n",
       "      <td>Y</td>\n",
       "      <td>A</td>\n",
       "      <td>E</td>\n",
       "      <td>M</td>\n",
       "      <td>0</td>\n",
       "      <td>0</td>\n",
       "      <td>0</td>\n",
       "      <td>0</td>\n",
       "      <td>0</td>\n",
       "      <td>0</td>\n",
       "      <td>0</td>\n",
       "      <td>0</td>\n",
       "      <td>0</td>\n",
       "      <td>0</td>\n",
       "      <td>0</td>\n",
       "      <td>0</td>\n",
       "      <td>0</td>\n",
       "      <td>M</td>\n",
       "      <td>U</td>\n",
       "      <td>U</td>\n",
       "      <td>CT</td>\n",
       "      <td>G</td>\n",
       "      <td>E</td>\n",
       "      <td>15.0</td>\n",
       "      <td>8</td>\n",
       "      <td>M</td>\n",
       "      <td>M</td>\n",
       "      <td>N</td>\n",
       "      <td>N</td>\n",
       "      <td>0</td>\n",
       "      <td>0</td>\n",
       "      <td>0</td>\n",
       "      <td>0</td>\n",
       "      <td>0</td>\n",
       "      <td>0</td>\n",
       "      <td>0</td>\n",
       "    </tr>\n",
       "    <tr>\n",
       "      <th>2</th>\n",
       "      <td>3526</td>\n",
       "      <td>0</td>\n",
       "      <td>0</td>\n",
       "      <td>0</td>\n",
       "      <td>0</td>\n",
       "      <td>0</td>\n",
       "      <td>0</td>\n",
       "      <td>0</td>\n",
       "      <td>0</td>\n",
       "      <td>0</td>\n",
       "      <td>0</td>\n",
       "      <td>U</td>\n",
       "      <td>0</td>\n",
       "      <td>C</td>\n",
       "      <td>1</td>\n",
       "      <td>U</td>\n",
       "      <td>0</td>\n",
       "      <td>U</td>\n",
       "      <td>0</td>\n",
       "      <td>S</td>\n",
       "      <td>O</td>\n",
       "      <td>S</td>\n",
       "      <td>M</td>\n",
       "      <td>F</td>\n",
       "      <td>1</td>\n",
       "      <td>1</td>\n",
       "      <td>0</td>\n",
       "      <td>0</td>\n",
       "      <td>0</td>\n",
       "      <td>1</td>\n",
       "      <td>0</td>\n",
       "      <td>A</td>\n",
       "      <td>E</td>\n",
       "      <td>C</td>\n",
       "      <td>C</td>\n",
       "      <td>7</td>\n",
       "      <td>Y</td>\n",
       "      <td>H</td>\n",
       "      <td>H</td>\n",
       "      <td>M</td>\n",
       "      <td>1</td>\n",
       "      <td>1</td>\n",
       "      <td>1</td>\n",
       "      <td>1</td>\n",
       "      <td>0</td>\n",
       "      <td>1</td>\n",
       "      <td>0</td>\n",
       "      <td>0</td>\n",
       "      <td>1</td>\n",
       "      <td>1</td>\n",
       "      <td>0</td>\n",
       "      <td>0</td>\n",
       "      <td>1</td>\n",
       "      <td>M</td>\n",
       "      <td>U</td>\n",
       "      <td>2</td>\n",
       "      <td>NJ</td>\n",
       "      <td>B</td>\n",
       "      <td>I</td>\n",
       "      <td>15.0</td>\n",
       "      <td>1</td>\n",
       "      <td>M</td>\n",
       "      <td>M</td>\n",
       "      <td>N</td>\n",
       "      <td>N</td>\n",
       "      <td>0</td>\n",
       "      <td>0</td>\n",
       "      <td>0</td>\n",
       "      <td>1</td>\n",
       "      <td>0</td>\n",
       "      <td>0</td>\n",
       "      <td>0</td>\n",
       "    </tr>\n",
       "    <tr>\n",
       "      <th>3</th>\n",
       "      <td>3529</td>\n",
       "      <td>0</td>\n",
       "      <td>0</td>\n",
       "      <td>0</td>\n",
       "      <td>0</td>\n",
       "      <td>0</td>\n",
       "      <td>0</td>\n",
       "      <td>0</td>\n",
       "      <td>0</td>\n",
       "      <td>0</td>\n",
       "      <td>0</td>\n",
       "      <td>U</td>\n",
       "      <td>0</td>\n",
       "      <td>U</td>\n",
       "      <td>0</td>\n",
       "      <td>U</td>\n",
       "      <td>0</td>\n",
       "      <td>U</td>\n",
       "      <td>0</td>\n",
       "      <td>S</td>\n",
       "      <td>O</td>\n",
       "      <td>S</td>\n",
       "      <td>M</td>\n",
       "      <td>F</td>\n",
       "      <td>1</td>\n",
       "      <td>0</td>\n",
       "      <td>0</td>\n",
       "      <td>0</td>\n",
       "      <td>0</td>\n",
       "      <td>0</td>\n",
       "      <td>0</td>\n",
       "      <td>W</td>\n",
       "      <td>C</td>\n",
       "      <td>C</td>\n",
       "      <td>C</td>\n",
       "      <td>3</td>\n",
       "      <td>Y</td>\n",
       "      <td>H</td>\n",
       "      <td>G</td>\n",
       "      <td>N</td>\n",
       "      <td>0</td>\n",
       "      <td>0</td>\n",
       "      <td>0</td>\n",
       "      <td>0</td>\n",
       "      <td>0</td>\n",
       "      <td>0</td>\n",
       "      <td>0</td>\n",
       "      <td>0</td>\n",
       "      <td>0</td>\n",
       "      <td>0</td>\n",
       "      <td>0</td>\n",
       "      <td>0</td>\n",
       "      <td>0</td>\n",
       "      <td>M</td>\n",
       "      <td>U</td>\n",
       "      <td>2</td>\n",
       "      <td>NJ</td>\n",
       "      <td>C</td>\n",
       "      <td>G</td>\n",
       "      <td>10.0</td>\n",
       "      <td>2</td>\n",
       "      <td>M</td>\n",
       "      <td>M</td>\n",
       "      <td>N</td>\n",
       "      <td>N</td>\n",
       "      <td>0</td>\n",
       "      <td>0</td>\n",
       "      <td>0</td>\n",
       "      <td>0</td>\n",
       "      <td>0</td>\n",
       "      <td>0</td>\n",
       "      <td>0</td>\n",
       "    </tr>\n",
       "    <tr>\n",
       "      <th>4</th>\n",
       "      <td>3531</td>\n",
       "      <td>0</td>\n",
       "      <td>0</td>\n",
       "      <td>0</td>\n",
       "      <td>0</td>\n",
       "      <td>0</td>\n",
       "      <td>0</td>\n",
       "      <td>0</td>\n",
       "      <td>0</td>\n",
       "      <td>0</td>\n",
       "      <td>0</td>\n",
       "      <td>U</td>\n",
       "      <td>0</td>\n",
       "      <td>U</td>\n",
       "      <td>0</td>\n",
       "      <td>U</td>\n",
       "      <td>0</td>\n",
       "      <td>U</td>\n",
       "      <td>0</td>\n",
       "      <td>M</td>\n",
       "      <td>O</td>\n",
       "      <td>S</td>\n",
       "      <td>M</td>\n",
       "      <td>F</td>\n",
       "      <td>3</td>\n",
       "      <td>0</td>\n",
       "      <td>0</td>\n",
       "      <td>0</td>\n",
       "      <td>0</td>\n",
       "      <td>0</td>\n",
       "      <td>0</td>\n",
       "      <td>W</td>\n",
       "      <td>E</td>\n",
       "      <td>C</td>\n",
       "      <td>C</td>\n",
       "      <td>6</td>\n",
       "      <td>N</td>\n",
       "      <td>G</td>\n",
       "      <td>G</td>\n",
       "      <td>M</td>\n",
       "      <td>0</td>\n",
       "      <td>0</td>\n",
       "      <td>1</td>\n",
       "      <td>1</td>\n",
       "      <td>0</td>\n",
       "      <td>1</td>\n",
       "      <td>1</td>\n",
       "      <td>0</td>\n",
       "      <td>0</td>\n",
       "      <td>0</td>\n",
       "      <td>0</td>\n",
       "      <td>0</td>\n",
       "      <td>0</td>\n",
       "      <td>M</td>\n",
       "      <td>H</td>\n",
       "      <td>2</td>\n",
       "      <td>NJ</td>\n",
       "      <td>H</td>\n",
       "      <td>F</td>\n",
       "      <td>15.0</td>\n",
       "      <td>U</td>\n",
       "      <td>M</td>\n",
       "      <td>M</td>\n",
       "      <td>N</td>\n",
       "      <td>N</td>\n",
       "      <td>0</td>\n",
       "      <td>0</td>\n",
       "      <td>0</td>\n",
       "      <td>0</td>\n",
       "      <td>0</td>\n",
       "      <td>0</td>\n",
       "      <td>6</td>\n",
       "    </tr>\n",
       "  </tbody>\n",
       "</table>\n",
       "</div>"
      ],
      "text/plain": [
       "   dataright_seq  Loyalty  RFM_score  wc_bought_any wc_num_items  wc_big_ticket_bought_any wc_big_ticket_num_items  wc_low_ticket_bought_any wc_low_ticket_num_items  wc_big_ticket_amt_spent  wc_low_ticket_amt_spent client_times_shopped_30_days  client_shopped_3_mos comp1_times_shopped_30_days  comp1_shopped_3_mos comp2_times_shopped_30_days  comp2_shopped_3_mos comp3_times_shopped_30_days  comp3_shopped_3_mos Marital_Status Homeowner_Status Dwelling_Type Gender Age  Num_Adults  Num_Children  Child_0_2  Child_3_5  Child_6_10  Child_11_15  Child_16_18 Race HH_Income Eff_Income Socioeconomic_Score  ZIP_Income Dual_Income Home_Market_Value Net_Worth Mail_Order_Buyer  Mail_Ord_Books  Mail_Ord_BooksMags  Mail_Ord_Child_Prod  Mail_Ord_Clothes  Mail_Ord_Cosmetic  Mail_Ord_Food  Mail_Ord_Gifts  Mail_Ord_Furniture  Mail_Ord_Mags  Mail_Ord_Others  Mail_Ord_Jewel  Mail_Ord_Big_Clothes  Mail_Ord_DVD Mail_Order_Response Occupation Education State Est_HH_Debt_Level Est_HH_Invest_Asset  Len_of_Residence Bank_Card_New_Issue_Year Bank_Card Retail_Card Buyer_Retail_Last_Order_2yrs Buyer_Retail_Last_Order_1yrs  Buyer_Reatil_Last_Order_Quantity  Buyer_Reatil_Last_Order_Dollars  client_shopped_30_days  comp1_shopped_30_days  comp2_shopped_30_days  comp3_shopped_30_days  Cluster\n",
       "0           2517        0          0              0            0                         0                       0                         0                       0                        0                        0                            U                     0                           U                    0                           U                    0                           U                    0              M                O             S      M   A           5             0          0          0           0            0            0    B         D          B                   B           9           Y                 E         E                M               0                   0                    0                 0                  0              0               0                   0              0                0               0                     0             0                   M          U         U    CT                 C                   C               NaN                        U         U           U                            Y                            N                                 1                               80                       0                      0                      0                      0        2\n",
       "1           2522        0          0              0            0                         0                       0                         0                       0                        0                        0                            U                     0                           U                    0                           U                    0                           U                    0              S                U             S      M   D           4             0          0          0           0            0            0    W         C          B                   B           9           Y                 A         E                M               0                   0                    0                 0                  0              0               0                   0              0                0               0                     0             0                   M          U         U    CT                 G                   E              15.0                        8         M           M                            N                            N                                 0                                0                       0                      0                      0                      0        0\n",
       "2           3526        0          0              0            0                         0                       0                         0                       0                        0                        0                            U                     0                           C                    1                           U                    0                           U                    0              S                O             S      M   F           1             1          0          0           0            1            0    A         E          C                   C           7           Y                 H         H                M               1                   1                    1                 1                  0              1               0                   0              1                1               0                     0             1                   M          U         2    NJ                 B                   I              15.0                        1         M           M                            N                            N                                 0                                0                       0                      1                      0                      0        0\n",
       "3           3529        0          0              0            0                         0                       0                         0                       0                        0                        0                            U                     0                           U                    0                           U                    0                           U                    0              S                O             S      M   F           1             0          0          0           0            0            0    W         C          C                   C           3           Y                 H         G                N               0                   0                    0                 0                  0              0               0                   0              0                0               0                     0             0                   M          U         2    NJ                 C                   G              10.0                        2         M           M                            N                            N                                 0                                0                       0                      0                      0                      0        0\n",
       "4           3531        0          0              0            0                         0                       0                         0                       0                        0                        0                            U                     0                           U                    0                           U                    0                           U                    0              M                O             S      M   F           3             0          0          0           0            0            0    W         E          C                   C           6           N                 G         G                M               0                   0                    1                 1                  0              1               1                   0              0                0               0                     0             0                   M          H         2    NJ                 H                   F              15.0                        U         M           M                            N                            N                                 0                                0                       0                      0                      0                      0        6"
      ]
     },
     "execution_count": 166,
     "metadata": {},
     "output_type": "execute_result"
    }
   ],
   "source": [
    "dataset.head()"
   ]
  },
  {
   "cell_type": "code",
   "execution_count": 167,
   "metadata": {},
   "outputs": [],
   "source": [
    "dataset['Shopped_in_30_days'] = np.where(dataset['client_shopped_30_days'] == 0, dataset['comp1_shopped_30_days'], dataset['client_shopped_30_days'])\n",
    "dataset['Shopped_in_30_days'] = np.where(dataset['Shopped_in_30_days'] == 0, dataset['comp2_shopped_30_days'], dataset['Shopped_in_30_days'])\n",
    "dataset['Shopped_in_30_days'] = np.where(dataset['Shopped_in_30_days'] == 0, dataset['comp3_shopped_30_days'], dataset['Shopped_in_30_days'])"
   ]
  },
  {
   "cell_type": "code",
   "execution_count": 168,
   "metadata": {},
   "outputs": [
    {
     "data": {
      "text/plain": [
       "0    20054\n",
       "1      483\n",
       "Name: Shopped_in_30_days, dtype: int64"
      ]
     },
     "execution_count": 168,
     "metadata": {},
     "output_type": "execute_result"
    }
   ],
   "source": [
    "dataset['Shopped_in_30_days'].value_counts()"
   ]
  },
  {
   "cell_type": "code",
   "execution_count": 169,
   "metadata": {
    "collapsed": true
   },
   "outputs": [],
   "source": [
    "data_list = []\n",
    "for row in dataset['Retail_Card']:\n",
    "    if row == 'N' or row == 'U':\n",
    "        data_list.append(0)\n",
    "    else:\n",
    "        data_list.append(1)\n",
    "        \n",
    "data_list = pd.DataFrame(data_list, columns = ['Has_Retail_Cards'])\n",
    "\n",
    "dataset = pd.concat([data_list, dataset], axis = 1)\n",
    "dataset = dataset.drop(['Retail_Card'], axis = 1)"
   ]
  },
  {
   "cell_type": "code",
   "execution_count": 171,
   "metadata": {
    "collapsed": true
   },
   "outputs": [],
   "source": [
    "result1 = dataset[dataset['Cluster'] == 1]\n",
    "\n",
    "new_list = ['Shopped_in_30_days',\n",
    "'Mail_Order_Buyer', \n",
    "'Mail_Ord_Clothes',\n",
    "'Mail_Ord_Cosmetic',\n",
    "'Mail_Ord_Gifts',\n",
    "'Mail_Ord_Big_Clothes',\n",
    "'Mail_Order_Response',\n",
    "'Has_Retail_Cards']\n",
    "\n",
    "result1 = result1[new_list].reset_index()\n",
    "\n",
    "result1 = result1.drop(['index'], axis = 1)\n",
    "\n",
    "result1 = pd.get_dummies(result1)\n",
    "\n",
    "result1.to_csv('not_engaged_cluster1_log_reg.csv', index = False)"
   ]
  },
  {
   "cell_type": "code",
   "execution_count": 172,
   "metadata": {
    "collapsed": true
   },
   "outputs": [],
   "source": [
    "result3 = dataset[dataset['Cluster'] == 3]\n",
    "\n",
    "new_list = ['Shopped_in_30_days',\n",
    "'Mail_Order_Buyer', \n",
    "'Mail_Ord_Clothes',\n",
    "'Mail_Ord_Cosmetic',\n",
    "'Mail_Ord_Gifts',\n",
    "'Mail_Ord_Big_Clothes',\n",
    "'Mail_Order_Response',\n",
    "'Has_Retail_Cards']\n",
    "\n",
    "result3 = result3[new_list].reset_index()\n",
    "\n",
    "result3 = result3.drop(['index'], axis = 1)\n",
    "\n",
    "result3 = pd.get_dummies(result3)\n",
    "\n",
    "result3.to_csv('not_engaged_cluster3_log_reg.csv', index = False)"
   ]
  },
  {
   "cell_type": "code",
   "execution_count": 173,
   "metadata": {
    "collapsed": true
   },
   "outputs": [],
   "source": [
    "result4 = dataset[dataset['Cluster'] == 4]\n",
    "\n",
    "new_list = ['Shopped_in_30_days',\n",
    "'Mail_Order_Buyer', \n",
    "'Mail_Ord_Clothes',\n",
    "'Mail_Ord_Cosmetic',\n",
    "'Mail_Ord_Gifts',\n",
    "'Mail_Ord_Big_Clothes',\n",
    "'Mail_Order_Response',\n",
    "'Has_Retail_Cards']\n",
    "\n",
    "result4 = result4[new_list].reset_index()\n",
    "\n",
    "result4 = result4.drop(['index'], axis = 1)\n",
    "\n",
    "result4 = pd.get_dummies(result4)\n",
    "\n",
    "result4.to_csv('not_engaged_cluster4_log_reg.csv', index = False)"
   ]
  },
  {
   "cell_type": "code",
   "execution_count": 6,
   "metadata": {},
   "outputs": [
    {
     "data": {
      "text/plain": [
       "0    20537\n",
       "Name: Loyalty, dtype: int64"
      ]
     },
     "execution_count": 6,
     "metadata": {},
     "output_type": "execute_result"
    }
   ],
   "source": [
    "dataset['Loyalty'].value_counts()"
   ]
  },
  {
   "cell_type": "code",
   "execution_count": 7,
   "metadata": {},
   "outputs": [
    {
     "data": {
      "text/plain": [
       "0    20537\n",
       "Name: RFM_score, dtype: int64"
      ]
     },
     "execution_count": 7,
     "metadata": {},
     "output_type": "execute_result"
    }
   ],
   "source": [
    "dataset['RFM_score'].value_counts()"
   ]
  },
  {
   "cell_type": "code",
   "execution_count": 139,
   "metadata": {},
   "outputs": [
    {
     "data": {
      "text/plain": [
       "0    20231\n",
       "C      220\n",
       "A       43\n",
       "B       43\n",
       "Name: wc_num_items, dtype: int64"
      ]
     },
     "execution_count": 139,
     "metadata": {},
     "output_type": "execute_result"
    }
   ],
   "source": [
    "dataset['wc_num_items'].value_counts()"
   ]
  },
  {
   "cell_type": "code",
   "execution_count": 140,
   "metadata": {},
   "outputs": [
    {
     "data": {
      "text/plain": [
       "0    20310\n",
       "1      227\n",
       "Name: comp1_shopped_3_mos, dtype: int64"
      ]
     },
     "execution_count": 140,
     "metadata": {},
     "output_type": "execute_result"
    }
   ],
   "source": [
    "dataset['comp1_shopped_3_mos'].value_counts()"
   ]
  },
  {
   "cell_type": "code",
   "execution_count": 141,
   "metadata": {},
   "outputs": [
    {
     "data": {
      "text/plain": [
       "0    20377\n",
       "1      160\n",
       "Name: comp2_shopped_3_mos, dtype: int64"
      ]
     },
     "execution_count": 141,
     "metadata": {},
     "output_type": "execute_result"
    }
   ],
   "source": [
    "dataset['comp2_shopped_3_mos'].value_counts()"
   ]
  },
  {
   "cell_type": "code",
   "execution_count": 142,
   "metadata": {},
   "outputs": [
    {
     "data": {
      "text/plain": [
       "0    20356\n",
       "1      181\n",
       "Name: comp3_shopped_3_mos, dtype: int64"
      ]
     },
     "execution_count": 142,
     "metadata": {},
     "output_type": "execute_result"
    }
   ],
   "source": [
    "dataset['comp3_shopped_3_mos'].value_counts()"
   ]
  },
  {
   "cell_type": "code",
   "execution_count": 143,
   "metadata": {},
   "outputs": [
    {
     "data": {
      "text/plain": [
       "M    11163\n",
       "N     7878\n",
       "Y      927\n",
       "P      569\n",
       "Name: Mail_Order_Buyer, dtype: int64"
      ]
     },
     "execution_count": 143,
     "metadata": {},
     "output_type": "execute_result"
    }
   ],
   "source": [
    "dataset['Mail_Order_Buyer'].value_counts()"
   ]
  },
  {
   "cell_type": "code",
   "execution_count": 131,
   "metadata": {},
   "outputs": [
    {
     "data": {
      "text/plain": [
       "0    4762\n",
       "2    4011\n",
       "6    3240\n",
       "1    2941\n",
       "4    2086\n",
       "5    1769\n",
       "3    1728\n",
       "Name: Cluster, dtype: int64"
      ]
     },
     "execution_count": 131,
     "metadata": {},
     "output_type": "execute_result"
    }
   ],
   "source": [
    "dataset['Cluster'].value_counts()"
   ]
  },
  {
   "cell_type": "code",
   "execution_count": 138,
   "metadata": {},
   "outputs": [
    {
     "data": {
      "text/plain": [
       "0.15776403564298583"
      ]
     },
     "execution_count": 138,
     "metadata": {},
     "output_type": "execute_result"
    }
   ],
   "source": [
    "3240/20537"
   ]
  },
  {
   "cell_type": "code",
   "execution_count": 8,
   "metadata": {},
   "outputs": [
    {
     "data": {
      "text/plain": [
       "0    20231\n",
       "C      220\n",
       "A       43\n",
       "B       43\n",
       "Name: wc_num_items, dtype: int64"
      ]
     },
     "execution_count": 8,
     "metadata": {},
     "output_type": "execute_result"
    }
   ],
   "source": [
    "dataset['wc_num_items'].value_counts()"
   ]
  },
  {
   "cell_type": "markdown",
   "metadata": {},
   "source": [
    "### Factor Analysis"
   ]
  },
  {
   "cell_type": "code",
   "execution_count": 9,
   "metadata": {
    "collapsed": true
   },
   "outputs": [],
   "source": [
    "X = dataset.drop(['dataright_seq', 'Len_of_Residence', 'Loyalty', 'RFM_score', 'wc_bought_any', 'wc_num_items', 'wc_big_ticket_bought_any', 'wc_big_ticket_num_items', 'wc_low_ticket_bought_any', 'wc_low_ticket_num_items', 'wc_big_ticket_amt_spent', 'wc_low_ticket_amt_spent', 'client_times_shopped_30_days', 'client_shopped_3_mos', 'comp1_times_shopped_30_days', 'comp1_shopped_3_mos', 'comp2_times_shopped_30_days', 'comp2_shopped_3_mos', 'comp3_times_shopped_30_days', 'comp3_shopped_3_mos', 'Child_0_2', 'Child_3_5', 'Child_6_10', 'Child_11_15', 'Child_16_18', 'Mail_Ord_Books', 'Mail_Ord_BooksMags', 'Mail_Ord_Child_Prod', 'Mail_Ord_Clothes', 'Mail_Ord_Cosmetic', 'Mail_Ord_Food', 'Mail_Ord_Gifts', 'Mail_Ord_Furniture', 'Mail_Ord_Mags', 'Mail_Ord_Others', 'Mail_Ord_Jewel', 'Mail_Ord_Big_Clothes', 'Mail_Ord_DVD', 'client_shopped_30_days', 'comp1_shopped_30_days', 'comp2_shopped_30_days', 'comp3_shopped_30_days', 'Cluster'], axis = 1)"
   ]
  },
  {
   "cell_type": "code",
   "execution_count": 10,
   "metadata": {
    "collapsed": true
   },
   "outputs": [],
   "source": [
    "X = pd.get_dummies(X)"
   ]
  },
  {
   "cell_type": "code",
   "execution_count": 11,
   "metadata": {},
   "outputs": [
    {
     "data": {
      "text/plain": [
       "194"
      ]
     },
     "execution_count": 11,
     "metadata": {},
     "output_type": "execute_result"
    }
   ],
   "source": [
    "len(X.columns)"
   ]
  },
  {
   "cell_type": "code",
   "execution_count": 12,
   "metadata": {
    "collapsed": true
   },
   "outputs": [],
   "source": [
    "Y = dataset['wc_num_items']"
   ]
  },
  {
   "cell_type": "code",
   "execution_count": 13,
   "metadata": {
    "collapsed": true
   },
   "outputs": [],
   "source": [
    "factor = FactorAnalysis(n_components = 81, tol=1e-8, max_iter=10000, random_state = 777).fit(X)"
   ]
  },
  {
   "cell_type": "code",
   "execution_count": 14,
   "metadata": {
    "collapsed": true
   },
   "outputs": [],
   "source": [
    "results = pd.DataFrame(factor.components_, columns=X.columns)"
   ]
  },
  {
   "cell_type": "markdown",
   "metadata": {},
   "source": [
    "### Decision Tree for each Cluster"
   ]
  },
  {
   "cell_type": "code",
   "execution_count": 15,
   "metadata": {
    "collapsed": true
   },
   "outputs": [],
   "source": [
    "cluster0 = dataset[dataset['Cluster'] == 0]"
   ]
  },
  {
   "cell_type": "code",
   "execution_count": 16,
   "metadata": {
    "collapsed": true
   },
   "outputs": [],
   "source": [
    "test_list = ['wc_num_items', 'Num_Adults', 'Num_Children', 'ZIP_Income', 'Buyer_Reatil_Last_Order_Quantity', 'Buyer_Reatil_Last_Order_Dollars', 'Marital_Status', 'Homeowner_Status', 'Dwelling_Type', 'HH_Income', 'Dual_Income', 'Home_Market_Value', 'Net_Worth', 'Mail_Order_Buyer', 'Mail_Order_Response', 'Buyer_Retail_Last_Order_2yrs']"
   ]
  },
  {
   "cell_type": "code",
   "execution_count": 17,
   "metadata": {},
   "outputs": [
    {
     "data": {
      "text/html": [
       "<div>\n",
       "<style>\n",
       "    .dataframe thead tr:only-child th {\n",
       "        text-align: right;\n",
       "    }\n",
       "\n",
       "    .dataframe thead th {\n",
       "        text-align: left;\n",
       "    }\n",
       "\n",
       "    .dataframe tbody tr th {\n",
       "        vertical-align: top;\n",
       "    }\n",
       "</style>\n",
       "<table border=\"1\" class=\"dataframe\">\n",
       "  <thead>\n",
       "    <tr style=\"text-align: right;\">\n",
       "      <th></th>\n",
       "      <th>dataright_seq</th>\n",
       "      <th>Loyalty</th>\n",
       "      <th>RFM_score</th>\n",
       "      <th>wc_bought_any</th>\n",
       "      <th>wc_num_items</th>\n",
       "      <th>wc_big_ticket_bought_any</th>\n",
       "      <th>wc_big_ticket_num_items</th>\n",
       "      <th>wc_low_ticket_bought_any</th>\n",
       "      <th>wc_low_ticket_num_items</th>\n",
       "      <th>wc_big_ticket_amt_spent</th>\n",
       "      <th>wc_low_ticket_amt_spent</th>\n",
       "      <th>client_times_shopped_30_days</th>\n",
       "      <th>client_shopped_3_mos</th>\n",
       "      <th>comp1_times_shopped_30_days</th>\n",
       "      <th>comp1_shopped_3_mos</th>\n",
       "      <th>comp2_times_shopped_30_days</th>\n",
       "      <th>comp2_shopped_3_mos</th>\n",
       "      <th>comp3_times_shopped_30_days</th>\n",
       "      <th>comp3_shopped_3_mos</th>\n",
       "      <th>Marital_Status</th>\n",
       "      <th>Homeowner_Status</th>\n",
       "      <th>Dwelling_Type</th>\n",
       "      <th>Gender</th>\n",
       "      <th>Age</th>\n",
       "      <th>Num_Adults</th>\n",
       "      <th>Num_Children</th>\n",
       "      <th>Child_0_2</th>\n",
       "      <th>Child_3_5</th>\n",
       "      <th>Child_6_10</th>\n",
       "      <th>Child_11_15</th>\n",
       "      <th>Child_16_18</th>\n",
       "      <th>Race</th>\n",
       "      <th>HH_Income</th>\n",
       "      <th>Eff_Income</th>\n",
       "      <th>Socioeconomic_Score</th>\n",
       "      <th>ZIP_Income</th>\n",
       "      <th>Dual_Income</th>\n",
       "      <th>Home_Market_Value</th>\n",
       "      <th>Net_Worth</th>\n",
       "      <th>Mail_Order_Buyer</th>\n",
       "      <th>Mail_Ord_Books</th>\n",
       "      <th>Mail_Ord_BooksMags</th>\n",
       "      <th>Mail_Ord_Child_Prod</th>\n",
       "      <th>Mail_Ord_Clothes</th>\n",
       "      <th>Mail_Ord_Cosmetic</th>\n",
       "      <th>Mail_Ord_Food</th>\n",
       "      <th>Mail_Ord_Gifts</th>\n",
       "      <th>Mail_Ord_Furniture</th>\n",
       "      <th>Mail_Ord_Mags</th>\n",
       "      <th>Mail_Ord_Others</th>\n",
       "      <th>Mail_Ord_Jewel</th>\n",
       "      <th>Mail_Ord_Big_Clothes</th>\n",
       "      <th>Mail_Ord_DVD</th>\n",
       "      <th>Mail_Order_Response</th>\n",
       "      <th>Occupation</th>\n",
       "      <th>Education</th>\n",
       "      <th>State</th>\n",
       "      <th>Est_HH_Debt_Level</th>\n",
       "      <th>Est_HH_Invest_Asset</th>\n",
       "      <th>Len_of_Residence</th>\n",
       "      <th>Bank_Card_New_Issue_Year</th>\n",
       "      <th>Bank_Card</th>\n",
       "      <th>Retail_Card</th>\n",
       "      <th>Buyer_Retail_Last_Order_2yrs</th>\n",
       "      <th>Buyer_Retail_Last_Order_1yrs</th>\n",
       "      <th>Buyer_Reatil_Last_Order_Quantity</th>\n",
       "      <th>Buyer_Reatil_Last_Order_Dollars</th>\n",
       "      <th>client_shopped_30_days</th>\n",
       "      <th>comp1_shopped_30_days</th>\n",
       "      <th>comp2_shopped_30_days</th>\n",
       "      <th>comp3_shopped_30_days</th>\n",
       "      <th>Cluster</th>\n",
       "    </tr>\n",
       "  </thead>\n",
       "  <tbody>\n",
       "    <tr>\n",
       "      <th>1</th>\n",
       "      <td>2522</td>\n",
       "      <td>0</td>\n",
       "      <td>0</td>\n",
       "      <td>0</td>\n",
       "      <td>0</td>\n",
       "      <td>0</td>\n",
       "      <td>0</td>\n",
       "      <td>0</td>\n",
       "      <td>0</td>\n",
       "      <td>0</td>\n",
       "      <td>0</td>\n",
       "      <td>U</td>\n",
       "      <td>0</td>\n",
       "      <td>U</td>\n",
       "      <td>0</td>\n",
       "      <td>U</td>\n",
       "      <td>0</td>\n",
       "      <td>U</td>\n",
       "      <td>0</td>\n",
       "      <td>S</td>\n",
       "      <td>U</td>\n",
       "      <td>S</td>\n",
       "      <td>M</td>\n",
       "      <td>D</td>\n",
       "      <td>4</td>\n",
       "      <td>0</td>\n",
       "      <td>0</td>\n",
       "      <td>0</td>\n",
       "      <td>0</td>\n",
       "      <td>0</td>\n",
       "      <td>0</td>\n",
       "      <td>W</td>\n",
       "      <td>C</td>\n",
       "      <td>B</td>\n",
       "      <td>B</td>\n",
       "      <td>9</td>\n",
       "      <td>Y</td>\n",
       "      <td>A</td>\n",
       "      <td>E</td>\n",
       "      <td>M</td>\n",
       "      <td>0</td>\n",
       "      <td>0</td>\n",
       "      <td>0</td>\n",
       "      <td>0</td>\n",
       "      <td>0</td>\n",
       "      <td>0</td>\n",
       "      <td>0</td>\n",
       "      <td>0</td>\n",
       "      <td>0</td>\n",
       "      <td>0</td>\n",
       "      <td>0</td>\n",
       "      <td>0</td>\n",
       "      <td>0</td>\n",
       "      <td>M</td>\n",
       "      <td>U</td>\n",
       "      <td>U</td>\n",
       "      <td>CT</td>\n",
       "      <td>G</td>\n",
       "      <td>E</td>\n",
       "      <td>15.0</td>\n",
       "      <td>8</td>\n",
       "      <td>M</td>\n",
       "      <td>M</td>\n",
       "      <td>N</td>\n",
       "      <td>N</td>\n",
       "      <td>0</td>\n",
       "      <td>0</td>\n",
       "      <td>0</td>\n",
       "      <td>0</td>\n",
       "      <td>0</td>\n",
       "      <td>0</td>\n",
       "      <td>0</td>\n",
       "    </tr>\n",
       "    <tr>\n",
       "      <th>2</th>\n",
       "      <td>3526</td>\n",
       "      <td>0</td>\n",
       "      <td>0</td>\n",
       "      <td>0</td>\n",
       "      <td>0</td>\n",
       "      <td>0</td>\n",
       "      <td>0</td>\n",
       "      <td>0</td>\n",
       "      <td>0</td>\n",
       "      <td>0</td>\n",
       "      <td>0</td>\n",
       "      <td>U</td>\n",
       "      <td>0</td>\n",
       "      <td>C</td>\n",
       "      <td>1</td>\n",
       "      <td>U</td>\n",
       "      <td>0</td>\n",
       "      <td>U</td>\n",
       "      <td>0</td>\n",
       "      <td>S</td>\n",
       "      <td>O</td>\n",
       "      <td>S</td>\n",
       "      <td>M</td>\n",
       "      <td>F</td>\n",
       "      <td>1</td>\n",
       "      <td>1</td>\n",
       "      <td>0</td>\n",
       "      <td>0</td>\n",
       "      <td>0</td>\n",
       "      <td>1</td>\n",
       "      <td>0</td>\n",
       "      <td>A</td>\n",
       "      <td>E</td>\n",
       "      <td>C</td>\n",
       "      <td>C</td>\n",
       "      <td>7</td>\n",
       "      <td>Y</td>\n",
       "      <td>H</td>\n",
       "      <td>H</td>\n",
       "      <td>M</td>\n",
       "      <td>1</td>\n",
       "      <td>1</td>\n",
       "      <td>1</td>\n",
       "      <td>1</td>\n",
       "      <td>0</td>\n",
       "      <td>1</td>\n",
       "      <td>0</td>\n",
       "      <td>0</td>\n",
       "      <td>1</td>\n",
       "      <td>1</td>\n",
       "      <td>0</td>\n",
       "      <td>0</td>\n",
       "      <td>1</td>\n",
       "      <td>M</td>\n",
       "      <td>U</td>\n",
       "      <td>2</td>\n",
       "      <td>NJ</td>\n",
       "      <td>B</td>\n",
       "      <td>I</td>\n",
       "      <td>15.0</td>\n",
       "      <td>1</td>\n",
       "      <td>M</td>\n",
       "      <td>M</td>\n",
       "      <td>N</td>\n",
       "      <td>N</td>\n",
       "      <td>0</td>\n",
       "      <td>0</td>\n",
       "      <td>0</td>\n",
       "      <td>1</td>\n",
       "      <td>0</td>\n",
       "      <td>0</td>\n",
       "      <td>0</td>\n",
       "    </tr>\n",
       "    <tr>\n",
       "      <th>3</th>\n",
       "      <td>3529</td>\n",
       "      <td>0</td>\n",
       "      <td>0</td>\n",
       "      <td>0</td>\n",
       "      <td>0</td>\n",
       "      <td>0</td>\n",
       "      <td>0</td>\n",
       "      <td>0</td>\n",
       "      <td>0</td>\n",
       "      <td>0</td>\n",
       "      <td>0</td>\n",
       "      <td>U</td>\n",
       "      <td>0</td>\n",
       "      <td>U</td>\n",
       "      <td>0</td>\n",
       "      <td>U</td>\n",
       "      <td>0</td>\n",
       "      <td>U</td>\n",
       "      <td>0</td>\n",
       "      <td>S</td>\n",
       "      <td>O</td>\n",
       "      <td>S</td>\n",
       "      <td>M</td>\n",
       "      <td>F</td>\n",
       "      <td>1</td>\n",
       "      <td>0</td>\n",
       "      <td>0</td>\n",
       "      <td>0</td>\n",
       "      <td>0</td>\n",
       "      <td>0</td>\n",
       "      <td>0</td>\n",
       "      <td>W</td>\n",
       "      <td>C</td>\n",
       "      <td>C</td>\n",
       "      <td>C</td>\n",
       "      <td>3</td>\n",
       "      <td>Y</td>\n",
       "      <td>H</td>\n",
       "      <td>G</td>\n",
       "      <td>N</td>\n",
       "      <td>0</td>\n",
       "      <td>0</td>\n",
       "      <td>0</td>\n",
       "      <td>0</td>\n",
       "      <td>0</td>\n",
       "      <td>0</td>\n",
       "      <td>0</td>\n",
       "      <td>0</td>\n",
       "      <td>0</td>\n",
       "      <td>0</td>\n",
       "      <td>0</td>\n",
       "      <td>0</td>\n",
       "      <td>0</td>\n",
       "      <td>M</td>\n",
       "      <td>U</td>\n",
       "      <td>2</td>\n",
       "      <td>NJ</td>\n",
       "      <td>C</td>\n",
       "      <td>G</td>\n",
       "      <td>10.0</td>\n",
       "      <td>2</td>\n",
       "      <td>M</td>\n",
       "      <td>M</td>\n",
       "      <td>N</td>\n",
       "      <td>N</td>\n",
       "      <td>0</td>\n",
       "      <td>0</td>\n",
       "      <td>0</td>\n",
       "      <td>0</td>\n",
       "      <td>0</td>\n",
       "      <td>0</td>\n",
       "      <td>0</td>\n",
       "    </tr>\n",
       "    <tr>\n",
       "      <th>8</th>\n",
       "      <td>5047</td>\n",
       "      <td>0</td>\n",
       "      <td>0</td>\n",
       "      <td>0</td>\n",
       "      <td>0</td>\n",
       "      <td>0</td>\n",
       "      <td>0</td>\n",
       "      <td>0</td>\n",
       "      <td>0</td>\n",
       "      <td>0</td>\n",
       "      <td>0</td>\n",
       "      <td>U</td>\n",
       "      <td>0</td>\n",
       "      <td>U</td>\n",
       "      <td>0</td>\n",
       "      <td>U</td>\n",
       "      <td>0</td>\n",
       "      <td>U</td>\n",
       "      <td>0</td>\n",
       "      <td>M</td>\n",
       "      <td>O</td>\n",
       "      <td>S</td>\n",
       "      <td>M</td>\n",
       "      <td>C</td>\n",
       "      <td>2</td>\n",
       "      <td>0</td>\n",
       "      <td>0</td>\n",
       "      <td>0</td>\n",
       "      <td>0</td>\n",
       "      <td>0</td>\n",
       "      <td>1</td>\n",
       "      <td>W</td>\n",
       "      <td>B</td>\n",
       "      <td>C</td>\n",
       "      <td>B</td>\n",
       "      <td>1</td>\n",
       "      <td>Y</td>\n",
       "      <td>F</td>\n",
       "      <td>E</td>\n",
       "      <td>M</td>\n",
       "      <td>0</td>\n",
       "      <td>1</td>\n",
       "      <td>0</td>\n",
       "      <td>0</td>\n",
       "      <td>0</td>\n",
       "      <td>0</td>\n",
       "      <td>1</td>\n",
       "      <td>0</td>\n",
       "      <td>0</td>\n",
       "      <td>1</td>\n",
       "      <td>0</td>\n",
       "      <td>0</td>\n",
       "      <td>0</td>\n",
       "      <td>M</td>\n",
       "      <td>U</td>\n",
       "      <td>U</td>\n",
       "      <td>NJ</td>\n",
       "      <td>B</td>\n",
       "      <td>F</td>\n",
       "      <td>15.0</td>\n",
       "      <td>U</td>\n",
       "      <td>M</td>\n",
       "      <td>M</td>\n",
       "      <td>Y</td>\n",
       "      <td>N</td>\n",
       "      <td>1</td>\n",
       "      <td>8</td>\n",
       "      <td>0</td>\n",
       "      <td>0</td>\n",
       "      <td>0</td>\n",
       "      <td>0</td>\n",
       "      <td>0</td>\n",
       "    </tr>\n",
       "    <tr>\n",
       "      <th>12</th>\n",
       "      <td>4804</td>\n",
       "      <td>0</td>\n",
       "      <td>0</td>\n",
       "      <td>0</td>\n",
       "      <td>0</td>\n",
       "      <td>0</td>\n",
       "      <td>0</td>\n",
       "      <td>0</td>\n",
       "      <td>0</td>\n",
       "      <td>0</td>\n",
       "      <td>0</td>\n",
       "      <td>U</td>\n",
       "      <td>0</td>\n",
       "      <td>U</td>\n",
       "      <td>0</td>\n",
       "      <td>U</td>\n",
       "      <td>0</td>\n",
       "      <td>U</td>\n",
       "      <td>0</td>\n",
       "      <td>S</td>\n",
       "      <td>O</td>\n",
       "      <td>S</td>\n",
       "      <td>F</td>\n",
       "      <td>C</td>\n",
       "      <td>1</td>\n",
       "      <td>0</td>\n",
       "      <td>0</td>\n",
       "      <td>0</td>\n",
       "      <td>0</td>\n",
       "      <td>0</td>\n",
       "      <td>0</td>\n",
       "      <td>U</td>\n",
       "      <td>C</td>\n",
       "      <td>B</td>\n",
       "      <td>A</td>\n",
       "      <td>6</td>\n",
       "      <td>Y</td>\n",
       "      <td>C</td>\n",
       "      <td>F</td>\n",
       "      <td>M</td>\n",
       "      <td>1</td>\n",
       "      <td>1</td>\n",
       "      <td>0</td>\n",
       "      <td>1</td>\n",
       "      <td>0</td>\n",
       "      <td>1</td>\n",
       "      <td>0</td>\n",
       "      <td>0</td>\n",
       "      <td>1</td>\n",
       "      <td>0</td>\n",
       "      <td>0</td>\n",
       "      <td>0</td>\n",
       "      <td>0</td>\n",
       "      <td>M</td>\n",
       "      <td>B</td>\n",
       "      <td>1</td>\n",
       "      <td>NJ</td>\n",
       "      <td>C</td>\n",
       "      <td>G</td>\n",
       "      <td>1.0</td>\n",
       "      <td>16</td>\n",
       "      <td>M</td>\n",
       "      <td>M</td>\n",
       "      <td>N</td>\n",
       "      <td>N</td>\n",
       "      <td>0</td>\n",
       "      <td>0</td>\n",
       "      <td>0</td>\n",
       "      <td>0</td>\n",
       "      <td>0</td>\n",
       "      <td>0</td>\n",
       "      <td>0</td>\n",
       "    </tr>\n",
       "  </tbody>\n",
       "</table>\n",
       "</div>"
      ],
      "text/plain": [
       "    dataright_seq  Loyalty  RFM_score  wc_bought_any wc_num_items  wc_big_ticket_bought_any wc_big_ticket_num_items  wc_low_ticket_bought_any wc_low_ticket_num_items  wc_big_ticket_amt_spent  wc_low_ticket_amt_spent client_times_shopped_30_days  client_shopped_3_mos comp1_times_shopped_30_days  comp1_shopped_3_mos comp2_times_shopped_30_days  comp2_shopped_3_mos comp3_times_shopped_30_days  comp3_shopped_3_mos Marital_Status Homeowner_Status Dwelling_Type Gender Age  Num_Adults  Num_Children  Child_0_2  Child_3_5  Child_6_10  Child_11_15  Child_16_18 Race HH_Income Eff_Income Socioeconomic_Score  ZIP_Income Dual_Income Home_Market_Value Net_Worth Mail_Order_Buyer  Mail_Ord_Books  Mail_Ord_BooksMags  Mail_Ord_Child_Prod  Mail_Ord_Clothes  Mail_Ord_Cosmetic  Mail_Ord_Food  Mail_Ord_Gifts  Mail_Ord_Furniture  Mail_Ord_Mags  Mail_Ord_Others  Mail_Ord_Jewel  Mail_Ord_Big_Clothes  Mail_Ord_DVD Mail_Order_Response Occupation Education State Est_HH_Debt_Level Est_HH_Invest_Asset  Len_of_Residence Bank_Card_New_Issue_Year Bank_Card Retail_Card Buyer_Retail_Last_Order_2yrs Buyer_Retail_Last_Order_1yrs  Buyer_Reatil_Last_Order_Quantity  Buyer_Reatil_Last_Order_Dollars  client_shopped_30_days  comp1_shopped_30_days  comp2_shopped_30_days  comp3_shopped_30_days  Cluster\n",
       "1            2522        0          0              0            0                         0                       0                         0                       0                        0                        0                            U                     0                           U                    0                           U                    0                           U                    0              S                U             S      M   D           4             0          0          0           0            0            0    W         C          B                   B           9           Y                 A         E                M               0                   0                    0                 0                  0              0               0                   0              0                0               0                     0             0                   M          U         U    CT                 G                   E              15.0                        8         M           M                            N                            N                                 0                                0                       0                      0                      0                      0        0\n",
       "2            3526        0          0              0            0                         0                       0                         0                       0                        0                        0                            U                     0                           C                    1                           U                    0                           U                    0              S                O             S      M   F           1             1          0          0           0            1            0    A         E          C                   C           7           Y                 H         H                M               1                   1                    1                 1                  0              1               0                   0              1                1               0                     0             1                   M          U         2    NJ                 B                   I              15.0                        1         M           M                            N                            N                                 0                                0                       0                      1                      0                      0        0\n",
       "3            3529        0          0              0            0                         0                       0                         0                       0                        0                        0                            U                     0                           U                    0                           U                    0                           U                    0              S                O             S      M   F           1             0          0          0           0            0            0    W         C          C                   C           3           Y                 H         G                N               0                   0                    0                 0                  0              0               0                   0              0                0               0                     0             0                   M          U         2    NJ                 C                   G              10.0                        2         M           M                            N                            N                                 0                                0                       0                      0                      0                      0        0\n",
       "8            5047        0          0              0            0                         0                       0                         0                       0                        0                        0                            U                     0                           U                    0                           U                    0                           U                    0              M                O             S      M   C           2             0          0          0           0            0            1    W         B          C                   B           1           Y                 F         E                M               0                   1                    0                 0                  0              0               1                   0              0                1               0                     0             0                   M          U         U    NJ                 B                   F              15.0                        U         M           M                            Y                            N                                 1                                8                       0                      0                      0                      0        0\n",
       "12           4804        0          0              0            0                         0                       0                         0                       0                        0                        0                            U                     0                           U                    0                           U                    0                           U                    0              S                O             S      F   C           1             0          0          0           0            0            0    U         C          B                   A           6           Y                 C         F                M               1                   1                    0                 1                  0              1               0                   0              1                0               0                     0             0                   M          B         1    NJ                 C                   G               1.0                       16         M           M                            N                            N                                 0                                0                       0                      0                      0                      0        0"
      ]
     },
     "execution_count": 17,
     "metadata": {},
     "output_type": "execute_result"
    }
   ],
   "source": [
    "cluster0.head()"
   ]
  },
  {
   "cell_type": "code",
   "execution_count": 18,
   "metadata": {
    "collapsed": true
   },
   "outputs": [],
   "source": [
    "cluster0 = cluster0[test_list]"
   ]
  },
  {
   "cell_type": "code",
   "execution_count": 19,
   "metadata": {
    "collapsed": true
   },
   "outputs": [],
   "source": [
    "dummies = pd.get_dummies(cluster0.iloc[:,1:])"
   ]
  },
  {
   "cell_type": "code",
   "execution_count": 20,
   "metadata": {
    "collapsed": true
   },
   "outputs": [],
   "source": [
    "cluster0 = pd.concat([cluster0['wc_num_items'],dummies],axis = 1)"
   ]
  },
  {
   "cell_type": "code",
   "execution_count": 21,
   "metadata": {
    "collapsed": true
   },
   "outputs": [],
   "source": [
    "data_list = list(cluster0.columns)[1:]"
   ]
  },
  {
   "cell_type": "code",
   "execution_count": 22,
   "metadata": {
    "collapsed": true
   },
   "outputs": [],
   "source": [
    "tree_train, tree_test = train_test_split(cluster0, test_size=0.33, random_state=777)"
   ]
  },
  {
   "cell_type": "code",
   "execution_count": 23,
   "metadata": {},
   "outputs": [
    {
     "data": {
      "text/plain": [
       "(4762, 52)"
      ]
     },
     "execution_count": 23,
     "metadata": {},
     "output_type": "execute_result"
    }
   ],
   "source": [
    "cluster0.shape"
   ]
  },
  {
   "cell_type": "code",
   "execution_count": 24,
   "metadata": {
    "collapsed": true
   },
   "outputs": [],
   "source": [
    "clf = tree.DecisionTreeClassifier(max_leaf_nodes=10, min_samples_leaf = 20)"
   ]
  },
  {
   "cell_type": "code",
   "execution_count": 25,
   "metadata": {
    "collapsed": true
   },
   "outputs": [],
   "source": [
    "clf = clf.fit(tree_train[data_list], tree_train['wc_num_items'])"
   ]
  },
  {
   "cell_type": "code",
   "execution_count": 26,
   "metadata": {
    "collapsed": true
   },
   "outputs": [],
   "source": [
    "test_preds = clf.predict(tree_test[data_list])"
   ]
  },
  {
   "cell_type": "code",
   "execution_count": 27,
   "metadata": {},
   "outputs": [
    {
     "data": {
      "text/plain": [
       "array([[9.93399340e-01, 1.88590288e-03, 4.71475719e-04, 4.24328147e-03],\n",
       "       [9.93399340e-01, 1.88590288e-03, 4.71475719e-04, 4.24328147e-03],\n",
       "       [9.93399340e-01, 1.88590288e-03, 4.71475719e-04, 4.24328147e-03],\n",
       "       ...,\n",
       "       [9.93399340e-01, 1.88590288e-03, 4.71475719e-04, 4.24328147e-03],\n",
       "       [9.64912281e-01, 1.75438596e-02, 0.00000000e+00, 1.75438596e-02],\n",
       "       [9.93399340e-01, 1.88590288e-03, 4.71475719e-04, 4.24328147e-03]])"
      ]
     },
     "execution_count": 27,
     "metadata": {},
     "output_type": "execute_result"
    }
   ],
   "source": [
    "clf.predict_proba(tree_test[data_list])"
   ]
  },
  {
   "cell_type": "code",
   "execution_count": 28,
   "metadata": {
    "collapsed": true
   },
   "outputs": [],
   "source": [
    "score = clf.score(tree_test[data_list], tree_test['wc_num_items'])"
   ]
  },
  {
   "cell_type": "markdown",
   "metadata": {},
   "source": [
    "#### Creating confusion matrix"
   ]
  },
  {
   "cell_type": "code",
   "execution_count": 29,
   "metadata": {
    "collapsed": true
   },
   "outputs": [],
   "source": [
    "cm = confusion_matrix(tree_test['wc_num_items'], test_preds)"
   ]
  },
  {
   "cell_type": "code",
   "execution_count": 30,
   "metadata": {
    "scrolled": false
   },
   "outputs": [
    {
     "data": {
      "image/png": "[encoded data removed]",
      "text/plain": [
       "<matplotlib.figure.Figure at 0x1a113fa668>"
      ]
     },
     "metadata": {},
     "output_type": "display_data"
    }
   ],
   "source": [
    "plt.figure(figsize = (7,7))\n",
    "\n",
    "sns.heatmap(cm, annot = True, fmt = '.2f', linewidths = .5, square = True, cmap = 'Blues_r');\n",
    "plt.ylabel('Actual Labels');\n",
    "plt.xlabel('Predicted Labels');\n",
    "all_sample_title = 'Accuracy Score: {0}%'.format(round(score*100,3))\n",
    "plt.title(all_sample_title, size = 20);\n",
    "\n",
    "plt.show()"
   ]
  },
  {
   "cell_type": "markdown",
   "metadata": {},
   "source": [
    "#### Visualizing decision tree"
   ]
  },
  {
   "cell_type": "code",
   "execution_count": 31,
   "metadata": {
    "collapsed": true
   },
   "outputs": [],
   "source": [
    "dot_data = StringIO()\n",
    "\n",
    "tree.export_graphviz(clf, out_file=dot_data, feature_names = data_list, filled=True, rounded=True)\n",
    "graph = pydot.graph_from_dot_data(dot_data.getvalue())\n",
    "graph[0].write_pdf(\"not_engaged_customers_cluster0_tree.pdf\")"
   ]
  },
  {
   "cell_type": "code",
   "execution_count": null,
   "metadata": {
    "collapsed": true
   },
   "outputs": [],
   "source": []
  },
  {
   "cell_type": "markdown",
   "metadata": {},
   "source": [
    "### Decision Tree for Cluster 1"
   ]
  },
  {
   "cell_type": "code",
   "execution_count": 32,
   "metadata": {
    "collapsed": true
   },
   "outputs": [],
   "source": [
    "cluster1 = dataset[dataset['Cluster'] == 1]"
   ]
  },
  {
   "cell_type": "code",
   "execution_count": 33,
   "metadata": {
    "collapsed": true
   },
   "outputs": [],
   "source": [
    "test_list = ['wc_num_items', 'Num_Adults', 'Num_Children', 'ZIP_Income', 'Buyer_Reatil_Last_Order_Quantity', 'Buyer_Reatil_Last_Order_Dollars', 'Marital_Status', 'Homeowner_Status', 'Dwelling_Type', 'HH_Income', 'Dual_Income', 'Home_Market_Value', 'Net_Worth', 'Mail_Order_Buyer', 'Mail_Order_Response', 'Buyer_Retail_Last_Order_2yrs']"
   ]
  },
  {
   "cell_type": "code",
   "execution_count": 34,
   "metadata": {},
   "outputs": [
    {
     "data": {
      "text/html": [
       "<div>\n",
       "<style>\n",
       "    .dataframe thead tr:only-child th {\n",
       "        text-align: right;\n",
       "    }\n",
       "\n",
       "    .dataframe thead th {\n",
       "        text-align: left;\n",
       "    }\n",
       "\n",
       "    .dataframe tbody tr th {\n",
       "        vertical-align: top;\n",
       "    }\n",
       "</style>\n",
       "<table border=\"1\" class=\"dataframe\">\n",
       "  <thead>\n",
       "    <tr style=\"text-align: right;\">\n",
       "      <th></th>\n",
       "      <th>dataright_seq</th>\n",
       "      <th>Loyalty</th>\n",
       "      <th>RFM_score</th>\n",
       "      <th>wc_bought_any</th>\n",
       "      <th>wc_num_items</th>\n",
       "      <th>wc_big_ticket_bought_any</th>\n",
       "      <th>wc_big_ticket_num_items</th>\n",
       "      <th>wc_low_ticket_bought_any</th>\n",
       "      <th>wc_low_ticket_num_items</th>\n",
       "      <th>wc_big_ticket_amt_spent</th>\n",
       "      <th>wc_low_ticket_amt_spent</th>\n",
       "      <th>client_times_shopped_30_days</th>\n",
       "      <th>client_shopped_3_mos</th>\n",
       "      <th>comp1_times_shopped_30_days</th>\n",
       "      <th>comp1_shopped_3_mos</th>\n",
       "      <th>comp2_times_shopped_30_days</th>\n",
       "      <th>comp2_shopped_3_mos</th>\n",
       "      <th>comp3_times_shopped_30_days</th>\n",
       "      <th>comp3_shopped_3_mos</th>\n",
       "      <th>Marital_Status</th>\n",
       "      <th>Homeowner_Status</th>\n",
       "      <th>Dwelling_Type</th>\n",
       "      <th>Gender</th>\n",
       "      <th>Age</th>\n",
       "      <th>Num_Adults</th>\n",
       "      <th>Num_Children</th>\n",
       "      <th>Child_0_2</th>\n",
       "      <th>Child_3_5</th>\n",
       "      <th>Child_6_10</th>\n",
       "      <th>Child_11_15</th>\n",
       "      <th>Child_16_18</th>\n",
       "      <th>Race</th>\n",
       "      <th>HH_Income</th>\n",
       "      <th>Eff_Income</th>\n",
       "      <th>Socioeconomic_Score</th>\n",
       "      <th>ZIP_Income</th>\n",
       "      <th>Dual_Income</th>\n",
       "      <th>Home_Market_Value</th>\n",
       "      <th>Net_Worth</th>\n",
       "      <th>Mail_Order_Buyer</th>\n",
       "      <th>Mail_Ord_Books</th>\n",
       "      <th>Mail_Ord_BooksMags</th>\n",
       "      <th>Mail_Ord_Child_Prod</th>\n",
       "      <th>Mail_Ord_Clothes</th>\n",
       "      <th>Mail_Ord_Cosmetic</th>\n",
       "      <th>Mail_Ord_Food</th>\n",
       "      <th>Mail_Ord_Gifts</th>\n",
       "      <th>Mail_Ord_Furniture</th>\n",
       "      <th>Mail_Ord_Mags</th>\n",
       "      <th>Mail_Ord_Others</th>\n",
       "      <th>Mail_Ord_Jewel</th>\n",
       "      <th>Mail_Ord_Big_Clothes</th>\n",
       "      <th>Mail_Ord_DVD</th>\n",
       "      <th>Mail_Order_Response</th>\n",
       "      <th>Occupation</th>\n",
       "      <th>Education</th>\n",
       "      <th>State</th>\n",
       "      <th>Est_HH_Debt_Level</th>\n",
       "      <th>Est_HH_Invest_Asset</th>\n",
       "      <th>Len_of_Residence</th>\n",
       "      <th>Bank_Card_New_Issue_Year</th>\n",
       "      <th>Bank_Card</th>\n",
       "      <th>Retail_Card</th>\n",
       "      <th>Buyer_Retail_Last_Order_2yrs</th>\n",
       "      <th>Buyer_Retail_Last_Order_1yrs</th>\n",
       "      <th>Buyer_Reatil_Last_Order_Quantity</th>\n",
       "      <th>Buyer_Reatil_Last_Order_Dollars</th>\n",
       "      <th>client_shopped_30_days</th>\n",
       "      <th>comp1_shopped_30_days</th>\n",
       "      <th>comp2_shopped_30_days</th>\n",
       "      <th>comp3_shopped_30_days</th>\n",
       "      <th>Cluster</th>\n",
       "    </tr>\n",
       "  </thead>\n",
       "  <tbody>\n",
       "    <tr>\n",
       "      <th>17</th>\n",
       "      <td>4810</td>\n",
       "      <td>0</td>\n",
       "      <td>0</td>\n",
       "      <td>0</td>\n",
       "      <td>0</td>\n",
       "      <td>0</td>\n",
       "      <td>0</td>\n",
       "      <td>0</td>\n",
       "      <td>0</td>\n",
       "      <td>0</td>\n",
       "      <td>0</td>\n",
       "      <td>U</td>\n",
       "      <td>0</td>\n",
       "      <td>U</td>\n",
       "      <td>0</td>\n",
       "      <td>U</td>\n",
       "      <td>0</td>\n",
       "      <td>U</td>\n",
       "      <td>0</td>\n",
       "      <td>M</td>\n",
       "      <td>O</td>\n",
       "      <td>S</td>\n",
       "      <td>M</td>\n",
       "      <td>G</td>\n",
       "      <td>2</td>\n",
       "      <td>0</td>\n",
       "      <td>0</td>\n",
       "      <td>0</td>\n",
       "      <td>0</td>\n",
       "      <td>0</td>\n",
       "      <td>0</td>\n",
       "      <td>W</td>\n",
       "      <td>B</td>\n",
       "      <td>B</td>\n",
       "      <td>A</td>\n",
       "      <td>2</td>\n",
       "      <td>N</td>\n",
       "      <td>F</td>\n",
       "      <td>C</td>\n",
       "      <td>M</td>\n",
       "      <td>0</td>\n",
       "      <td>1</td>\n",
       "      <td>1</td>\n",
       "      <td>1</td>\n",
       "      <td>0</td>\n",
       "      <td>0</td>\n",
       "      <td>1</td>\n",
       "      <td>0</td>\n",
       "      <td>1</td>\n",
       "      <td>0</td>\n",
       "      <td>0</td>\n",
       "      <td>1</td>\n",
       "      <td>0</td>\n",
       "      <td>M</td>\n",
       "      <td>G</td>\n",
       "      <td>1</td>\n",
       "      <td>NJ</td>\n",
       "      <td>C</td>\n",
       "      <td>A</td>\n",
       "      <td>14.0</td>\n",
       "      <td>U</td>\n",
       "      <td>M</td>\n",
       "      <td>U</td>\n",
       "      <td>N</td>\n",
       "      <td>N</td>\n",
       "      <td>0</td>\n",
       "      <td>0</td>\n",
       "      <td>0</td>\n",
       "      <td>0</td>\n",
       "      <td>0</td>\n",
       "      <td>0</td>\n",
       "      <td>1</td>\n",
       "    </tr>\n",
       "    <tr>\n",
       "      <th>18</th>\n",
       "      <td>4811</td>\n",
       "      <td>0</td>\n",
       "      <td>0</td>\n",
       "      <td>0</td>\n",
       "      <td>0</td>\n",
       "      <td>0</td>\n",
       "      <td>0</td>\n",
       "      <td>0</td>\n",
       "      <td>0</td>\n",
       "      <td>0</td>\n",
       "      <td>0</td>\n",
       "      <td>U</td>\n",
       "      <td>0</td>\n",
       "      <td>U</td>\n",
       "      <td>0</td>\n",
       "      <td>U</td>\n",
       "      <td>0</td>\n",
       "      <td>U</td>\n",
       "      <td>0</td>\n",
       "      <td>M</td>\n",
       "      <td>O</td>\n",
       "      <td>S</td>\n",
       "      <td>M</td>\n",
       "      <td>G</td>\n",
       "      <td>3</td>\n",
       "      <td>1</td>\n",
       "      <td>0</td>\n",
       "      <td>0</td>\n",
       "      <td>0</td>\n",
       "      <td>0</td>\n",
       "      <td>1</td>\n",
       "      <td>W</td>\n",
       "      <td>B</td>\n",
       "      <td>B</td>\n",
       "      <td>A</td>\n",
       "      <td>4</td>\n",
       "      <td>N</td>\n",
       "      <td>E</td>\n",
       "      <td>F</td>\n",
       "      <td>N</td>\n",
       "      <td>0</td>\n",
       "      <td>0</td>\n",
       "      <td>0</td>\n",
       "      <td>0</td>\n",
       "      <td>0</td>\n",
       "      <td>0</td>\n",
       "      <td>0</td>\n",
       "      <td>0</td>\n",
       "      <td>0</td>\n",
       "      <td>0</td>\n",
       "      <td>0</td>\n",
       "      <td>0</td>\n",
       "      <td>0</td>\n",
       "      <td>M</td>\n",
       "      <td>U</td>\n",
       "      <td>1</td>\n",
       "      <td>NJ</td>\n",
       "      <td>B</td>\n",
       "      <td>F</td>\n",
       "      <td>5.0</td>\n",
       "      <td>5</td>\n",
       "      <td>M</td>\n",
       "      <td>M</td>\n",
       "      <td>N</td>\n",
       "      <td>N</td>\n",
       "      <td>0</td>\n",
       "      <td>0</td>\n",
       "      <td>0</td>\n",
       "      <td>0</td>\n",
       "      <td>0</td>\n",
       "      <td>0</td>\n",
       "      <td>1</td>\n",
       "    </tr>\n",
       "    <tr>\n",
       "      <th>19</th>\n",
       "      <td>4813</td>\n",
       "      <td>0</td>\n",
       "      <td>0</td>\n",
       "      <td>0</td>\n",
       "      <td>0</td>\n",
       "      <td>0</td>\n",
       "      <td>0</td>\n",
       "      <td>0</td>\n",
       "      <td>0</td>\n",
       "      <td>0</td>\n",
       "      <td>0</td>\n",
       "      <td>U</td>\n",
       "      <td>0</td>\n",
       "      <td>U</td>\n",
       "      <td>0</td>\n",
       "      <td>U</td>\n",
       "      <td>0</td>\n",
       "      <td>U</td>\n",
       "      <td>0</td>\n",
       "      <td>M</td>\n",
       "      <td>O</td>\n",
       "      <td>S</td>\n",
       "      <td>M</td>\n",
       "      <td>G</td>\n",
       "      <td>3</td>\n",
       "      <td>0</td>\n",
       "      <td>0</td>\n",
       "      <td>0</td>\n",
       "      <td>0</td>\n",
       "      <td>0</td>\n",
       "      <td>0</td>\n",
       "      <td>W</td>\n",
       "      <td>C</td>\n",
       "      <td>B</td>\n",
       "      <td>A</td>\n",
       "      <td>6</td>\n",
       "      <td>N</td>\n",
       "      <td>E</td>\n",
       "      <td>G</td>\n",
       "      <td>M</td>\n",
       "      <td>1</td>\n",
       "      <td>1</td>\n",
       "      <td>1</td>\n",
       "      <td>1</td>\n",
       "      <td>1</td>\n",
       "      <td>0</td>\n",
       "      <td>1</td>\n",
       "      <td>0</td>\n",
       "      <td>1</td>\n",
       "      <td>0</td>\n",
       "      <td>0</td>\n",
       "      <td>0</td>\n",
       "      <td>0</td>\n",
       "      <td>M</td>\n",
       "      <td>H</td>\n",
       "      <td>1</td>\n",
       "      <td>NJ</td>\n",
       "      <td>B</td>\n",
       "      <td>H</td>\n",
       "      <td>6.0</td>\n",
       "      <td>U</td>\n",
       "      <td>M</td>\n",
       "      <td>M</td>\n",
       "      <td>N</td>\n",
       "      <td>N</td>\n",
       "      <td>0</td>\n",
       "      <td>0</td>\n",
       "      <td>0</td>\n",
       "      <td>0</td>\n",
       "      <td>0</td>\n",
       "      <td>0</td>\n",
       "      <td>1</td>\n",
       "    </tr>\n",
       "    <tr>\n",
       "      <th>20</th>\n",
       "      <td>3015</td>\n",
       "      <td>0</td>\n",
       "      <td>0</td>\n",
       "      <td>0</td>\n",
       "      <td>0</td>\n",
       "      <td>0</td>\n",
       "      <td>0</td>\n",
       "      <td>0</td>\n",
       "      <td>0</td>\n",
       "      <td>0</td>\n",
       "      <td>0</td>\n",
       "      <td>U</td>\n",
       "      <td>0</td>\n",
       "      <td>U</td>\n",
       "      <td>0</td>\n",
       "      <td>U</td>\n",
       "      <td>0</td>\n",
       "      <td>U</td>\n",
       "      <td>0</td>\n",
       "      <td>S</td>\n",
       "      <td>O</td>\n",
       "      <td>S</td>\n",
       "      <td>F</td>\n",
       "      <td>G</td>\n",
       "      <td>1</td>\n",
       "      <td>0</td>\n",
       "      <td>0</td>\n",
       "      <td>0</td>\n",
       "      <td>0</td>\n",
       "      <td>0</td>\n",
       "      <td>0</td>\n",
       "      <td>W</td>\n",
       "      <td>B</td>\n",
       "      <td>B</td>\n",
       "      <td>A</td>\n",
       "      <td>3</td>\n",
       "      <td>Y</td>\n",
       "      <td>D</td>\n",
       "      <td>B</td>\n",
       "      <td>Y</td>\n",
       "      <td>0</td>\n",
       "      <td>0</td>\n",
       "      <td>0</td>\n",
       "      <td>0</td>\n",
       "      <td>0</td>\n",
       "      <td>0</td>\n",
       "      <td>0</td>\n",
       "      <td>0</td>\n",
       "      <td>0</td>\n",
       "      <td>0</td>\n",
       "      <td>0</td>\n",
       "      <td>0</td>\n",
       "      <td>0</td>\n",
       "      <td>Y</td>\n",
       "      <td>Q</td>\n",
       "      <td>1</td>\n",
       "      <td>NJ</td>\n",
       "      <td>B</td>\n",
       "      <td>A</td>\n",
       "      <td>15.0</td>\n",
       "      <td>16</td>\n",
       "      <td>M</td>\n",
       "      <td>M</td>\n",
       "      <td>N</td>\n",
       "      <td>N</td>\n",
       "      <td>0</td>\n",
       "      <td>0</td>\n",
       "      <td>0</td>\n",
       "      <td>0</td>\n",
       "      <td>0</td>\n",
       "      <td>0</td>\n",
       "      <td>1</td>\n",
       "    </tr>\n",
       "    <tr>\n",
       "      <th>29</th>\n",
       "      <td>5970</td>\n",
       "      <td>0</td>\n",
       "      <td>0</td>\n",
       "      <td>0</td>\n",
       "      <td>0</td>\n",
       "      <td>0</td>\n",
       "      <td>0</td>\n",
       "      <td>0</td>\n",
       "      <td>0</td>\n",
       "      <td>0</td>\n",
       "      <td>0</td>\n",
       "      <td>U</td>\n",
       "      <td>0</td>\n",
       "      <td>U</td>\n",
       "      <td>0</td>\n",
       "      <td>U</td>\n",
       "      <td>0</td>\n",
       "      <td>U</td>\n",
       "      <td>0</td>\n",
       "      <td>S</td>\n",
       "      <td>O</td>\n",
       "      <td>S</td>\n",
       "      <td>F</td>\n",
       "      <td>D</td>\n",
       "      <td>2</td>\n",
       "      <td>0</td>\n",
       "      <td>0</td>\n",
       "      <td>0</td>\n",
       "      <td>0</td>\n",
       "      <td>0</td>\n",
       "      <td>0</td>\n",
       "      <td>H</td>\n",
       "      <td>C</td>\n",
       "      <td>B</td>\n",
       "      <td>A</td>\n",
       "      <td>8</td>\n",
       "      <td>Y</td>\n",
       "      <td>A</td>\n",
       "      <td>D</td>\n",
       "      <td>M</td>\n",
       "      <td>0</td>\n",
       "      <td>0</td>\n",
       "      <td>0</td>\n",
       "      <td>0</td>\n",
       "      <td>0</td>\n",
       "      <td>0</td>\n",
       "      <td>0</td>\n",
       "      <td>0</td>\n",
       "      <td>0</td>\n",
       "      <td>0</td>\n",
       "      <td>0</td>\n",
       "      <td>0</td>\n",
       "      <td>0</td>\n",
       "      <td>M</td>\n",
       "      <td>U</td>\n",
       "      <td>1</td>\n",
       "      <td>NY</td>\n",
       "      <td>B</td>\n",
       "      <td>B</td>\n",
       "      <td>15.0</td>\n",
       "      <td>6</td>\n",
       "      <td>M</td>\n",
       "      <td>M</td>\n",
       "      <td>N</td>\n",
       "      <td>N</td>\n",
       "      <td>0</td>\n",
       "      <td>0</td>\n",
       "      <td>0</td>\n",
       "      <td>0</td>\n",
       "      <td>0</td>\n",
       "      <td>0</td>\n",
       "      <td>1</td>\n",
       "    </tr>\n",
       "  </tbody>\n",
       "</table>\n",
       "</div>"
      ],
      "text/plain": [
       "    dataright_seq  Loyalty  RFM_score  wc_bought_any wc_num_items  wc_big_ticket_bought_any wc_big_ticket_num_items  wc_low_ticket_bought_any wc_low_ticket_num_items  wc_big_ticket_amt_spent  wc_low_ticket_amt_spent client_times_shopped_30_days  client_shopped_3_mos comp1_times_shopped_30_days  comp1_shopped_3_mos comp2_times_shopped_30_days  comp2_shopped_3_mos comp3_times_shopped_30_days  comp3_shopped_3_mos Marital_Status Homeowner_Status Dwelling_Type Gender Age  Num_Adults  Num_Children  Child_0_2  Child_3_5  Child_6_10  Child_11_15  Child_16_18 Race HH_Income Eff_Income Socioeconomic_Score  ZIP_Income Dual_Income Home_Market_Value Net_Worth Mail_Order_Buyer  Mail_Ord_Books  Mail_Ord_BooksMags  Mail_Ord_Child_Prod  Mail_Ord_Clothes  Mail_Ord_Cosmetic  Mail_Ord_Food  Mail_Ord_Gifts  Mail_Ord_Furniture  Mail_Ord_Mags  Mail_Ord_Others  Mail_Ord_Jewel  Mail_Ord_Big_Clothes  Mail_Ord_DVD Mail_Order_Response Occupation Education State Est_HH_Debt_Level Est_HH_Invest_Asset  Len_of_Residence Bank_Card_New_Issue_Year Bank_Card Retail_Card Buyer_Retail_Last_Order_2yrs Buyer_Retail_Last_Order_1yrs  Buyer_Reatil_Last_Order_Quantity  Buyer_Reatil_Last_Order_Dollars  client_shopped_30_days  comp1_shopped_30_days  comp2_shopped_30_days  comp3_shopped_30_days  Cluster\n",
       "17           4810        0          0              0            0                         0                       0                         0                       0                        0                        0                            U                     0                           U                    0                           U                    0                           U                    0              M                O             S      M   G           2             0          0          0           0            0            0    W         B          B                   A           2           N                 F         C                M               0                   1                    1                 1                  0              0               1                   0              1                0               0                     1             0                   M          G         1    NJ                 C                   A              14.0                        U         M           U                            N                            N                                 0                                0                       0                      0                      0                      0        1\n",
       "18           4811        0          0              0            0                         0                       0                         0                       0                        0                        0                            U                     0                           U                    0                           U                    0                           U                    0              M                O             S      M   G           3             1          0          0           0            0            1    W         B          B                   A           4           N                 E         F                N               0                   0                    0                 0                  0              0               0                   0              0                0               0                     0             0                   M          U         1    NJ                 B                   F               5.0                        5         M           M                            N                            N                                 0                                0                       0                      0                      0                      0        1\n",
       "19           4813        0          0              0            0                         0                       0                         0                       0                        0                        0                            U                     0                           U                    0                           U                    0                           U                    0              M                O             S      M   G           3             0          0          0           0            0            0    W         C          B                   A           6           N                 E         G                M               1                   1                    1                 1                  1              0               1                   0              1                0               0                     0             0                   M          H         1    NJ                 B                   H               6.0                        U         M           M                            N                            N                                 0                                0                       0                      0                      0                      0        1\n",
       "20           3015        0          0              0            0                         0                       0                         0                       0                        0                        0                            U                     0                           U                    0                           U                    0                           U                    0              S                O             S      F   G           1             0          0          0           0            0            0    W         B          B                   A           3           Y                 D         B                Y               0                   0                    0                 0                  0              0               0                   0              0                0               0                     0             0                   Y          Q         1    NJ                 B                   A              15.0                       16         M           M                            N                            N                                 0                                0                       0                      0                      0                      0        1\n",
       "29           5970        0          0              0            0                         0                       0                         0                       0                        0                        0                            U                     0                           U                    0                           U                    0                           U                    0              S                O             S      F   D           2             0          0          0           0            0            0    H         C          B                   A           8           Y                 A         D                M               0                   0                    0                 0                  0              0               0                   0              0                0               0                     0             0                   M          U         1    NY                 B                   B              15.0                        6         M           M                            N                            N                                 0                                0                       0                      0                      0                      0        1"
      ]
     },
     "execution_count": 34,
     "metadata": {},
     "output_type": "execute_result"
    }
   ],
   "source": [
    "cluster1.head()"
   ]
  },
  {
   "cell_type": "code",
   "execution_count": 35,
   "metadata": {
    "collapsed": true
   },
   "outputs": [],
   "source": [
    "cluster1 = cluster1[test_list]"
   ]
  },
  {
   "cell_type": "code",
   "execution_count": 36,
   "metadata": {
    "collapsed": true
   },
   "outputs": [],
   "source": [
    "dummies = pd.get_dummies(cluster1.iloc[:,1:])"
   ]
  },
  {
   "cell_type": "code",
   "execution_count": 37,
   "metadata": {
    "collapsed": true
   },
   "outputs": [],
   "source": [
    "cluster1 = pd.concat([cluster1['wc_num_items'],dummies],axis = 1)"
   ]
  },
  {
   "cell_type": "code",
   "execution_count": 38,
   "metadata": {
    "collapsed": true
   },
   "outputs": [],
   "source": [
    "data_list = list(cluster1.columns)[1:]"
   ]
  },
  {
   "cell_type": "code",
   "execution_count": 39,
   "metadata": {
    "collapsed": true
   },
   "outputs": [],
   "source": [
    "tree_train, tree_test = train_test_split(cluster1, test_size=0.33, random_state=777)"
   ]
  },
  {
   "cell_type": "code",
   "execution_count": 40,
   "metadata": {},
   "outputs": [
    {
     "data": {
      "text/plain": [
       "(2941, 51)"
      ]
     },
     "execution_count": 40,
     "metadata": {},
     "output_type": "execute_result"
    }
   ],
   "source": [
    "cluster1.shape"
   ]
  },
  {
   "cell_type": "code",
   "execution_count": 41,
   "metadata": {
    "collapsed": true
   },
   "outputs": [],
   "source": [
    "clf = tree.DecisionTreeClassifier(max_leaf_nodes=7, min_samples_leaf = 30)"
   ]
  },
  {
   "cell_type": "code",
   "execution_count": 42,
   "metadata": {
    "collapsed": true
   },
   "outputs": [],
   "source": [
    "clf = clf.fit(tree_train[data_list], tree_train['wc_num_items'])"
   ]
  },
  {
   "cell_type": "code",
   "execution_count": 43,
   "metadata": {
    "collapsed": true
   },
   "outputs": [],
   "source": [
    "test_preds = clf.predict(tree_test[data_list])"
   ]
  },
  {
   "cell_type": "code",
   "execution_count": 44,
   "metadata": {},
   "outputs": [
    {
     "data": {
      "text/plain": [
       "array([[9.92005814e-01, 7.26744186e-04, 2.18023256e-03, 5.08720930e-03],\n",
       "       [9.92005814e-01, 7.26744186e-04, 2.18023256e-03, 5.08720930e-03],\n",
       "       [9.92005814e-01, 7.26744186e-04, 2.18023256e-03, 5.08720930e-03],\n",
       "       ...,\n",
       "       [9.92005814e-01, 7.26744186e-04, 2.18023256e-03, 5.08720930e-03],\n",
       "       [9.93377483e-01, 0.00000000e+00, 0.00000000e+00, 6.62251656e-03],\n",
       "       [9.92005814e-01, 7.26744186e-04, 2.18023256e-03, 5.08720930e-03]])"
      ]
     },
     "execution_count": 44,
     "metadata": {},
     "output_type": "execute_result"
    }
   ],
   "source": [
    "clf.predict_proba(tree_test[data_list])"
   ]
  },
  {
   "cell_type": "code",
   "execution_count": 45,
   "metadata": {
    "collapsed": true
   },
   "outputs": [],
   "source": [
    "score = clf.score(tree_test[data_list], tree_test['wc_num_items'])"
   ]
  },
  {
   "cell_type": "markdown",
   "metadata": {},
   "source": [
    "#### Creating confusion matrix"
   ]
  },
  {
   "cell_type": "code",
   "execution_count": 46,
   "metadata": {
    "collapsed": true
   },
   "outputs": [],
   "source": [
    "cm = confusion_matrix(tree_test['wc_num_items'], test_preds)"
   ]
  },
  {
   "cell_type": "code",
   "execution_count": 47,
   "metadata": {
    "scrolled": true
   },
   "outputs": [
    {
     "data": {
      "image/png": "[encoded data removed]",
      "text/plain": [
       "<matplotlib.figure.Figure at 0x1a119022e8>"
      ]
     },
     "metadata": {},
     "output_type": "display_data"
    }
   ],
   "source": [
    "plt.figure(figsize = (7,7))\n",
    "\n",
    "sns.heatmap(cm, annot = True, fmt = '.2f', linewidths = .5, square = True, cmap = 'Blues_r');\n",
    "plt.ylabel('Actual Labels');\n",
    "plt.xlabel('Predicted Labels');\n",
    "all_sample_title = 'Accuracy Score: {0}%'.format(round(score*100,3))\n",
    "plt.title(all_sample_title, size = 20);\n",
    "\n",
    "plt.show()"
   ]
  },
  {
   "cell_type": "markdown",
   "metadata": {},
   "source": [
    "#### Visualizing decision tree"
   ]
  },
  {
   "cell_type": "code",
   "execution_count": 48,
   "metadata": {
    "collapsed": true
   },
   "outputs": [],
   "source": [
    "dot_data = StringIO()\n",
    "\n",
    "tree.export_graphviz(clf, out_file=dot_data, feature_names = data_list, filled=True, rounded=True)\n",
    "graph = pydot.graph_from_dot_data(dot_data.getvalue())\n",
    "graph[0].write_pdf(\"not_engaged_customers_cluster1_tree.pdf\")"
   ]
  },
  {
   "cell_type": "code",
   "execution_count": null,
   "metadata": {
    "collapsed": true
   },
   "outputs": [],
   "source": []
  },
  {
   "cell_type": "markdown",
   "metadata": {},
   "source": [
    "### Decision Tree for Cluster 2"
   ]
  },
  {
   "cell_type": "code",
   "execution_count": 49,
   "metadata": {
    "collapsed": true
   },
   "outputs": [],
   "source": [
    "cluster2 = dataset[dataset['Cluster'] == 2]"
   ]
  },
  {
   "cell_type": "code",
   "execution_count": 50,
   "metadata": {
    "collapsed": true
   },
   "outputs": [],
   "source": [
    "test_list = ['wc_num_items', 'Num_Adults', 'Num_Children', 'ZIP_Income', 'Buyer_Reatil_Last_Order_Quantity', 'Buyer_Reatil_Last_Order_Dollars', 'Marital_Status', 'Homeowner_Status', 'Dwelling_Type', 'HH_Income', 'Dual_Income', 'Home_Market_Value', 'Net_Worth', 'Mail_Order_Buyer', 'Mail_Order_Response', 'Buyer_Retail_Last_Order_2yrs']"
   ]
  },
  {
   "cell_type": "code",
   "execution_count": 51,
   "metadata": {},
   "outputs": [
    {
     "data": {
      "text/html": [
       "<div>\n",
       "<style>\n",
       "    .dataframe thead tr:only-child th {\n",
       "        text-align: right;\n",
       "    }\n",
       "\n",
       "    .dataframe thead th {\n",
       "        text-align: left;\n",
       "    }\n",
       "\n",
       "    .dataframe tbody tr th {\n",
       "        vertical-align: top;\n",
       "    }\n",
       "</style>\n",
       "<table border=\"1\" class=\"dataframe\">\n",
       "  <thead>\n",
       "    <tr style=\"text-align: right;\">\n",
       "      <th></th>\n",
       "      <th>dataright_seq</th>\n",
       "      <th>Loyalty</th>\n",
       "      <th>RFM_score</th>\n",
       "      <th>wc_bought_any</th>\n",
       "      <th>wc_num_items</th>\n",
       "      <th>wc_big_ticket_bought_any</th>\n",
       "      <th>wc_big_ticket_num_items</th>\n",
       "      <th>wc_low_ticket_bought_any</th>\n",
       "      <th>wc_low_ticket_num_items</th>\n",
       "      <th>wc_big_ticket_amt_spent</th>\n",
       "      <th>wc_low_ticket_amt_spent</th>\n",
       "      <th>client_times_shopped_30_days</th>\n",
       "      <th>client_shopped_3_mos</th>\n",
       "      <th>comp1_times_shopped_30_days</th>\n",
       "      <th>comp1_shopped_3_mos</th>\n",
       "      <th>comp2_times_shopped_30_days</th>\n",
       "      <th>comp2_shopped_3_mos</th>\n",
       "      <th>comp3_times_shopped_30_days</th>\n",
       "      <th>comp3_shopped_3_mos</th>\n",
       "      <th>Marital_Status</th>\n",
       "      <th>Homeowner_Status</th>\n",
       "      <th>Dwelling_Type</th>\n",
       "      <th>Gender</th>\n",
       "      <th>Age</th>\n",
       "      <th>Num_Adults</th>\n",
       "      <th>Num_Children</th>\n",
       "      <th>Child_0_2</th>\n",
       "      <th>Child_3_5</th>\n",
       "      <th>Child_6_10</th>\n",
       "      <th>Child_11_15</th>\n",
       "      <th>Child_16_18</th>\n",
       "      <th>Race</th>\n",
       "      <th>HH_Income</th>\n",
       "      <th>Eff_Income</th>\n",
       "      <th>Socioeconomic_Score</th>\n",
       "      <th>ZIP_Income</th>\n",
       "      <th>Dual_Income</th>\n",
       "      <th>Home_Market_Value</th>\n",
       "      <th>Net_Worth</th>\n",
       "      <th>Mail_Order_Buyer</th>\n",
       "      <th>Mail_Ord_Books</th>\n",
       "      <th>Mail_Ord_BooksMags</th>\n",
       "      <th>Mail_Ord_Child_Prod</th>\n",
       "      <th>Mail_Ord_Clothes</th>\n",
       "      <th>Mail_Ord_Cosmetic</th>\n",
       "      <th>Mail_Ord_Food</th>\n",
       "      <th>Mail_Ord_Gifts</th>\n",
       "      <th>Mail_Ord_Furniture</th>\n",
       "      <th>Mail_Ord_Mags</th>\n",
       "      <th>Mail_Ord_Others</th>\n",
       "      <th>Mail_Ord_Jewel</th>\n",
       "      <th>Mail_Ord_Big_Clothes</th>\n",
       "      <th>Mail_Ord_DVD</th>\n",
       "      <th>Mail_Order_Response</th>\n",
       "      <th>Occupation</th>\n",
       "      <th>Education</th>\n",
       "      <th>State</th>\n",
       "      <th>Est_HH_Debt_Level</th>\n",
       "      <th>Est_HH_Invest_Asset</th>\n",
       "      <th>Len_of_Residence</th>\n",
       "      <th>Bank_Card_New_Issue_Year</th>\n",
       "      <th>Bank_Card</th>\n",
       "      <th>Retail_Card</th>\n",
       "      <th>Buyer_Retail_Last_Order_2yrs</th>\n",
       "      <th>Buyer_Retail_Last_Order_1yrs</th>\n",
       "      <th>Buyer_Reatil_Last_Order_Quantity</th>\n",
       "      <th>Buyer_Reatil_Last_Order_Dollars</th>\n",
       "      <th>client_shopped_30_days</th>\n",
       "      <th>comp1_shopped_30_days</th>\n",
       "      <th>comp2_shopped_30_days</th>\n",
       "      <th>comp3_shopped_30_days</th>\n",
       "      <th>Cluster</th>\n",
       "    </tr>\n",
       "  </thead>\n",
       "  <tbody>\n",
       "    <tr>\n",
       "      <th>0</th>\n",
       "      <td>2517</td>\n",
       "      <td>0</td>\n",
       "      <td>0</td>\n",
       "      <td>0</td>\n",
       "      <td>0</td>\n",
       "      <td>0</td>\n",
       "      <td>0</td>\n",
       "      <td>0</td>\n",
       "      <td>0</td>\n",
       "      <td>0</td>\n",
       "      <td>0</td>\n",
       "      <td>U</td>\n",
       "      <td>0</td>\n",
       "      <td>U</td>\n",
       "      <td>0</td>\n",
       "      <td>U</td>\n",
       "      <td>0</td>\n",
       "      <td>U</td>\n",
       "      <td>0</td>\n",
       "      <td>M</td>\n",
       "      <td>O</td>\n",
       "      <td>S</td>\n",
       "      <td>M</td>\n",
       "      <td>A</td>\n",
       "      <td>5</td>\n",
       "      <td>0</td>\n",
       "      <td>0</td>\n",
       "      <td>0</td>\n",
       "      <td>0</td>\n",
       "      <td>0</td>\n",
       "      <td>0</td>\n",
       "      <td>B</td>\n",
       "      <td>D</td>\n",
       "      <td>B</td>\n",
       "      <td>B</td>\n",
       "      <td>9</td>\n",
       "      <td>Y</td>\n",
       "      <td>E</td>\n",
       "      <td>E</td>\n",
       "      <td>M</td>\n",
       "      <td>0</td>\n",
       "      <td>0</td>\n",
       "      <td>0</td>\n",
       "      <td>0</td>\n",
       "      <td>0</td>\n",
       "      <td>0</td>\n",
       "      <td>0</td>\n",
       "      <td>0</td>\n",
       "      <td>0</td>\n",
       "      <td>0</td>\n",
       "      <td>0</td>\n",
       "      <td>0</td>\n",
       "      <td>0</td>\n",
       "      <td>M</td>\n",
       "      <td>U</td>\n",
       "      <td>U</td>\n",
       "      <td>CT</td>\n",
       "      <td>C</td>\n",
       "      <td>C</td>\n",
       "      <td>NaN</td>\n",
       "      <td>U</td>\n",
       "      <td>U</td>\n",
       "      <td>U</td>\n",
       "      <td>Y</td>\n",
       "      <td>N</td>\n",
       "      <td>1</td>\n",
       "      <td>80</td>\n",
       "      <td>0</td>\n",
       "      <td>0</td>\n",
       "      <td>0</td>\n",
       "      <td>0</td>\n",
       "      <td>2</td>\n",
       "    </tr>\n",
       "    <tr>\n",
       "      <th>5</th>\n",
       "      <td>3231</td>\n",
       "      <td>0</td>\n",
       "      <td>0</td>\n",
       "      <td>0</td>\n",
       "      <td>0</td>\n",
       "      <td>0</td>\n",
       "      <td>0</td>\n",
       "      <td>0</td>\n",
       "      <td>0</td>\n",
       "      <td>0</td>\n",
       "      <td>0</td>\n",
       "      <td>U</td>\n",
       "      <td>0</td>\n",
       "      <td>U</td>\n",
       "      <td>0</td>\n",
       "      <td>U</td>\n",
       "      <td>0</td>\n",
       "      <td>U</td>\n",
       "      <td>0</td>\n",
       "      <td>S</td>\n",
       "      <td>R</td>\n",
       "      <td>M</td>\n",
       "      <td>F</td>\n",
       "      <td>D</td>\n",
       "      <td>1</td>\n",
       "      <td>0</td>\n",
       "      <td>0</td>\n",
       "      <td>0</td>\n",
       "      <td>1</td>\n",
       "      <td>0</td>\n",
       "      <td>0</td>\n",
       "      <td>B</td>\n",
       "      <td>B</td>\n",
       "      <td>B</td>\n",
       "      <td>A</td>\n",
       "      <td>4</td>\n",
       "      <td>Y</td>\n",
       "      <td>A</td>\n",
       "      <td>A</td>\n",
       "      <td>N</td>\n",
       "      <td>0</td>\n",
       "      <td>0</td>\n",
       "      <td>0</td>\n",
       "      <td>0</td>\n",
       "      <td>0</td>\n",
       "      <td>0</td>\n",
       "      <td>0</td>\n",
       "      <td>0</td>\n",
       "      <td>0</td>\n",
       "      <td>0</td>\n",
       "      <td>0</td>\n",
       "      <td>0</td>\n",
       "      <td>0</td>\n",
       "      <td>N</td>\n",
       "      <td>U</td>\n",
       "      <td>U</td>\n",
       "      <td>NJ</td>\n",
       "      <td>B</td>\n",
       "      <td>A</td>\n",
       "      <td>2.0</td>\n",
       "      <td>U</td>\n",
       "      <td>U</td>\n",
       "      <td>M</td>\n",
       "      <td>N</td>\n",
       "      <td>N</td>\n",
       "      <td>0</td>\n",
       "      <td>0</td>\n",
       "      <td>0</td>\n",
       "      <td>0</td>\n",
       "      <td>0</td>\n",
       "      <td>0</td>\n",
       "      <td>2</td>\n",
       "    </tr>\n",
       "    <tr>\n",
       "      <th>6</th>\n",
       "      <td>3174</td>\n",
       "      <td>0</td>\n",
       "      <td>0</td>\n",
       "      <td>0</td>\n",
       "      <td>0</td>\n",
       "      <td>0</td>\n",
       "      <td>0</td>\n",
       "      <td>0</td>\n",
       "      <td>0</td>\n",
       "      <td>0</td>\n",
       "      <td>0</td>\n",
       "      <td>U</td>\n",
       "      <td>0</td>\n",
       "      <td>U</td>\n",
       "      <td>0</td>\n",
       "      <td>U</td>\n",
       "      <td>0</td>\n",
       "      <td>U</td>\n",
       "      <td>0</td>\n",
       "      <td>S</td>\n",
       "      <td>R</td>\n",
       "      <td>S</td>\n",
       "      <td>M</td>\n",
       "      <td>D</td>\n",
       "      <td>1</td>\n",
       "      <td>0</td>\n",
       "      <td>0</td>\n",
       "      <td>0</td>\n",
       "      <td>0</td>\n",
       "      <td>0</td>\n",
       "      <td>0</td>\n",
       "      <td>W</td>\n",
       "      <td>B</td>\n",
       "      <td>B</td>\n",
       "      <td>A</td>\n",
       "      <td>4</td>\n",
       "      <td>Y</td>\n",
       "      <td>G</td>\n",
       "      <td>F</td>\n",
       "      <td>N</td>\n",
       "      <td>0</td>\n",
       "      <td>0</td>\n",
       "      <td>0</td>\n",
       "      <td>0</td>\n",
       "      <td>0</td>\n",
       "      <td>0</td>\n",
       "      <td>0</td>\n",
       "      <td>0</td>\n",
       "      <td>0</td>\n",
       "      <td>0</td>\n",
       "      <td>0</td>\n",
       "      <td>0</td>\n",
       "      <td>0</td>\n",
       "      <td>N</td>\n",
       "      <td>U</td>\n",
       "      <td>1</td>\n",
       "      <td>NJ</td>\n",
       "      <td>B</td>\n",
       "      <td>D</td>\n",
       "      <td>3.0</td>\n",
       "      <td>U</td>\n",
       "      <td>U</td>\n",
       "      <td>U</td>\n",
       "      <td>N</td>\n",
       "      <td>N</td>\n",
       "      <td>0</td>\n",
       "      <td>0</td>\n",
       "      <td>0</td>\n",
       "      <td>0</td>\n",
       "      <td>0</td>\n",
       "      <td>0</td>\n",
       "      <td>2</td>\n",
       "    </tr>\n",
       "    <tr>\n",
       "      <th>7</th>\n",
       "      <td>5044</td>\n",
       "      <td>0</td>\n",
       "      <td>0</td>\n",
       "      <td>0</td>\n",
       "      <td>0</td>\n",
       "      <td>0</td>\n",
       "      <td>0</td>\n",
       "      <td>0</td>\n",
       "      <td>0</td>\n",
       "      <td>0</td>\n",
       "      <td>0</td>\n",
       "      <td>U</td>\n",
       "      <td>0</td>\n",
       "      <td>U</td>\n",
       "      <td>0</td>\n",
       "      <td>U</td>\n",
       "      <td>0</td>\n",
       "      <td>U</td>\n",
       "      <td>0</td>\n",
       "      <td>M</td>\n",
       "      <td>U</td>\n",
       "      <td>S</td>\n",
       "      <td>M</td>\n",
       "      <td>B</td>\n",
       "      <td>2</td>\n",
       "      <td>1</td>\n",
       "      <td>0</td>\n",
       "      <td>1</td>\n",
       "      <td>0</td>\n",
       "      <td>0</td>\n",
       "      <td>0</td>\n",
       "      <td>W</td>\n",
       "      <td>B</td>\n",
       "      <td>C</td>\n",
       "      <td>B</td>\n",
       "      <td>0</td>\n",
       "      <td>Y</td>\n",
       "      <td>A</td>\n",
       "      <td>A</td>\n",
       "      <td>N</td>\n",
       "      <td>0</td>\n",
       "      <td>0</td>\n",
       "      <td>0</td>\n",
       "      <td>0</td>\n",
       "      <td>0</td>\n",
       "      <td>0</td>\n",
       "      <td>0</td>\n",
       "      <td>0</td>\n",
       "      <td>0</td>\n",
       "      <td>0</td>\n",
       "      <td>0</td>\n",
       "      <td>0</td>\n",
       "      <td>0</td>\n",
       "      <td>N</td>\n",
       "      <td>U</td>\n",
       "      <td>U</td>\n",
       "      <td>NJ</td>\n",
       "      <td>E</td>\n",
       "      <td>A</td>\n",
       "      <td>15.0</td>\n",
       "      <td>U</td>\n",
       "      <td>Y</td>\n",
       "      <td>M</td>\n",
       "      <td>N</td>\n",
       "      <td>N</td>\n",
       "      <td>0</td>\n",
       "      <td>0</td>\n",
       "      <td>0</td>\n",
       "      <td>0</td>\n",
       "      <td>0</td>\n",
       "      <td>0</td>\n",
       "      <td>2</td>\n",
       "    </tr>\n",
       "    <tr>\n",
       "      <th>9</th>\n",
       "      <td>5049</td>\n",
       "      <td>0</td>\n",
       "      <td>0</td>\n",
       "      <td>0</td>\n",
       "      <td>0</td>\n",
       "      <td>0</td>\n",
       "      <td>0</td>\n",
       "      <td>0</td>\n",
       "      <td>0</td>\n",
       "      <td>0</td>\n",
       "      <td>0</td>\n",
       "      <td>U</td>\n",
       "      <td>0</td>\n",
       "      <td>U</td>\n",
       "      <td>0</td>\n",
       "      <td>U</td>\n",
       "      <td>0</td>\n",
       "      <td>U</td>\n",
       "      <td>0</td>\n",
       "      <td>S</td>\n",
       "      <td>U</td>\n",
       "      <td>S</td>\n",
       "      <td>F</td>\n",
       "      <td>C</td>\n",
       "      <td>1</td>\n",
       "      <td>0</td>\n",
       "      <td>0</td>\n",
       "      <td>0</td>\n",
       "      <td>0</td>\n",
       "      <td>0</td>\n",
       "      <td>0</td>\n",
       "      <td>U</td>\n",
       "      <td>B</td>\n",
       "      <td>C</td>\n",
       "      <td>B</td>\n",
       "      <td>2</td>\n",
       "      <td>Y</td>\n",
       "      <td>E</td>\n",
       "      <td>A</td>\n",
       "      <td>N</td>\n",
       "      <td>0</td>\n",
       "      <td>0</td>\n",
       "      <td>0</td>\n",
       "      <td>0</td>\n",
       "      <td>0</td>\n",
       "      <td>0</td>\n",
       "      <td>0</td>\n",
       "      <td>0</td>\n",
       "      <td>0</td>\n",
       "      <td>0</td>\n",
       "      <td>0</td>\n",
       "      <td>0</td>\n",
       "      <td>0</td>\n",
       "      <td>N</td>\n",
       "      <td>Q</td>\n",
       "      <td>U</td>\n",
       "      <td>NJ</td>\n",
       "      <td>F</td>\n",
       "      <td>A</td>\n",
       "      <td>4.0</td>\n",
       "      <td>U</td>\n",
       "      <td>U</td>\n",
       "      <td>M</td>\n",
       "      <td>N</td>\n",
       "      <td>N</td>\n",
       "      <td>0</td>\n",
       "      <td>0</td>\n",
       "      <td>0</td>\n",
       "      <td>0</td>\n",
       "      <td>0</td>\n",
       "      <td>0</td>\n",
       "      <td>2</td>\n",
       "    </tr>\n",
       "  </tbody>\n",
       "</table>\n",
       "</div>"
      ],
      "text/plain": [
       "   dataright_seq  Loyalty  RFM_score  wc_bought_any wc_num_items  wc_big_ticket_bought_any wc_big_ticket_num_items  wc_low_ticket_bought_any wc_low_ticket_num_items  wc_big_ticket_amt_spent  wc_low_ticket_amt_spent client_times_shopped_30_days  client_shopped_3_mos comp1_times_shopped_30_days  comp1_shopped_3_mos comp2_times_shopped_30_days  comp2_shopped_3_mos comp3_times_shopped_30_days  comp3_shopped_3_mos Marital_Status Homeowner_Status Dwelling_Type Gender Age  Num_Adults  Num_Children  Child_0_2  Child_3_5  Child_6_10  Child_11_15  Child_16_18 Race HH_Income Eff_Income Socioeconomic_Score  ZIP_Income Dual_Income Home_Market_Value Net_Worth Mail_Order_Buyer  Mail_Ord_Books  Mail_Ord_BooksMags  Mail_Ord_Child_Prod  Mail_Ord_Clothes  Mail_Ord_Cosmetic  Mail_Ord_Food  Mail_Ord_Gifts  Mail_Ord_Furniture  Mail_Ord_Mags  Mail_Ord_Others  Mail_Ord_Jewel  Mail_Ord_Big_Clothes  Mail_Ord_DVD Mail_Order_Response Occupation Education State Est_HH_Debt_Level Est_HH_Invest_Asset  Len_of_Residence Bank_Card_New_Issue_Year Bank_Card Retail_Card Buyer_Retail_Last_Order_2yrs Buyer_Retail_Last_Order_1yrs  Buyer_Reatil_Last_Order_Quantity  Buyer_Reatil_Last_Order_Dollars  client_shopped_30_days  comp1_shopped_30_days  comp2_shopped_30_days  comp3_shopped_30_days  Cluster\n",
       "0           2517        0          0              0            0                         0                       0                         0                       0                        0                        0                            U                     0                           U                    0                           U                    0                           U                    0              M                O             S      M   A           5             0          0          0           0            0            0    B         D          B                   B           9           Y                 E         E                M               0                   0                    0                 0                  0              0               0                   0              0                0               0                     0             0                   M          U         U    CT                 C                   C               NaN                        U         U           U                            Y                            N                                 1                               80                       0                      0                      0                      0        2\n",
       "5           3231        0          0              0            0                         0                       0                         0                       0                        0                        0                            U                     0                           U                    0                           U                    0                           U                    0              S                R             M      F   D           1             0          0          0           1            0            0    B         B          B                   A           4           Y                 A         A                N               0                   0                    0                 0                  0              0               0                   0              0                0               0                     0             0                   N          U         U    NJ                 B                   A               2.0                        U         U           M                            N                            N                                 0                                0                       0                      0                      0                      0        2\n",
       "6           3174        0          0              0            0                         0                       0                         0                       0                        0                        0                            U                     0                           U                    0                           U                    0                           U                    0              S                R             S      M   D           1             0          0          0           0            0            0    W         B          B                   A           4           Y                 G         F                N               0                   0                    0                 0                  0              0               0                   0              0                0               0                     0             0                   N          U         1    NJ                 B                   D               3.0                        U         U           U                            N                            N                                 0                                0                       0                      0                      0                      0        2\n",
       "7           5044        0          0              0            0                         0                       0                         0                       0                        0                        0                            U                     0                           U                    0                           U                    0                           U                    0              M                U             S      M   B           2             1          0          1           0            0            0    W         B          C                   B           0           Y                 A         A                N               0                   0                    0                 0                  0              0               0                   0              0                0               0                     0             0                   N          U         U    NJ                 E                   A              15.0                        U         Y           M                            N                            N                                 0                                0                       0                      0                      0                      0        2\n",
       "9           5049        0          0              0            0                         0                       0                         0                       0                        0                        0                            U                     0                           U                    0                           U                    0                           U                    0              S                U             S      F   C           1             0          0          0           0            0            0    U         B          C                   B           2           Y                 E         A                N               0                   0                    0                 0                  0              0               0                   0              0                0               0                     0             0                   N          Q         U    NJ                 F                   A               4.0                        U         U           M                            N                            N                                 0                                0                       0                      0                      0                      0        2"
      ]
     },
     "execution_count": 51,
     "metadata": {},
     "output_type": "execute_result"
    }
   ],
   "source": [
    "cluster2.head()"
   ]
  },
  {
   "cell_type": "code",
   "execution_count": 52,
   "metadata": {
    "collapsed": true
   },
   "outputs": [],
   "source": [
    "cluster2 = cluster2[test_list]"
   ]
  },
  {
   "cell_type": "code",
   "execution_count": 53,
   "metadata": {
    "collapsed": true
   },
   "outputs": [],
   "source": [
    "dummies = pd.get_dummies(cluster2.iloc[:,1:])"
   ]
  },
  {
   "cell_type": "code",
   "execution_count": 54,
   "metadata": {
    "collapsed": true
   },
   "outputs": [],
   "source": [
    "cluster2 = pd.concat([cluster2['wc_num_items'],dummies],axis = 1)"
   ]
  },
  {
   "cell_type": "code",
   "execution_count": 55,
   "metadata": {
    "collapsed": true
   },
   "outputs": [],
   "source": [
    "data_list = list(cluster2.columns)[1:]"
   ]
  },
  {
   "cell_type": "code",
   "execution_count": 56,
   "metadata": {
    "collapsed": true
   },
   "outputs": [],
   "source": [
    "tree_train, tree_test = train_test_split(cluster2, test_size=0.33, random_state=777)"
   ]
  },
  {
   "cell_type": "code",
   "execution_count": 57,
   "metadata": {},
   "outputs": [
    {
     "data": {
      "text/plain": [
       "(4011, 52)"
      ]
     },
     "execution_count": 57,
     "metadata": {},
     "output_type": "execute_result"
    }
   ],
   "source": [
    "cluster2.shape"
   ]
  },
  {
   "cell_type": "code",
   "execution_count": 58,
   "metadata": {
    "collapsed": true
   },
   "outputs": [],
   "source": [
    "clf = tree.DecisionTreeClassifier(max_leaf_nodes=7, min_samples_leaf = 30)"
   ]
  },
  {
   "cell_type": "code",
   "execution_count": 59,
   "metadata": {
    "collapsed": true
   },
   "outputs": [],
   "source": [
    "clf = clf.fit(tree_train[data_list], tree_train['wc_num_items'])"
   ]
  },
  {
   "cell_type": "code",
   "execution_count": 60,
   "metadata": {
    "collapsed": true
   },
   "outputs": [],
   "source": [
    "test_preds = clf.predict(tree_test[data_list])"
   ]
  },
  {
   "cell_type": "code",
   "execution_count": 61,
   "metadata": {},
   "outputs": [
    {
     "data": {
      "text/plain": [
       "array([[0.98666667, 0.        , 0.        , 0.01333333],\n",
       "       [0.98219414, 0.0034463 , 0.00229753, 0.01206203],\n",
       "       [0.98219414, 0.0034463 , 0.00229753, 0.01206203],\n",
       "       ...,\n",
       "       [0.96470588, 0.00470588, 0.00470588, 0.02588235],\n",
       "       [0.98219414, 0.0034463 , 0.00229753, 0.01206203],\n",
       "       [0.96470588, 0.00470588, 0.00470588, 0.02588235]])"
      ]
     },
     "execution_count": 61,
     "metadata": {},
     "output_type": "execute_result"
    }
   ],
   "source": [
    "clf.predict_proba(tree_test[data_list])"
   ]
  },
  {
   "cell_type": "code",
   "execution_count": 62,
   "metadata": {
    "collapsed": true
   },
   "outputs": [],
   "source": [
    "score = clf.score(tree_test[data_list], tree_test['wc_num_items'])"
   ]
  },
  {
   "cell_type": "markdown",
   "metadata": {},
   "source": [
    "#### Creating confusion matrix"
   ]
  },
  {
   "cell_type": "code",
   "execution_count": 63,
   "metadata": {
    "collapsed": true
   },
   "outputs": [],
   "source": [
    "cm = confusion_matrix(tree_test['wc_num_items'], test_preds)"
   ]
  },
  {
   "cell_type": "code",
   "execution_count": 64,
   "metadata": {
    "scrolled": true
   },
   "outputs": [
    {
     "data": {
      "image/png": "[encoded data removed]",
      "text/plain": [
       "<matplotlib.figure.Figure at 0x1a10ea3fd0>"
      ]
     },
     "metadata": {},
     "output_type": "display_data"
    }
   ],
   "source": [
    "plt.figure(figsize = (7,7))\n",
    "\n",
    "sns.heatmap(cm, annot = True, fmt = '.2f', linewidths = .5, square = True, cmap = 'Blues_r');\n",
    "plt.ylabel('Actual Labels');\n",
    "plt.xlabel('Predicted Labels');\n",
    "all_sample_title = 'Accuracy Score: {0}%'.format(round(score*100,3))\n",
    "plt.title(all_sample_title, size = 20);\n",
    "\n",
    "plt.show()"
   ]
  },
  {
   "cell_type": "markdown",
   "metadata": {},
   "source": [
    "#### Visualizing decision tree"
   ]
  },
  {
   "cell_type": "code",
   "execution_count": 65,
   "metadata": {
    "collapsed": true
   },
   "outputs": [],
   "source": [
    "dot_data = StringIO()\n",
    "\n",
    "tree.export_graphviz(clf, out_file=dot_data, feature_names = data_list, filled=True, rounded=True)\n",
    "graph = pydot.graph_from_dot_data(dot_data.getvalue())\n",
    "graph[0].write_pdf(\"not_engaged_customers_cluster2_tree.pdf\")"
   ]
  },
  {
   "cell_type": "code",
   "execution_count": null,
   "metadata": {
    "collapsed": true
   },
   "outputs": [],
   "source": []
  },
  {
   "cell_type": "markdown",
   "metadata": {},
   "source": [
    "### Decision Tree for Cluster 3"
   ]
  },
  {
   "cell_type": "code",
   "execution_count": 66,
   "metadata": {
    "collapsed": true
   },
   "outputs": [],
   "source": [
    "cluster3 = dataset[dataset['Cluster'] == 3]"
   ]
  },
  {
   "cell_type": "code",
   "execution_count": 67,
   "metadata": {
    "collapsed": true
   },
   "outputs": [],
   "source": [
    "test_list = ['wc_num_items', 'Num_Adults', 'Num_Children', 'ZIP_Income', 'Buyer_Reatil_Last_Order_Quantity', 'Buyer_Reatil_Last_Order_Dollars', 'Marital_Status', 'Homeowner_Status', 'Dwelling_Type', 'HH_Income', 'Dual_Income', 'Home_Market_Value', 'Net_Worth', 'Mail_Order_Buyer', 'Mail_Order_Response', 'Buyer_Retail_Last_Order_2yrs']"
   ]
  },
  {
   "cell_type": "code",
   "execution_count": 68,
   "metadata": {},
   "outputs": [
    {
     "data": {
      "text/html": [
       "<div>\n",
       "<style>\n",
       "    .dataframe thead tr:only-child th {\n",
       "        text-align: right;\n",
       "    }\n",
       "\n",
       "    .dataframe thead th {\n",
       "        text-align: left;\n",
       "    }\n",
       "\n",
       "    .dataframe tbody tr th {\n",
       "        vertical-align: top;\n",
       "    }\n",
       "</style>\n",
       "<table border=\"1\" class=\"dataframe\">\n",
       "  <thead>\n",
       "    <tr style=\"text-align: right;\">\n",
       "      <th></th>\n",
       "      <th>dataright_seq</th>\n",
       "      <th>Loyalty</th>\n",
       "      <th>RFM_score</th>\n",
       "      <th>wc_bought_any</th>\n",
       "      <th>wc_num_items</th>\n",
       "      <th>wc_big_ticket_bought_any</th>\n",
       "      <th>wc_big_ticket_num_items</th>\n",
       "      <th>wc_low_ticket_bought_any</th>\n",
       "      <th>wc_low_ticket_num_items</th>\n",
       "      <th>wc_big_ticket_amt_spent</th>\n",
       "      <th>wc_low_ticket_amt_spent</th>\n",
       "      <th>client_times_shopped_30_days</th>\n",
       "      <th>client_shopped_3_mos</th>\n",
       "      <th>comp1_times_shopped_30_days</th>\n",
       "      <th>comp1_shopped_3_mos</th>\n",
       "      <th>comp2_times_shopped_30_days</th>\n",
       "      <th>comp2_shopped_3_mos</th>\n",
       "      <th>comp3_times_shopped_30_days</th>\n",
       "      <th>comp3_shopped_3_mos</th>\n",
       "      <th>Marital_Status</th>\n",
       "      <th>Homeowner_Status</th>\n",
       "      <th>Dwelling_Type</th>\n",
       "      <th>Gender</th>\n",
       "      <th>Age</th>\n",
       "      <th>Num_Adults</th>\n",
       "      <th>Num_Children</th>\n",
       "      <th>Child_0_2</th>\n",
       "      <th>Child_3_5</th>\n",
       "      <th>Child_6_10</th>\n",
       "      <th>Child_11_15</th>\n",
       "      <th>Child_16_18</th>\n",
       "      <th>Race</th>\n",
       "      <th>HH_Income</th>\n",
       "      <th>Eff_Income</th>\n",
       "      <th>Socioeconomic_Score</th>\n",
       "      <th>ZIP_Income</th>\n",
       "      <th>Dual_Income</th>\n",
       "      <th>Home_Market_Value</th>\n",
       "      <th>Net_Worth</th>\n",
       "      <th>Mail_Order_Buyer</th>\n",
       "      <th>Mail_Ord_Books</th>\n",
       "      <th>Mail_Ord_BooksMags</th>\n",
       "      <th>Mail_Ord_Child_Prod</th>\n",
       "      <th>Mail_Ord_Clothes</th>\n",
       "      <th>Mail_Ord_Cosmetic</th>\n",
       "      <th>Mail_Ord_Food</th>\n",
       "      <th>Mail_Ord_Gifts</th>\n",
       "      <th>Mail_Ord_Furniture</th>\n",
       "      <th>Mail_Ord_Mags</th>\n",
       "      <th>Mail_Ord_Others</th>\n",
       "      <th>Mail_Ord_Jewel</th>\n",
       "      <th>Mail_Ord_Big_Clothes</th>\n",
       "      <th>Mail_Ord_DVD</th>\n",
       "      <th>Mail_Order_Response</th>\n",
       "      <th>Occupation</th>\n",
       "      <th>Education</th>\n",
       "      <th>State</th>\n",
       "      <th>Est_HH_Debt_Level</th>\n",
       "      <th>Est_HH_Invest_Asset</th>\n",
       "      <th>Len_of_Residence</th>\n",
       "      <th>Bank_Card_New_Issue_Year</th>\n",
       "      <th>Bank_Card</th>\n",
       "      <th>Retail_Card</th>\n",
       "      <th>Buyer_Retail_Last_Order_2yrs</th>\n",
       "      <th>Buyer_Retail_Last_Order_1yrs</th>\n",
       "      <th>Buyer_Reatil_Last_Order_Quantity</th>\n",
       "      <th>Buyer_Reatil_Last_Order_Dollars</th>\n",
       "      <th>client_shopped_30_days</th>\n",
       "      <th>comp1_shopped_30_days</th>\n",
       "      <th>comp2_shopped_30_days</th>\n",
       "      <th>comp3_shopped_30_days</th>\n",
       "      <th>Cluster</th>\n",
       "    </tr>\n",
       "  </thead>\n",
       "  <tbody>\n",
       "    <tr>\n",
       "      <th>85</th>\n",
       "      <td>2545</td>\n",
       "      <td>0</td>\n",
       "      <td>0</td>\n",
       "      <td>0</td>\n",
       "      <td>0</td>\n",
       "      <td>0</td>\n",
       "      <td>0</td>\n",
       "      <td>0</td>\n",
       "      <td>0</td>\n",
       "      <td>0</td>\n",
       "      <td>0</td>\n",
       "      <td>U</td>\n",
       "      <td>0</td>\n",
       "      <td>U</td>\n",
       "      <td>0</td>\n",
       "      <td>U</td>\n",
       "      <td>0</td>\n",
       "      <td>U</td>\n",
       "      <td>0</td>\n",
       "      <td>S</td>\n",
       "      <td>O</td>\n",
       "      <td>S</td>\n",
       "      <td>M</td>\n",
       "      <td>B</td>\n",
       "      <td>2</td>\n",
       "      <td>3</td>\n",
       "      <td>0</td>\n",
       "      <td>0</td>\n",
       "      <td>0</td>\n",
       "      <td>1</td>\n",
       "      <td>1</td>\n",
       "      <td>W</td>\n",
       "      <td>E</td>\n",
       "      <td>D</td>\n",
       "      <td>D</td>\n",
       "      <td>4</td>\n",
       "      <td>Y</td>\n",
       "      <td>G</td>\n",
       "      <td>E</td>\n",
       "      <td>M</td>\n",
       "      <td>0</td>\n",
       "      <td>1</td>\n",
       "      <td>0</td>\n",
       "      <td>1</td>\n",
       "      <td>1</td>\n",
       "      <td>0</td>\n",
       "      <td>0</td>\n",
       "      <td>1</td>\n",
       "      <td>1</td>\n",
       "      <td>1</td>\n",
       "      <td>0</td>\n",
       "      <td>0</td>\n",
       "      <td>0</td>\n",
       "      <td>M</td>\n",
       "      <td>U</td>\n",
       "      <td>U</td>\n",
       "      <td>CT</td>\n",
       "      <td>G</td>\n",
       "      <td>C</td>\n",
       "      <td>14.0</td>\n",
       "      <td>17</td>\n",
       "      <td>M</td>\n",
       "      <td>M</td>\n",
       "      <td>N</td>\n",
       "      <td>N</td>\n",
       "      <td>0</td>\n",
       "      <td>0</td>\n",
       "      <td>0</td>\n",
       "      <td>0</td>\n",
       "      <td>0</td>\n",
       "      <td>0</td>\n",
       "      <td>3</td>\n",
       "    </tr>\n",
       "    <tr>\n",
       "      <th>98</th>\n",
       "      <td>3754</td>\n",
       "      <td>0</td>\n",
       "      <td>0</td>\n",
       "      <td>0</td>\n",
       "      <td>0</td>\n",
       "      <td>0</td>\n",
       "      <td>0</td>\n",
       "      <td>0</td>\n",
       "      <td>0</td>\n",
       "      <td>0</td>\n",
       "      <td>0</td>\n",
       "      <td>U</td>\n",
       "      <td>0</td>\n",
       "      <td>C</td>\n",
       "      <td>1</td>\n",
       "      <td>U</td>\n",
       "      <td>0</td>\n",
       "      <td>A</td>\n",
       "      <td>1</td>\n",
       "      <td>S</td>\n",
       "      <td>O</td>\n",
       "      <td>S</td>\n",
       "      <td>F</td>\n",
       "      <td>A</td>\n",
       "      <td>2</td>\n",
       "      <td>0</td>\n",
       "      <td>0</td>\n",
       "      <td>0</td>\n",
       "      <td>0</td>\n",
       "      <td>0</td>\n",
       "      <td>0</td>\n",
       "      <td>A</td>\n",
       "      <td>G</td>\n",
       "      <td>D</td>\n",
       "      <td>D</td>\n",
       "      <td>9</td>\n",
       "      <td>Y</td>\n",
       "      <td>G</td>\n",
       "      <td>F</td>\n",
       "      <td>M</td>\n",
       "      <td>0</td>\n",
       "      <td>0</td>\n",
       "      <td>0</td>\n",
       "      <td>0</td>\n",
       "      <td>0</td>\n",
       "      <td>0</td>\n",
       "      <td>0</td>\n",
       "      <td>0</td>\n",
       "      <td>0</td>\n",
       "      <td>0</td>\n",
       "      <td>0</td>\n",
       "      <td>0</td>\n",
       "      <td>0</td>\n",
       "      <td>M</td>\n",
       "      <td>U</td>\n",
       "      <td>U</td>\n",
       "      <td>NJ</td>\n",
       "      <td>I</td>\n",
       "      <td>F</td>\n",
       "      <td>3.0</td>\n",
       "      <td>U</td>\n",
       "      <td>M</td>\n",
       "      <td>U</td>\n",
       "      <td>N</td>\n",
       "      <td>N</td>\n",
       "      <td>0</td>\n",
       "      <td>0</td>\n",
       "      <td>0</td>\n",
       "      <td>1</td>\n",
       "      <td>0</td>\n",
       "      <td>1</td>\n",
       "      <td>3</td>\n",
       "    </tr>\n",
       "    <tr>\n",
       "      <th>99</th>\n",
       "      <td>3755</td>\n",
       "      <td>0</td>\n",
       "      <td>0</td>\n",
       "      <td>0</td>\n",
       "      <td>0</td>\n",
       "      <td>0</td>\n",
       "      <td>0</td>\n",
       "      <td>0</td>\n",
       "      <td>0</td>\n",
       "      <td>0</td>\n",
       "      <td>0</td>\n",
       "      <td>U</td>\n",
       "      <td>0</td>\n",
       "      <td>U</td>\n",
       "      <td>0</td>\n",
       "      <td>U</td>\n",
       "      <td>0</td>\n",
       "      <td>U</td>\n",
       "      <td>0</td>\n",
       "      <td>M</td>\n",
       "      <td>O</td>\n",
       "      <td>S</td>\n",
       "      <td>M</td>\n",
       "      <td>C</td>\n",
       "      <td>2</td>\n",
       "      <td>1</td>\n",
       "      <td>0</td>\n",
       "      <td>0</td>\n",
       "      <td>1</td>\n",
       "      <td>0</td>\n",
       "      <td>0</td>\n",
       "      <td>W</td>\n",
       "      <td>G</td>\n",
       "      <td>D</td>\n",
       "      <td>D</td>\n",
       "      <td>9</td>\n",
       "      <td>N</td>\n",
       "      <td>G</td>\n",
       "      <td>F</td>\n",
       "      <td>M</td>\n",
       "      <td>0</td>\n",
       "      <td>0</td>\n",
       "      <td>0</td>\n",
       "      <td>0</td>\n",
       "      <td>0</td>\n",
       "      <td>0</td>\n",
       "      <td>0</td>\n",
       "      <td>0</td>\n",
       "      <td>0</td>\n",
       "      <td>0</td>\n",
       "      <td>0</td>\n",
       "      <td>0</td>\n",
       "      <td>0</td>\n",
       "      <td>M</td>\n",
       "      <td>U</td>\n",
       "      <td>U</td>\n",
       "      <td>NJ</td>\n",
       "      <td>I</td>\n",
       "      <td>F</td>\n",
       "      <td>3.0</td>\n",
       "      <td>U</td>\n",
       "      <td>M</td>\n",
       "      <td>U</td>\n",
       "      <td>N</td>\n",
       "      <td>N</td>\n",
       "      <td>1</td>\n",
       "      <td>76</td>\n",
       "      <td>0</td>\n",
       "      <td>0</td>\n",
       "      <td>0</td>\n",
       "      <td>0</td>\n",
       "      <td>3</td>\n",
       "    </tr>\n",
       "    <tr>\n",
       "      <th>100</th>\n",
       "      <td>3756</td>\n",
       "      <td>0</td>\n",
       "      <td>0</td>\n",
       "      <td>0</td>\n",
       "      <td>0</td>\n",
       "      <td>0</td>\n",
       "      <td>0</td>\n",
       "      <td>0</td>\n",
       "      <td>0</td>\n",
       "      <td>0</td>\n",
       "      <td>0</td>\n",
       "      <td>U</td>\n",
       "      <td>0</td>\n",
       "      <td>U</td>\n",
       "      <td>0</td>\n",
       "      <td>U</td>\n",
       "      <td>0</td>\n",
       "      <td>U</td>\n",
       "      <td>0</td>\n",
       "      <td>M</td>\n",
       "      <td>O</td>\n",
       "      <td>S</td>\n",
       "      <td>M</td>\n",
       "      <td>D</td>\n",
       "      <td>2</td>\n",
       "      <td>7</td>\n",
       "      <td>0</td>\n",
       "      <td>0</td>\n",
       "      <td>1</td>\n",
       "      <td>1</td>\n",
       "      <td>1</td>\n",
       "      <td>W</td>\n",
       "      <td>H</td>\n",
       "      <td>D</td>\n",
       "      <td>D</td>\n",
       "      <td>9</td>\n",
       "      <td>Y</td>\n",
       "      <td>G</td>\n",
       "      <td>F</td>\n",
       "      <td>M</td>\n",
       "      <td>0</td>\n",
       "      <td>1</td>\n",
       "      <td>1</td>\n",
       "      <td>1</td>\n",
       "      <td>0</td>\n",
       "      <td>0</td>\n",
       "      <td>1</td>\n",
       "      <td>1</td>\n",
       "      <td>1</td>\n",
       "      <td>1</td>\n",
       "      <td>0</td>\n",
       "      <td>0</td>\n",
       "      <td>1</td>\n",
       "      <td>M</td>\n",
       "      <td>G</td>\n",
       "      <td>U</td>\n",
       "      <td>NJ</td>\n",
       "      <td>I</td>\n",
       "      <td>G</td>\n",
       "      <td>12.0</td>\n",
       "      <td>8</td>\n",
       "      <td>M</td>\n",
       "      <td>M</td>\n",
       "      <td>Y</td>\n",
       "      <td>N</td>\n",
       "      <td>7</td>\n",
       "      <td>431</td>\n",
       "      <td>0</td>\n",
       "      <td>0</td>\n",
       "      <td>0</td>\n",
       "      <td>0</td>\n",
       "      <td>3</td>\n",
       "    </tr>\n",
       "    <tr>\n",
       "      <th>101</th>\n",
       "      <td>3757</td>\n",
       "      <td>0</td>\n",
       "      <td>0</td>\n",
       "      <td>0</td>\n",
       "      <td>0</td>\n",
       "      <td>0</td>\n",
       "      <td>0</td>\n",
       "      <td>0</td>\n",
       "      <td>0</td>\n",
       "      <td>0</td>\n",
       "      <td>0</td>\n",
       "      <td>U</td>\n",
       "      <td>0</td>\n",
       "      <td>U</td>\n",
       "      <td>0</td>\n",
       "      <td>U</td>\n",
       "      <td>0</td>\n",
       "      <td>U</td>\n",
       "      <td>0</td>\n",
       "      <td>M</td>\n",
       "      <td>O</td>\n",
       "      <td>S</td>\n",
       "      <td>M</td>\n",
       "      <td>C</td>\n",
       "      <td>5</td>\n",
       "      <td>3</td>\n",
       "      <td>1</td>\n",
       "      <td>0</td>\n",
       "      <td>0</td>\n",
       "      <td>1</td>\n",
       "      <td>1</td>\n",
       "      <td>H</td>\n",
       "      <td>D</td>\n",
       "      <td>D</td>\n",
       "      <td>D</td>\n",
       "      <td>4</td>\n",
       "      <td>Y</td>\n",
       "      <td>G</td>\n",
       "      <td>F</td>\n",
       "      <td>M</td>\n",
       "      <td>0</td>\n",
       "      <td>1</td>\n",
       "      <td>0</td>\n",
       "      <td>1</td>\n",
       "      <td>0</td>\n",
       "      <td>0</td>\n",
       "      <td>1</td>\n",
       "      <td>0</td>\n",
       "      <td>1</td>\n",
       "      <td>1</td>\n",
       "      <td>0</td>\n",
       "      <td>0</td>\n",
       "      <td>0</td>\n",
       "      <td>M</td>\n",
       "      <td>U</td>\n",
       "      <td>U</td>\n",
       "      <td>NJ</td>\n",
       "      <td>I</td>\n",
       "      <td>F</td>\n",
       "      <td>12.0</td>\n",
       "      <td>7</td>\n",
       "      <td>M</td>\n",
       "      <td>M</td>\n",
       "      <td>N</td>\n",
       "      <td>N</td>\n",
       "      <td>0</td>\n",
       "      <td>0</td>\n",
       "      <td>0</td>\n",
       "      <td>0</td>\n",
       "      <td>0</td>\n",
       "      <td>0</td>\n",
       "      <td>3</td>\n",
       "    </tr>\n",
       "  </tbody>\n",
       "</table>\n",
       "</div>"
      ],
      "text/plain": [
       "     dataright_seq  Loyalty  RFM_score  wc_bought_any wc_num_items  wc_big_ticket_bought_any wc_big_ticket_num_items  wc_low_ticket_bought_any wc_low_ticket_num_items  wc_big_ticket_amt_spent  wc_low_ticket_amt_spent client_times_shopped_30_days  client_shopped_3_mos comp1_times_shopped_30_days  comp1_shopped_3_mos comp2_times_shopped_30_days  comp2_shopped_3_mos comp3_times_shopped_30_days  comp3_shopped_3_mos Marital_Status Homeowner_Status Dwelling_Type Gender Age  Num_Adults  Num_Children  Child_0_2  Child_3_5  Child_6_10  Child_11_15  Child_16_18 Race HH_Income Eff_Income Socioeconomic_Score  ZIP_Income Dual_Income Home_Market_Value Net_Worth Mail_Order_Buyer  Mail_Ord_Books  Mail_Ord_BooksMags  Mail_Ord_Child_Prod  Mail_Ord_Clothes  Mail_Ord_Cosmetic  Mail_Ord_Food  Mail_Ord_Gifts  Mail_Ord_Furniture  Mail_Ord_Mags  Mail_Ord_Others  Mail_Ord_Jewel  Mail_Ord_Big_Clothes  Mail_Ord_DVD Mail_Order_Response Occupation Education State Est_HH_Debt_Level Est_HH_Invest_Asset  Len_of_Residence Bank_Card_New_Issue_Year Bank_Card Retail_Card Buyer_Retail_Last_Order_2yrs Buyer_Retail_Last_Order_1yrs  Buyer_Reatil_Last_Order_Quantity  Buyer_Reatil_Last_Order_Dollars  client_shopped_30_days  comp1_shopped_30_days  comp2_shopped_30_days  comp3_shopped_30_days  Cluster\n",
       "85            2545        0          0              0            0                         0                       0                         0                       0                        0                        0                            U                     0                           U                    0                           U                    0                           U                    0              S                O             S      M   B           2             3          0          0           0            1            1    W         E          D                   D           4           Y                 G         E                M               0                   1                    0                 1                  1              0               0                   1              1                1               0                     0             0                   M          U         U    CT                 G                   C              14.0                       17         M           M                            N                            N                                 0                                0                       0                      0                      0                      0        3\n",
       "98            3754        0          0              0            0                         0                       0                         0                       0                        0                        0                            U                     0                           C                    1                           U                    0                           A                    1              S                O             S      F   A           2             0          0          0           0            0            0    A         G          D                   D           9           Y                 G         F                M               0                   0                    0                 0                  0              0               0                   0              0                0               0                     0             0                   M          U         U    NJ                 I                   F               3.0                        U         M           U                            N                            N                                 0                                0                       0                      1                      0                      1        3\n",
       "99            3755        0          0              0            0                         0                       0                         0                       0                        0                        0                            U                     0                           U                    0                           U                    0                           U                    0              M                O             S      M   C           2             1          0          0           1            0            0    W         G          D                   D           9           N                 G         F                M               0                   0                    0                 0                  0              0               0                   0              0                0               0                     0             0                   M          U         U    NJ                 I                   F               3.0                        U         M           U                            N                            N                                 1                               76                       0                      0                      0                      0        3\n",
       "100           3756        0          0              0            0                         0                       0                         0                       0                        0                        0                            U                     0                           U                    0                           U                    0                           U                    0              M                O             S      M   D           2             7          0          0           1            1            1    W         H          D                   D           9           Y                 G         F                M               0                   1                    1                 1                  0              0               1                   1              1                1               0                     0             1                   M          G         U    NJ                 I                   G              12.0                        8         M           M                            Y                            N                                 7                              431                       0                      0                      0                      0        3\n",
       "101           3757        0          0              0            0                         0                       0                         0                       0                        0                        0                            U                     0                           U                    0                           U                    0                           U                    0              M                O             S      M   C           5             3          1          0           0            1            1    H         D          D                   D           4           Y                 G         F                M               0                   1                    0                 1                  0              0               1                   0              1                1               0                     0             0                   M          U         U    NJ                 I                   F              12.0                        7         M           M                            N                            N                                 0                                0                       0                      0                      0                      0        3"
      ]
     },
     "execution_count": 68,
     "metadata": {},
     "output_type": "execute_result"
    }
   ],
   "source": [
    "cluster3.head()"
   ]
  },
  {
   "cell_type": "code",
   "execution_count": 69,
   "metadata": {
    "collapsed": true
   },
   "outputs": [],
   "source": [
    "cluster3 = cluster3[test_list]"
   ]
  },
  {
   "cell_type": "code",
   "execution_count": 70,
   "metadata": {
    "collapsed": true
   },
   "outputs": [],
   "source": [
    "dummies = pd.get_dummies(cluster3.iloc[:,1:])"
   ]
  },
  {
   "cell_type": "code",
   "execution_count": 71,
   "metadata": {
    "collapsed": true
   },
   "outputs": [],
   "source": [
    "cluster3 = pd.concat([cluster3['wc_num_items'],dummies],axis = 1)"
   ]
  },
  {
   "cell_type": "code",
   "execution_count": 72,
   "metadata": {
    "collapsed": true
   },
   "outputs": [],
   "source": [
    "data_list = list(cluster3.columns)[1:]"
   ]
  },
  {
   "cell_type": "code",
   "execution_count": 73,
   "metadata": {
    "collapsed": true
   },
   "outputs": [],
   "source": [
    "tree_train, tree_test = train_test_split(cluster3, test_size=0.33, random_state=777)"
   ]
  },
  {
   "cell_type": "code",
   "execution_count": 74,
   "metadata": {},
   "outputs": [
    {
     "data": {
      "text/plain": [
       "(1728, 51)"
      ]
     },
     "execution_count": 74,
     "metadata": {},
     "output_type": "execute_result"
    }
   ],
   "source": [
    "cluster3.shape"
   ]
  },
  {
   "cell_type": "code",
   "execution_count": 75,
   "metadata": {
    "collapsed": true
   },
   "outputs": [],
   "source": [
    "clf = tree.DecisionTreeClassifier(max_leaf_nodes=7, min_samples_leaf = 30)"
   ]
  },
  {
   "cell_type": "code",
   "execution_count": 76,
   "metadata": {
    "collapsed": true
   },
   "outputs": [],
   "source": [
    "clf = clf.fit(tree_train[data_list], tree_train['wc_num_items'])"
   ]
  },
  {
   "cell_type": "code",
   "execution_count": 77,
   "metadata": {
    "collapsed": true
   },
   "outputs": [],
   "source": [
    "test_preds = clf.predict(tree_test[data_list])"
   ]
  },
  {
   "cell_type": "code",
   "execution_count": 78,
   "metadata": {},
   "outputs": [
    {
     "data": {
      "text/plain": [
       "array([[0.9988345 , 0.        , 0.0011655 ],\n",
       "       [0.96226415, 0.01886792, 0.01886792],\n",
       "       [0.9988345 , 0.        , 0.0011655 ],\n",
       "       ...,\n",
       "       [0.9988345 , 0.        , 0.0011655 ],\n",
       "       [0.9988345 , 0.        , 0.0011655 ],\n",
       "       [0.9988345 , 0.        , 0.0011655 ]])"
      ]
     },
     "execution_count": 78,
     "metadata": {},
     "output_type": "execute_result"
    }
   ],
   "source": [
    "clf.predict_proba(tree_test[data_list])"
   ]
  },
  {
   "cell_type": "code",
   "execution_count": 79,
   "metadata": {
    "collapsed": true
   },
   "outputs": [],
   "source": [
    "score = clf.score(tree_test[data_list], tree_test['wc_num_items'])"
   ]
  },
  {
   "cell_type": "markdown",
   "metadata": {},
   "source": [
    "#### Creating confusion matrix"
   ]
  },
  {
   "cell_type": "code",
   "execution_count": 80,
   "metadata": {
    "collapsed": true
   },
   "outputs": [],
   "source": [
    "cm = confusion_matrix(tree_test['wc_num_items'], test_preds)"
   ]
  },
  {
   "cell_type": "code",
   "execution_count": 81,
   "metadata": {
    "scrolled": true
   },
   "outputs": [
    {
     "data": {
      "image/png": "[encoded data removed]",
      "text/plain": [
       "<matplotlib.figure.Figure at 0x1a26745668>"
      ]
     },
     "metadata": {},
     "output_type": "display_data"
    }
   ],
   "source": [
    "plt.figure(figsize = (7,7))\n",
    "\n",
    "sns.heatmap(cm, annot = True, fmt = '.2f', linewidths = .5, square = True, cmap = 'Blues_r');\n",
    "plt.ylabel('Actual Labels');\n",
    "plt.xlabel('Predicted Labels');\n",
    "all_sample_title = 'Accuracy Score: {0}%'.format(round(score*100,3))\n",
    "plt.title(all_sample_title, size = 20);\n",
    "\n",
    "plt.show()"
   ]
  },
  {
   "cell_type": "markdown",
   "metadata": {},
   "source": [
    "#### Visualizing decision tree"
   ]
  },
  {
   "cell_type": "code",
   "execution_count": 82,
   "metadata": {
    "collapsed": true
   },
   "outputs": [],
   "source": [
    "dot_data = StringIO()\n",
    "\n",
    "tree.export_graphviz(clf, out_file=dot_data, feature_names = data_list, filled=True, rounded=True)\n",
    "graph = pydot.graph_from_dot_data(dot_data.getvalue())\n",
    "graph[0].write_pdf(\"not_engaged_customers_cluster3_tree.pdf\")"
   ]
  },
  {
   "cell_type": "code",
   "execution_count": null,
   "metadata": {
    "collapsed": true
   },
   "outputs": [],
   "source": []
  },
  {
   "cell_type": "markdown",
   "metadata": {},
   "source": [
    "### Decision Tree for Cluster 4"
   ]
  },
  {
   "cell_type": "code",
   "execution_count": 83,
   "metadata": {
    "collapsed": true
   },
   "outputs": [],
   "source": [
    "cluster4 = dataset[dataset['Cluster'] == 4]"
   ]
  },
  {
   "cell_type": "code",
   "execution_count": 84,
   "metadata": {
    "collapsed": true
   },
   "outputs": [],
   "source": [
    "test_list = ['wc_num_items', 'Num_Adults', 'Num_Children', 'ZIP_Income', 'Buyer_Reatil_Last_Order_Quantity', 'Buyer_Reatil_Last_Order_Dollars', 'Marital_Status', 'Homeowner_Status', 'Dwelling_Type', 'HH_Income', 'Dual_Income', 'Home_Market_Value', 'Net_Worth', 'Mail_Order_Buyer', 'Mail_Order_Response', 'Buyer_Retail_Last_Order_2yrs']"
   ]
  },
  {
   "cell_type": "code",
   "execution_count": 85,
   "metadata": {},
   "outputs": [
    {
     "data": {
      "text/html": [
       "<div>\n",
       "<style>\n",
       "    .dataframe thead tr:only-child th {\n",
       "        text-align: right;\n",
       "    }\n",
       "\n",
       "    .dataframe thead th {\n",
       "        text-align: left;\n",
       "    }\n",
       "\n",
       "    .dataframe tbody tr th {\n",
       "        vertical-align: top;\n",
       "    }\n",
       "</style>\n",
       "<table border=\"1\" class=\"dataframe\">\n",
       "  <thead>\n",
       "    <tr style=\"text-align: right;\">\n",
       "      <th></th>\n",
       "      <th>dataright_seq</th>\n",
       "      <th>Loyalty</th>\n",
       "      <th>RFM_score</th>\n",
       "      <th>wc_bought_any</th>\n",
       "      <th>wc_num_items</th>\n",
       "      <th>wc_big_ticket_bought_any</th>\n",
       "      <th>wc_big_ticket_num_items</th>\n",
       "      <th>wc_low_ticket_bought_any</th>\n",
       "      <th>wc_low_ticket_num_items</th>\n",
       "      <th>wc_big_ticket_amt_spent</th>\n",
       "      <th>wc_low_ticket_amt_spent</th>\n",
       "      <th>client_times_shopped_30_days</th>\n",
       "      <th>client_shopped_3_mos</th>\n",
       "      <th>comp1_times_shopped_30_days</th>\n",
       "      <th>comp1_shopped_3_mos</th>\n",
       "      <th>comp2_times_shopped_30_days</th>\n",
       "      <th>comp2_shopped_3_mos</th>\n",
       "      <th>comp3_times_shopped_30_days</th>\n",
       "      <th>comp3_shopped_3_mos</th>\n",
       "      <th>Marital_Status</th>\n",
       "      <th>Homeowner_Status</th>\n",
       "      <th>Dwelling_Type</th>\n",
       "      <th>Gender</th>\n",
       "      <th>Age</th>\n",
       "      <th>Num_Adults</th>\n",
       "      <th>Num_Children</th>\n",
       "      <th>Child_0_2</th>\n",
       "      <th>Child_3_5</th>\n",
       "      <th>Child_6_10</th>\n",
       "      <th>Child_11_15</th>\n",
       "      <th>Child_16_18</th>\n",
       "      <th>Race</th>\n",
       "      <th>HH_Income</th>\n",
       "      <th>Eff_Income</th>\n",
       "      <th>Socioeconomic_Score</th>\n",
       "      <th>ZIP_Income</th>\n",
       "      <th>Dual_Income</th>\n",
       "      <th>Home_Market_Value</th>\n",
       "      <th>Net_Worth</th>\n",
       "      <th>Mail_Order_Buyer</th>\n",
       "      <th>Mail_Ord_Books</th>\n",
       "      <th>Mail_Ord_BooksMags</th>\n",
       "      <th>Mail_Ord_Child_Prod</th>\n",
       "      <th>Mail_Ord_Clothes</th>\n",
       "      <th>Mail_Ord_Cosmetic</th>\n",
       "      <th>Mail_Ord_Food</th>\n",
       "      <th>Mail_Ord_Gifts</th>\n",
       "      <th>Mail_Ord_Furniture</th>\n",
       "      <th>Mail_Ord_Mags</th>\n",
       "      <th>Mail_Ord_Others</th>\n",
       "      <th>Mail_Ord_Jewel</th>\n",
       "      <th>Mail_Ord_Big_Clothes</th>\n",
       "      <th>Mail_Ord_DVD</th>\n",
       "      <th>Mail_Order_Response</th>\n",
       "      <th>Occupation</th>\n",
       "      <th>Education</th>\n",
       "      <th>State</th>\n",
       "      <th>Est_HH_Debt_Level</th>\n",
       "      <th>Est_HH_Invest_Asset</th>\n",
       "      <th>Len_of_Residence</th>\n",
       "      <th>Bank_Card_New_Issue_Year</th>\n",
       "      <th>Bank_Card</th>\n",
       "      <th>Retail_Card</th>\n",
       "      <th>Buyer_Retail_Last_Order_2yrs</th>\n",
       "      <th>Buyer_Retail_Last_Order_1yrs</th>\n",
       "      <th>Buyer_Reatil_Last_Order_Quantity</th>\n",
       "      <th>Buyer_Reatil_Last_Order_Dollars</th>\n",
       "      <th>client_shopped_30_days</th>\n",
       "      <th>comp1_shopped_30_days</th>\n",
       "      <th>comp2_shopped_30_days</th>\n",
       "      <th>comp3_shopped_30_days</th>\n",
       "      <th>Cluster</th>\n",
       "    </tr>\n",
       "  </thead>\n",
       "  <tbody>\n",
       "    <tr>\n",
       "      <th>48</th>\n",
       "      <td>7794</td>\n",
       "      <td>0</td>\n",
       "      <td>0</td>\n",
       "      <td>0</td>\n",
       "      <td>0</td>\n",
       "      <td>0</td>\n",
       "      <td>0</td>\n",
       "      <td>0</td>\n",
       "      <td>0</td>\n",
       "      <td>0</td>\n",
       "      <td>0</td>\n",
       "      <td>U</td>\n",
       "      <td>0</td>\n",
       "      <td>U</td>\n",
       "      <td>0</td>\n",
       "      <td>U</td>\n",
       "      <td>0</td>\n",
       "      <td>U</td>\n",
       "      <td>0</td>\n",
       "      <td>M</td>\n",
       "      <td>O</td>\n",
       "      <td>S</td>\n",
       "      <td>M</td>\n",
       "      <td>E</td>\n",
       "      <td>5</td>\n",
       "      <td>1</td>\n",
       "      <td>0</td>\n",
       "      <td>0</td>\n",
       "      <td>0</td>\n",
       "      <td>1</td>\n",
       "      <td>0</td>\n",
       "      <td>W</td>\n",
       "      <td>F</td>\n",
       "      <td>E</td>\n",
       "      <td>D</td>\n",
       "      <td>5</td>\n",
       "      <td>N</td>\n",
       "      <td>I</td>\n",
       "      <td>G</td>\n",
       "      <td>M</td>\n",
       "      <td>0</td>\n",
       "      <td>0</td>\n",
       "      <td>0</td>\n",
       "      <td>0</td>\n",
       "      <td>0</td>\n",
       "      <td>0</td>\n",
       "      <td>0</td>\n",
       "      <td>0</td>\n",
       "      <td>0</td>\n",
       "      <td>0</td>\n",
       "      <td>0</td>\n",
       "      <td>0</td>\n",
       "      <td>0</td>\n",
       "      <td>M</td>\n",
       "      <td>U</td>\n",
       "      <td>2</td>\n",
       "      <td>NY</td>\n",
       "      <td>E</td>\n",
       "      <td>G</td>\n",
       "      <td>2.0</td>\n",
       "      <td>17</td>\n",
       "      <td>M</td>\n",
       "      <td>M</td>\n",
       "      <td>N</td>\n",
       "      <td>N</td>\n",
       "      <td>1</td>\n",
       "      <td>36</td>\n",
       "      <td>0</td>\n",
       "      <td>0</td>\n",
       "      <td>0</td>\n",
       "      <td>0</td>\n",
       "      <td>4</td>\n",
       "    </tr>\n",
       "    <tr>\n",
       "      <th>88</th>\n",
       "      <td>3440</td>\n",
       "      <td>0</td>\n",
       "      <td>0</td>\n",
       "      <td>0</td>\n",
       "      <td>0</td>\n",
       "      <td>0</td>\n",
       "      <td>0</td>\n",
       "      <td>0</td>\n",
       "      <td>0</td>\n",
       "      <td>0</td>\n",
       "      <td>0</td>\n",
       "      <td>U</td>\n",
       "      <td>0</td>\n",
       "      <td>U</td>\n",
       "      <td>0</td>\n",
       "      <td>U</td>\n",
       "      <td>0</td>\n",
       "      <td>U</td>\n",
       "      <td>0</td>\n",
       "      <td>M</td>\n",
       "      <td>O</td>\n",
       "      <td>S</td>\n",
       "      <td>M</td>\n",
       "      <td>G</td>\n",
       "      <td>2</td>\n",
       "      <td>0</td>\n",
       "      <td>0</td>\n",
       "      <td>0</td>\n",
       "      <td>0</td>\n",
       "      <td>0</td>\n",
       "      <td>0</td>\n",
       "      <td>W</td>\n",
       "      <td>H</td>\n",
       "      <td>D</td>\n",
       "      <td>D</td>\n",
       "      <td>8</td>\n",
       "      <td>N</td>\n",
       "      <td>I</td>\n",
       "      <td>H</td>\n",
       "      <td>M</td>\n",
       "      <td>1</td>\n",
       "      <td>1</td>\n",
       "      <td>0</td>\n",
       "      <td>1</td>\n",
       "      <td>0</td>\n",
       "      <td>0</td>\n",
       "      <td>0</td>\n",
       "      <td>0</td>\n",
       "      <td>1</td>\n",
       "      <td>0</td>\n",
       "      <td>0</td>\n",
       "      <td>1</td>\n",
       "      <td>0</td>\n",
       "      <td>M</td>\n",
       "      <td>U</td>\n",
       "      <td>2</td>\n",
       "      <td>NJ</td>\n",
       "      <td>C</td>\n",
       "      <td>J</td>\n",
       "      <td>12.0</td>\n",
       "      <td>17</td>\n",
       "      <td>M</td>\n",
       "      <td>M</td>\n",
       "      <td>N</td>\n",
       "      <td>N</td>\n",
       "      <td>1</td>\n",
       "      <td>113</td>\n",
       "      <td>0</td>\n",
       "      <td>0</td>\n",
       "      <td>0</td>\n",
       "      <td>0</td>\n",
       "      <td>4</td>\n",
       "    </tr>\n",
       "    <tr>\n",
       "      <th>89</th>\n",
       "      <td>3443</td>\n",
       "      <td>0</td>\n",
       "      <td>0</td>\n",
       "      <td>0</td>\n",
       "      <td>0</td>\n",
       "      <td>0</td>\n",
       "      <td>0</td>\n",
       "      <td>0</td>\n",
       "      <td>0</td>\n",
       "      <td>0</td>\n",
       "      <td>0</td>\n",
       "      <td>U</td>\n",
       "      <td>0</td>\n",
       "      <td>U</td>\n",
       "      <td>0</td>\n",
       "      <td>U</td>\n",
       "      <td>0</td>\n",
       "      <td>U</td>\n",
       "      <td>0</td>\n",
       "      <td>S</td>\n",
       "      <td>O</td>\n",
       "      <td>S</td>\n",
       "      <td>M</td>\n",
       "      <td>A</td>\n",
       "      <td>3</td>\n",
       "      <td>1</td>\n",
       "      <td>0</td>\n",
       "      <td>0</td>\n",
       "      <td>0</td>\n",
       "      <td>1</td>\n",
       "      <td>0</td>\n",
       "      <td>W</td>\n",
       "      <td>H</td>\n",
       "      <td>D</td>\n",
       "      <td>D</td>\n",
       "      <td>9</td>\n",
       "      <td>N</td>\n",
       "      <td>I</td>\n",
       "      <td>G</td>\n",
       "      <td>M</td>\n",
       "      <td>0</td>\n",
       "      <td>0</td>\n",
       "      <td>0</td>\n",
       "      <td>0</td>\n",
       "      <td>0</td>\n",
       "      <td>0</td>\n",
       "      <td>0</td>\n",
       "      <td>0</td>\n",
       "      <td>0</td>\n",
       "      <td>0</td>\n",
       "      <td>0</td>\n",
       "      <td>0</td>\n",
       "      <td>0</td>\n",
       "      <td>M</td>\n",
       "      <td>U</td>\n",
       "      <td>2</td>\n",
       "      <td>NJ</td>\n",
       "      <td>I</td>\n",
       "      <td>G</td>\n",
       "      <td>15.0</td>\n",
       "      <td>6</td>\n",
       "      <td>M</td>\n",
       "      <td>M</td>\n",
       "      <td>N</td>\n",
       "      <td>N</td>\n",
       "      <td>3</td>\n",
       "      <td>481</td>\n",
       "      <td>0</td>\n",
       "      <td>0</td>\n",
       "      <td>0</td>\n",
       "      <td>0</td>\n",
       "      <td>4</td>\n",
       "    </tr>\n",
       "    <tr>\n",
       "      <th>94</th>\n",
       "      <td>4554</td>\n",
       "      <td>0</td>\n",
       "      <td>0</td>\n",
       "      <td>0</td>\n",
       "      <td>0</td>\n",
       "      <td>0</td>\n",
       "      <td>0</td>\n",
       "      <td>0</td>\n",
       "      <td>0</td>\n",
       "      <td>0</td>\n",
       "      <td>0</td>\n",
       "      <td>U</td>\n",
       "      <td>0</td>\n",
       "      <td>U</td>\n",
       "      <td>0</td>\n",
       "      <td>U</td>\n",
       "      <td>0</td>\n",
       "      <td>U</td>\n",
       "      <td>0</td>\n",
       "      <td>M</td>\n",
       "      <td>O</td>\n",
       "      <td>S</td>\n",
       "      <td>M</td>\n",
       "      <td>F</td>\n",
       "      <td>2</td>\n",
       "      <td>0</td>\n",
       "      <td>0</td>\n",
       "      <td>0</td>\n",
       "      <td>0</td>\n",
       "      <td>0</td>\n",
       "      <td>0</td>\n",
       "      <td>W</td>\n",
       "      <td>F</td>\n",
       "      <td>C</td>\n",
       "      <td>C</td>\n",
       "      <td>8</td>\n",
       "      <td>N</td>\n",
       "      <td>I</td>\n",
       "      <td>H</td>\n",
       "      <td>M</td>\n",
       "      <td>0</td>\n",
       "      <td>0</td>\n",
       "      <td>0</td>\n",
       "      <td>0</td>\n",
       "      <td>0</td>\n",
       "      <td>0</td>\n",
       "      <td>0</td>\n",
       "      <td>0</td>\n",
       "      <td>0</td>\n",
       "      <td>0</td>\n",
       "      <td>0</td>\n",
       "      <td>0</td>\n",
       "      <td>0</td>\n",
       "      <td>M</td>\n",
       "      <td>U</td>\n",
       "      <td>2</td>\n",
       "      <td>NJ</td>\n",
       "      <td>B</td>\n",
       "      <td>I</td>\n",
       "      <td>15.0</td>\n",
       "      <td>U</td>\n",
       "      <td>M</td>\n",
       "      <td>M</td>\n",
       "      <td>N</td>\n",
       "      <td>N</td>\n",
       "      <td>0</td>\n",
       "      <td>0</td>\n",
       "      <td>0</td>\n",
       "      <td>0</td>\n",
       "      <td>0</td>\n",
       "      <td>0</td>\n",
       "      <td>4</td>\n",
       "    </tr>\n",
       "    <tr>\n",
       "      <th>144</th>\n",
       "      <td>7795</td>\n",
       "      <td>0</td>\n",
       "      <td>0</td>\n",
       "      <td>0</td>\n",
       "      <td>0</td>\n",
       "      <td>0</td>\n",
       "      <td>0</td>\n",
       "      <td>0</td>\n",
       "      <td>0</td>\n",
       "      <td>0</td>\n",
       "      <td>0</td>\n",
       "      <td>U</td>\n",
       "      <td>0</td>\n",
       "      <td>U</td>\n",
       "      <td>0</td>\n",
       "      <td>U</td>\n",
       "      <td>0</td>\n",
       "      <td>U</td>\n",
       "      <td>0</td>\n",
       "      <td>M</td>\n",
       "      <td>O</td>\n",
       "      <td>S</td>\n",
       "      <td>M</td>\n",
       "      <td>D</td>\n",
       "      <td>2</td>\n",
       "      <td>4</td>\n",
       "      <td>0</td>\n",
       "      <td>0</td>\n",
       "      <td>1</td>\n",
       "      <td>1</td>\n",
       "      <td>0</td>\n",
       "      <td>W</td>\n",
       "      <td>H</td>\n",
       "      <td>C</td>\n",
       "      <td>D</td>\n",
       "      <td>8</td>\n",
       "      <td>N</td>\n",
       "      <td>I</td>\n",
       "      <td>H</td>\n",
       "      <td>M</td>\n",
       "      <td>0</td>\n",
       "      <td>0</td>\n",
       "      <td>0</td>\n",
       "      <td>0</td>\n",
       "      <td>0</td>\n",
       "      <td>0</td>\n",
       "      <td>0</td>\n",
       "      <td>0</td>\n",
       "      <td>0</td>\n",
       "      <td>0</td>\n",
       "      <td>0</td>\n",
       "      <td>0</td>\n",
       "      <td>0</td>\n",
       "      <td>M</td>\n",
       "      <td>D</td>\n",
       "      <td>U</td>\n",
       "      <td>NY</td>\n",
       "      <td>G</td>\n",
       "      <td>H</td>\n",
       "      <td>13.0</td>\n",
       "      <td>U</td>\n",
       "      <td>M</td>\n",
       "      <td>M</td>\n",
       "      <td>Y</td>\n",
       "      <td>N</td>\n",
       "      <td>17</td>\n",
       "      <td>2517</td>\n",
       "      <td>0</td>\n",
       "      <td>0</td>\n",
       "      <td>0</td>\n",
       "      <td>0</td>\n",
       "      <td>4</td>\n",
       "    </tr>\n",
       "  </tbody>\n",
       "</table>\n",
       "</div>"
      ],
      "text/plain": [
       "     dataright_seq  Loyalty  RFM_score  wc_bought_any wc_num_items  wc_big_ticket_bought_any wc_big_ticket_num_items  wc_low_ticket_bought_any wc_low_ticket_num_items  wc_big_ticket_amt_spent  wc_low_ticket_amt_spent client_times_shopped_30_days  client_shopped_3_mos comp1_times_shopped_30_days  comp1_shopped_3_mos comp2_times_shopped_30_days  comp2_shopped_3_mos comp3_times_shopped_30_days  comp3_shopped_3_mos Marital_Status Homeowner_Status Dwelling_Type Gender Age  Num_Adults  Num_Children  Child_0_2  Child_3_5  Child_6_10  Child_11_15  Child_16_18 Race HH_Income Eff_Income Socioeconomic_Score  ZIP_Income Dual_Income Home_Market_Value Net_Worth Mail_Order_Buyer  Mail_Ord_Books  Mail_Ord_BooksMags  Mail_Ord_Child_Prod  Mail_Ord_Clothes  Mail_Ord_Cosmetic  Mail_Ord_Food  Mail_Ord_Gifts  Mail_Ord_Furniture  Mail_Ord_Mags  Mail_Ord_Others  Mail_Ord_Jewel  Mail_Ord_Big_Clothes  Mail_Ord_DVD Mail_Order_Response Occupation Education State Est_HH_Debt_Level Est_HH_Invest_Asset  Len_of_Residence Bank_Card_New_Issue_Year Bank_Card Retail_Card Buyer_Retail_Last_Order_2yrs Buyer_Retail_Last_Order_1yrs  Buyer_Reatil_Last_Order_Quantity  Buyer_Reatil_Last_Order_Dollars  client_shopped_30_days  comp1_shopped_30_days  comp2_shopped_30_days  comp3_shopped_30_days  Cluster\n",
       "48            7794        0          0              0            0                         0                       0                         0                       0                        0                        0                            U                     0                           U                    0                           U                    0                           U                    0              M                O             S      M   E           5             1          0          0           0            1            0    W         F          E                   D           5           N                 I         G                M               0                   0                    0                 0                  0              0               0                   0              0                0               0                     0             0                   M          U         2    NY                 E                   G               2.0                       17         M           M                            N                            N                                 1                               36                       0                      0                      0                      0        4\n",
       "88            3440        0          0              0            0                         0                       0                         0                       0                        0                        0                            U                     0                           U                    0                           U                    0                           U                    0              M                O             S      M   G           2             0          0          0           0            0            0    W         H          D                   D           8           N                 I         H                M               1                   1                    0                 1                  0              0               0                   0              1                0               0                     1             0                   M          U         2    NJ                 C                   J              12.0                       17         M           M                            N                            N                                 1                              113                       0                      0                      0                      0        4\n",
       "89            3443        0          0              0            0                         0                       0                         0                       0                        0                        0                            U                     0                           U                    0                           U                    0                           U                    0              S                O             S      M   A           3             1          0          0           0            1            0    W         H          D                   D           9           N                 I         G                M               0                   0                    0                 0                  0              0               0                   0              0                0               0                     0             0                   M          U         2    NJ                 I                   G              15.0                        6         M           M                            N                            N                                 3                              481                       0                      0                      0                      0        4\n",
       "94            4554        0          0              0            0                         0                       0                         0                       0                        0                        0                            U                     0                           U                    0                           U                    0                           U                    0              M                O             S      M   F           2             0          0          0           0            0            0    W         F          C                   C           8           N                 I         H                M               0                   0                    0                 0                  0              0               0                   0              0                0               0                     0             0                   M          U         2    NJ                 B                   I              15.0                        U         M           M                            N                            N                                 0                                0                       0                      0                      0                      0        4\n",
       "144           7795        0          0              0            0                         0                       0                         0                       0                        0                        0                            U                     0                           U                    0                           U                    0                           U                    0              M                O             S      M   D           2             4          0          0           1            1            0    W         H          C                   D           8           N                 I         H                M               0                   0                    0                 0                  0              0               0                   0              0                0               0                     0             0                   M          D         U    NY                 G                   H              13.0                        U         M           M                            Y                            N                                17                             2517                       0                      0                      0                      0        4"
      ]
     },
     "execution_count": 85,
     "metadata": {},
     "output_type": "execute_result"
    }
   ],
   "source": [
    "cluster4.head()"
   ]
  },
  {
   "cell_type": "code",
   "execution_count": 86,
   "metadata": {
    "collapsed": true
   },
   "outputs": [],
   "source": [
    "cluster4 = cluster4[test_list]"
   ]
  },
  {
   "cell_type": "code",
   "execution_count": 87,
   "metadata": {
    "collapsed": true
   },
   "outputs": [],
   "source": [
    "dummies = pd.get_dummies(cluster4.iloc[:,1:])"
   ]
  },
  {
   "cell_type": "code",
   "execution_count": 88,
   "metadata": {
    "collapsed": true
   },
   "outputs": [],
   "source": [
    "cluster4 = pd.concat([cluster4['wc_num_items'],dummies],axis = 1)"
   ]
  },
  {
   "cell_type": "code",
   "execution_count": 89,
   "metadata": {
    "collapsed": true
   },
   "outputs": [],
   "source": [
    "data_list = list(cluster4.columns)[1:]"
   ]
  },
  {
   "cell_type": "code",
   "execution_count": 90,
   "metadata": {
    "collapsed": true
   },
   "outputs": [],
   "source": [
    "tree_train, tree_test = train_test_split(cluster4, test_size=0.33, random_state=777)"
   ]
  },
  {
   "cell_type": "code",
   "execution_count": 91,
   "metadata": {},
   "outputs": [
    {
     "data": {
      "text/plain": [
       "(2086, 51)"
      ]
     },
     "execution_count": 91,
     "metadata": {},
     "output_type": "execute_result"
    }
   ],
   "source": [
    "cluster4.shape"
   ]
  },
  {
   "cell_type": "code",
   "execution_count": 92,
   "metadata": {
    "collapsed": true
   },
   "outputs": [],
   "source": [
    "clf = tree.DecisionTreeClassifier(max_leaf_nodes=7, min_samples_leaf = 30)"
   ]
  },
  {
   "cell_type": "code",
   "execution_count": 93,
   "metadata": {
    "collapsed": true
   },
   "outputs": [],
   "source": [
    "clf = clf.fit(tree_train[data_list], tree_train['wc_num_items'])"
   ]
  },
  {
   "cell_type": "code",
   "execution_count": 94,
   "metadata": {
    "collapsed": true
   },
   "outputs": [],
   "source": [
    "test_preds = clf.predict(tree_test[data_list])"
   ]
  },
  {
   "cell_type": "code",
   "execution_count": 95,
   "metadata": {},
   "outputs": [
    {
     "data": {
      "text/plain": [
       "array([[0.99354839, 0.00645161, 0.        , 0.        ],\n",
       "       [1.        , 0.        , 0.        , 0.        ],\n",
       "       [0.91489362, 0.        , 0.        , 0.08510638],\n",
       "       ...,\n",
       "       [1.        , 0.        , 0.        , 0.        ],\n",
       "       [0.9921466 , 0.        , 0.        , 0.0078534 ],\n",
       "       [0.9921466 , 0.        , 0.        , 0.0078534 ]])"
      ]
     },
     "execution_count": 95,
     "metadata": {},
     "output_type": "execute_result"
    }
   ],
   "source": [
    "clf.predict_proba(tree_test[data_list])"
   ]
  },
  {
   "cell_type": "code",
   "execution_count": 96,
   "metadata": {
    "collapsed": true
   },
   "outputs": [],
   "source": [
    "score = clf.score(tree_test[data_list], tree_test['wc_num_items'])"
   ]
  },
  {
   "cell_type": "markdown",
   "metadata": {},
   "source": [
    "#### Creating confusion matrix"
   ]
  },
  {
   "cell_type": "code",
   "execution_count": 97,
   "metadata": {
    "collapsed": true
   },
   "outputs": [],
   "source": [
    "cm = confusion_matrix(tree_test['wc_num_items'], test_preds)"
   ]
  },
  {
   "cell_type": "code",
   "execution_count": 98,
   "metadata": {
    "scrolled": true
   },
   "outputs": [
    {
     "data": {
      "image/png": "[encoded data removed]",
      "text/plain": [
       "<matplotlib.figure.Figure at 0x1a1173c2b0>"
      ]
     },
     "metadata": {},
     "output_type": "display_data"
    }
   ],
   "source": [
    "plt.figure(figsize = (7,7))\n",
    "\n",
    "sns.heatmap(cm, annot = True, fmt = '.2f', linewidths = .5, square = True, cmap = 'Blues_r');\n",
    "plt.ylabel('Actual Labels');\n",
    "plt.xlabel('Predicted Labels');\n",
    "all_sample_title = 'Accuracy Score: {0}%'.format(round(score*100,3))\n",
    "plt.title(all_sample_title, size = 20);\n",
    "\n",
    "plt.show()"
   ]
  },
  {
   "cell_type": "markdown",
   "metadata": {},
   "source": [
    "#### Visualizing decision tree"
   ]
  },
  {
   "cell_type": "code",
   "execution_count": 99,
   "metadata": {
    "collapsed": true
   },
   "outputs": [],
   "source": [
    "dot_data = StringIO()\n",
    "\n",
    "tree.export_graphviz(clf, out_file=dot_data, feature_names = data_list, filled=True, rounded=True)\n",
    "graph = pydot.graph_from_dot_data(dot_data.getvalue())\n",
    "graph[0].write_pdf(\"not_engaged_customers_cluster4_tree.pdf\")"
   ]
  },
  {
   "cell_type": "code",
   "execution_count": null,
   "metadata": {
    "collapsed": true
   },
   "outputs": [],
   "source": []
  },
  {
   "cell_type": "markdown",
   "metadata": {},
   "source": [
    "### Decision Tree for Cluster 5"
   ]
  },
  {
   "cell_type": "code",
   "execution_count": 100,
   "metadata": {
    "collapsed": true
   },
   "outputs": [],
   "source": [
    "cluster5 = dataset[dataset['Cluster'] == 5]"
   ]
  },
  {
   "cell_type": "code",
   "execution_count": 101,
   "metadata": {
    "collapsed": true
   },
   "outputs": [],
   "source": [
    "test_list = ['wc_num_items', 'Num_Adults', 'Num_Children', 'ZIP_Income', 'Buyer_Reatil_Last_Order_Quantity', 'Buyer_Reatil_Last_Order_Dollars', 'Marital_Status', 'Homeowner_Status', 'Dwelling_Type', 'HH_Income', 'Dual_Income', 'Home_Market_Value', 'Net_Worth', 'Mail_Order_Buyer', 'Mail_Order_Response', 'Buyer_Retail_Last_Order_2yrs']"
   ]
  },
  {
   "cell_type": "code",
   "execution_count": 102,
   "metadata": {
    "collapsed": true
   },
   "outputs": [],
   "source": [
    "cluster5 = cluster5[test_list]"
   ]
  },
  {
   "cell_type": "code",
   "execution_count": 103,
   "metadata": {
    "collapsed": true
   },
   "outputs": [],
   "source": [
    "dummies = pd.get_dummies(cluster5.iloc[:,1:])"
   ]
  },
  {
   "cell_type": "code",
   "execution_count": 104,
   "metadata": {
    "collapsed": true
   },
   "outputs": [],
   "source": [
    "cluster5 = pd.concat([cluster5['wc_num_items'],dummies],axis = 1)"
   ]
  },
  {
   "cell_type": "code",
   "execution_count": 105,
   "metadata": {
    "collapsed": true
   },
   "outputs": [],
   "source": [
    "data_list = list(cluster5.columns)[1:]"
   ]
  },
  {
   "cell_type": "code",
   "execution_count": 106,
   "metadata": {
    "collapsed": true
   },
   "outputs": [],
   "source": [
    "tree_train, tree_test = train_test_split(cluster5, test_size=0.33, random_state=777)"
   ]
  },
  {
   "cell_type": "code",
   "execution_count": 107,
   "metadata": {},
   "outputs": [
    {
     "data": {
      "text/plain": [
       "(1769, 52)"
      ]
     },
     "execution_count": 107,
     "metadata": {},
     "output_type": "execute_result"
    }
   ],
   "source": [
    "cluster5.shape"
   ]
  },
  {
   "cell_type": "code",
   "execution_count": 108,
   "metadata": {
    "collapsed": true
   },
   "outputs": [],
   "source": [
    "clf = tree.DecisionTreeClassifier(max_leaf_nodes=7, min_samples_leaf = 30)"
   ]
  },
  {
   "cell_type": "code",
   "execution_count": 109,
   "metadata": {
    "collapsed": true
   },
   "outputs": [],
   "source": [
    "clf = clf.fit(tree_train[data_list], tree_train['wc_num_items'])"
   ]
  },
  {
   "cell_type": "code",
   "execution_count": 110,
   "metadata": {
    "collapsed": true
   },
   "outputs": [],
   "source": [
    "test_preds = clf.predict(tree_test[data_list])"
   ]
  },
  {
   "cell_type": "code",
   "execution_count": 111,
   "metadata": {},
   "outputs": [
    {
     "data": {
      "text/plain": [
       "array([[0.9945593 , 0.        , 0.00108814, 0.00435256],\n",
       "       [0.9945593 , 0.        , 0.00108814, 0.00435256],\n",
       "       [0.9945593 , 0.        , 0.00108814, 0.00435256],\n",
       "       ...,\n",
       "       [0.9945593 , 0.        , 0.00108814, 0.00435256],\n",
       "       [0.9945593 , 0.        , 0.00108814, 0.00435256],\n",
       "       [0.9945593 , 0.        , 0.00108814, 0.00435256]])"
      ]
     },
     "execution_count": 111,
     "metadata": {},
     "output_type": "execute_result"
    }
   ],
   "source": [
    "clf.predict_proba(tree_test[data_list])"
   ]
  },
  {
   "cell_type": "code",
   "execution_count": 112,
   "metadata": {
    "collapsed": true
   },
   "outputs": [],
   "source": [
    "score = clf.score(tree_test[data_list], tree_test['wc_num_items'])"
   ]
  },
  {
   "cell_type": "markdown",
   "metadata": {},
   "source": [
    "#### Creating confusion matrix"
   ]
  },
  {
   "cell_type": "code",
   "execution_count": 113,
   "metadata": {
    "collapsed": true
   },
   "outputs": [],
   "source": [
    "cm = confusion_matrix(tree_test['wc_num_items'], test_preds)"
   ]
  },
  {
   "cell_type": "code",
   "execution_count": 114,
   "metadata": {
    "scrolled": true
   },
   "outputs": [
    {
     "data": {
      "image/png": "[encoded data removed]",
      "text/plain": [
       "<matplotlib.figure.Figure at 0x1a1293a1d0>"
      ]
     },
     "metadata": {},
     "output_type": "display_data"
    }
   ],
   "source": [
    "plt.figure(figsize = (7,7))\n",
    "\n",
    "sns.heatmap(cm, annot = True, fmt = '.2f', linewidths = .5, square = True, cmap = 'Blues_r');\n",
    "plt.ylabel('Actual Labels');\n",
    "plt.xlabel('Predicted Labels');\n",
    "all_sample_title = 'Accuracy Score: {0}%'.format(round(score*100,3))\n",
    "plt.title(all_sample_title, size = 20);\n",
    "\n",
    "plt.show()"
   ]
  },
  {
   "cell_type": "markdown",
   "metadata": {},
   "source": [
    "#### Visualizing decision tree"
   ]
  },
  {
   "cell_type": "code",
   "execution_count": 115,
   "metadata": {
    "collapsed": true
   },
   "outputs": [],
   "source": [
    "dot_data = StringIO()\n",
    "\n",
    "tree.export_graphviz(clf, out_file=dot_data, feature_names = data_list, filled=True, rounded=True)\n",
    "graph = pydot.graph_from_dot_data(dot_data.getvalue())\n",
    "graph[0].write_pdf(\"not_engaged_customers_cluster5_tree.pdf\")"
   ]
  },
  {
   "cell_type": "code",
   "execution_count": null,
   "metadata": {
    "collapsed": true
   },
   "outputs": [],
   "source": []
  },
  {
   "cell_type": "markdown",
   "metadata": {},
   "source": [
    "### Decision Tree for Cluster 6"
   ]
  },
  {
   "cell_type": "code",
   "execution_count": 116,
   "metadata": {
    "collapsed": true
   },
   "outputs": [],
   "source": [
    "cluster6 = dataset[dataset['Cluster'] == 6]"
   ]
  },
  {
   "cell_type": "code",
   "execution_count": 117,
   "metadata": {
    "collapsed": true
   },
   "outputs": [],
   "source": [
    "test_list = ['wc_num_items', 'Num_Adults', 'Num_Children', 'ZIP_Income', 'Buyer_Reatil_Last_Order_Quantity', 'Buyer_Reatil_Last_Order_Dollars', 'Marital_Status', 'Homeowner_Status', 'Dwelling_Type', 'HH_Income', 'Dual_Income', 'Home_Market_Value', 'Net_Worth', 'Mail_Order_Buyer', 'Mail_Order_Response', 'Buyer_Retail_Last_Order_2yrs']"
   ]
  },
  {
   "cell_type": "code",
   "execution_count": 118,
   "metadata": {
    "collapsed": true
   },
   "outputs": [],
   "source": [
    "cluster6 = cluster6[test_list]"
   ]
  },
  {
   "cell_type": "code",
   "execution_count": 119,
   "metadata": {
    "collapsed": true
   },
   "outputs": [],
   "source": [
    "dummies = pd.get_dummies(cluster6.iloc[:,1:])"
   ]
  },
  {
   "cell_type": "code",
   "execution_count": 120,
   "metadata": {
    "collapsed": true
   },
   "outputs": [],
   "source": [
    "cluster6 = pd.concat([cluster6['wc_num_items'],dummies],axis = 1)"
   ]
  },
  {
   "cell_type": "code",
   "execution_count": 121,
   "metadata": {
    "collapsed": true
   },
   "outputs": [],
   "source": [
    "data_list = list(cluster6.columns)[1:]"
   ]
  },
  {
   "cell_type": "code",
   "execution_count": 122,
   "metadata": {
    "collapsed": true
   },
   "outputs": [],
   "source": [
    "tree_train, tree_test = train_test_split(cluster6, test_size=0.33, random_state=777)"
   ]
  },
  {
   "cell_type": "code",
   "execution_count": 123,
   "metadata": {
    "collapsed": true
   },
   "outputs": [],
   "source": [
    "clf = tree.DecisionTreeClassifier(max_leaf_nodes=7, min_samples_leaf = 30)"
   ]
  },
  {
   "cell_type": "code",
   "execution_count": 124,
   "metadata": {
    "collapsed": true
   },
   "outputs": [],
   "source": [
    "clf = clf.fit(tree_train[data_list], tree_train['wc_num_items'])"
   ]
  },
  {
   "cell_type": "code",
   "execution_count": 125,
   "metadata": {
    "collapsed": true
   },
   "outputs": [],
   "source": [
    "test_preds = clf.predict(tree_test[data_list])"
   ]
  },
  {
   "cell_type": "code",
   "execution_count": 126,
   "metadata": {},
   "outputs": [
    {
     "data": {
      "text/plain": [
       "array([[9.87577640e-01, 4.14078675e-03, 0.00000000e+00, 8.28157350e-03],\n",
       "       [9.87577640e-01, 4.14078675e-03, 0.00000000e+00, 8.28157350e-03],\n",
       "       [9.87577640e-01, 4.14078675e-03, 0.00000000e+00, 8.28157350e-03],\n",
       "       ...,\n",
       "       [9.94152047e-01, 2.92397661e-03, 2.92397661e-03, 0.00000000e+00],\n",
       "       [9.90654206e-01, 0.00000000e+00, 8.49617672e-04, 8.49617672e-03],\n",
       "       [9.90654206e-01, 0.00000000e+00, 8.49617672e-04, 8.49617672e-03]])"
      ]
     },
     "execution_count": 126,
     "metadata": {},
     "output_type": "execute_result"
    }
   ],
   "source": [
    "clf.predict_proba(tree_test[data_list])"
   ]
  },
  {
   "cell_type": "code",
   "execution_count": 127,
   "metadata": {
    "collapsed": true
   },
   "outputs": [],
   "source": [
    "score = clf.score(tree_test[data_list], tree_test['wc_num_items'])"
   ]
  },
  {
   "cell_type": "markdown",
   "metadata": {},
   "source": [
    "#### Creating confusion matrix"
   ]
  },
  {
   "cell_type": "code",
   "execution_count": 128,
   "metadata": {
    "collapsed": true
   },
   "outputs": [],
   "source": [
    "cm = confusion_matrix(tree_test['wc_num_items'], test_preds)"
   ]
  },
  {
   "cell_type": "code",
   "execution_count": 129,
   "metadata": {
    "scrolled": true
   },
   "outputs": [
    {
     "data": {
      "image/png": "[encoded data removed]",
      "text/plain": [
       "<matplotlib.figure.Figure at 0x1a117cf400>"
      ]
     },
     "metadata": {},
     "output_type": "display_data"
    }
   ],
   "source": [
    "plt.figure(figsize = (7,7))\n",
    "\n",
    "sns.heatmap(cm, annot = True, fmt = '.2f', linewidths = .5, square = True, cmap = 'Blues_r');\n",
    "plt.ylabel('Actual Labels');\n",
    "plt.xlabel('Predicted Labels');\n",
    "all_sample_title = 'Accuracy Score: {0}%'.format(round(score*100,3))\n",
    "plt.title(all_sample_title, size = 20);\n",
    "\n",
    "plt.show()"
   ]
  },
  {
   "cell_type": "markdown",
   "metadata": {},
   "source": [
    "#### Visualizing decision tree"
   ]
  },
  {
   "cell_type": "code",
   "execution_count": 130,
   "metadata": {
    "collapsed": true
   },
   "outputs": [],
   "source": [
    "dot_data = StringIO()\n",
    "\n",
    "tree.export_graphviz(clf, out_file=dot_data, feature_names = data_list, filled=True, rounded=True)\n",
    "graph = pydot.graph_from_dot_data(dot_data.getvalue())\n",
    "graph[0].write_pdf(\"not_engaged_customers_cluster6_tree.pdf\")"
   ]
  }
 ],
 "metadata": {
  "kernelspec": {
   "display_name": "Python 3",
   "language": "python",
   "name": "python3"
  },
  "language_info": {
   "codemirror_mode": {
    "name": "ipython",
    "version": 3
   },
   "file_extension": ".py",
   "mimetype": "text/x-python",
   "name": "python",
   "nbconvert_exporter": "python",
   "pygments_lexer": "ipython3",
   "version": "3.6.2"
  }
 },
 "nbformat": 4,
 "nbformat_minor": 2
}
