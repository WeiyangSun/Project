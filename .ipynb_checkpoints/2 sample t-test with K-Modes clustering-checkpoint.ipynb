{
 "cells": [
  {
   "cell_type": "code",
   "execution_count": 172,
   "metadata": {
    "collapsed": true
   },
   "outputs": [],
   "source": [
    "import pandas as pd\n",
    "import numpy as np\n",
    "import matplotlib.pyplot as plt\n",
    "\n",
    "import os\n",
    "\n",
    "from sklearn.model_selection import train_test_split\n",
    "from sklearn.linear_model import LogisticRegression\n",
    "from sklearn.linear_model import LinearRegression\n",
    "from sklearn.metrics import confusion_matrix, mean_squared_error, r2_score, mean_absolute_error\n",
    "\n",
    "import statsmodels.api as sm\n",
    "from scipy import stats\n",
    "from sklearn import preprocessing\n",
    "from sklearn import cluster, tree, decomposition\n",
    "from kmodes.kmodes import KModes\n",
    "import mca\n",
    "\n",
    "from mpl_toolkits.mplot3d import Axes3D\n",
    "\n",
    "from sklearn.decomposition import FactorAnalysis"
   ]
  },
  {
   "cell_type": "code",
   "execution_count": 56,
   "metadata": {
    "collapsed": true
   },
   "outputs": [],
   "source": [
    "pd.set_option('display.width', 4000)\n",
    "pd.set_option('max_colwidth', 4000)\n",
    "pd.set_option('max_columns', 200)\n",
    "pd.set_option('max_rows', 200)"
   ]
  },
  {
   "cell_type": "code",
   "execution_count": 57,
   "metadata": {
    "collapsed": true
   },
   "outputs": [],
   "source": [
    "os.chdir('/Users/Weiyang/Desktop/Morris Hitte Customer Insights')"
   ]
  },
  {
   "cell_type": "code",
   "execution_count": 59,
   "metadata": {
    "collapsed": true
   },
   "outputs": [],
   "source": [
    "dataset = pd.read_csv('final_dataset_with RFM.csv')"
   ]
  },
  {
   "cell_type": "code",
   "execution_count": 60,
   "metadata": {},
   "outputs": [
    {
     "data": {
      "text/html": [
       "<div>\n",
       "<style>\n",
       "    .dataframe thead tr:only-child th {\n",
       "        text-align: right;\n",
       "    }\n",
       "\n",
       "    .dataframe thead th {\n",
       "        text-align: left;\n",
       "    }\n",
       "\n",
       "    .dataframe tbody tr th {\n",
       "        vertical-align: top;\n",
       "    }\n",
       "</style>\n",
       "<table border=\"1\" class=\"dataframe\">\n",
       "  <thead>\n",
       "    <tr style=\"text-align: right;\">\n",
       "      <th></th>\n",
       "      <th>dataright_seq</th>\n",
       "      <th>Loyalty</th>\n",
       "      <th>RFM_score</th>\n",
       "      <th>wc_bought_any</th>\n",
       "      <th>wc_num_items</th>\n",
       "      <th>wc_big_ticket_bought_any</th>\n",
       "      <th>wc_big_ticket_num_items</th>\n",
       "      <th>wc_low_ticket_bought_any</th>\n",
       "      <th>wc_low_ticket_num_items</th>\n",
       "      <th>wc_big_ticket_amt_spent</th>\n",
       "      <th>wc_low_ticket_amt_spent</th>\n",
       "      <th>client_times_shopped_30_days</th>\n",
       "      <th>client_shopped_3_mos</th>\n",
       "      <th>comp1_times_shopped_30_days</th>\n",
       "      <th>comp1_shopped_3_mos</th>\n",
       "      <th>comp2_times_shopped_30_days</th>\n",
       "      <th>comp2_shopped_3_mos</th>\n",
       "      <th>comp3_times_shopped_30_days</th>\n",
       "      <th>comp3_shopped_3_mos</th>\n",
       "      <th>Marital_Status</th>\n",
       "      <th>Homeowner_Status</th>\n",
       "      <th>Dwelling_Type</th>\n",
       "      <th>Gender</th>\n",
       "      <th>Age</th>\n",
       "      <th>Num_Adults</th>\n",
       "      <th>Num_Children</th>\n",
       "      <th>Child_0_2</th>\n",
       "      <th>Child_3_5</th>\n",
       "      <th>Child_6_10</th>\n",
       "      <th>Child_11_15</th>\n",
       "      <th>Child_16_18</th>\n",
       "      <th>Race</th>\n",
       "      <th>HH_Income</th>\n",
       "      <th>Eff_Income</th>\n",
       "      <th>Socioeconomic_Score</th>\n",
       "      <th>ZIP_Income</th>\n",
       "      <th>Dual_Income</th>\n",
       "      <th>Home_Market_Value</th>\n",
       "      <th>Net_Worth</th>\n",
       "      <th>Mail_Order_Buyer</th>\n",
       "      <th>Mail_Ord_Books</th>\n",
       "      <th>Mail_Ord_BooksMags</th>\n",
       "      <th>Mail_Ord_Child_Prod</th>\n",
       "      <th>Mail_Ord_Clothes</th>\n",
       "      <th>Mail_Ord_Cosmetic</th>\n",
       "      <th>Mail_Ord_Food</th>\n",
       "      <th>Mail_Ord_Gifts</th>\n",
       "      <th>Mail_Ord_Furniture</th>\n",
       "      <th>Mail_Ord_Mags</th>\n",
       "      <th>Mail_Ord_Others</th>\n",
       "      <th>Mail_Ord_Jewel</th>\n",
       "      <th>Mail_Ord_Big_Clothes</th>\n",
       "      <th>Mail_Ord_DVD</th>\n",
       "      <th>Mail_Order_Response</th>\n",
       "      <th>Occupation</th>\n",
       "      <th>Education</th>\n",
       "      <th>State</th>\n",
       "      <th>Est_HH_Debt_Level</th>\n",
       "      <th>Est_HH_Invest_Asset</th>\n",
       "      <th>Len_of_Residence</th>\n",
       "      <th>Bank_Card_New_Issue_Year</th>\n",
       "      <th>Bank_Card</th>\n",
       "      <th>Retail_Card</th>\n",
       "      <th>Buyer_Retail_Last_Order_2yrs</th>\n",
       "      <th>Buyer_Retail_Last_Order_1yrs</th>\n",
       "      <th>Buyer_Reatil_Last_Order_Quantity</th>\n",
       "      <th>Buyer_Reatil_Last_Order_Dollars</th>\n",
       "    </tr>\n",
       "  </thead>\n",
       "  <tbody>\n",
       "    <tr>\n",
       "      <th>0</th>\n",
       "      <td>2517</td>\n",
       "      <td>0</td>\n",
       "      <td>0</td>\n",
       "      <td>0</td>\n",
       "      <td>0</td>\n",
       "      <td>0</td>\n",
       "      <td>0</td>\n",
       "      <td>0</td>\n",
       "      <td>0</td>\n",
       "      <td>0</td>\n",
       "      <td>0</td>\n",
       "      <td>NaN</td>\n",
       "      <td>0</td>\n",
       "      <td>NaN</td>\n",
       "      <td>0</td>\n",
       "      <td>NaN</td>\n",
       "      <td>0</td>\n",
       "      <td>NaN</td>\n",
       "      <td>0</td>\n",
       "      <td>M</td>\n",
       "      <td>O</td>\n",
       "      <td>S</td>\n",
       "      <td>M</td>\n",
       "      <td>A</td>\n",
       "      <td>5</td>\n",
       "      <td>0</td>\n",
       "      <td>0</td>\n",
       "      <td>0</td>\n",
       "      <td>0</td>\n",
       "      <td>0</td>\n",
       "      <td>0</td>\n",
       "      <td>B</td>\n",
       "      <td>D</td>\n",
       "      <td>B</td>\n",
       "      <td>B</td>\n",
       "      <td>9</td>\n",
       "      <td>Y</td>\n",
       "      <td>E</td>\n",
       "      <td>E</td>\n",
       "      <td>M</td>\n",
       "      <td>0</td>\n",
       "      <td>0</td>\n",
       "      <td>0</td>\n",
       "      <td>0</td>\n",
       "      <td>0</td>\n",
       "      <td>0</td>\n",
       "      <td>0</td>\n",
       "      <td>0</td>\n",
       "      <td>0</td>\n",
       "      <td>0</td>\n",
       "      <td>0</td>\n",
       "      <td>0</td>\n",
       "      <td>0</td>\n",
       "      <td>M</td>\n",
       "      <td>U</td>\n",
       "      <td>U</td>\n",
       "      <td>CT</td>\n",
       "      <td>C</td>\n",
       "      <td>C</td>\n",
       "      <td>NaN</td>\n",
       "      <td>U</td>\n",
       "      <td>U</td>\n",
       "      <td>U</td>\n",
       "      <td>Y</td>\n",
       "      <td>N</td>\n",
       "      <td>1</td>\n",
       "      <td>80</td>\n",
       "    </tr>\n",
       "    <tr>\n",
       "      <th>1</th>\n",
       "      <td>2518</td>\n",
       "      <td>2</td>\n",
       "      <td>4</td>\n",
       "      <td>1</td>\n",
       "      <td>C</td>\n",
       "      <td>1</td>\n",
       "      <td>B</td>\n",
       "      <td>1</td>\n",
       "      <td>C</td>\n",
       "      <td>B</td>\n",
       "      <td>F</td>\n",
       "      <td>NaN</td>\n",
       "      <td>0</td>\n",
       "      <td>NaN</td>\n",
       "      <td>0</td>\n",
       "      <td>NaN</td>\n",
       "      <td>0</td>\n",
       "      <td>NaN</td>\n",
       "      <td>0</td>\n",
       "      <td>S</td>\n",
       "      <td>U</td>\n",
       "      <td>S</td>\n",
       "      <td>F</td>\n",
       "      <td>D</td>\n",
       "      <td>1</td>\n",
       "      <td>0</td>\n",
       "      <td>0</td>\n",
       "      <td>1</td>\n",
       "      <td>0</td>\n",
       "      <td>0</td>\n",
       "      <td>0</td>\n",
       "      <td>H</td>\n",
       "      <td>B</td>\n",
       "      <td>B</td>\n",
       "      <td>B</td>\n",
       "      <td>5</td>\n",
       "      <td>Y</td>\n",
       "      <td>A</td>\n",
       "      <td>A</td>\n",
       "      <td>N</td>\n",
       "      <td>0</td>\n",
       "      <td>0</td>\n",
       "      <td>0</td>\n",
       "      <td>0</td>\n",
       "      <td>0</td>\n",
       "      <td>0</td>\n",
       "      <td>0</td>\n",
       "      <td>0</td>\n",
       "      <td>0</td>\n",
       "      <td>0</td>\n",
       "      <td>0</td>\n",
       "      <td>0</td>\n",
       "      <td>0</td>\n",
       "      <td>N</td>\n",
       "      <td>U</td>\n",
       "      <td>U</td>\n",
       "      <td>CT</td>\n",
       "      <td>B</td>\n",
       "      <td>B</td>\n",
       "      <td>1.0</td>\n",
       "      <td>U</td>\n",
       "      <td>U</td>\n",
       "      <td>Y</td>\n",
       "      <td>N</td>\n",
       "      <td>N</td>\n",
       "      <td>0</td>\n",
       "      <td>0</td>\n",
       "    </tr>\n",
       "    <tr>\n",
       "      <th>2</th>\n",
       "      <td>2519</td>\n",
       "      <td>1</td>\n",
       "      <td>1</td>\n",
       "      <td>1</td>\n",
       "      <td>B</td>\n",
       "      <td>0</td>\n",
       "      <td>0</td>\n",
       "      <td>1</td>\n",
       "      <td>B</td>\n",
       "      <td>0</td>\n",
       "      <td>A</td>\n",
       "      <td>NaN</td>\n",
       "      <td>0</td>\n",
       "      <td>NaN</td>\n",
       "      <td>0</td>\n",
       "      <td>NaN</td>\n",
       "      <td>0</td>\n",
       "      <td>NaN</td>\n",
       "      <td>0</td>\n",
       "      <td>S</td>\n",
       "      <td>R</td>\n",
       "      <td>M</td>\n",
       "      <td>F</td>\n",
       "      <td>D</td>\n",
       "      <td>1</td>\n",
       "      <td>0</td>\n",
       "      <td>0</td>\n",
       "      <td>0</td>\n",
       "      <td>0</td>\n",
       "      <td>0</td>\n",
       "      <td>0</td>\n",
       "      <td>W</td>\n",
       "      <td>B</td>\n",
       "      <td>B</td>\n",
       "      <td>B</td>\n",
       "      <td>4</td>\n",
       "      <td>Y</td>\n",
       "      <td>A</td>\n",
       "      <td>A</td>\n",
       "      <td>M</td>\n",
       "      <td>1</td>\n",
       "      <td>1</td>\n",
       "      <td>0</td>\n",
       "      <td>0</td>\n",
       "      <td>0</td>\n",
       "      <td>0</td>\n",
       "      <td>0</td>\n",
       "      <td>0</td>\n",
       "      <td>0</td>\n",
       "      <td>0</td>\n",
       "      <td>0</td>\n",
       "      <td>0</td>\n",
       "      <td>1</td>\n",
       "      <td>M</td>\n",
       "      <td>B</td>\n",
       "      <td>U</td>\n",
       "      <td>CT</td>\n",
       "      <td>F</td>\n",
       "      <td>A</td>\n",
       "      <td>15.0</td>\n",
       "      <td>U</td>\n",
       "      <td>M</td>\n",
       "      <td>M</td>\n",
       "      <td>N</td>\n",
       "      <td>N</td>\n",
       "      <td>0</td>\n",
       "      <td>0</td>\n",
       "    </tr>\n",
       "    <tr>\n",
       "      <th>3</th>\n",
       "      <td>2521</td>\n",
       "      <td>1</td>\n",
       "      <td>3</td>\n",
       "      <td>1</td>\n",
       "      <td>C</td>\n",
       "      <td>0</td>\n",
       "      <td>0</td>\n",
       "      <td>1</td>\n",
       "      <td>C</td>\n",
       "      <td>0</td>\n",
       "      <td>E</td>\n",
       "      <td>NaN</td>\n",
       "      <td>0</td>\n",
       "      <td>NaN</td>\n",
       "      <td>0</td>\n",
       "      <td>NaN</td>\n",
       "      <td>0</td>\n",
       "      <td>NaN</td>\n",
       "      <td>0</td>\n",
       "      <td>M</td>\n",
       "      <td>O</td>\n",
       "      <td>S</td>\n",
       "      <td>F</td>\n",
       "      <td>D</td>\n",
       "      <td>5</td>\n",
       "      <td>1</td>\n",
       "      <td>0</td>\n",
       "      <td>1</td>\n",
       "      <td>0</td>\n",
       "      <td>0</td>\n",
       "      <td>0</td>\n",
       "      <td>B</td>\n",
       "      <td>C</td>\n",
       "      <td>B</td>\n",
       "      <td>B</td>\n",
       "      <td>9</td>\n",
       "      <td>Y</td>\n",
       "      <td>D</td>\n",
       "      <td>E</td>\n",
       "      <td>M</td>\n",
       "      <td>0</td>\n",
       "      <td>0</td>\n",
       "      <td>0</td>\n",
       "      <td>0</td>\n",
       "      <td>0</td>\n",
       "      <td>0</td>\n",
       "      <td>0</td>\n",
       "      <td>0</td>\n",
       "      <td>0</td>\n",
       "      <td>0</td>\n",
       "      <td>0</td>\n",
       "      <td>0</td>\n",
       "      <td>0</td>\n",
       "      <td>M</td>\n",
       "      <td>U</td>\n",
       "      <td>U</td>\n",
       "      <td>CT</td>\n",
       "      <td>B</td>\n",
       "      <td>D</td>\n",
       "      <td>15.0</td>\n",
       "      <td>5</td>\n",
       "      <td>M</td>\n",
       "      <td>M</td>\n",
       "      <td>N</td>\n",
       "      <td>N</td>\n",
       "      <td>0</td>\n",
       "      <td>0</td>\n",
       "    </tr>\n",
       "    <tr>\n",
       "      <th>4</th>\n",
       "      <td>2522</td>\n",
       "      <td>0</td>\n",
       "      <td>0</td>\n",
       "      <td>0</td>\n",
       "      <td>0</td>\n",
       "      <td>0</td>\n",
       "      <td>0</td>\n",
       "      <td>0</td>\n",
       "      <td>0</td>\n",
       "      <td>0</td>\n",
       "      <td>0</td>\n",
       "      <td>NaN</td>\n",
       "      <td>0</td>\n",
       "      <td>NaN</td>\n",
       "      <td>0</td>\n",
       "      <td>NaN</td>\n",
       "      <td>0</td>\n",
       "      <td>NaN</td>\n",
       "      <td>0</td>\n",
       "      <td>S</td>\n",
       "      <td>U</td>\n",
       "      <td>S</td>\n",
       "      <td>M</td>\n",
       "      <td>D</td>\n",
       "      <td>4</td>\n",
       "      <td>0</td>\n",
       "      <td>0</td>\n",
       "      <td>0</td>\n",
       "      <td>0</td>\n",
       "      <td>0</td>\n",
       "      <td>0</td>\n",
       "      <td>W</td>\n",
       "      <td>C</td>\n",
       "      <td>B</td>\n",
       "      <td>B</td>\n",
       "      <td>9</td>\n",
       "      <td>Y</td>\n",
       "      <td>A</td>\n",
       "      <td>E</td>\n",
       "      <td>M</td>\n",
       "      <td>0</td>\n",
       "      <td>0</td>\n",
       "      <td>0</td>\n",
       "      <td>0</td>\n",
       "      <td>0</td>\n",
       "      <td>0</td>\n",
       "      <td>0</td>\n",
       "      <td>0</td>\n",
       "      <td>0</td>\n",
       "      <td>0</td>\n",
       "      <td>0</td>\n",
       "      <td>0</td>\n",
       "      <td>0</td>\n",
       "      <td>M</td>\n",
       "      <td>U</td>\n",
       "      <td>U</td>\n",
       "      <td>CT</td>\n",
       "      <td>G</td>\n",
       "      <td>E</td>\n",
       "      <td>15.0</td>\n",
       "      <td>8</td>\n",
       "      <td>M</td>\n",
       "      <td>M</td>\n",
       "      <td>N</td>\n",
       "      <td>N</td>\n",
       "      <td>0</td>\n",
       "      <td>0</td>\n",
       "    </tr>\n",
       "  </tbody>\n",
       "</table>\n",
       "</div>"
      ],
      "text/plain": [
       "   dataright_seq  Loyalty  RFM_score  wc_bought_any wc_num_items  wc_big_ticket_bought_any wc_big_ticket_num_items  wc_low_ticket_bought_any wc_low_ticket_num_items wc_big_ticket_amt_spent wc_low_ticket_amt_spent client_times_shopped_30_days  client_shopped_3_mos comp1_times_shopped_30_days  comp1_shopped_3_mos comp2_times_shopped_30_days  comp2_shopped_3_mos comp3_times_shopped_30_days  comp3_shopped_3_mos Marital_Status Homeowner_Status Dwelling_Type Gender Age  Num_Adults  Num_Children  Child_0_2  Child_3_5  Child_6_10  Child_11_15  Child_16_18 Race HH_Income Eff_Income Socioeconomic_Score  ZIP_Income Dual_Income Home_Market_Value Net_Worth Mail_Order_Buyer  Mail_Ord_Books  Mail_Ord_BooksMags  Mail_Ord_Child_Prod  Mail_Ord_Clothes  Mail_Ord_Cosmetic  Mail_Ord_Food  Mail_Ord_Gifts  Mail_Ord_Furniture  Mail_Ord_Mags  Mail_Ord_Others  Mail_Ord_Jewel  Mail_Ord_Big_Clothes  Mail_Ord_DVD Mail_Order_Response Occupation Education State Est_HH_Debt_Level Est_HH_Invest_Asset  Len_of_Residence Bank_Card_New_Issue_Year Bank_Card Retail_Card Buyer_Retail_Last_Order_2yrs Buyer_Retail_Last_Order_1yrs  Buyer_Reatil_Last_Order_Quantity  Buyer_Reatil_Last_Order_Dollars\n",
       "0           2517        0          0              0            0                         0                       0                         0                       0                       0                       0                          NaN                     0                         NaN                    0                         NaN                    0                         NaN                    0              M                O             S      M   A           5             0          0          0           0            0            0    B         D          B                   B           9           Y                 E         E                M               0                   0                    0                 0                  0              0               0                   0              0                0               0                     0             0                   M          U         U    CT                 C                   C               NaN                        U         U           U                            Y                            N                                 1                               80\n",
       "1           2518        2          4              1            C                         1                       B                         1                       C                       B                       F                          NaN                     0                         NaN                    0                         NaN                    0                         NaN                    0              S                U             S      F   D           1             0          0          1           0            0            0    H         B          B                   B           5           Y                 A         A                N               0                   0                    0                 0                  0              0               0                   0              0                0               0                     0             0                   N          U         U    CT                 B                   B               1.0                        U         U           Y                            N                            N                                 0                                0\n",
       "2           2519        1          1              1            B                         0                       0                         1                       B                       0                       A                          NaN                     0                         NaN                    0                         NaN                    0                         NaN                    0              S                R             M      F   D           1             0          0          0           0            0            0    W         B          B                   B           4           Y                 A         A                M               1                   1                    0                 0                  0              0               0                   0              0                0               0                     0             1                   M          B         U    CT                 F                   A              15.0                        U         M           M                            N                            N                                 0                                0\n",
       "3           2521        1          3              1            C                         0                       0                         1                       C                       0                       E                          NaN                     0                         NaN                    0                         NaN                    0                         NaN                    0              M                O             S      F   D           5             1          0          1           0            0            0    B         C          B                   B           9           Y                 D         E                M               0                   0                    0                 0                  0              0               0                   0              0                0               0                     0             0                   M          U         U    CT                 B                   D              15.0                        5         M           M                            N                            N                                 0                                0\n",
       "4           2522        0          0              0            0                         0                       0                         0                       0                       0                       0                          NaN                     0                         NaN                    0                         NaN                    0                         NaN                    0              S                U             S      M   D           4             0          0          0           0            0            0    W         C          B                   B           9           Y                 A         E                M               0                   0                    0                 0                  0              0               0                   0              0                0               0                     0             0                   M          U         U    CT                 G                   E              15.0                        8         M           M                            N                            N                                 0                                0"
      ]
     },
     "execution_count": 60,
     "metadata": {},
     "output_type": "execute_result"
    }
   ],
   "source": [
    "dataset.head()"
   ]
  },
  {
   "cell_type": "markdown",
   "metadata": {},
   "source": [
    "### Creating Variable Client_Shopped_30_Days"
   ]
  },
  {
   "cell_type": "code",
   "execution_count": 61,
   "metadata": {
    "collapsed": true
   },
   "outputs": [],
   "source": [
    "dataset['client_times_shopped_30_days'] = dataset['client_times_shopped_30_days'].fillna('U')"
   ]
  },
  {
   "cell_type": "code",
   "execution_count": 62,
   "metadata": {
    "collapsed": true
   },
   "outputs": [],
   "source": [
    "new_list = []\n",
    "\n",
    "for row in dataset['client_times_shopped_30_days']:\n",
    "    \n",
    "    if row == 'U':\n",
    "        \n",
    "        new_list.append(0)\n",
    "        \n",
    "    else:\n",
    "        \n",
    "        new_list.append(1)"
   ]
  },
  {
   "cell_type": "code",
   "execution_count": 63,
   "metadata": {
    "collapsed": true
   },
   "outputs": [],
   "source": [
    "new_list = pd.DataFrame(new_list, columns = ['client_shopped_30_days'])"
   ]
  },
  {
   "cell_type": "code",
   "execution_count": 64,
   "metadata": {
    "collapsed": true
   },
   "outputs": [],
   "source": [
    "dataset = pd.concat([dataset, new_list], axis = 1)"
   ]
  },
  {
   "cell_type": "markdown",
   "metadata": {},
   "source": [
    "### Creating Variable Comp1_Shopped_30_Days"
   ]
  },
  {
   "cell_type": "code",
   "execution_count": 65,
   "metadata": {
    "collapsed": true
   },
   "outputs": [],
   "source": [
    "dataset['comp1_times_shopped_30_days'] = dataset['comp1_times_shopped_30_days'].fillna('U')"
   ]
  },
  {
   "cell_type": "code",
   "execution_count": 66,
   "metadata": {
    "collapsed": true
   },
   "outputs": [],
   "source": [
    "new_list = []\n",
    "\n",
    "for row in dataset['comp1_times_shopped_30_days']:\n",
    "    \n",
    "    if row == 'U':\n",
    "        \n",
    "        new_list.append(0)\n",
    "        \n",
    "    else:\n",
    "        \n",
    "        new_list.append(1)"
   ]
  },
  {
   "cell_type": "code",
   "execution_count": 67,
   "metadata": {
    "collapsed": true
   },
   "outputs": [],
   "source": [
    "new_list = pd.DataFrame(new_list, columns = ['comp1_shopped_30_days'])"
   ]
  },
  {
   "cell_type": "code",
   "execution_count": 68,
   "metadata": {
    "collapsed": true
   },
   "outputs": [],
   "source": [
    "dataset = pd.concat([dataset, new_list], axis = 1)"
   ]
  },
  {
   "cell_type": "markdown",
   "metadata": {},
   "source": [
    "### Creating Variable Comp2_Shopped_30_Days"
   ]
  },
  {
   "cell_type": "code",
   "execution_count": 69,
   "metadata": {
    "collapsed": true
   },
   "outputs": [],
   "source": [
    "dataset['comp2_times_shopped_30_days'] = dataset['comp2_times_shopped_30_days'].fillna('U')"
   ]
  },
  {
   "cell_type": "code",
   "execution_count": 70,
   "metadata": {
    "collapsed": true
   },
   "outputs": [],
   "source": [
    "new_list = []\n",
    "\n",
    "for row in dataset['comp2_times_shopped_30_days']:\n",
    "    \n",
    "    if row == 'U':\n",
    "        \n",
    "        new_list.append(0)\n",
    "        \n",
    "    else:\n",
    "        \n",
    "        new_list.append(1)"
   ]
  },
  {
   "cell_type": "code",
   "execution_count": 71,
   "metadata": {
    "collapsed": true
   },
   "outputs": [],
   "source": [
    "new_list = pd.DataFrame(new_list, columns = ['comp2_shopped_30_days'])"
   ]
  },
  {
   "cell_type": "code",
   "execution_count": 72,
   "metadata": {
    "collapsed": true
   },
   "outputs": [],
   "source": [
    "dataset = pd.concat([dataset, new_list], axis = 1)"
   ]
  },
  {
   "cell_type": "markdown",
   "metadata": {},
   "source": [
    "### Creating Variable Comp3_Shopped_30_Days"
   ]
  },
  {
   "cell_type": "code",
   "execution_count": 73,
   "metadata": {
    "collapsed": true
   },
   "outputs": [],
   "source": [
    "dataset['comp3_times_shopped_30_days'] = dataset['comp3_times_shopped_30_days'].fillna('U')"
   ]
  },
  {
   "cell_type": "code",
   "execution_count": 74,
   "metadata": {
    "collapsed": true
   },
   "outputs": [],
   "source": [
    "new_list = []\n",
    "\n",
    "for row in dataset['comp3_times_shopped_30_days']:\n",
    "    \n",
    "    if row == 'U':\n",
    "        \n",
    "        new_list.append(0)\n",
    "        \n",
    "    else:\n",
    "        \n",
    "        new_list.append(1)"
   ]
  },
  {
   "cell_type": "code",
   "execution_count": 75,
   "metadata": {
    "collapsed": true
   },
   "outputs": [],
   "source": [
    "new_list = pd.DataFrame(new_list, columns = ['comp3_shopped_30_days'])"
   ]
  },
  {
   "cell_type": "code",
   "execution_count": 76,
   "metadata": {
    "collapsed": true
   },
   "outputs": [],
   "source": [
    "dataset = pd.concat([dataset, new_list], axis = 1)"
   ]
  },
  {
   "cell_type": "markdown",
   "metadata": {},
   "source": [
    "## Splitting Dataset into 3 groups based on Loyalty Status"
   ]
  },
  {
   "cell_type": "code",
   "execution_count": 77,
   "metadata": {
    "collapsed": true
   },
   "outputs": [],
   "source": [
    "loyal_customers = dataset[dataset['Loyalty'] == 2]"
   ]
  },
  {
   "cell_type": "code",
   "execution_count": 81,
   "metadata": {},
   "outputs": [
    {
     "data": {
      "text/plain": [
       "(3928, 71)"
      ]
     },
     "execution_count": 81,
     "metadata": {},
     "output_type": "execute_result"
    }
   ],
   "source": [
    "loyal_customers.shape"
   ]
  },
  {
   "cell_type": "code",
   "execution_count": 79,
   "metadata": {
    "collapsed": true
   },
   "outputs": [],
   "source": [
    "non_loyal_customers = dataset[dataset['Loyalty'] == 1]"
   ]
  },
  {
   "cell_type": "code",
   "execution_count": 82,
   "metadata": {},
   "outputs": [
    {
     "data": {
      "text/plain": [
       "(11501, 71)"
      ]
     },
     "execution_count": 82,
     "metadata": {},
     "output_type": "execute_result"
    }
   ],
   "source": [
    "non_loyal_customers.shape"
   ]
  },
  {
   "cell_type": "code",
   "execution_count": 80,
   "metadata": {
    "collapsed": true
   },
   "outputs": [],
   "source": [
    "not_engaged_customers = dataset[dataset['Loyalty'] == 0]"
   ]
  },
  {
   "cell_type": "code",
   "execution_count": 83,
   "metadata": {},
   "outputs": [
    {
     "data": {
      "text/plain": [
       "(20537, 71)"
      ]
     },
     "execution_count": 83,
     "metadata": {},
     "output_type": "execute_result"
    }
   ],
   "source": [
    "not_engaged_customers.shape"
   ]
  },
  {
   "cell_type": "markdown",
   "metadata": {},
   "source": [
    "### Distribution of Buying by States"
   ]
  },
  {
   "cell_type": "code",
   "execution_count": 84,
   "metadata": {
    "collapsed": true
   },
   "outputs": [],
   "source": [
    "distribution_loyal = loyal_customers.groupby('State')['wc_bought_any'].agg(['count']).reset_index()"
   ]
  },
  {
   "cell_type": "code",
   "execution_count": 86,
   "metadata": {
    "collapsed": true
   },
   "outputs": [],
   "source": [
    "distribution_non_loyal = non_loyal_customers.groupby('State')['wc_bought_any'].agg(['count']).reset_index()"
   ]
  },
  {
   "cell_type": "code",
   "execution_count": 88,
   "metadata": {
    "collapsed": true
   },
   "outputs": [],
   "source": [
    "distribution_non_engaged = not_engaged_customers.groupby('State')['wc_bought_any'].agg(['count']).reset_index()"
   ]
  },
  {
   "cell_type": "markdown",
   "metadata": {},
   "source": [
    "#### Performing 2 sample t-test for proportions"
   ]
  },
  {
   "cell_type": "code",
   "execution_count": 89,
   "metadata": {
    "collapsed": true
   },
   "outputs": [],
   "source": [
    "def stats_comparison(dataset, i):\n",
    "    dataset.groupby(i)['wc_bought_any'].agg({\n",
    "    'average': 'mean',\n",
    "    'counts': 'count'\n",
    "    }).reset_index()\n",
    "    cat = dataset.groupby(i)['wc_bought_any']\\\n",
    "        .agg({\n",
    "            'sub_average': 'mean',\n",
    "            'sub_counts': 'count'\n",
    "       }).reset_index()\n",
    "    cat['overall_average'] = dataset['wc_bought_any'].mean()\n",
    "    cat['overall_counts'] = dataset['wc_bought_any'].count()\n",
    "    cat['rest_counts'] = cat['overall_counts'] - cat['sub_counts']\n",
    "    cat['rest_average'] = (cat['overall_counts']*cat['overall_average'] \\\n",
    "                     - cat['sub_counts']*cat['sub_average'])/cat['rest_counts']\n",
    "    cat['z_score'] = (cat['sub_average']-cat['rest_average'])/\\\n",
    "        np.sqrt(cat['overall_average']*(1-cat['overall_average'])\n",
    "            *(1/cat['sub_counts']+1/cat['rest_counts']))\n",
    "    cat['prob'] = np.around(stats.norm.cdf(cat.z_score), decimals = 10)\n",
    "    cat['significant'] = [(lambda x: 1 if x > 0.9 else -1 if x < 0.1 else 0)(i) for i in cat['prob']]\n",
    "    print(cat)"
   ]
  },
  {
   "cell_type": "code",
   "execution_count": 324,
   "metadata": {
    "scrolled": true
   },
   "outputs": [
    {
     "name": "stdout",
     "output_type": "stream",
     "text": [
      "  Race  sub_average  sub_counts  overall_average  overall_counts  rest_counts  rest_average   z_score      prob  significant\n",
      "0    A     0.973154         447          0.98035           11501        11054      0.980640 -1.117960  0.131792            0\n",
      "1    B     0.969309        1173          0.98035           11501        10328      0.981603 -2.874774  0.002022           -1\n",
      "2    H     0.976800        1250          0.98035           11501        10251      0.980782 -0.957710  0.169104            0\n",
      "3    U     0.978448         232          0.98035           11501        11269      0.980389 -0.210782  0.416529            0\n",
      "4    W     0.982855        8399          0.98035           11501         3102      0.973565  3.185590  0.999278            1\n"
     ]
    },
    {
     "name": "stderr",
     "output_type": "stream",
     "text": [
      "/Users/Weiyang/anaconda3/lib/python3.6/site-packages/ipykernel_launcher.py:4: FutureWarning: using a dict on a Series for aggregation\n",
      "is deprecated and will be removed in a future version\n",
      "  after removing the cwd from sys.path.\n",
      "/Users/Weiyang/anaconda3/lib/python3.6/site-packages/ipykernel_launcher.py:8: FutureWarning: using a dict on a Series for aggregation\n",
      "is deprecated and will be removed in a future version\n",
      "  \n"
     ]
    }
   ],
   "source": [
    "stats_comparison(non_loyal_customers, 'Race')"
   ]
  },
  {
   "cell_type": "code",
   "execution_count": 337,
   "metadata": {
    "collapsed": true
   },
   "outputs": [],
   "source": [
    "def loyal_stats_comparison(dataset, i):\n",
    "    dataset.groupby(i)['wc_big_ticket_bought_any'].agg({\n",
    "    'average': 'mean',\n",
    "    'counts': 'count'\n",
    "    }).reset_index()\n",
    "    cat = dataset.groupby(i)['wc_big_ticket_bought_any']\\\n",
    "        .agg({\n",
    "            'sub_average': 'mean',\n",
    "            'sub_counts': 'count'\n",
    "       }).reset_index()\n",
    "    cat['overall_average'] = dataset['wc_big_ticket_bought_any'].mean()\n",
    "    cat['overall_counts'] = dataset['wc_big_ticket_bought_any'].count()\n",
    "    cat['rest_counts'] = cat['overall_counts'] - cat['sub_counts']\n",
    "    cat['rest_average'] = (cat['overall_counts']*cat['overall_average'] \\\n",
    "                     - cat['sub_counts']*cat['sub_average'])/cat['rest_counts']\n",
    "    cat['z_score'] = (cat['sub_average']-cat['rest_average'])/\\\n",
    "        np.sqrt(cat['overall_average']*(1-cat['overall_average'])\n",
    "            *(1/cat['sub_counts']+1/cat['rest_counts']))\n",
    "    cat['prob'] = np.around(stats.norm.cdf(cat.z_score), decimals = 10)\n",
    "    cat['significant'] = [(lambda x: 1 if x > 0.9 else -1 if x < 0.1 else 0)(i) for i in cat['prob']]\n",
    "    print(cat)"
   ]
  },
  {
   "cell_type": "code",
   "execution_count": 338,
   "metadata": {
    "scrolled": true
   },
   "outputs": [
    {
     "name": "stdout",
     "output_type": "stream",
     "text": [
      "   State  sub_average  sub_counts  overall_average  overall_counts  rest_counts  rest_average   z_score      prob  significant\n",
      "0     AL     0.630435          46         0.717413            3928         3882      0.718444 -1.317920  0.093765           -1\n",
      "1     AR     0.526316          19         0.717413            3928         3909      0.718342 -1.854490  0.031835           -1\n",
      "2     AZ     0.549020          51         0.717413            3928         3877      0.719629 -2.688367  0.003590           -1\n",
      "3     CA     0.694064         438         0.717413            3928         3490      0.720344 -1.151403  0.124783            0\n",
      "4     CO     0.728814          59         0.717413            3928         3869      0.717240  0.195957  0.577678            0\n",
      "5     CT     0.676923          65         0.717413            3928         3863      0.718095 -0.731091  0.232362            0\n",
      "6     DC     0.866667          15         0.717413            3928         3913      0.716841  1.286292  0.900829            1\n",
      "7     DE     0.862069          29         0.717413            3928         3899      0.716338  1.736531  0.958765            1\n",
      "8     FL     0.623188         138         0.717413            3928         3790      0.720844 -2.502716  0.006162           -1\n",
      "9     GA     0.711409         149         0.717413            3928         3779      0.717650 -0.165949  0.434099            0\n",
      "10    IA     0.750000          28         0.717413            3928         3900      0.717179  0.384335  0.649635            0\n",
      "11    ID     0.700000          10         0.717413            3928         3918      0.717458 -0.122455  0.451269            0\n",
      "12    IL     0.781145         297         0.717413            3928         3631      0.712200  2.537134  0.994412            1\n",
      "13    IN     0.733333          60         0.717413            3928         3868      0.717166  0.275993  0.608723            0\n",
      "14    KS     0.640000          25         0.717413            3928         3903      0.717909 -0.862407  0.194232            0\n",
      "15    KY     0.684211          19         0.717413            3928         3909      0.717575 -0.322215  0.373645            0\n",
      "16    LA     0.727273          44         0.717413            3928         3884      0.717302  0.146069  0.558066            0\n",
      "17    MA     0.784431         167         0.717413            3928         3761      0.714438  1.965718  0.975334            1\n",
      "18    MD     0.740000         100         0.717413            3928         3828      0.716823  0.508147  0.694325            0\n",
      "19    ME     1.000000          11         0.717413            3928         3917      0.716620  2.084473  0.981441            1\n",
      "20    MI     0.741176          85         0.717413            3928         3843      0.716888  0.491928  0.688615            0\n",
      "21    MN     0.734694          49         0.717413            3928         3879      0.717195  0.270345  0.606553            0\n",
      "22    MO     0.666667          42         0.717413            3928         3886      0.717962 -0.734356  0.231366            0\n",
      "23    MS     0.631579          19         0.717413            3928         3909      0.717831 -0.832973  0.202430            0\n",
      "24    MT     1.000000           5         0.717413            3928         3923      0.717053  1.404276  0.919882            1\n",
      "25    NC     0.701149          87         0.717413            3928         3841      0.717782 -0.340714  0.366659            0\n",
      "26    ND     0.777778           9         0.717413            3928         3919      0.717275  0.402661  0.656401            0\n",
      "27    NE     0.590909          22         0.717413            3928         3906      0.718126 -1.321527  0.093163           -1\n",
      "28    NH     0.595238          42         0.717413            3928         3886      0.718734 -1.767999  0.038531           -1\n",
      "29    NJ     0.792969         256         0.717413            3928         3672      0.712146  2.776891  0.997256            1\n",
      "30    NM     0.727273          11         0.717413            3928         3917      0.717386  0.072726  0.528988            0\n",
      "31    NV     0.615385          13         0.717413            3928         3915      0.717752 -0.818378  0.206571            0\n",
      "32    NY     0.783920         398         0.717413            3928         3530      0.709915  3.108431  0.999060            1\n",
      "33    OH     0.602410          83         0.717413            3928         3845      0.719896 -2.351951  0.009338           -1\n",
      "34    OK     0.521739          23         0.717413            3928         3905      0.718566 -2.090318  0.018295           -1\n",
      "35    OR     0.709677          31         0.717413            3928         3897      0.717475 -0.096041  0.461744            0\n",
      "36    PA     0.715686         204         0.717413            3928         3724      0.717508 -0.056269  0.477564            0\n",
      "37    RI     0.916667          12         0.717413            3928         3916      0.716803  1.535323  0.937648            1\n",
      "38    SC     0.729730          37         0.717413            3928         3891      0.717296  0.167177  0.566384            0\n",
      "39    SD     0.916667          12         0.717413            3928         3916      0.716803  1.535323  0.937648            1\n",
      "40    TN     0.763158          38         0.717413            3928         3890      0.716967  0.629333  0.735435            0\n",
      "41    TX     0.634615         364         0.717413            3928         3564      0.725870 -3.683216  0.000115           -1\n",
      "42    UT     0.733333          30         0.717413            3928         3898      0.717291  0.194404  0.577070            0\n",
      "43    VA     0.718954         153         0.717413            3928         3775      0.717351  0.043178  0.517220            0\n",
      "44    VT     0.500000           6         0.717413            3928         3922      0.717746 -1.183678  0.118270            0\n",
      "45    WA     0.781818          55         0.717413            3928         3873      0.716499  1.068318  0.857312            0\n",
      "46    WI     0.721311          61         0.717413            3928         3867      0.717352  0.068147  0.527166            0\n",
      "47    WV     0.625000           8         0.717413            3928         3920      0.717602 -0.581115  0.280581            0\n",
      "48    WY     0.666667           3         0.717413            3928         3925      0.717452 -0.195288  0.422584            0\n"
     ]
    },
    {
     "name": "stderr",
     "output_type": "stream",
     "text": [
      "/Users/Weiyang/anaconda3/lib/python3.6/site-packages/ipykernel_launcher.py:4: FutureWarning: using a dict on a Series for aggregation\n",
      "is deprecated and will be removed in a future version\n",
      "  after removing the cwd from sys.path.\n",
      "/Users/Weiyang/anaconda3/lib/python3.6/site-packages/ipykernel_launcher.py:8: FutureWarning: using a dict on a Series for aggregation\n",
      "is deprecated and will be removed in a future version\n",
      "  \n"
     ]
    }
   ],
   "source": [
    "loyal_stats_comparison(loyal_customers, 'State')"
   ]
  },
  {
   "cell_type": "code",
   "execution_count": 339,
   "metadata": {},
   "outputs": [
    {
     "name": "stdout",
     "output_type": "stream",
     "text": [
      "   State  sub_average  sub_counts  overall_average  overall_counts  rest_counts  rest_average   z_score      prob  significant\n",
      "0     AL     0.338235         136         0.348491           11501        11365      0.348614 -0.252511  0.400323            0\n",
      "1     AR     0.238095          84         0.348491           11501        11417      0.349304 -2.131226  0.016535           -1\n",
      "2     AZ     0.343373         166         0.348491           11501        11335      0.348566 -0.139396  0.444569            0\n",
      "3     CA     0.349194        1240         0.348491           11501        10261      0.348407  0.054933  0.521904            0\n",
      "4     CO     0.359788         189         0.348491           11501        11312      0.348303  0.328650  0.628790            0\n",
      "5     CT     0.338583         127         0.348491           11501        11374      0.348602 -0.235655  0.406850            0\n",
      "6     DC     0.322581          31         0.348491           11501        11470      0.348561 -0.303174  0.380879            0\n",
      "7     DE     0.325000          80         0.348491           11501        11421      0.348656 -0.442501  0.329063            0\n",
      "8     FL     0.274220         609         0.348491           11501        10892      0.352644 -3.952648  0.000039           -1\n",
      "9     GA     0.300366         546         0.348491           11501        10955      0.350890 -2.418097  0.007801           -1\n",
      "10    IA     0.384615          91         0.348491           11501        11410      0.348203  0.726081  0.766105            0\n",
      "11    ID     0.358974          39         0.348491           11501        11462      0.348456  0.137625  0.554731            0\n",
      "12    IL     0.370370         783         0.348491           11501        10718      0.346893  1.330950  0.908397            1\n",
      "13    IN     0.287179         195         0.348491           11501        11306      0.349549 -1.812256  0.034973           -1\n",
      "14    KS     0.242424          99         0.348491           11501        11402      0.349412 -2.224436  0.013060           -1\n",
      "15    KY     0.270270         111         0.348491           11501        11390      0.349254 -1.737943  0.041110           -1\n",
      "16    LA     0.326241         141         0.348491           11501        11360      0.348768 -0.557915  0.288451            0\n",
      "17    MA     0.400000         395         0.348491           11501        11106      0.346659  2.186305  0.985603            1\n",
      "18    MD     0.391129         248         0.348491           11501        11253      0.347552  1.424610  0.922865            1\n",
      "19    ME     0.451613          31         0.348491           11501        11470      0.348213  1.206591  0.886205            0\n",
      "20    MI     0.400524         382         0.348491           11501        11119      0.346704  2.170611  0.985020            1\n",
      "21    MN     0.373206         209         0.348491           11501        11292      0.348034  0.756742  0.775398            0\n",
      "22    MO     0.322034         177         0.348491           11501        11324      0.348905 -0.744471  0.228296            0\n",
      "23    MS     0.369231          65         0.348491           11501        11436      0.348374  0.351906  0.637545            0\n",
      "24    MT     0.280000          25         0.348491           11501        11476      0.348641 -0.719487  0.235921            0\n",
      "25    NC     0.405797         276         0.348491           11501        11225      0.347082  2.022417  0.978433            1\n",
      "26    ND     0.413793          29         0.348491           11501        11472      0.348326  0.738951  0.770031            0\n",
      "27    NE     0.376471          85         0.348491           11501        11416      0.348283  0.543374  0.706564            0\n",
      "28    NH     0.416667          84         0.348491           11501        11417      0.347990  1.316140  0.905936            1\n",
      "29    NJ     0.423221         534         0.348491           11501        10967      0.344853  3.711340  0.999897            1\n",
      "30    NM     0.371429          35         0.348491           11501        11466      0.348421  0.285219  0.612262            0\n",
      "31    NV     0.278481          79         0.348491           11501        11422      0.348976 -1.310439  0.095024           -1\n",
      "32    NY     0.428373         719         0.348491           11501        10782      0.343165  4.642711  0.999998            1\n",
      "33    OH     0.342318         371         0.348491           11501        11130      0.348697 -0.253673  0.399874            0\n",
      "34    OK     0.301887         106         0.348491           11501        11395      0.348925 -1.011665  0.155849            0\n",
      "35    OR     0.342857         140         0.348491           11501        11361      0.348561 -0.140769  0.444026            0\n",
      "36    PA     0.352941         544         0.348491           11501        10957      0.348271  0.223152  0.588291            0\n",
      "37    RI     0.250000          32         0.348491           11501        11469      0.348766 -1.170907  0.120818            0\n",
      "38    SC     0.324176         182         0.348491           11501        11319      0.348882 -0.693951  0.243857            0\n",
      "39    SD     0.333333          15         0.348491           11501        11486      0.348511 -0.123287  0.450940            0\n",
      "40    TN     0.276471         170         0.348491           11501        11331      0.349572 -1.985456  0.023547           -1\n",
      "41    TX     0.299299         999         0.348491           11501        10502      0.353171 -3.414712  0.000319           -1\n",
      "42    UT     0.272727         110         0.348491           11501        11391      0.349223 -1.675679  0.046901           -1\n",
      "43    VA     0.383285         347         0.348491           11501        11154      0.347409  1.381223  0.916395            1\n",
      "44    VT     0.291667          24         0.348491           11501        11477      0.348610 -0.584845  0.279326            0\n",
      "45    WA     0.355030         169         0.348491           11501        11332      0.348394  0.179704  0.571307            0\n",
      "46    WI     0.327684         177         0.348491           11501        11324      0.348817 -0.585497  0.279107            0\n",
      "47    WV     0.306122          49         0.348491           11501        11452      0.348673 -0.623759  0.266393            0\n",
      "48    WY     0.423077          26         0.348491           11501        11475      0.348322  0.799054  0.787871            0\n"
     ]
    },
    {
     "name": "stderr",
     "output_type": "stream",
     "text": [
      "/Users/Weiyang/anaconda3/lib/python3.6/site-packages/ipykernel_launcher.py:4: FutureWarning: using a dict on a Series for aggregation\n",
      "is deprecated and will be removed in a future version\n",
      "  after removing the cwd from sys.path.\n",
      "/Users/Weiyang/anaconda3/lib/python3.6/site-packages/ipykernel_launcher.py:8: FutureWarning: using a dict on a Series for aggregation\n",
      "is deprecated and will be removed in a future version\n",
      "  \n"
     ]
    }
   ],
   "source": [
    "loyal_stats_comparison(non_loyal_customers, 'State')"
   ]
  },
  {
   "cell_type": "markdown",
   "metadata": {},
   "source": [
    "### Loading Dataset with Monetary Values"
   ]
  },
  {
   "cell_type": "code",
   "execution_count": 325,
   "metadata": {
    "collapsed": true
   },
   "outputs": [],
   "source": [
    "dataset_money = pd.read_csv('final_dataset_Monetary Value.csv')"
   ]
  },
  {
   "cell_type": "code",
   "execution_count": 326,
   "metadata": {},
   "outputs": [
    {
     "data": {
      "text/html": [
       "<div>\n",
       "<style>\n",
       "    .dataframe thead tr:only-child th {\n",
       "        text-align: right;\n",
       "    }\n",
       "\n",
       "    .dataframe thead th {\n",
       "        text-align: left;\n",
       "    }\n",
       "\n",
       "    .dataframe tbody tr th {\n",
       "        vertical-align: top;\n",
       "    }\n",
       "</style>\n",
       "<table border=\"1\" class=\"dataframe\">\n",
       "  <thead>\n",
       "    <tr style=\"text-align: right;\">\n",
       "      <th></th>\n",
       "      <th>dataright_seq</th>\n",
       "      <th>Monetary</th>\n",
       "      <th>total_amt</th>\n",
       "      <th>RF</th>\n",
       "      <th>Loyalty</th>\n",
       "      <th>RFM_score</th>\n",
       "      <th>wc_bought_any</th>\n",
       "      <th>wc_num_items</th>\n",
       "      <th>wc_big_ticket_bought_any</th>\n",
       "      <th>wc_big_ticket_num_items</th>\n",
       "      <th>wc_low_ticket_bought_any</th>\n",
       "      <th>wc_low_ticket_num_items</th>\n",
       "      <th>wc_big_ticket_amt_spent</th>\n",
       "      <th>wc_low_ticket_amt_spent</th>\n",
       "      <th>client_times_shopped_30_days</th>\n",
       "      <th>shopped_30_days</th>\n",
       "      <th>client_times_shopped_30_days_1</th>\n",
       "      <th>client_shopped_3_mos</th>\n",
       "      <th>comp1_times_shopped_30_days</th>\n",
       "      <th>comp1_shopped_3_mos</th>\n",
       "      <th>comp2_times_shopped_30_days</th>\n",
       "      <th>comp2_shopped_3_mos</th>\n",
       "      <th>comp3_times_shopped_30_days</th>\n",
       "      <th>comp3_shopped_3_mos</th>\n",
       "      <th>Marital_Status</th>\n",
       "      <th>Homeowner_Status</th>\n",
       "      <th>Dwelling_Type</th>\n",
       "      <th>Gender</th>\n",
       "      <th>Age</th>\n",
       "      <th>Num_Adults</th>\n",
       "      <th>Num_Children</th>\n",
       "      <th>Child_0_2</th>\n",
       "      <th>Child_3_5</th>\n",
       "      <th>Child_6_10</th>\n",
       "      <th>Child_11_15</th>\n",
       "      <th>Child_16_18</th>\n",
       "      <th>Race</th>\n",
       "      <th>HH_Income</th>\n",
       "      <th>Eff_Income</th>\n",
       "      <th>Socioeconomic_Score</th>\n",
       "      <th>ZIP_Income</th>\n",
       "      <th>Dual_Income</th>\n",
       "      <th>Home_Market_Value</th>\n",
       "      <th>Net_Worth</th>\n",
       "      <th>Mail_Order_Buyer</th>\n",
       "      <th>Mail_Ord_Books</th>\n",
       "      <th>Mail_Ord_BooksMags</th>\n",
       "      <th>Mail_Ord_Child_Prod</th>\n",
       "      <th>Mail_Ord_Clothes</th>\n",
       "      <th>Mail_Ord_Cosmetic</th>\n",
       "      <th>Mail_Ord_Food</th>\n",
       "      <th>Mail_Ord_Gifts</th>\n",
       "      <th>Mail_Ord_Furniture</th>\n",
       "      <th>Mail_Ord_Mags</th>\n",
       "      <th>Mail_Ord_Others</th>\n",
       "      <th>Mail_Ord_Jewel</th>\n",
       "      <th>Mail_Ord_Big_Clothes</th>\n",
       "      <th>Mail_Ord_DVD</th>\n",
       "      <th>Mail_Order_Response</th>\n",
       "      <th>Occupation</th>\n",
       "      <th>Education</th>\n",
       "      <th>State</th>\n",
       "      <th>Est_HH_Debt_Level</th>\n",
       "      <th>Est_HH_Invest_Asset</th>\n",
       "      <th>Len_of_Residence</th>\n",
       "      <th>Bank_Card_New_Issue_Year</th>\n",
       "      <th>Bank_Card</th>\n",
       "      <th>Retail_Card</th>\n",
       "      <th>Retail_Card_1</th>\n",
       "      <th>Buyer_Retail_Last_Order_2yrs</th>\n",
       "      <th>Buyer_Retail_Last_Order_1yrs</th>\n",
       "      <th>Buyer_Retail_Last_Order_Quantity</th>\n",
       "      <th>Buyer_Reatil_Last_Order_Dollars</th>\n",
       "    </tr>\n",
       "  </thead>\n",
       "  <tbody>\n",
       "    <tr>\n",
       "      <th>0</th>\n",
       "      <td>2517</td>\n",
       "      <td>0</td>\n",
       "      <td>0</td>\n",
       "      <td>0</td>\n",
       "      <td>0</td>\n",
       "      <td>0</td>\n",
       "      <td>0</td>\n",
       "      <td>0</td>\n",
       "      <td>0</td>\n",
       "      <td>0</td>\n",
       "      <td>0</td>\n",
       "      <td>0</td>\n",
       "      <td>0</td>\n",
       "      <td>0</td>\n",
       "      <td>NaN</td>\n",
       "      <td>0</td>\n",
       "      <td>0</td>\n",
       "      <td>0</td>\n",
       "      <td>U</td>\n",
       "      <td>0</td>\n",
       "      <td>U</td>\n",
       "      <td>0</td>\n",
       "      <td>U</td>\n",
       "      <td>0</td>\n",
       "      <td>M</td>\n",
       "      <td>O</td>\n",
       "      <td>S</td>\n",
       "      <td>M</td>\n",
       "      <td>A</td>\n",
       "      <td>5</td>\n",
       "      <td>0</td>\n",
       "      <td>0</td>\n",
       "      <td>0</td>\n",
       "      <td>0</td>\n",
       "      <td>0</td>\n",
       "      <td>0</td>\n",
       "      <td>B</td>\n",
       "      <td>D</td>\n",
       "      <td>B</td>\n",
       "      <td>B</td>\n",
       "      <td>9</td>\n",
       "      <td>Y</td>\n",
       "      <td>E</td>\n",
       "      <td>E</td>\n",
       "      <td>M</td>\n",
       "      <td>0</td>\n",
       "      <td>0</td>\n",
       "      <td>0</td>\n",
       "      <td>0</td>\n",
       "      <td>0</td>\n",
       "      <td>0</td>\n",
       "      <td>0</td>\n",
       "      <td>0</td>\n",
       "      <td>0</td>\n",
       "      <td>0</td>\n",
       "      <td>0</td>\n",
       "      <td>0</td>\n",
       "      <td>0</td>\n",
       "      <td>M</td>\n",
       "      <td>U</td>\n",
       "      <td>U</td>\n",
       "      <td>CT</td>\n",
       "      <td>C</td>\n",
       "      <td>C</td>\n",
       "      <td>NaN</td>\n",
       "      <td>U</td>\n",
       "      <td>U</td>\n",
       "      <td>U</td>\n",
       "      <td>0</td>\n",
       "      <td>Y</td>\n",
       "      <td>N</td>\n",
       "      <td>1</td>\n",
       "      <td>80</td>\n",
       "    </tr>\n",
       "    <tr>\n",
       "      <th>1</th>\n",
       "      <td>2518</td>\n",
       "      <td>4</td>\n",
       "      <td>900</td>\n",
       "      <td>0</td>\n",
       "      <td>2</td>\n",
       "      <td>4</td>\n",
       "      <td>1</td>\n",
       "      <td>C</td>\n",
       "      <td>1</td>\n",
       "      <td>B</td>\n",
       "      <td>1</td>\n",
       "      <td>C</td>\n",
       "      <td>B</td>\n",
       "      <td>F</td>\n",
       "      <td>NaN</td>\n",
       "      <td>0</td>\n",
       "      <td>0</td>\n",
       "      <td>0</td>\n",
       "      <td>U</td>\n",
       "      <td>0</td>\n",
       "      <td>U</td>\n",
       "      <td>0</td>\n",
       "      <td>U</td>\n",
       "      <td>0</td>\n",
       "      <td>S</td>\n",
       "      <td>U</td>\n",
       "      <td>S</td>\n",
       "      <td>F</td>\n",
       "      <td>D</td>\n",
       "      <td>1</td>\n",
       "      <td>0</td>\n",
       "      <td>0</td>\n",
       "      <td>1</td>\n",
       "      <td>0</td>\n",
       "      <td>0</td>\n",
       "      <td>0</td>\n",
       "      <td>H</td>\n",
       "      <td>B</td>\n",
       "      <td>B</td>\n",
       "      <td>B</td>\n",
       "      <td>5</td>\n",
       "      <td>Y</td>\n",
       "      <td>A</td>\n",
       "      <td>A</td>\n",
       "      <td>N</td>\n",
       "      <td>0</td>\n",
       "      <td>0</td>\n",
       "      <td>0</td>\n",
       "      <td>0</td>\n",
       "      <td>0</td>\n",
       "      <td>0</td>\n",
       "      <td>0</td>\n",
       "      <td>0</td>\n",
       "      <td>0</td>\n",
       "      <td>0</td>\n",
       "      <td>0</td>\n",
       "      <td>0</td>\n",
       "      <td>0</td>\n",
       "      <td>N</td>\n",
       "      <td>U</td>\n",
       "      <td>U</td>\n",
       "      <td>CT</td>\n",
       "      <td>B</td>\n",
       "      <td>B</td>\n",
       "      <td>1.0</td>\n",
       "      <td>U</td>\n",
       "      <td>U</td>\n",
       "      <td>Y</td>\n",
       "      <td>1</td>\n",
       "      <td>N</td>\n",
       "      <td>N</td>\n",
       "      <td>0</td>\n",
       "      <td>0</td>\n",
       "    </tr>\n",
       "    <tr>\n",
       "      <th>2</th>\n",
       "      <td>2519</td>\n",
       "      <td>1</td>\n",
       "      <td>25</td>\n",
       "      <td>0</td>\n",
       "      <td>1</td>\n",
       "      <td>1</td>\n",
       "      <td>1</td>\n",
       "      <td>B</td>\n",
       "      <td>0</td>\n",
       "      <td>0</td>\n",
       "      <td>1</td>\n",
       "      <td>B</td>\n",
       "      <td>0</td>\n",
       "      <td>A</td>\n",
       "      <td>NaN</td>\n",
       "      <td>0</td>\n",
       "      <td>0</td>\n",
       "      <td>0</td>\n",
       "      <td>U</td>\n",
       "      <td>0</td>\n",
       "      <td>U</td>\n",
       "      <td>0</td>\n",
       "      <td>U</td>\n",
       "      <td>0</td>\n",
       "      <td>S</td>\n",
       "      <td>R</td>\n",
       "      <td>M</td>\n",
       "      <td>F</td>\n",
       "      <td>D</td>\n",
       "      <td>1</td>\n",
       "      <td>0</td>\n",
       "      <td>0</td>\n",
       "      <td>0</td>\n",
       "      <td>0</td>\n",
       "      <td>0</td>\n",
       "      <td>0</td>\n",
       "      <td>W</td>\n",
       "      <td>B</td>\n",
       "      <td>B</td>\n",
       "      <td>B</td>\n",
       "      <td>4</td>\n",
       "      <td>Y</td>\n",
       "      <td>A</td>\n",
       "      <td>A</td>\n",
       "      <td>M</td>\n",
       "      <td>1</td>\n",
       "      <td>1</td>\n",
       "      <td>0</td>\n",
       "      <td>0</td>\n",
       "      <td>0</td>\n",
       "      <td>0</td>\n",
       "      <td>0</td>\n",
       "      <td>0</td>\n",
       "      <td>0</td>\n",
       "      <td>0</td>\n",
       "      <td>0</td>\n",
       "      <td>0</td>\n",
       "      <td>1</td>\n",
       "      <td>M</td>\n",
       "      <td>B</td>\n",
       "      <td>U</td>\n",
       "      <td>CT</td>\n",
       "      <td>F</td>\n",
       "      <td>A</td>\n",
       "      <td>15.0</td>\n",
       "      <td>U</td>\n",
       "      <td>M</td>\n",
       "      <td>M</td>\n",
       "      <td>1</td>\n",
       "      <td>N</td>\n",
       "      <td>N</td>\n",
       "      <td>0</td>\n",
       "      <td>0</td>\n",
       "    </tr>\n",
       "    <tr>\n",
       "      <th>3</th>\n",
       "      <td>2521</td>\n",
       "      <td>3</td>\n",
       "      <td>400</td>\n",
       "      <td>0</td>\n",
       "      <td>1</td>\n",
       "      <td>3</td>\n",
       "      <td>1</td>\n",
       "      <td>C</td>\n",
       "      <td>0</td>\n",
       "      <td>0</td>\n",
       "      <td>1</td>\n",
       "      <td>C</td>\n",
       "      <td>0</td>\n",
       "      <td>E</td>\n",
       "      <td>NaN</td>\n",
       "      <td>0</td>\n",
       "      <td>0</td>\n",
       "      <td>0</td>\n",
       "      <td>U</td>\n",
       "      <td>0</td>\n",
       "      <td>U</td>\n",
       "      <td>0</td>\n",
       "      <td>U</td>\n",
       "      <td>0</td>\n",
       "      <td>M</td>\n",
       "      <td>O</td>\n",
       "      <td>S</td>\n",
       "      <td>F</td>\n",
       "      <td>D</td>\n",
       "      <td>5</td>\n",
       "      <td>1</td>\n",
       "      <td>0</td>\n",
       "      <td>1</td>\n",
       "      <td>0</td>\n",
       "      <td>0</td>\n",
       "      <td>0</td>\n",
       "      <td>B</td>\n",
       "      <td>C</td>\n",
       "      <td>B</td>\n",
       "      <td>B</td>\n",
       "      <td>9</td>\n",
       "      <td>Y</td>\n",
       "      <td>D</td>\n",
       "      <td>E</td>\n",
       "      <td>M</td>\n",
       "      <td>0</td>\n",
       "      <td>0</td>\n",
       "      <td>0</td>\n",
       "      <td>0</td>\n",
       "      <td>0</td>\n",
       "      <td>0</td>\n",
       "      <td>0</td>\n",
       "      <td>0</td>\n",
       "      <td>0</td>\n",
       "      <td>0</td>\n",
       "      <td>0</td>\n",
       "      <td>0</td>\n",
       "      <td>0</td>\n",
       "      <td>M</td>\n",
       "      <td>U</td>\n",
       "      <td>U</td>\n",
       "      <td>CT</td>\n",
       "      <td>B</td>\n",
       "      <td>D</td>\n",
       "      <td>15.0</td>\n",
       "      <td>5</td>\n",
       "      <td>M</td>\n",
       "      <td>M</td>\n",
       "      <td>1</td>\n",
       "      <td>N</td>\n",
       "      <td>N</td>\n",
       "      <td>0</td>\n",
       "      <td>0</td>\n",
       "    </tr>\n",
       "    <tr>\n",
       "      <th>4</th>\n",
       "      <td>2522</td>\n",
       "      <td>0</td>\n",
       "      <td>0</td>\n",
       "      <td>0</td>\n",
       "      <td>0</td>\n",
       "      <td>0</td>\n",
       "      <td>0</td>\n",
       "      <td>0</td>\n",
       "      <td>0</td>\n",
       "      <td>0</td>\n",
       "      <td>0</td>\n",
       "      <td>0</td>\n",
       "      <td>0</td>\n",
       "      <td>0</td>\n",
       "      <td>NaN</td>\n",
       "      <td>0</td>\n",
       "      <td>0</td>\n",
       "      <td>0</td>\n",
       "      <td>U</td>\n",
       "      <td>0</td>\n",
       "      <td>U</td>\n",
       "      <td>0</td>\n",
       "      <td>U</td>\n",
       "      <td>0</td>\n",
       "      <td>S</td>\n",
       "      <td>U</td>\n",
       "      <td>S</td>\n",
       "      <td>M</td>\n",
       "      <td>D</td>\n",
       "      <td>4</td>\n",
       "      <td>0</td>\n",
       "      <td>0</td>\n",
       "      <td>0</td>\n",
       "      <td>0</td>\n",
       "      <td>0</td>\n",
       "      <td>0</td>\n",
       "      <td>W</td>\n",
       "      <td>C</td>\n",
       "      <td>B</td>\n",
       "      <td>B</td>\n",
       "      <td>9</td>\n",
       "      <td>Y</td>\n",
       "      <td>A</td>\n",
       "      <td>E</td>\n",
       "      <td>M</td>\n",
       "      <td>0</td>\n",
       "      <td>0</td>\n",
       "      <td>0</td>\n",
       "      <td>0</td>\n",
       "      <td>0</td>\n",
       "      <td>0</td>\n",
       "      <td>0</td>\n",
       "      <td>0</td>\n",
       "      <td>0</td>\n",
       "      <td>0</td>\n",
       "      <td>0</td>\n",
       "      <td>0</td>\n",
       "      <td>0</td>\n",
       "      <td>M</td>\n",
       "      <td>U</td>\n",
       "      <td>U</td>\n",
       "      <td>CT</td>\n",
       "      <td>G</td>\n",
       "      <td>E</td>\n",
       "      <td>15.0</td>\n",
       "      <td>8</td>\n",
       "      <td>M</td>\n",
       "      <td>M</td>\n",
       "      <td>1</td>\n",
       "      <td>N</td>\n",
       "      <td>N</td>\n",
       "      <td>0</td>\n",
       "      <td>0</td>\n",
       "    </tr>\n",
       "  </tbody>\n",
       "</table>\n",
       "</div>"
      ],
      "text/plain": [
       "   dataright_seq  Monetary  total_amt  RF  Loyalty  RFM_score  wc_bought_any wc_num_items  wc_big_ticket_bought_any wc_big_ticket_num_items  wc_low_ticket_bought_any wc_low_ticket_num_items wc_big_ticket_amt_spent wc_low_ticket_amt_spent client_times_shopped_30_days  shopped_30_days  client_times_shopped_30_days_1  client_shopped_3_mos comp1_times_shopped_30_days  comp1_shopped_3_mos comp2_times_shopped_30_days  comp2_shopped_3_mos comp3_times_shopped_30_days  comp3_shopped_3_mos Marital_Status Homeowner_Status Dwelling_Type Gender Age  Num_Adults  Num_Children  Child_0_2  Child_3_5  Child_6_10  Child_11_15  Child_16_18 Race HH_Income Eff_Income Socioeconomic_Score  ZIP_Income Dual_Income Home_Market_Value Net_Worth Mail_Order_Buyer  Mail_Ord_Books  Mail_Ord_BooksMags  Mail_Ord_Child_Prod  Mail_Ord_Clothes  Mail_Ord_Cosmetic  Mail_Ord_Food  Mail_Ord_Gifts  Mail_Ord_Furniture  Mail_Ord_Mags  Mail_Ord_Others  Mail_Ord_Jewel  Mail_Ord_Big_Clothes  Mail_Ord_DVD Mail_Order_Response Occupation Education State Est_HH_Debt_Level Est_HH_Invest_Asset  Len_of_Residence Bank_Card_New_Issue_Year Bank_Card Retail_Card  Retail_Card_1 Buyer_Retail_Last_Order_2yrs Buyer_Retail_Last_Order_1yrs  Buyer_Retail_Last_Order_Quantity  Buyer_Reatil_Last_Order_Dollars\n",
       "0           2517         0          0   0        0          0              0            0                         0                       0                         0                       0                       0                       0                          NaN                0                               0                     0                           U                    0                           U                    0                           U                    0              M                O             S      M   A           5             0          0          0           0            0            0    B         D          B                   B           9           Y                 E         E                M               0                   0                    0                 0                  0              0               0                   0              0                0               0                     0             0                   M          U         U    CT                 C                   C               NaN                        U         U           U              0                            Y                            N                                 1                               80\n",
       "1           2518         4        900   0        2          4              1            C                         1                       B                         1                       C                       B                       F                          NaN                0                               0                     0                           U                    0                           U                    0                           U                    0              S                U             S      F   D           1             0          0          1           0            0            0    H         B          B                   B           5           Y                 A         A                N               0                   0                    0                 0                  0              0               0                   0              0                0               0                     0             0                   N          U         U    CT                 B                   B               1.0                        U         U           Y              1                            N                            N                                 0                                0\n",
       "2           2519         1         25   0        1          1              1            B                         0                       0                         1                       B                       0                       A                          NaN                0                               0                     0                           U                    0                           U                    0                           U                    0              S                R             M      F   D           1             0          0          0           0            0            0    W         B          B                   B           4           Y                 A         A                M               1                   1                    0                 0                  0              0               0                   0              0                0               0                     0             1                   M          B         U    CT                 F                   A              15.0                        U         M           M              1                            N                            N                                 0                                0\n",
       "3           2521         3        400   0        1          3              1            C                         0                       0                         1                       C                       0                       E                          NaN                0                               0                     0                           U                    0                           U                    0                           U                    0              M                O             S      F   D           5             1          0          1           0            0            0    B         C          B                   B           9           Y                 D         E                M               0                   0                    0                 0                  0              0               0                   0              0                0               0                     0             0                   M          U         U    CT                 B                   D              15.0                        5         M           M              1                            N                            N                                 0                                0\n",
       "4           2522         0          0   0        0          0              0            0                         0                       0                         0                       0                       0                       0                          NaN                0                               0                     0                           U                    0                           U                    0                           U                    0              S                U             S      M   D           4             0          0          0           0            0            0    W         C          B                   B           9           Y                 A         E                M               0                   0                    0                 0                  0              0               0                   0              0                0               0                     0             0                   M          U         U    CT                 G                   E              15.0                        8         M           M              1                            N                            N                                 0                                0"
      ]
     },
     "execution_count": 326,
     "metadata": {},
     "output_type": "execute_result"
    }
   ],
   "source": [
    "dataset_money.head()"
   ]
  },
  {
   "cell_type": "code",
   "execution_count": 333,
   "metadata": {
    "collapsed": true
   },
   "outputs": [],
   "source": [
    "def stats_comparison(dataset, i):\n",
    "    dataset.groupby(i)['total_amt'].agg({\n",
    "    'average': 'mean',\n",
    "    'counts': 'count'\n",
    "    }).reset_index()\n",
    "    cat = dataset.groupby(i)['total_amt']\\\n",
    "        .agg({\n",
    "            'sub_average': 'mean',\n",
    "            'sub_counts': 'count'\n",
    "       }).reset_index()\n",
    "    cat['overall_average'] = dataset['total_amt'].mean()\n",
    "    cat['overall_counts'] = dataset['total_amt'].count()\n",
    "    cat['rest_counts'] = cat['overall_counts'] - cat['sub_counts']\n",
    "    cat['rest_average'] = (cat['overall_counts']*cat['overall_average'] \\\n",
    "                     - cat['sub_counts']*cat['sub_average'])/cat['rest_counts']\n",
    "    cat['z_score'] = (cat['sub_average']-cat['rest_average'])/ \\\n",
    "        np.sqrt(cat['overall_average']*(1-cat['overall_average'])\\\n",
    "            *(1/cat['sub_counts']+1/cat['rest_counts']))\n",
    "    cat['prob'] = np.around(stats.norm.cdf(cat.z_score), decimals = 10)\n",
    "    cat['significant'] = [(lambda x: 1 if x > 0.9 else -1 if x < 0.1 else 0)(i) for i in cat['prob']]\n",
    "    print(cat)"
   ]
  },
  {
   "cell_type": "code",
   "execution_count": 334,
   "metadata": {
    "collapsed": true
   },
   "outputs": [],
   "source": [
    "test_loyal = dataset_money[dataset_money['Loyalty'] == 2]"
   ]
  },
  {
   "cell_type": "code",
   "execution_count": 335,
   "metadata": {},
   "outputs": [
    {
     "name": "stdout",
     "output_type": "stream",
     "text": [
      "   State  sub_average  sub_counts  overall_average  overall_counts  rest_counts  rest_average  z_score  prob  significant\n",
      "0     AL   777.173913          46       851.024695            3928         3882    851.899794      NaN   NaN            0\n",
      "1     AR   735.526316          19       851.024695            3928         3909    851.586083      NaN   NaN            0\n",
      "2     AZ   824.019608          51       851.024695            3928         3877    851.379933      NaN   NaN            0\n",
      "3     CA   866.152968         438       851.024695            3928         3490    849.126074      NaN   NaN            0\n",
      "4     CO   892.372881          59       851.024695            3928         3869    850.394159      NaN   NaN            0\n",
      "5     CT   825.384615          65       851.024695            3928         3863    851.456122      NaN   NaN            0\n",
      "6     DC   828.333333          15       851.024695            3928         3913    851.111679      NaN   NaN            0\n",
      "7     DE   760.344828          29       851.024695            3928         3899    851.699154      NaN   NaN            0\n",
      "8     FL   883.152174         138       851.024695            3928         3790    849.854881      NaN   NaN            0\n",
      "9     GA   809.563758         149       851.024695            3928         3779    852.659434      NaN   NaN            0\n",
      "10    IA   758.035714          28       851.024695            3928         3900    851.692308      NaN   NaN            0\n",
      "11    ID   740.000000          10       851.024695            3928         3918    851.308065      NaN   NaN            0\n",
      "12    IL   855.723906         297       851.024695            3928         3631    850.640319      NaN   NaN            0\n",
      "13    IN   915.833333          60       851.024695            3928         3868    850.019390      NaN   NaN            0\n",
      "14    KS   831.000000          25       851.024695            3928         3903    851.152959      NaN   NaN            0\n",
      "15    KY   752.631579          19       851.024695            3928         3909    851.502942      NaN   NaN            0\n",
      "16    LA   866.477273          44       851.024695            3928         3884    850.849640      NaN   NaN            0\n",
      "17    MA   836.526946         167       851.024695            3928         3761    851.668439      NaN   NaN            0\n",
      "18    MD   863.250000         100       851.024695            3928         3828    850.705329      NaN   NaN            0\n",
      "19    ME   575.000000          11       851.024695            3928         3917    851.799847      NaN   NaN            0\n",
      "20    MI   815.000000          85       851.024695            3928         3843    851.821494      NaN   NaN            0\n",
      "21    MN   844.897959          49       851.024695            3928         3879    851.102088      NaN   NaN            0\n",
      "22    MO   813.095238          42       851.024695            3928         3886    851.434637      NaN   NaN            0\n",
      "23    MS   948.684211          19       851.024695            3928         3909    850.550013      NaN   NaN            0\n",
      "24    MT  1150.000000           5       851.024695            3928         3923    850.643640      NaN   NaN            0\n",
      "25    NC   796.839080          87       851.024695            3928         3841    852.252018      NaN   NaN            0\n",
      "26    ND   600.000000           9       851.024695            3928         3919    851.601174      NaN   NaN            0\n",
      "27    NE   684.090909          22       851.024695            3928         3906    851.964926      NaN   NaN            0\n",
      "28    NH   749.404762          42       851.024695            3928         3886    852.123006      NaN   NaN            0\n",
      "29    NJ   860.351562         256       851.024695            3928         3672    850.374455      NaN   NaN            0\n",
      "30    NM   877.272727          11       851.024695            3928         3917    850.950983      NaN   NaN            0\n",
      "31    NV   769.230769          13       851.024695            3928         3915    851.296296      NaN   NaN            0\n",
      "32    NY   880.402010         398       851.024695            3928         3530    847.712465      NaN   NaN            0\n",
      "33    OH   784.638554          83       851.024695            3928         3845    852.457737      NaN   NaN            0\n",
      "34    OK   828.260870          23       851.024695            3928         3905    851.158771      NaN   NaN            0\n",
      "35    OR   932.258065          31       851.024695            3928         3897    850.378496      NaN   NaN            0\n",
      "36    PA   862.745098         204       851.024695            3928         3724    850.382653      NaN   NaN            0\n",
      "37    RI   787.500000          12       851.024695            3928         3916    851.219356      NaN   NaN            0\n",
      "38    SC   838.513514          37       851.024695            3928         3891    851.143665      NaN   NaN            0\n",
      "39    SD  1029.166667          12       851.024695            3928         3916    850.478805      NaN   NaN            0\n",
      "40    TN   817.763158          38       851.024695            3928         3890    851.349614      NaN   NaN            0\n",
      "41    TX   886.469780         364       851.024695            3928         3564    847.404602      NaN   NaN            0\n",
      "42    UT   830.000000          30       851.024695            3928         3898    851.186506      NaN   NaN            0\n",
      "43    VA   859.313725         153       851.024695            3928         3775    850.688742      NaN   NaN            0\n",
      "44    VT  1058.333333           6       851.024695            3928         3922    850.707547      NaN   NaN            0\n",
      "45    WA   793.181818          55       851.024695            3928         3873    851.846114      NaN   NaN            0\n",
      "46    WI   890.163934          61       851.024695            3928         3867    850.407292      NaN   NaN            0\n",
      "47    WV   637.500000           8       851.024695            3928         3920    851.460459      NaN   NaN            0\n",
      "48    WY  1200.000000           3       851.024695            3928         3925    850.757962      NaN   NaN            0\n"
     ]
    },
    {
     "name": "stderr",
     "output_type": "stream",
     "text": [
      "/Users/Weiyang/anaconda3/lib/python3.6/site-packages/ipykernel_launcher.py:4: FutureWarning: using a dict on a Series for aggregation\n",
      "is deprecated and will be removed in a future version\n",
      "  after removing the cwd from sys.path.\n",
      "/Users/Weiyang/anaconda3/lib/python3.6/site-packages/ipykernel_launcher.py:8: FutureWarning: using a dict on a Series for aggregation\n",
      "is deprecated and will be removed in a future version\n",
      "  \n",
      "/Users/Weiyang/anaconda3/lib/python3.6/site-packages/ipykernel_launcher.py:14: RuntimeWarning: invalid value encountered in sqrt\n",
      "  \n",
      "/Users/Weiyang/anaconda3/lib/python3.6/site-packages/scipy/stats/_distn_infrastructure.py:879: RuntimeWarning: invalid value encountered in greater\n",
      "  return (self.a < x) & (x < self.b)\n",
      "/Users/Weiyang/anaconda3/lib/python3.6/site-packages/scipy/stats/_distn_infrastructure.py:879: RuntimeWarning: invalid value encountered in less\n",
      "  return (self.a < x) & (x < self.b)\n",
      "/Users/Weiyang/anaconda3/lib/python3.6/site-packages/scipy/stats/_distn_infrastructure.py:1735: RuntimeWarning: invalid value encountered in greater_equal\n",
      "  cond2 = (x >= self.b) & cond0\n"
     ]
    }
   ],
   "source": [
    "stats_comparison(test_loyal, 'State')"
   ]
  },
  {
   "cell_type": "code",
   "execution_count": 331,
   "metadata": {
    "collapsed": true
   },
   "outputs": [],
   "source": [
    "non_loyal = dataset_money[dataset_money['Loyalty'] == 1]"
   ]
  },
  {
   "cell_type": "code",
   "execution_count": 332,
   "metadata": {},
   "outputs": [
    {
     "name": "stdout",
     "output_type": "stream",
     "text": [
      "   State  sub_average  sub_counts  overall_average  overall_counts  rest_counts  rest_average  z_score  prob  significant\n",
      "0     AL   202.573529         136       200.699939           11501        11365    200.677519      NaN   NaN            0\n",
      "1     AR   183.630952          84       200.699939           11501        11417    200.825523      NaN   NaN            0\n",
      "2     AZ   192.620482         166       200.699939           11501        11335    200.818262      NaN   NaN            0\n",
      "3     CA   209.455645        1240       200.699939           11501        10261    199.641848      NaN   NaN            0\n",
      "4     CO   202.380952         189       200.699939           11501        11312    200.671853      NaN   NaN            0\n",
      "5     CT   200.984252         127       200.699939           11501        11374    200.696765      NaN   NaN            0\n",
      "6     DC   171.774194          31       200.699939           11501        11470    200.778117      NaN   NaN            0\n",
      "7     DE   215.000000          80       200.699939           11501        11421    200.599772      NaN   NaN            0\n",
      "8     FL   177.504105         609       200.699939           11501        10892    201.996878      NaN   NaN            0\n",
      "9     GA   195.375458         546       200.699939           11501        10955    200.965313      NaN   NaN            0\n",
      "10    IA   209.340659          91       200.699939           11501        11410    200.631025      NaN   NaN            0\n",
      "11    ID   201.282051          39       200.699939           11501        11462    200.697958      NaN   NaN            0\n",
      "12    IL   212.611750         783       200.699939           11501        10718    199.829726      NaN   NaN            0\n",
      "13    IN   184.102564         195       200.699939           11501        11306    200.986202      NaN   NaN            0\n",
      "14    KS   170.959596          99       200.699939           11501        11402    200.958165      NaN   NaN            0\n",
      "15    KY   162.162162         111       200.699939           11501        11390    201.075505      NaN   NaN            0\n",
      "16    LA   175.177305         141       200.699939           11501        11360    201.016725      NaN   NaN            0\n",
      "17    MA   223.354430         395       200.699939           11501        11106    199.894201      NaN   NaN            0\n",
      "18    MD   209.475806         248       200.699939           11501        11253    200.506532      NaN   NaN            0\n",
      "19    ME   187.096774          31       200.699939           11501        11470    200.736704      NaN   NaN            0\n",
      "20    MI   193.259162         382       200.699939           11501        11119    200.955572      NaN   NaN            0\n",
      "21    MN   201.315789         209       200.699939           11501        11292    200.688541      NaN   NaN            0\n",
      "22    MO   199.576271         177       200.699939           11501        11324    200.717503      NaN   NaN            0\n",
      "23    MS   211.153846          65       200.699939           11501        11436    200.640521      NaN   NaN            0\n",
      "24    MT   208.000000          25       200.699939           11501        11476    200.684036      NaN   NaN            0\n",
      "25    NC   193.206522         276       200.699939           11501        11225    200.884187      NaN   NaN            0\n",
      "26    ND   237.068966          29       200.699939           11501        11472    200.608002      NaN   NaN            0\n",
      "27    NE   197.941176          85       200.699939           11501        11416    200.720480      NaN   NaN            0\n",
      "28    NH   210.119048          84       200.699939           11501        11417    200.630639      NaN   NaN            0\n",
      "29    NJ   217.368914         534       200.699939           11501        10967    199.888301      NaN   NaN            0\n",
      "30    NM   219.285714          35       200.699939           11501        11466    200.643206      NaN   NaN            0\n",
      "31    NV   228.164557          79       200.699939           11501        11422    200.509981      NaN   NaN            0\n",
      "32    NY   213.560501         719       200.699939           11501        10782    199.842330      NaN   NaN            0\n",
      "33    OH   189.487871         371       200.699939           11501        11130    201.073675      NaN   NaN            0\n",
      "34    OK   202.594340         106       200.699939           11501        11395    200.682317      NaN   NaN            0\n",
      "35    OR   191.428571         140       200.699939           11501        11361    200.814189      NaN   NaN            0\n",
      "36    PA   206.663603         544       200.699939           11501        10957    200.403851      NaN   NaN            0\n",
      "37    RI   140.625000          32       200.699939           11501        11469    200.867556      NaN   NaN            0\n",
      "38    SC   188.324176         182       200.699939           11501        11319    200.898931      NaN   NaN            0\n",
      "39    SD   186.666667          15       200.699939           11501        11486    200.718266      NaN   NaN            0\n",
      "40    TN   193.676471         170       200.699939           11501        11331    200.805313      NaN   NaN            0\n",
      "41    TX   191.216216         999       200.699939           11501        10502    201.602076      NaN   NaN            0\n",
      "42    UT   203.863636         110       200.699939           11501        11391    200.669388      NaN   NaN            0\n",
      "43    VA   196.181556         347       200.699939           11501        11154    200.840506      NaN   NaN            0\n",
      "44    VT   165.625000          24       200.699939           11501        11477    200.773286      NaN   NaN            0\n",
      "45    WA   214.053254         169       200.699939           11501        11332    200.500794      NaN   NaN            0\n",
      "46    WI   208.333333         177       200.699939           11501        11324    200.580625      NaN   NaN            0\n",
      "47    WV   162.244898          49       200.699939           11501        11452    200.864478      NaN   NaN            0\n",
      "48    WY   210.576923          26       200.699939           11501        11475    200.677560      NaN   NaN            0\n"
     ]
    },
    {
     "name": "stderr",
     "output_type": "stream",
     "text": [
      "/Users/Weiyang/anaconda3/lib/python3.6/site-packages/ipykernel_launcher.py:4: FutureWarning: using a dict on a Series for aggregation\n",
      "is deprecated and will be removed in a future version\n",
      "  after removing the cwd from sys.path.\n",
      "/Users/Weiyang/anaconda3/lib/python3.6/site-packages/ipykernel_launcher.py:8: FutureWarning: using a dict on a Series for aggregation\n",
      "is deprecated and will be removed in a future version\n",
      "  \n",
      "/Users/Weiyang/anaconda3/lib/python3.6/site-packages/ipykernel_launcher.py:15: RuntimeWarning: invalid value encountered in sqrt\n",
      "  from ipykernel import kernelapp as app\n",
      "/Users/Weiyang/anaconda3/lib/python3.6/site-packages/scipy/stats/_distn_infrastructure.py:879: RuntimeWarning: invalid value encountered in greater\n",
      "  return (self.a < x) & (x < self.b)\n",
      "/Users/Weiyang/anaconda3/lib/python3.6/site-packages/scipy/stats/_distn_infrastructure.py:879: RuntimeWarning: invalid value encountered in less\n",
      "  return (self.a < x) & (x < self.b)\n",
      "/Users/Weiyang/anaconda3/lib/python3.6/site-packages/scipy/stats/_distn_infrastructure.py:1735: RuntimeWarning: invalid value encountered in greater_equal\n",
      "  cond2 = (x >= self.b) & cond0\n"
     ]
    }
   ],
   "source": [
    "stats_comparison(non_loyal, 'State')"
   ]
  },
  {
   "cell_type": "code",
   "execution_count": null,
   "metadata": {
    "collapsed": true
   },
   "outputs": [],
   "source": []
  },
  {
   "cell_type": "code",
   "execution_count": null,
   "metadata": {
    "collapsed": true
   },
   "outputs": [],
   "source": []
  },
  {
   "cell_type": "markdown",
   "metadata": {},
   "source": [
    "### Using Variables to Correlate with States for Clustering - Loyal"
   ]
  },
  {
   "cell_type": "markdown",
   "metadata": {},
   "source": [
    "#### Step 1: Since we are studying effects by States, we should use variables that helps to differentiate between States"
   ]
  },
  {
   "cell_type": "code",
   "execution_count": 115,
   "metadata": {
    "collapsed": true
   },
   "outputs": [],
   "source": [
    "new_list = ['Marital_Status', 'Homeowner_Status', 'Dwelling_Type', 'Gender', 'Age', 'Num_Adults', 'Num_Children', 'Race', 'HH_Income', 'Eff_Income', 'Socioeconomic_Score', 'ZIP_Income', 'Dual_Income', 'Home_Market_Value', 'Net_Worth', 'Occupation', 'Education', 'State', 'Est_HH_Debt_Level', 'Est_HH_Invest_Asset','Bank_Card', 'Retail_Card', 'Buyer_Retail_Last_Order_2yrs', 'Buyer_Retail_Last_Order_1yrs']"
   ]
  },
  {
   "cell_type": "code",
   "execution_count": 116,
   "metadata": {
    "collapsed": true
   },
   "outputs": [],
   "source": [
    "loyal_data = loyal_customers[new_list]"
   ]
  },
  {
   "cell_type": "markdown",
   "metadata": {},
   "source": [
    "#### Step 2: Performing clustering method based on number of clusters"
   ]
  },
  {
   "cell_type": "code",
   "execution_count": 117,
   "metadata": {
    "collapsed": true
   },
   "outputs": [],
   "source": [
    "loyal_data_viz = loyal_data.copy()"
   ]
  },
  {
   "cell_type": "code",
   "execution_count": 118,
   "metadata": {
    "collapsed": true
   },
   "outputs": [],
   "source": [
    "loyal_data1 = loyal_data.copy()"
   ]
  },
  {
   "cell_type": "code",
   "execution_count": 119,
   "metadata": {
    "collapsed": true
   },
   "outputs": [],
   "source": [
    "loyal_data2 = loyal_data.copy()"
   ]
  },
  {
   "cell_type": "code",
   "execution_count": 120,
   "metadata": {
    "collapsed": true
   },
   "outputs": [],
   "source": [
    "loyal_data3 = loyal_data.copy()"
   ]
  },
  {
   "cell_type": "code",
   "execution_count": 121,
   "metadata": {
    "collapsed": true
   },
   "outputs": [],
   "source": [
    "loyal_data4 = loyal_data.copy()"
   ]
  },
  {
   "cell_type": "code",
   "execution_count": 122,
   "metadata": {
    "collapsed": true
   },
   "outputs": [],
   "source": [
    "k_modes = KModes(n_clusters = 3, init='Huang', n_init=5, verbose=1)"
   ]
  },
  {
   "cell_type": "code",
   "execution_count": 123,
   "metadata": {
    "scrolled": true
   },
   "outputs": [
    {
     "name": "stdout",
     "output_type": "stream",
     "text": [
      "Init: initializing centroids\n",
      "Init: initializing clusters\n",
      "Starting iterations...\n",
      "Run 1, iteration: 1/100, moves: 1157, cost: 39653.0\n",
      "Run 1, iteration: 2/100, moves: 190, cost: 39653.0\n",
      "Init: initializing centroids\n",
      "Init: initializing clusters\n",
      "Starting iterations...\n",
      "Run 2, iteration: 1/100, moves: 1143, cost: 39650.0\n",
      "Run 2, iteration: 2/100, moves: 445, cost: 39122.0\n",
      "Run 2, iteration: 3/100, moves: 392, cost: 39052.0\n",
      "Run 2, iteration: 4/100, moves: 18, cost: 39052.0\n",
      "Init: initializing centroids\n",
      "Init: initializing clusters\n",
      "Starting iterations...\n",
      "Run 3, iteration: 1/100, moves: 1586, cost: 39628.0\n",
      "Run 3, iteration: 2/100, moves: 698, cost: 39386.0\n",
      "Run 3, iteration: 3/100, moves: 43, cost: 39386.0\n",
      "Init: initializing centroids\n",
      "Init: initializing clusters\n",
      "Starting iterations...\n",
      "Run 4, iteration: 1/100, moves: 1083, cost: 39496.0\n",
      "Run 4, iteration: 2/100, moves: 613, cost: 39174.0\n",
      "Run 4, iteration: 3/100, moves: 147, cost: 39174.0\n",
      "Init: initializing centroids\n",
      "Init: initializing clusters\n",
      "Starting iterations...\n",
      "Run 5, iteration: 1/100, moves: 1497, cost: 39480.0\n",
      "Run 5, iteration: 2/100, moves: 226, cost: 39480.0\n",
      "Best run was number 2\n"
     ]
    },
    {
     "name": "stderr",
     "output_type": "stream",
     "text": [
      "/Users/Weiyang/anaconda3/lib/python3.6/site-packages/ipykernel_launcher.py:1: SettingWithCopyWarning: \n",
      "A value is trying to be set on a copy of a slice from a DataFrame.\n",
      "Try using .loc[row_indexer,col_indexer] = value instead\n",
      "\n",
      "See the caveats in the documentation: http://pandas.pydata.org/pandas-docs/stable/indexing.html#indexing-view-versus-copy\n",
      "  \"\"\"Entry point for launching an IPython kernel.\n"
     ]
    }
   ],
   "source": [
    "loyal_data['Cluster'] = k_modes.fit_predict(loyal_data)"
   ]
  },
  {
   "cell_type": "code",
   "execution_count": 124,
   "metadata": {
    "scrolled": true
   },
   "outputs": [
    {
     "name": "stdout",
     "output_type": "stream",
     "text": [
      "[['M' 'O' 'S' 'F' 'D' '2' '0' 'W' 'E' 'C' 'C' '9' 'N' 'G' 'G' 'U' 'U'\n",
      "  'TX' 'H' 'G' 'M' 'M' 'N' 'N']\n",
      " ['S' 'O' 'S' 'F' 'E' '1' '0' 'W' 'E' 'D' 'D' '8' 'Y' 'I' 'H' 'U' '2'\n",
      "  'CA' 'B' 'J' 'M' 'M' 'N' 'N']\n",
      " ['S' 'O' 'S' 'F' 'C' '1' '0' 'W' 'B' 'C' 'B' '0' 'Y' 'A' 'A' 'U' 'U'\n",
      "  'TX' 'C' 'A' 'U' 'U' 'N' 'N']]\n"
     ]
    }
   ],
   "source": [
    "print(k_modes.cluster_centroids_)"
   ]
  },
  {
   "cell_type": "code",
   "execution_count": 125,
   "metadata": {
    "collapsed": true
   },
   "outputs": [],
   "source": [
    "k_modes = KModes(n_clusters = 4, init='Huang', n_init=5, verbose=1)"
   ]
  },
  {
   "cell_type": "code",
   "execution_count": 126,
   "metadata": {
    "scrolled": true
   },
   "outputs": [
    {
     "name": "stdout",
     "output_type": "stream",
     "text": [
      "Init: initializing centroids\n",
      "Init: initializing clusters\n",
      "Starting iterations...\n",
      "Run 1, iteration: 1/100, moves: 1413, cost: 38206.0\n",
      "Run 1, iteration: 2/100, moves: 277, cost: 38133.0\n",
      "Run 1, iteration: 3/100, moves: 29, cost: 38133.0\n",
      "Init: initializing centroids\n",
      "Init: initializing clusters\n",
      "Starting iterations...\n",
      "Run 2, iteration: 1/100, moves: 1620, cost: 38067.0\n",
      "Run 2, iteration: 2/100, moves: 696, cost: 37688.0\n",
      "Run 2, iteration: 3/100, moves: 142, cost: 37688.0\n",
      "Init: initializing centroids\n",
      "Init: initializing clusters\n",
      "Starting iterations...\n",
      "Run 3, iteration: 1/100, moves: 1168, cost: 38491.0\n",
      "Run 3, iteration: 2/100, moves: 632, cost: 38220.0\n",
      "Run 3, iteration: 3/100, moves: 18, cost: 38220.0\n",
      "Init: initializing centroids\n",
      "Init: initializing clusters\n",
      "Starting iterations...\n",
      "Run 4, iteration: 1/100, moves: 1817, cost: 38019.0\n",
      "Run 4, iteration: 2/100, moves: 789, cost: 37534.0\n",
      "Run 4, iteration: 3/100, moves: 164, cost: 37534.0\n",
      "Init: initializing centroids\n",
      "Init: initializing clusters\n",
      "Starting iterations...\n",
      "Run 5, iteration: 1/100, moves: 1587, cost: 37667.0\n",
      "Run 5, iteration: 2/100, moves: 453, cost: 37579.0\n",
      "Run 5, iteration: 3/100, moves: 101, cost: 37546.0\n",
      "Run 5, iteration: 4/100, moves: 0, cost: 37546.0\n",
      "Best run was number 4\n"
     ]
    }
   ],
   "source": [
    "loyal_data1['Cluster'] = k_modes.fit_predict(loyal_data1)"
   ]
  },
  {
   "cell_type": "code",
   "execution_count": 127,
   "metadata": {
    "scrolled": false
   },
   "outputs": [
    {
     "name": "stdout",
     "output_type": "stream",
     "text": [
      "[['S' 'O' 'S' 'F' 'E' '1' '0' 'W' 'E' 'D' 'D' '9' 'Y' 'G' 'G' 'U' 'U'\n",
      "  'CA' 'B' 'G' 'M' 'M' 'N' 'N']\n",
      " ['M' 'O' 'S' 'F' 'D' '2' '0' 'W' 'E' 'C' 'B' '9' 'N' 'E' 'E' 'U' 'U'\n",
      "  'TX' 'F' 'F' 'M' 'M' 'N' 'N']\n",
      " ['M' 'O' 'S' 'F' 'D' '2' '0' 'W' 'H' 'D' 'D' '9' 'N' 'I' 'H' 'U' '2'\n",
      "  'CA' 'H' 'J' 'M' 'M' 'N' 'N']\n",
      " ['S' 'R' 'S' 'F' 'B' '1' '0' 'W' 'B' 'B' 'A' '0' 'Y' 'A' 'A' 'U' 'U'\n",
      "  'NY' 'B' 'A' 'U' 'U' 'N' 'N']]\n"
     ]
    }
   ],
   "source": [
    "print(k_modes.cluster_centroids_)"
   ]
  },
  {
   "cell_type": "code",
   "execution_count": 128,
   "metadata": {
    "collapsed": true
   },
   "outputs": [],
   "source": [
    "k_modes = KModes(n_clusters = 5, init='Huang', n_init=5, verbose=1)"
   ]
  },
  {
   "cell_type": "code",
   "execution_count": 129,
   "metadata": {
    "scrolled": true
   },
   "outputs": [
    {
     "name": "stdout",
     "output_type": "stream",
     "text": [
      "Init: initializing centroids\n",
      "Init: initializing clusters\n",
      "Starting iterations...\n",
      "Run 1, iteration: 1/100, moves: 1501, cost: 37218.0\n",
      "Run 1, iteration: 2/100, moves: 495, cost: 36969.0\n",
      "Run 1, iteration: 3/100, moves: 241, cost: 36798.0\n",
      "Run 1, iteration: 4/100, moves: 29, cost: 36798.0\n",
      "Init: initializing centroids\n",
      "Init: initializing clusters\n",
      "Starting iterations...\n",
      "Run 2, iteration: 1/100, moves: 1307, cost: 37234.0\n",
      "Run 2, iteration: 2/100, moves: 295, cost: 37187.0\n",
      "Run 2, iteration: 3/100, moves: 145, cost: 37061.0\n",
      "Run 2, iteration: 4/100, moves: 74, cost: 37061.0\n",
      "Init: initializing centroids\n",
      "Init: initializing clusters\n",
      "Starting iterations...\n",
      "Run 3, iteration: 1/100, moves: 1713, cost: 37141.0\n",
      "Run 3, iteration: 2/100, moves: 573, cost: 36978.0\n",
      "Run 3, iteration: 3/100, moves: 214, cost: 36882.0\n",
      "Run 3, iteration: 4/100, moves: 5, cost: 36882.0\n",
      "Init: initializing centroids\n",
      "Init: initializing clusters\n",
      "Starting iterations...\n",
      "Run 4, iteration: 1/100, moves: 1251, cost: 38543.0\n",
      "Run 4, iteration: 2/100, moves: 301, cost: 38497.0\n",
      "Run 4, iteration: 3/100, moves: 11, cost: 38497.0\n",
      "Init: initializing centroids\n",
      "Init: initializing clusters\n",
      "Starting iterations...\n",
      "Run 5, iteration: 1/100, moves: 1698, cost: 37940.0\n",
      "Run 5, iteration: 2/100, moves: 1007, cost: 36892.0\n",
      "Run 5, iteration: 3/100, moves: 431, cost: 36853.0\n",
      "Run 5, iteration: 4/100, moves: 11, cost: 36853.0\n",
      "Best run was number 1\n"
     ]
    }
   ],
   "source": [
    "loyal_data2['Cluster'] = k_modes.fit_predict(loyal_data2)"
   ]
  },
  {
   "cell_type": "code",
   "execution_count": 130,
   "metadata": {
    "scrolled": true
   },
   "outputs": [
    {
     "name": "stdout",
     "output_type": "stream",
     "text": [
      "[['S' 'O' 'S' 'F' 'B' '1' '0' 'W' 'B' 'B' 'A' '0' 'Y' 'A' 'A' 'U' '1'\n",
      "  'NY' 'B' 'A' 'U' 'U' 'N' 'N']\n",
      " ['S' 'O' 'S' 'F' 'D' '1' '0' 'W' 'E' 'C' 'C' '8' 'Y' 'F' 'G' 'U' 'U'\n",
      "  'CA' 'B' 'G' 'M' 'M' 'N' 'N']\n",
      " ['M' 'O' 'S' 'F' 'E' '2' '0' 'W' 'H' 'D' 'D' '9' 'N' 'I' 'H' 'U' '2'\n",
      "  'CA' 'H' 'J' 'M' 'M' 'N' 'N']\n",
      " ['M' 'O' 'S' 'F' 'D' '2' '0' 'W' 'E' 'C' 'C' '9' 'N' 'G' 'E' 'U' 'U'\n",
      "  'TX' 'I' 'F' 'M' 'M' 'N' 'N']\n",
      " ['S' 'O' 'S' 'F' 'C' '1' '0' 'W' 'C' 'D' 'D' '4' 'Y' 'D' 'E' 'U' 'U'\n",
      "  'TX' 'B' 'F' 'U' 'U' 'N' 'N']]\n"
     ]
    }
   ],
   "source": [
    "print(k_modes.cluster_centroids_)"
   ]
  },
  {
   "cell_type": "code",
   "execution_count": 131,
   "metadata": {
    "collapsed": true
   },
   "outputs": [],
   "source": [
    "k_modes = KModes(n_clusters = 6, init='Huang', n_init=5, verbose=1)"
   ]
  },
  {
   "cell_type": "code",
   "execution_count": 132,
   "metadata": {
    "scrolled": true
   },
   "outputs": [
    {
     "name": "stdout",
     "output_type": "stream",
     "text": [
      "Init: initializing centroids\n",
      "Init: initializing clusters\n",
      "Starting iterations...\n",
      "Run 1, iteration: 1/100, moves: 1225, cost: 36296.0\n",
      "Run 1, iteration: 2/100, moves: 279, cost: 36296.0\n",
      "Init: initializing centroids\n",
      "Init: initializing clusters\n",
      "Starting iterations...\n",
      "Run 2, iteration: 1/100, moves: 1544, cost: 36740.0\n",
      "Run 2, iteration: 2/100, moves: 628, cost: 36218.0\n",
      "Run 2, iteration: 3/100, moves: 368, cost: 36202.0\n",
      "Run 2, iteration: 4/100, moves: 40, cost: 36202.0\n",
      "Init: initializing centroids\n",
      "Init: initializing clusters\n",
      "Starting iterations...\n",
      "Run 3, iteration: 1/100, moves: 1414, cost: 36413.0\n",
      "Run 3, iteration: 2/100, moves: 448, cost: 36413.0\n",
      "Init: initializing centroids\n",
      "Init: initializing clusters\n",
      "Starting iterations...\n",
      "Run 4, iteration: 1/100, moves: 1504, cost: 36363.0\n",
      "Run 4, iteration: 2/100, moves: 414, cost: 36265.0\n",
      "Run 4, iteration: 3/100, moves: 3, cost: 36265.0\n",
      "Init: initializing centroids\n",
      "Init: initializing clusters\n",
      "Starting iterations...\n",
      "Run 5, iteration: 1/100, moves: 1604, cost: 35765.0\n",
      "Run 5, iteration: 2/100, moves: 384, cost: 35709.0\n",
      "Run 5, iteration: 3/100, moves: 48, cost: 35709.0\n",
      "Best run was number 5\n"
     ]
    }
   ],
   "source": [
    "loyal_data3['Cluster'] = k_modes.fit_predict(loyal_data3)"
   ]
  },
  {
   "cell_type": "code",
   "execution_count": 133,
   "metadata": {
    "scrolled": false
   },
   "outputs": [
    {
     "name": "stdout",
     "output_type": "stream",
     "text": [
      "[['S' 'O' 'S' 'F' 'E' '1' '0' 'W' 'E' 'C' 'C' '7' 'Y' 'A' 'F' 'U' 'U'\n",
      "  'NY' 'B' 'G' 'M' 'M' 'N' 'N']\n",
      " ['S' 'O' 'S' 'F' 'D' '1' '0' 'W' 'F' 'D' 'D' '9' 'Y' 'I' 'G' 'U' '2'\n",
      "  'CA' 'B' 'H' 'M' 'U' 'N' 'N']\n",
      " ['M' 'O' 'S' 'F' 'E' '2' '0' 'W' 'H' 'D' 'D' '9' 'N' 'I' 'H' 'U' '2'\n",
      "  'CA' 'H' 'J' 'M' 'M' 'N' 'N']\n",
      " ['M' 'O' 'S' 'F' 'D' '2' '0' 'W' 'E' 'C' 'C' '9' 'N' 'G' 'F' 'U' 'U'\n",
      "  'TX' 'H' 'F' 'M' 'M' 'N' 'N']\n",
      " ['S' 'R' 'S' 'F' 'B' '1' '0' 'W' 'B' 'B' 'A' '0' 'Y' 'A' 'A' 'U' 'U'\n",
      "  'NY' 'C' 'A' 'U' 'U' 'N' 'N']\n",
      " ['S' 'O' 'S' 'F' 'D' '1' '0' 'W' 'D' 'C' 'B' '5' 'Y' 'D' 'E' 'U' 'U'\n",
      "  'TX' 'F' 'F' 'M' 'M' 'N' 'N']]\n"
     ]
    }
   ],
   "source": [
    "print(k_modes.cluster_centroids_)"
   ]
  },
  {
   "cell_type": "code",
   "execution_count": 134,
   "metadata": {
    "collapsed": true
   },
   "outputs": [],
   "source": [
    "k_modes = KModes(n_clusters = 7, init='Huang', n_init=5, verbose=1)"
   ]
  },
  {
   "cell_type": "code",
   "execution_count": 135,
   "metadata": {
    "scrolled": true
   },
   "outputs": [
    {
     "name": "stdout",
     "output_type": "stream",
     "text": [
      "Init: initializing centroids\n",
      "Init: initializing clusters\n",
      "Starting iterations...\n",
      "Run 1, iteration: 1/100, moves: 1650, cost: 36656.0\n",
      "Run 1, iteration: 2/100, moves: 505, cost: 36459.0\n",
      "Run 1, iteration: 3/100, moves: 74, cost: 36459.0\n",
      "Init: initializing centroids\n",
      "Init: initializing clusters\n",
      "Starting iterations...\n",
      "Run 2, iteration: 1/100, moves: 1479, cost: 35951.0\n",
      "Run 2, iteration: 2/100, moves: 441, cost: 35766.0\n",
      "Run 2, iteration: 3/100, moves: 65, cost: 35766.0\n",
      "Init: initializing centroids\n",
      "Init: initializing clusters\n",
      "Starting iterations...\n",
      "Run 3, iteration: 1/100, moves: 1544, cost: 35291.0\n",
      "Run 3, iteration: 2/100, moves: 741, cost: 35129.0\n",
      "Run 3, iteration: 3/100, moves: 68, cost: 35129.0\n",
      "Init: initializing centroids\n",
      "Init: initializing clusters\n",
      "Starting iterations...\n",
      "Run 4, iteration: 1/100, moves: 1687, cost: 35510.0\n",
      "Run 4, iteration: 2/100, moves: 438, cost: 35388.0\n",
      "Run 4, iteration: 3/100, moves: 44, cost: 35388.0\n",
      "Init: initializing centroids\n",
      "Init: initializing clusters\n",
      "Starting iterations...\n",
      "Run 5, iteration: 1/100, moves: 1572, cost: 36109.0\n",
      "Run 5, iteration: 2/100, moves: 319, cost: 36053.0\n",
      "Run 5, iteration: 3/100, moves: 32, cost: 36053.0\n",
      "Best run was number 3\n"
     ]
    }
   ],
   "source": [
    "loyal_data4['Cluster'] = k_modes.fit_predict(loyal_data4)"
   ]
  },
  {
   "cell_type": "code",
   "execution_count": 136,
   "metadata": {
    "scrolled": true
   },
   "outputs": [
    {
     "name": "stdout",
     "output_type": "stream",
     "text": [
      "[['S' 'O' 'S' 'F' 'E' '1' '0' 'W' 'E' 'D' 'D' '9' 'Y' 'I' 'H' 'U' '2'\n",
      "  'CA' 'B' 'J' 'M' 'M' 'N' 'N']\n",
      " ['M' 'O' 'S' 'F' 'D' '2' '0' 'W' 'E' 'C' 'B' '9' 'N' 'E' 'E' 'U' 'U'\n",
      "  'NY' 'G' 'F' 'M' 'M' 'N' 'N']\n",
      " ['M' 'O' 'S' 'F' 'D' '2' '0' 'W' 'H' 'D' 'D' '9' 'N' 'I' 'G' 'U' '2'\n",
      "  'TX' 'H' 'H' 'M' 'M' 'N' 'N']\n",
      " ['S' 'R' 'S' 'F' 'B' '1' '0' 'W' 'B' 'C' 'B' '0' 'Y' 'A' 'A' 'U' 'U'\n",
      "  'NY' 'B' 'A' 'U' 'U' 'N' 'N']\n",
      " ['S' 'O' 'S' 'F' 'E' '1' '0' 'W' 'B' 'B' 'A' '8' 'Y' 'A' 'A' 'U' '1'\n",
      "  'TX' 'C' 'A' 'M' 'M' 'N' 'N']\n",
      " ['S' 'O' 'S' 'F' 'C' '1' '0' 'W' 'C' 'C' 'C' '5' 'Y' 'E' 'E' 'U' 'U'\n",
      "  'TX' 'H' 'F' 'M' 'M' 'N' 'N']\n",
      " ['M' 'O' 'S' 'F' 'F' '2' '0' 'W' 'E' 'D' 'C' '9' 'N' 'G' 'F' 'U' 'U'\n",
      "  'TX' 'I' 'G' 'M' 'M' 'N' 'N']]\n"
     ]
    }
   ],
   "source": [
    "print(k_modes.cluster_centroids_)"
   ]
  },
  {
   "cell_type": "markdown",
   "metadata": {},
   "source": [
    "#### Writing out clusters for loyal customers"
   ]
  },
  {
   "cell_type": "code",
   "execution_count": 138,
   "metadata": {
    "collapsed": true
   },
   "outputs": [],
   "source": [
    "new_list = loyal_data1['Cluster']"
   ]
  },
  {
   "cell_type": "code",
   "execution_count": 139,
   "metadata": {
    "collapsed": true
   },
   "outputs": [],
   "source": [
    "loyal_customers_dataset_4_clusters = pd.concat([loyal_customers, new_list], axis = 1)"
   ]
  },
  {
   "cell_type": "code",
   "execution_count": 142,
   "metadata": {
    "collapsed": true
   },
   "outputs": [],
   "source": [
    "loyal_customers_dataset_4_clusters.to_csv('loyal_customers_dataset_4_clusters.csv', index = False)"
   ]
  },
  {
   "cell_type": "markdown",
   "metadata": {},
   "source": [
    "## Visualizing Data - Loyal"
   ]
  },
  {
   "cell_type": "code",
   "execution_count": 204,
   "metadata": {
    "collapsed": true
   },
   "outputs": [],
   "source": [
    "test_data = pd.get_dummies(loyal_data_viz)"
   ]
  },
  {
   "cell_type": "code",
   "execution_count": 205,
   "metadata": {
    "collapsed": true
   },
   "outputs": [],
   "source": [
    "x = test_data.reset_index().values"
   ]
  },
  {
   "cell_type": "code",
   "execution_count": 206,
   "metadata": {
    "collapsed": true
   },
   "outputs": [],
   "source": [
    "km = KModes(n_clusters = 4, init = 'Huang', n_init = 5, verbose = 1)"
   ]
  },
  {
   "cell_type": "code",
   "execution_count": 207,
   "metadata": {},
   "outputs": [
    {
     "name": "stdout",
     "output_type": "stream",
     "text": [
      "Init: initializing centroids\n",
      "Init: initializing clusters\n",
      "Starting iterations...\n",
      "Run 1, iteration: 1/100, moves: 1423, cost: 62257.0\n",
      "Run 1, iteration: 2/100, moves: 620, cost: 61912.0\n",
      "Run 1, iteration: 3/100, moves: 151, cost: 61912.0\n",
      "Init: initializing centroids\n",
      "Init: initializing clusters\n",
      "Starting iterations...\n",
      "Run 2, iteration: 1/100, moves: 1723, cost: 60475.0\n",
      "Run 2, iteration: 2/100, moves: 215, cost: 60475.0\n",
      "Init: initializing centroids\n",
      "Init: initializing clusters\n",
      "Starting iterations...\n",
      "Run 3, iteration: 1/100, moves: 1790, cost: 61716.0\n",
      "Run 3, iteration: 2/100, moves: 888, cost: 60651.0\n",
      "Run 3, iteration: 3/100, moves: 238, cost: 60651.0\n",
      "Init: initializing centroids\n",
      "Init: initializing clusters\n",
      "Starting iterations...\n",
      "Run 4, iteration: 1/100, moves: 1568, cost: 60270.0\n",
      "Run 4, iteration: 2/100, moves: 278, cost: 60270.0\n",
      "Init: initializing centroids\n",
      "Init: initializing clusters\n",
      "Starting iterations...\n",
      "Run 5, iteration: 1/100, moves: 1930, cost: 61735.0\n",
      "Run 5, iteration: 2/100, moves: 729, cost: 61235.0\n",
      "Run 5, iteration: 3/100, moves: 231, cost: 61129.0\n",
      "Run 5, iteration: 4/100, moves: 62, cost: 61129.0\n",
      "Best run was number 4\n"
     ]
    }
   ],
   "source": [
    "clusters = km.fit_predict(x)"
   ]
  },
  {
   "cell_type": "code",
   "execution_count": 208,
   "metadata": {
    "collapsed": true
   },
   "outputs": [],
   "source": [
    "test_data['clusters'] = clusters"
   ]
  },
  {
   "cell_type": "code",
   "execution_count": 209,
   "metadata": {
    "collapsed": true
   },
   "outputs": [],
   "source": [
    "pca = decomposition.PCA(3)"
   ]
  },
  {
   "cell_type": "code",
   "execution_count": 210,
   "metadata": {
    "collapsed": true
   },
   "outputs": [],
   "source": [
    "plot_columns = pca.fit_transform(test_data)"
   ]
  },
  {
   "cell_type": "code",
   "execution_count": 211,
   "metadata": {},
   "outputs": [
    {
     "data": {
      "image/png": "[encoded data removed]",
      "text/plain": [
       "<matplotlib.figure.Figure at 0x1c1cde9b00>"
      ]
     },
     "metadata": {},
     "output_type": "display_data"
    }
   ],
   "source": [
    "plt.scatter(x=plot_columns[:,1], y=plot_columns[:,0], c=test_data[\"clusters\"], s=30)\n",
    "plt.show()"
   ]
  },
  {
   "cell_type": "code",
   "execution_count": 212,
   "metadata": {
    "scrolled": true
   },
   "outputs": [
    {
     "data": {
      "image/png": "[encoded data removed]",
      "text/plain": [
       "<matplotlib.figure.Figure at 0x1c1a520dd8>"
      ]
     },
     "metadata": {},
     "output_type": "display_data"
    }
   ],
   "source": [
    "fig = plt.figure()\n",
    "ax = Axes3D(fig)\n",
    "\n",
    "ax.scatter(xs = plot_columns[:,1], ys = plot_columns[:,0], zs=plot_columns[:,2], zdir='z', c = test_data[\"clusters\"])\n",
    "plt.show()"
   ]
  },
  {
   "cell_type": "code",
   "execution_count": null,
   "metadata": {
    "collapsed": true
   },
   "outputs": [],
   "source": []
  },
  {
   "cell_type": "markdown",
   "metadata": {},
   "source": [
    "### Using Variables to Correlate with States for Clustering - Non-Loyal"
   ]
  },
  {
   "cell_type": "markdown",
   "metadata": {},
   "source": [
    "#### Step 1: Since we are studying effects by States, we should use variables that helps to differentiate between States"
   ]
  },
  {
   "cell_type": "code",
   "execution_count": 311,
   "metadata": {
    "collapsed": true
   },
   "outputs": [],
   "source": [
    "new_list = ['Marital_Status', 'Homeowner_Status', 'Dwelling_Type', 'Gender', 'Age', 'Num_Adults', 'Num_Children', 'Race', 'HH_Income', 'Eff_Income', 'Socioeconomic_Score', 'ZIP_Income', 'Dual_Income', 'Home_Market_Value', 'Net_Worth', 'Occupation', 'Education', 'State', 'Est_HH_Debt_Level', 'Est_HH_Invest_Asset','Bank_Card', 'Retail_Card', 'Buyer_Retail_Last_Order_2yrs', 'Buyer_Retail_Last_Order_1yrs']"
   ]
  },
  {
   "cell_type": "code",
   "execution_count": 312,
   "metadata": {
    "collapsed": true
   },
   "outputs": [],
   "source": [
    "non_loyal_data = non_loyal_customers[new_list]"
   ]
  },
  {
   "cell_type": "markdown",
   "metadata": {},
   "source": [
    "#### Step 2: Performing clustering method based on number of clusters"
   ]
  },
  {
   "cell_type": "code",
   "execution_count": 313,
   "metadata": {
    "collapsed": true
   },
   "outputs": [],
   "source": [
    "non_loyal_data_viz = non_loyal_data.copy()\n",
    "\n",
    "non_loyal_data1 = non_loyal_data.copy()\n",
    "\n",
    "non_loyal_data2 = non_loyal_data.copy()\n",
    "\n",
    "non_loyal_data3 = non_loyal_data.copy()\n",
    "\n",
    "non_loyal_data4 = non_loyal_data.copy()"
   ]
  },
  {
   "cell_type": "code",
   "execution_count": 219,
   "metadata": {},
   "outputs": [
    {
     "name": "stdout",
     "output_type": "stream",
     "text": [
      "Init: initializing centroids\n",
      "Init: initializing clusters\n",
      "Starting iterations...\n",
      "Run 1, iteration: 1/100, moves: 4162, cost: 114384.0\n",
      "Run 1, iteration: 2/100, moves: 1590, cost: 114104.0\n",
      "Run 1, iteration: 3/100, moves: 270, cost: 114104.0\n",
      "Init: initializing centroids\n",
      "Init: initializing clusters\n",
      "Starting iterations...\n",
      "Run 2, iteration: 1/100, moves: 2841, cost: 114262.0\n",
      "Run 2, iteration: 2/100, moves: 589, cost: 113943.0\n",
      "Run 2, iteration: 3/100, moves: 115, cost: 113943.0\n",
      "Init: initializing centroids\n",
      "Init: initializing clusters\n",
      "Starting iterations...\n",
      "Run 3, iteration: 1/100, moves: 4351, cost: 115580.0\n",
      "Run 3, iteration: 2/100, moves: 1396, cost: 114656.0\n",
      "Run 3, iteration: 3/100, moves: 676, cost: 114656.0\n",
      "Init: initializing centroids\n",
      "Init: initializing clusters\n",
      "Starting iterations...\n",
      "Run 4, iteration: 1/100, moves: 3546, cost: 116486.0\n",
      "Run 4, iteration: 2/100, moves: 1335, cost: 115303.0\n",
      "Run 4, iteration: 3/100, moves: 939, cost: 115068.0\n",
      "Run 4, iteration: 4/100, moves: 92, cost: 115068.0\n",
      "Init: initializing centroids\n",
      "Init: initializing clusters\n",
      "Starting iterations...\n",
      "Run 5, iteration: 1/100, moves: 4326, cost: 117623.0\n",
      "Run 5, iteration: 2/100, moves: 1412, cost: 117022.0\n",
      "Run 5, iteration: 3/100, moves: 1069, cost: 115895.0\n",
      "Run 5, iteration: 4/100, moves: 1163, cost: 114886.0\n",
      "Run 5, iteration: 5/100, moves: 177, cost: 114886.0\n",
      "Best run was number 2\n"
     ]
    },
    {
     "name": "stderr",
     "output_type": "stream",
     "text": [
      "/Users/Weiyang/anaconda3/lib/python3.6/site-packages/ipykernel_launcher.py:3: SettingWithCopyWarning: \n",
      "A value is trying to be set on a copy of a slice from a DataFrame.\n",
      "Try using .loc[row_indexer,col_indexer] = value instead\n",
      "\n",
      "See the caveats in the documentation: http://pandas.pydata.org/pandas-docs/stable/indexing.html#indexing-view-versus-copy\n",
      "  This is separate from the ipykernel package so we can avoid doing imports until\n"
     ]
    }
   ],
   "source": [
    "k_modes = KModes(n_clusters = 3, init='Huang', n_init=5, verbose=1)\n",
    "\n",
    "non_loyal_data['Cluster'] = k_modes.fit_predict(non_loyal_data)"
   ]
  },
  {
   "cell_type": "code",
   "execution_count": 220,
   "metadata": {
    "scrolled": true
   },
   "outputs": [
    {
     "name": "stdout",
     "output_type": "stream",
     "text": [
      "[['S' 'O' 'S' 'F' 'C' '1' '0' 'W' 'B' 'B' 'A' '0' 'Y' 'A' 'A' 'U' 'U'\n",
      "  'CA' 'B' 'A' 'U' 'U' 'N' 'N']\n",
      " ['S' 'O' 'S' 'F' 'G' '1' '0' 'W' 'C' 'C' 'B' '6' 'Y' 'D' 'E' 'U' 'U'\n",
      "  'TX' 'B' 'F' 'M' 'M' 'N' 'N']\n",
      " ['M' 'O' 'S' 'F' 'E' '2' '0' 'W' 'E' 'C' 'C' '9' 'N' 'G' 'G' 'U' 'U'\n",
      "  'CA' 'H' 'G' 'M' 'M' 'N' 'N']]\n"
     ]
    }
   ],
   "source": [
    "print(k_modes.cluster_centroids_)"
   ]
  },
  {
   "cell_type": "code",
   "execution_count": 221,
   "metadata": {},
   "outputs": [
    {
     "name": "stdout",
     "output_type": "stream",
     "text": [
      "Init: initializing centroids\n",
      "Init: initializing clusters\n",
      "Starting iterations...\n",
      "Run 1, iteration: 1/100, moves: 4470, cost: 111855.0\n",
      "Run 1, iteration: 2/100, moves: 2143, cost: 111138.0\n",
      "Run 1, iteration: 3/100, moves: 288, cost: 111036.0\n",
      "Run 1, iteration: 4/100, moves: 44, cost: 111036.0\n",
      "Init: initializing centroids\n",
      "Init: initializing clusters\n",
      "Starting iterations...\n",
      "Run 2, iteration: 1/100, moves: 3857, cost: 113048.0\n",
      "Run 2, iteration: 2/100, moves: 1763, cost: 112099.0\n",
      "Run 2, iteration: 3/100, moves: 341, cost: 112099.0\n",
      "Init: initializing centroids\n",
      "Init: initializing clusters\n",
      "Starting iterations...\n",
      "Run 3, iteration: 1/100, moves: 4496, cost: 111686.0\n",
      "Run 3, iteration: 2/100, moves: 1019, cost: 111509.0\n",
      "Run 3, iteration: 3/100, moves: 41, cost: 111509.0\n",
      "Init: initializing centroids\n",
      "Init: initializing clusters\n",
      "Starting iterations...\n",
      "Run 4, iteration: 1/100, moves: 4080, cost: 110620.0\n",
      "Run 4, iteration: 2/100, moves: 720, cost: 110409.0\n",
      "Run 4, iteration: 3/100, moves: 32, cost: 110409.0\n",
      "Init: initializing centroids\n",
      "Init: initializing clusters\n",
      "Starting iterations...\n",
      "Run 5, iteration: 1/100, moves: 3399, cost: 113925.0\n",
      "Run 5, iteration: 2/100, moves: 138, cost: 113925.0\n",
      "Best run was number 4\n"
     ]
    }
   ],
   "source": [
    "k_modes = KModes(n_clusters = 4, init='Huang', n_init=5, verbose=1)\n",
    "\n",
    "non_loyal_data1['Cluster'] = k_modes.fit_predict(non_loyal_data1)"
   ]
  },
  {
   "cell_type": "code",
   "execution_count": 222,
   "metadata": {
    "scrolled": false
   },
   "outputs": [
    {
     "name": "stdout",
     "output_type": "stream",
     "text": [
      "[['S' 'O' 'S' 'F' 'E' '1' '0' 'W' 'E' 'C' 'C' '8' 'Y' 'G' 'F' 'U' 'U'\n",
      "  'CA' 'B' 'G' 'M' 'M' 'N' 'N']\n",
      " ['S' 'O' 'S' 'F' 'C' '1' '0' 'W' 'B' 'B' 'A' '0' 'Y' 'A' 'A' 'U' 'U'\n",
      "  'CA' 'B' 'A' 'U' 'U' 'N' 'N']\n",
      " ['M' 'O' 'S' 'F' 'G' '2' '0' 'W' 'F' 'D' 'D' '9' 'N' 'I' 'H' 'U' '2'\n",
      "  'CA' 'B' 'J' 'M' 'M' 'N' 'N']\n",
      " ['M' 'O' 'S' 'F' 'E' '2' '0' 'W' 'D' 'C' 'B' '9' 'N' 'D' 'E' 'U' 'U'\n",
      "  'TX' 'F' 'F' 'M' 'M' 'N' 'N']]\n"
     ]
    }
   ],
   "source": [
    "print(k_modes.cluster_centroids_)"
   ]
  },
  {
   "cell_type": "code",
   "execution_count": 223,
   "metadata": {},
   "outputs": [
    {
     "name": "stdout",
     "output_type": "stream",
     "text": [
      "Init: initializing centroids\n",
      "Init: initializing clusters\n",
      "Starting iterations...\n",
      "Run 1, iteration: 1/100, moves: 4526, cost: 111482.0\n",
      "Run 1, iteration: 2/100, moves: 1083, cost: 111272.0\n",
      "Run 1, iteration: 3/100, moves: 231, cost: 111272.0\n",
      "Init: initializing centroids\n",
      "Init: initializing clusters\n",
      "Starting iterations...\n",
      "Run 2, iteration: 1/100, moves: 4905, cost: 107563.0\n",
      "Run 2, iteration: 2/100, moves: 735, cost: 107563.0\n",
      "Init: initializing centroids\n",
      "Init: initializing clusters\n",
      "Starting iterations...\n",
      "Run 3, iteration: 1/100, moves: 4692, cost: 108633.0\n",
      "Run 3, iteration: 2/100, moves: 1661, cost: 108633.0\n",
      "Init: initializing centroids\n",
      "Init: initializing clusters\n",
      "Starting iterations...\n",
      "Run 4, iteration: 1/100, moves: 4458, cost: 111678.0\n",
      "Run 4, iteration: 2/100, moves: 1852, cost: 111018.0\n",
      "Run 4, iteration: 3/100, moves: 728, cost: 110308.0\n",
      "Run 4, iteration: 4/100, moves: 518, cost: 110308.0\n",
      "Init: initializing centroids\n",
      "Init: initializing clusters\n",
      "Starting iterations...\n",
      "Run 5, iteration: 1/100, moves: 4006, cost: 109335.0\n",
      "Run 5, iteration: 2/100, moves: 732, cost: 109335.0\n",
      "Best run was number 2\n"
     ]
    }
   ],
   "source": [
    "k_modes = KModes(n_clusters = 5, init='Huang', n_init=5, verbose=1)\n",
    "\n",
    "non_loyal_data2['Cluster'] = k_modes.fit_predict(non_loyal_data2)"
   ]
  },
  {
   "cell_type": "code",
   "execution_count": 224,
   "metadata": {
    "scrolled": true
   },
   "outputs": [
    {
     "name": "stdout",
     "output_type": "stream",
     "text": [
      "[['S' 'R' 'S' 'F' 'C' '1' '0' 'W' 'B' 'B' 'A' '0' 'Y' 'A' 'A' 'U' '1'\n",
      "  'CA' 'B' 'A' 'U' 'U' 'N' 'N']\n",
      " ['M' 'O' 'S' 'F' 'E' '2' '0' 'W' 'E' 'C' 'C' '9' 'N' 'G' 'G' 'U' 'U'\n",
      "  'CA' 'H' 'G' 'M' 'M' 'N' 'N']\n",
      " ['S' 'O' 'S' 'F' 'G' '1' '0' 'W' 'B' 'C' 'B' '0' 'Y' 'A' 'F' 'U' 'U'\n",
      "  'CA' 'B' 'A' 'M' 'M' 'N' 'N']\n",
      " ['S' 'O' 'S' 'F' 'D' '1' '0' 'W' 'C' 'C' 'C' '6' 'Y' 'D' 'E' 'U' 'U'\n",
      "  'TX' 'B' 'F' 'U' 'U' 'N' 'N']\n",
      " ['S' 'O' 'S' 'F' 'F' '1' '0' 'W' 'E' 'D' 'D' '8' 'Y' 'I' 'H' 'U' '2'\n",
      "  'CA' 'B' 'J' 'M' 'M' 'N' 'N']]\n"
     ]
    }
   ],
   "source": [
    "print(k_modes.cluster_centroids_)"
   ]
  },
  {
   "cell_type": "code",
   "execution_count": 225,
   "metadata": {},
   "outputs": [
    {
     "name": "stdout",
     "output_type": "stream",
     "text": [
      "Init: initializing centroids\n",
      "Init: initializing clusters\n",
      "Starting iterations...\n",
      "Run 1, iteration: 1/100, moves: 5273, cost: 107781.0\n",
      "Run 1, iteration: 2/100, moves: 2161, cost: 106696.0\n",
      "Run 1, iteration: 3/100, moves: 483, cost: 106696.0\n",
      "Init: initializing centroids\n",
      "Init: initializing clusters\n",
      "Starting iterations...\n",
      "Run 2, iteration: 1/100, moves: 5548, cost: 108429.0\n",
      "Run 2, iteration: 2/100, moves: 643, cost: 108429.0\n",
      "Init: initializing centroids\n",
      "Init: initializing clusters\n",
      "Starting iterations...\n",
      "Run 3, iteration: 1/100, moves: 4468, cost: 107305.0\n",
      "Run 3, iteration: 2/100, moves: 1049, cost: 106979.0\n",
      "Run 3, iteration: 3/100, moves: 262, cost: 106979.0\n",
      "Init: initializing centroids\n",
      "Init: initializing clusters\n",
      "Starting iterations...\n",
      "Run 4, iteration: 1/100, moves: 5084, cost: 108821.0\n",
      "Run 4, iteration: 2/100, moves: 1882, cost: 107669.0\n",
      "Run 4, iteration: 3/100, moves: 773, cost: 107219.0\n",
      "Run 4, iteration: 4/100, moves: 473, cost: 106881.0\n",
      "Run 4, iteration: 5/100, moves: 158, cost: 106881.0\n",
      "Init: initializing centroids\n",
      "Init: initializing clusters\n",
      "Starting iterations...\n",
      "Run 5, iteration: 1/100, moves: 4246, cost: 108094.0\n",
      "Run 5, iteration: 2/100, moves: 686, cost: 108094.0\n",
      "Best run was number 1\n"
     ]
    }
   ],
   "source": [
    "k_modes = KModes(n_clusters = 6, init='Huang', n_init=5, verbose=1)\n",
    "\n",
    "non_loyal_data3['Cluster'] = k_modes.fit_predict(non_loyal_data3)"
   ]
  },
  {
   "cell_type": "code",
   "execution_count": 226,
   "metadata": {
    "scrolled": false
   },
   "outputs": [
    {
     "name": "stdout",
     "output_type": "stream",
     "text": [
      "[['M' 'O' 'S' 'F' 'G' '2' '0' 'W' 'B' 'B' 'A' '9' 'Y' 'A' 'B' 'U' '1'\n",
      "  'TX' 'B' 'A' 'M' 'M' 'N' 'N']\n",
      " ['S' 'R' 'S' 'F' 'B' '1' '0' 'W' 'B' 'B' 'A' '0' 'Y' 'A' 'A' 'U' 'U'\n",
      "  'CA' 'B' 'A' 'U' 'U' 'N' 'N']\n",
      " ['M' 'O' 'S' 'F' 'E' '2' '0' 'W' 'D' 'D' 'D' '9' 'N' 'H' 'G' 'U' 'U'\n",
      "  'CA' 'B' 'F' 'M' 'M' 'N' 'N']\n",
      " ['M' 'O' 'S' 'F' 'E' '2' '0' 'W' 'E' 'C' 'C' '8' 'N' 'G' 'F' 'U' 'U'\n",
      "  'TX' 'H' 'G' 'M' 'M' 'N' 'N']\n",
      " ['S' 'O' 'S' 'F' 'D' '1' '0' 'W' 'D' 'C' 'C' '9' 'Y' 'A' 'E' 'U' 'U'\n",
      "  'CA' 'B' 'F' 'M' 'M' 'N' 'N']\n",
      " ['S' 'O' 'S' 'F' 'E' '1' '0' 'W' 'C' 'C' 'B' '8' 'Y' 'D' 'E' 'U' 'U'\n",
      "  'IL' 'B' 'A' 'M' 'M' 'N' 'N']]\n"
     ]
    }
   ],
   "source": [
    "print(k_modes.cluster_centroids_)"
   ]
  },
  {
   "cell_type": "code",
   "execution_count": 227,
   "metadata": {},
   "outputs": [
    {
     "name": "stdout",
     "output_type": "stream",
     "text": [
      "Init: initializing centroids\n",
      "Init: initializing clusters\n",
      "Starting iterations...\n",
      "Run 1, iteration: 1/100, moves: 4966, cost: 104929.0\n",
      "Run 1, iteration: 2/100, moves: 1483, cost: 104741.0\n",
      "Run 1, iteration: 3/100, moves: 332, cost: 104741.0\n",
      "Init: initializing centroids\n",
      "Init: initializing clusters\n",
      "Starting iterations...\n",
      "Run 2, iteration: 1/100, moves: 4942, cost: 104393.0\n",
      "Run 2, iteration: 2/100, moves: 1618, cost: 103613.0\n",
      "Run 2, iteration: 3/100, moves: 280, cost: 103532.0\n",
      "Run 2, iteration: 4/100, moves: 7, cost: 103532.0\n",
      "Init: initializing centroids\n",
      "Init: initializing clusters\n",
      "Starting iterations...\n",
      "Run 3, iteration: 1/100, moves: 4468, cost: 105005.0\n",
      "Run 3, iteration: 2/100, moves: 724, cost: 105005.0\n",
      "Init: initializing centroids\n",
      "Init: initializing clusters\n",
      "Starting iterations...\n",
      "Run 4, iteration: 1/100, moves: 4414, cost: 103662.0\n",
      "Run 4, iteration: 2/100, moves: 939, cost: 103528.0\n",
      "Run 4, iteration: 3/100, moves: 17, cost: 103528.0\n",
      "Init: initializing centroids\n",
      "Init: initializing clusters\n",
      "Starting iterations...\n",
      "Run 5, iteration: 1/100, moves: 3130, cost: 104205.0\n",
      "Run 5, iteration: 2/100, moves: 1745, cost: 103066.0\n",
      "Run 5, iteration: 3/100, moves: 310, cost: 103066.0\n",
      "Best run was number 5\n"
     ]
    }
   ],
   "source": [
    "k_modes = KModes(n_clusters = 7, init='Huang', n_init=5, verbose=1)\n",
    "\n",
    "non_loyal_data4['Cluster'] = k_modes.fit_predict(non_loyal_data4)"
   ]
  },
  {
   "cell_type": "code",
   "execution_count": 228,
   "metadata": {
    "scrolled": true
   },
   "outputs": [
    {
     "name": "stdout",
     "output_type": "stream",
     "text": [
      "[['S' 'O' 'S' 'F' 'D' '1' '0' 'W' 'D' 'C' 'C' '7' 'Y' 'D' 'E' 'U' 'U'\n",
      "  'TX' 'B' 'F' 'M' 'M' 'N' 'N']\n",
      " ['M' 'O' 'S' 'F' 'E' '2' '0' 'W' 'B' 'B' 'A' '0' 'Y' 'A' 'B' 'U' '1'\n",
      "  'TX' 'B' 'A' 'M' 'M' 'N' 'N']\n",
      " ['S' 'O' 'S' 'F' 'G' '1' '0' 'W' 'E' 'D' 'D' '4' 'Y' 'I' 'H' 'U' '2'\n",
      "  'CA' 'B' 'J' 'M' 'M' 'N' 'N']\n",
      " ['M' 'O' 'S' 'F' 'E' '2' '0' 'W' 'E' 'C' 'B' '9' 'N' 'G' 'G' 'U' 'U'\n",
      "  'CA' 'H' 'G' 'M' 'M' 'N' 'N']\n",
      " ['M' 'O' 'S' 'F' 'F' '2' '0' 'W' 'H' 'D' 'D' '9' 'N' 'I' 'H' 'U' '2'\n",
      "  'CA' 'I' 'J' 'M' 'M' 'N' 'N']\n",
      " ['S' 'R' 'S' 'F' 'B' '1' '0' 'W' 'B' 'B' 'A' '0' 'Y' 'A' 'A' 'U' '1'\n",
      "  'CA' 'B' 'A' 'U' 'U' 'N' 'N']\n",
      " ['S' 'O' 'S' 'F' 'F' '1' '0' 'W' 'B' 'C' 'B' '1' 'Y' 'A' 'A' 'U' 'U'\n",
      "  'TX' 'B' 'A' 'M' 'M' 'N' 'N']]\n"
     ]
    }
   ],
   "source": [
    "print(k_modes.cluster_centroids_)"
   ]
  },
  {
   "cell_type": "markdown",
   "metadata": {},
   "source": [
    "#### Writing out clusters for loyal customers"
   ]
  },
  {
   "cell_type": "code",
   "execution_count": 247,
   "metadata": {
    "collapsed": true
   },
   "outputs": [],
   "source": [
    "new_list = non_loyal_data1['Cluster']"
   ]
  },
  {
   "cell_type": "code",
   "execution_count": 248,
   "metadata": {
    "collapsed": true
   },
   "outputs": [],
   "source": [
    "non_loyal_customers_dataset_4_clusters = pd.concat([non_loyal_customers, new_list], axis = 1)"
   ]
  },
  {
   "cell_type": "code",
   "execution_count": 249,
   "metadata": {
    "collapsed": true
   },
   "outputs": [],
   "source": [
    "non_loyal_customers_dataset_4_clusters.to_csv('non_loyal_customers_dataset_4_clusters.csv', index = False)"
   ]
  },
  {
   "cell_type": "markdown",
   "metadata": {},
   "source": [
    "## Visualizing Data - Non-Loyal"
   ]
  },
  {
   "cell_type": "code",
   "execution_count": 314,
   "metadata": {
    "collapsed": true
   },
   "outputs": [],
   "source": [
    "test_data = pd.get_dummies(non_loyal_data_viz)"
   ]
  },
  {
   "cell_type": "code",
   "execution_count": 315,
   "metadata": {
    "collapsed": true
   },
   "outputs": [],
   "source": [
    "x = test_data.reset_index().values"
   ]
  },
  {
   "cell_type": "code",
   "execution_count": 316,
   "metadata": {
    "collapsed": true
   },
   "outputs": [],
   "source": [
    "km = KModes(n_clusters = 4, init = 'Huang', n_init = 5, verbose = 1)"
   ]
  },
  {
   "cell_type": "code",
   "execution_count": 317,
   "metadata": {},
   "outputs": [
    {
     "name": "stdout",
     "output_type": "stream",
     "text": [
      "Init: initializing centroids\n",
      "Init: initializing clusters\n",
      "Starting iterations...\n",
      "Run 1, iteration: 1/100, moves: 2277, cost: 176832.0\n",
      "Run 1, iteration: 2/100, moves: 675, cost: 176777.0\n",
      "Run 1, iteration: 3/100, moves: 45, cost: 176777.0\n",
      "Init: initializing centroids\n",
      "Init: initializing clusters\n",
      "Starting iterations...\n",
      "Run 2, iteration: 1/100, moves: 4493, cost: 177217.0\n",
      "Run 2, iteration: 2/100, moves: 1223, cost: 176715.0\n",
      "Run 2, iteration: 3/100, moves: 574, cost: 176262.0\n",
      "Run 2, iteration: 4/100, moves: 374, cost: 176163.0\n",
      "Run 2, iteration: 5/100, moves: 214, cost: 176163.0\n",
      "Init: initializing centroids\n",
      "Init: initializing clusters\n",
      "Starting iterations...\n",
      "Run 3, iteration: 1/100, moves: 4441, cost: 177135.0\n",
      "Run 3, iteration: 2/100, moves: 629, cost: 177135.0\n",
      "Init: initializing centroids\n",
      "Init: initializing clusters\n",
      "Starting iterations...\n",
      "Run 4, iteration: 1/100, moves: 5394, cost: 178756.0\n",
      "Run 4, iteration: 2/100, moves: 564, cost: 178755.0\n",
      "Run 4, iteration: 3/100, moves: 0, cost: 178755.0\n",
      "Init: initializing centroids\n",
      "Init: initializing clusters\n",
      "Starting iterations...\n",
      "Run 5, iteration: 1/100, moves: 5513, cost: 178046.0\n",
      "Run 5, iteration: 2/100, moves: 1219, cost: 176509.0\n",
      "Run 5, iteration: 3/100, moves: 769, cost: 175737.0\n",
      "Run 5, iteration: 4/100, moves: 296, cost: 175737.0\n",
      "Best run was number 5\n"
     ]
    }
   ],
   "source": [
    "clusters = km.fit_predict(x)"
   ]
  },
  {
   "cell_type": "code",
   "execution_count": 318,
   "metadata": {
    "collapsed": true
   },
   "outputs": [],
   "source": [
    "test_data['clusters'] = clusters"
   ]
  },
  {
   "cell_type": "code",
   "execution_count": 319,
   "metadata": {
    "collapsed": true
   },
   "outputs": [],
   "source": [
    "pca = decomposition.PCA(3)"
   ]
  },
  {
   "cell_type": "code",
   "execution_count": 320,
   "metadata": {
    "collapsed": true
   },
   "outputs": [],
   "source": [
    "plot_columns = pca.fit_transform(test_data)"
   ]
  },
  {
   "cell_type": "code",
   "execution_count": 321,
   "metadata": {},
   "outputs": [
    {
     "data": {
      "image/png": "[encoded data removed]",
      "text/plain": [
       "<matplotlib.figure.Figure at 0x1c1cd29898>"
      ]
     },
     "metadata": {},
     "output_type": "display_data"
    }
   ],
   "source": [
    "plt.scatter(x=plot_columns[:,1], y=plot_columns[:,0], c=test_data[\"clusters\"], s=30)\n",
    "plt.show()"
   ]
  },
  {
   "cell_type": "code",
   "execution_count": 322,
   "metadata": {
    "scrolled": true
   },
   "outputs": [
    {
     "data": {
      "image/png": "[encoded data removed]",
      "text/plain": [
       "<matplotlib.figure.Figure at 0x1c1d318400>"
      ]
     },
     "metadata": {},
     "output_type": "display_data"
    }
   ],
   "source": [
    "fig = plt.figure()\n",
    "ax = Axes3D(fig)\n",
    "\n",
    "ax.scatter(xs = plot_columns[:,1], ys = plot_columns[:,0], zs=plot_columns[:,2], zdir='z', c = test_data[\"clusters\"])\n",
    "plt.show()"
   ]
  },
  {
   "cell_type": "code",
   "execution_count": null,
   "metadata": {
    "collapsed": true
   },
   "outputs": [],
   "source": []
  },
  {
   "cell_type": "markdown",
   "metadata": {},
   "source": [
    "### Using Variables to Correlate with States for Clustering - Not-Engaged"
   ]
  },
  {
   "cell_type": "markdown",
   "metadata": {},
   "source": [
    "#### Step 1: Since we are studying effects by States, we should use variables that helps to differentiate between States"
   ]
  },
  {
   "cell_type": "code",
   "execution_count": 250,
   "metadata": {
    "collapsed": true
   },
   "outputs": [],
   "source": [
    "new_list = ['Marital_Status', 'Homeowner_Status', 'Dwelling_Type', 'Gender', 'Age', 'Num_Adults', 'Num_Children', 'Race', 'HH_Income', 'Eff_Income', 'Socioeconomic_Score', 'ZIP_Income', 'Dual_Income', 'Home_Market_Value', 'Net_Worth', 'Occupation', 'Education', 'State', 'Est_HH_Debt_Level', 'Est_HH_Invest_Asset','Bank_Card', 'Retail_Card', 'Buyer_Retail_Last_Order_2yrs', 'Buyer_Retail_Last_Order_1yrs']"
   ]
  },
  {
   "cell_type": "code",
   "execution_count": 251,
   "metadata": {
    "collapsed": true
   },
   "outputs": [],
   "source": [
    "not_engaged_data = not_engaged_customers[new_list]"
   ]
  },
  {
   "cell_type": "markdown",
   "metadata": {},
   "source": [
    "#### Step 2: Performing clustering method based on number of clusters"
   ]
  },
  {
   "cell_type": "code",
   "execution_count": 252,
   "metadata": {
    "collapsed": true
   },
   "outputs": [],
   "source": [
    "not_engaged_data_viz = not_engaged_data.copy()\n",
    "\n",
    "not_engaged_data1 = not_engaged_data.copy()\n",
    "\n",
    "not_engaged_data2 = not_engaged_data.copy()\n",
    "\n",
    "not_engaged_data3 = not_engaged_data.copy()\n",
    "\n",
    "not_engaged_data4 = not_engaged_data.copy()"
   ]
  },
  {
   "cell_type": "code",
   "execution_count": 253,
   "metadata": {},
   "outputs": [
    {
     "name": "stdout",
     "output_type": "stream",
     "text": [
      "Init: initializing centroids\n",
      "Init: initializing clusters\n",
      "Starting iterations...\n",
      "Run 1, iteration: 1/100, moves: 5532, cost: 207023.0\n",
      "Run 1, iteration: 2/100, moves: 3225, cost: 206331.0\n",
      "Run 1, iteration: 3/100, moves: 975, cost: 206007.0\n",
      "Run 1, iteration: 4/100, moves: 96, cost: 206007.0\n",
      "Init: initializing centroids\n",
      "Init: initializing clusters\n",
      "Starting iterations...\n",
      "Run 2, iteration: 1/100, moves: 6710, cost: 207648.0\n",
      "Run 2, iteration: 2/100, moves: 2169, cost: 207282.0\n",
      "Run 2, iteration: 3/100, moves: 199, cost: 207282.0\n",
      "Init: initializing centroids\n",
      "Init: initializing clusters\n",
      "Starting iterations...\n",
      "Run 3, iteration: 1/100, moves: 7020, cost: 209024.0\n",
      "Run 3, iteration: 2/100, moves: 2436, cost: 208389.0\n",
      "Run 3, iteration: 3/100, moves: 975, cost: 208389.0\n",
      "Init: initializing centroids\n",
      "Init: initializing clusters\n",
      "Starting iterations...\n",
      "Run 4, iteration: 1/100, moves: 5707, cost: 205984.0\n",
      "Run 4, iteration: 2/100, moves: 1192, cost: 205984.0\n",
      "Init: initializing centroids\n",
      "Init: initializing clusters\n",
      "Starting iterations...\n",
      "Run 5, iteration: 1/100, moves: 7802, cost: 206951.0\n",
      "Run 5, iteration: 2/100, moves: 2752, cost: 205356.0\n",
      "Run 5, iteration: 3/100, moves: 1674, cost: 205034.0\n",
      "Run 5, iteration: 4/100, moves: 256, cost: 205034.0\n",
      "Best run was number 5\n"
     ]
    },
    {
     "name": "stderr",
     "output_type": "stream",
     "text": [
      "/Users/Weiyang/anaconda3/lib/python3.6/site-packages/ipykernel_launcher.py:3: SettingWithCopyWarning: \n",
      "A value is trying to be set on a copy of a slice from a DataFrame.\n",
      "Try using .loc[row_indexer,col_indexer] = value instead\n",
      "\n",
      "See the caveats in the documentation: http://pandas.pydata.org/pandas-docs/stable/indexing.html#indexing-view-versus-copy\n",
      "  This is separate from the ipykernel package so we can avoid doing imports until\n"
     ]
    }
   ],
   "source": [
    "k_modes = KModes(n_clusters = 3, init='Huang', n_init=5, verbose=1)\n",
    "\n",
    "not_engaged_data['Cluster'] = k_modes.fit_predict(not_engaged_data)"
   ]
  },
  {
   "cell_type": "code",
   "execution_count": 254,
   "metadata": {
    "scrolled": true
   },
   "outputs": [
    {
     "name": "stdout",
     "output_type": "stream",
     "text": [
      "[['S' 'O' 'S' 'M' 'D' '1' '0' 'W' 'C' 'C' 'B' '8' 'Y' 'A' 'E' 'U' 'U'\n",
      "  'CA' 'B' 'F' 'M' 'M' 'N' 'N']\n",
      " ['S' 'O' 'S' 'M' 'C' '1' '0' 'W' 'B' 'B' 'A' '0' 'Y' 'A' 'A' 'U' '1'\n",
      "  'CA' 'B' 'A' 'U' 'U' 'N' 'N']\n",
      " ['M' 'O' 'S' 'M' 'E' '2' '0' 'W' 'E' 'D' 'D' '9' 'N' 'G' 'G' 'U' 'U'\n",
      "  'TX' 'H' 'G' 'M' 'M' 'N' 'N']]\n"
     ]
    }
   ],
   "source": [
    "print(k_modes.cluster_centroids_)"
   ]
  },
  {
   "cell_type": "code",
   "execution_count": 255,
   "metadata": {},
   "outputs": [
    {
     "name": "stdout",
     "output_type": "stream",
     "text": [
      "Init: initializing centroids\n",
      "Init: initializing clusters\n",
      "Starting iterations...\n",
      "Run 1, iteration: 1/100, moves: 7129, cost: 202999.0\n",
      "Run 1, iteration: 2/100, moves: 1554, cost: 202999.0\n",
      "Init: initializing centroids\n",
      "Init: initializing clusters\n",
      "Starting iterations...\n",
      "Run 2, iteration: 1/100, moves: 7773, cost: 202742.0\n",
      "Run 2, iteration: 2/100, moves: 2226, cost: 202742.0\n",
      "Init: initializing centroids\n",
      "Init: initializing clusters\n",
      "Starting iterations...\n",
      "Run 3, iteration: 1/100, moves: 6190, cost: 199931.0\n",
      "Run 3, iteration: 2/100, moves: 151, cost: 199931.0\n",
      "Init: initializing centroids\n",
      "Init: initializing clusters\n",
      "Starting iterations...\n",
      "Run 4, iteration: 1/100, moves: 6965, cost: 202892.0\n",
      "Run 4, iteration: 2/100, moves: 606, cost: 202892.0\n",
      "Init: initializing centroids\n",
      "Init: initializing clusters\n",
      "Starting iterations...\n",
      "Run 5, iteration: 1/100, moves: 7102, cost: 199054.0\n",
      "Run 5, iteration: 2/100, moves: 651, cost: 199054.0\n",
      "Best run was number 5\n"
     ]
    }
   ],
   "source": [
    "k_modes = KModes(n_clusters = 4, init='Huang', n_init=5, verbose=1)\n",
    "\n",
    "not_engaged_data1['Cluster'] = k_modes.fit_predict(not_engaged_data1)"
   ]
  },
  {
   "cell_type": "code",
   "execution_count": 256,
   "metadata": {
    "scrolled": false
   },
   "outputs": [
    {
     "name": "stdout",
     "output_type": "stream",
     "text": [
      "[['M' 'O' 'S' 'M' 'F' '2' '0' 'W' 'E' 'C' 'C' '9' 'N' 'G' 'G' 'U' 'U'\n",
      "  'CA' 'H' 'F' 'M' 'M' 'N' 'N']\n",
      " ['S' 'O' 'S' 'M' 'G' '1' '0' 'W' 'C' 'C' 'B' '8' 'Y' 'A' 'F' 'U' 'U'\n",
      "  'NY' 'B' 'A' 'M' 'M' 'N' 'N']\n",
      " ['S' 'O' 'S' 'M' 'D' '1' '0' 'W' 'B' 'B' 'A' '0' 'Y' 'A' 'A' 'U' '1'\n",
      "  'TX' 'C' 'A' 'U' 'U' 'N' 'N']\n",
      " ['M' 'O' 'S' 'M' 'E' '2' '0' 'W' 'H' 'D' 'D' '9' 'Y' 'I' 'H' 'U' '2'\n",
      "  'CA' 'H' 'J' 'M' 'M' 'N' 'N']]\n"
     ]
    }
   ],
   "source": [
    "print(k_modes.cluster_centroids_)"
   ]
  },
  {
   "cell_type": "code",
   "execution_count": 257,
   "metadata": {},
   "outputs": [
    {
     "name": "stdout",
     "output_type": "stream",
     "text": [
      "Init: initializing centroids\n",
      "Init: initializing clusters\n",
      "Starting iterations...\n",
      "Run 1, iteration: 1/100, moves: 7845, cost: 198788.0\n",
      "Run 1, iteration: 2/100, moves: 3837, cost: 197197.0\n",
      "Run 1, iteration: 3/100, moves: 110, cost: 197197.0\n",
      "Init: initializing centroids\n",
      "Init: initializing clusters\n",
      "Starting iterations...\n",
      "Run 2, iteration: 1/100, moves: 5855, cost: 196746.0\n",
      "Run 2, iteration: 2/100, moves: 151, cost: 196746.0\n",
      "Init: initializing centroids\n",
      "Init: initializing clusters\n",
      "Starting iterations...\n",
      "Run 3, iteration: 1/100, moves: 7850, cost: 194551.0\n",
      "Run 3, iteration: 2/100, moves: 1035, cost: 193988.0\n",
      "Run 3, iteration: 3/100, moves: 345, cost: 193988.0\n",
      "Init: initializing centroids\n",
      "Init: initializing clusters\n",
      "Starting iterations...\n",
      "Run 4, iteration: 1/100, moves: 9803, cost: 197036.0\n",
      "Run 4, iteration: 2/100, moves: 2859, cost: 196177.0\n",
      "Run 4, iteration: 3/100, moves: 916, cost: 196177.0\n",
      "Init: initializing centroids\n",
      "Init: initializing clusters\n",
      "Starting iterations...\n",
      "Run 5, iteration: 1/100, moves: 6570, cost: 202174.0\n",
      "Run 5, iteration: 2/100, moves: 709, cost: 202174.0\n",
      "Best run was number 3\n"
     ]
    }
   ],
   "source": [
    "k_modes = KModes(n_clusters = 5, init='Huang', n_init=5, verbose=1)\n",
    "\n",
    "not_engaged_data2['Cluster'] = k_modes.fit_predict(not_engaged_data2)"
   ]
  },
  {
   "cell_type": "code",
   "execution_count": 258,
   "metadata": {
    "scrolled": true
   },
   "outputs": [
    {
     "name": "stdout",
     "output_type": "stream",
     "text": [
      "[['S' 'O' 'S' 'M' 'C' '1' '0' 'W' 'C' 'C' 'B' '6' 'Y' 'A' 'A' 'U' 'U'\n",
      "  'CA' 'F' 'A' 'U' 'U' 'N' 'N']\n",
      " ['M' 'O' 'S' 'M' 'F' '2' '0' 'W' 'E' 'C' 'C' '9' 'N' 'G' 'G' 'U' 'U'\n",
      "  'CA' 'H' 'G' 'M' 'M' 'N' 'N']\n",
      " ['S' 'O' 'S' 'M' 'D' '1' '0' 'W' 'C' 'C' 'C' '8' 'Y' 'A' 'E' 'U' 'U'\n",
      "  'CA' 'B' 'F' 'M' 'M' 'N' 'N']\n",
      " ['M' 'O' 'S' 'M' 'E' '2' '0' 'W' 'H' 'D' 'D' '9' 'N' 'I' 'H' 'U' '2'\n",
      "  'CA' 'H' 'J' 'M' 'M' 'N' 'N']\n",
      " ['S' 'O' 'S' 'M' 'E' '1' '0' 'W' 'B' 'B' 'A' '0' 'Y' 'A' 'A' 'U' '1'\n",
      "  'TX' 'B' 'A' 'M' 'M' 'N' 'N']]\n"
     ]
    }
   ],
   "source": [
    "print(k_modes.cluster_centroids_)"
   ]
  },
  {
   "cell_type": "code",
   "execution_count": 259,
   "metadata": {},
   "outputs": [
    {
     "name": "stdout",
     "output_type": "stream",
     "text": [
      "Init: initializing centroids\n",
      "Init: initializing clusters\n",
      "Starting iterations...\n",
      "Run 1, iteration: 1/100, moves: 8495, cost: 193556.0\n",
      "Run 1, iteration: 2/100, moves: 2587, cost: 192903.0\n",
      "Run 1, iteration: 3/100, moves: 193, cost: 192903.0\n",
      "Init: initializing centroids\n",
      "Init: initializing clusters\n",
      "Starting iterations...\n",
      "Run 2, iteration: 1/100, moves: 7791, cost: 195675.0\n",
      "Run 2, iteration: 2/100, moves: 5305, cost: 191602.0\n",
      "Run 2, iteration: 3/100, moves: 1628, cost: 191479.0\n",
      "Run 2, iteration: 4/100, moves: 330, cost: 191348.0\n",
      "Run 2, iteration: 5/100, moves: 50, cost: 191348.0\n",
      "Init: initializing centroids\n",
      "Init: initializing clusters\n",
      "Starting iterations...\n",
      "Run 3, iteration: 1/100, moves: 8383, cost: 191904.0\n",
      "Run 3, iteration: 2/100, moves: 362, cost: 191904.0\n",
      "Init: initializing centroids\n",
      "Init: initializing clusters\n",
      "Starting iterations...\n",
      "Run 4, iteration: 1/100, moves: 9590, cost: 195259.0\n",
      "Run 4, iteration: 2/100, moves: 4636, cost: 191094.0\n",
      "Run 4, iteration: 3/100, moves: 3143, cost: 189494.0\n",
      "Run 4, iteration: 4/100, moves: 716, cost: 189494.0\n",
      "Init: initializing centroids\n",
      "Init: initializing clusters\n",
      "Starting iterations...\n",
      "Run 5, iteration: 1/100, moves: 9578, cost: 193448.0\n",
      "Run 5, iteration: 2/100, moves: 3053, cost: 192944.0\n",
      "Run 5, iteration: 3/100, moves: 470, cost: 192944.0\n",
      "Best run was number 4\n"
     ]
    }
   ],
   "source": [
    "k_modes = KModes(n_clusters = 6, init='Huang', n_init=5, verbose=1)\n",
    "\n",
    "not_engaged_data3['Cluster'] = k_modes.fit_predict(not_engaged_data3)"
   ]
  },
  {
   "cell_type": "code",
   "execution_count": 260,
   "metadata": {
    "scrolled": false
   },
   "outputs": [
    {
     "name": "stdout",
     "output_type": "stream",
     "text": [
      "[['M' 'O' 'S' 'M' 'C' '2' '0' 'W' 'E' 'C' 'C' '9' 'N' 'G' 'F' 'U' 'U'\n",
      "  'CA' 'H' 'F' 'M' 'M' 'N' 'N']\n",
      " ['S' 'O' 'S' 'M' 'B' '1' '0' 'W' 'B' 'B' 'A' '0' 'Y' 'A' 'A' 'U' '1'\n",
      "  'TX' 'B' 'A' 'U' 'U' 'N' 'N']\n",
      " ['S' 'O' 'S' 'M' 'G' '1' '0' 'W' 'C' 'C' 'B' '6' 'Y' 'A' 'E' 'U' 'U'\n",
      "  'CA' 'B' 'F' 'M' 'M' 'N' 'N']\n",
      " ['S' 'O' 'S' 'M' 'D' '1' '0' 'W' 'E' 'D' 'D' '9' 'Y' 'I' 'G' 'U' '2'\n",
      "  'CA' 'B' 'G' 'U' 'U' 'N' 'N']\n",
      " ['M' 'O' 'S' 'M' 'E' '2' '0' 'W' 'C' 'B' 'A' '9' 'N' 'A' 'B' 'U' '1'\n",
      "  'TX' 'B' 'A' 'M' 'M' 'N' 'N']\n",
      " ['M' 'O' 'S' 'M' 'F' '2' '0' 'W' 'F' 'D' 'D' '8' 'N' 'I' 'G' 'U' '2'\n",
      "  'CA' 'B' 'G' 'M' 'M' 'N' 'N']]\n"
     ]
    }
   ],
   "source": [
    "print(k_modes.cluster_centroids_)"
   ]
  },
  {
   "cell_type": "code",
   "execution_count": 261,
   "metadata": {},
   "outputs": [
    {
     "name": "stdout",
     "output_type": "stream",
     "text": [
      "Init: initializing centroids\n",
      "Init: initializing clusters\n",
      "Starting iterations...\n",
      "Run 1, iteration: 1/100, moves: 8693, cost: 189415.0\n",
      "Run 1, iteration: 2/100, moves: 3010, cost: 187529.0\n",
      "Run 1, iteration: 3/100, moves: 558, cost: 187529.0\n",
      "Init: initializing centroids\n",
      "Init: initializing clusters\n",
      "Starting iterations...\n",
      "Run 2, iteration: 1/100, moves: 7306, cost: 187718.0\n",
      "Run 2, iteration: 2/100, moves: 2535, cost: 187178.0\n",
      "Run 2, iteration: 3/100, moves: 343, cost: 187178.0\n",
      "Init: initializing centroids\n",
      "Init: initializing clusters\n",
      "Starting iterations...\n",
      "Run 3, iteration: 1/100, moves: 6443, cost: 187746.0\n",
      "Run 3, iteration: 2/100, moves: 2711, cost: 187746.0\n",
      "Init: initializing centroids\n",
      "Init: initializing clusters\n",
      "Starting iterations...\n",
      "Run 4, iteration: 1/100, moves: 9702, cost: 187774.0\n",
      "Run 4, iteration: 2/100, moves: 2659, cost: 187774.0\n",
      "Init: initializing centroids\n",
      "Init: initializing clusters\n",
      "Starting iterations...\n",
      "Run 5, iteration: 1/100, moves: 7822, cost: 188861.0\n",
      "Run 5, iteration: 2/100, moves: 2869, cost: 187716.0\n",
      "Run 5, iteration: 3/100, moves: 127, cost: 187716.0\n",
      "Best run was number 2\n"
     ]
    }
   ],
   "source": [
    "k_modes = KModes(n_clusters = 7, init='Huang', n_init=5, verbose=1)\n",
    "\n",
    "not_engaged_data4['Cluster'] = k_modes.fit_predict(not_engaged_data4)"
   ]
  },
  {
   "cell_type": "code",
   "execution_count": 262,
   "metadata": {
    "scrolled": true
   },
   "outputs": [
    {
     "name": "stdout",
     "output_type": "stream",
     "text": [
      "[['S' 'O' 'S' 'M' 'F' '1' '0' 'W' 'C' 'C' 'C' '8' 'Y' 'D' 'F' 'U' 'U'\n",
      "  'IL' 'B' 'F' 'M' 'M' 'N' 'N']\n",
      " ['M' 'O' 'S' 'M' 'E' '2' '0' 'W' 'C' 'B' 'A' '8' 'Y' 'A' 'B' 'U' '1'\n",
      "  'TX' 'E' 'A' 'M' 'M' 'N' 'N']\n",
      " ['S' 'R' 'S' 'M' 'B' '1' '0' 'W' 'B' 'B' 'A' '0' 'Y' 'A' 'A' 'U' 'U'\n",
      "  'CA' 'B' 'A' 'U' 'U' 'N' 'N']\n",
      " ['M' 'O' 'S' 'M' 'D' '2' '0' 'W' 'E' 'D' 'D' '8' 'N' 'G' 'F' 'U' '2'\n",
      "  'TX' 'H' 'F' 'M' 'U' 'N' 'N']\n",
      " ['M' 'O' 'S' 'M' 'E' '2' '0' 'W' 'H' 'D' 'D' '9' 'N' 'I' 'H' 'U' '2'\n",
      "  'CA' 'H' 'J' 'M' 'M' 'N' 'N']\n",
      " ['S' 'O' 'S' 'M' 'E' '1' '0' 'W' 'F' 'D' 'D' '9' 'Y' 'I' 'H' 'U' '2'\n",
      "  'CA' 'B' 'J' 'M' 'M' 'N' 'N']\n",
      " ['M' 'O' 'S' 'M' 'G' '2' '0' 'W' 'E' 'C' 'C' '9' 'N' 'G' 'G' 'U' 'U'\n",
      "  'NY' 'B' 'G' 'M' 'M' 'N' 'N']]\n"
     ]
    }
   ],
   "source": [
    "print(k_modes.cluster_centroids_)"
   ]
  },
  {
   "cell_type": "markdown",
   "metadata": {},
   "source": [
    "#### Writing out clusters for not engaged customers"
   ]
  },
  {
   "cell_type": "code",
   "execution_count": 308,
   "metadata": {
    "collapsed": true
   },
   "outputs": [],
   "source": [
    "new_list = not_engaged_data4['Cluster']"
   ]
  },
  {
   "cell_type": "code",
   "execution_count": 309,
   "metadata": {
    "collapsed": true
   },
   "outputs": [],
   "source": [
    "not_engaged_customers_dataset_7_clusters = pd.concat([not_engaged_customers, new_list], axis = 1)"
   ]
  },
  {
   "cell_type": "code",
   "execution_count": 310,
   "metadata": {
    "collapsed": true
   },
   "outputs": [],
   "source": [
    "not_engaged_customers_dataset_7_clusters.to_csv('not_engaged_customers_dataset_7_clusters.csv', index = False)"
   ]
  },
  {
   "cell_type": "markdown",
   "metadata": {},
   "source": [
    "## Visualizing Data - Not-engaged"
   ]
  },
  {
   "cell_type": "code",
   "execution_count": 299,
   "metadata": {
    "collapsed": true
   },
   "outputs": [],
   "source": [
    "test_data = pd.get_dummies(not_engaged_data_viz)"
   ]
  },
  {
   "cell_type": "code",
   "execution_count": 300,
   "metadata": {
    "collapsed": true
   },
   "outputs": [],
   "source": [
    "x = test_data.reset_index().values"
   ]
  },
  {
   "cell_type": "code",
   "execution_count": 301,
   "metadata": {
    "collapsed": true
   },
   "outputs": [],
   "source": [
    "km = KModes(n_clusters = 7, init = 'Huang', n_init = 5, verbose = 1)"
   ]
  },
  {
   "cell_type": "code",
   "execution_count": 302,
   "metadata": {},
   "outputs": [
    {
     "name": "stdout",
     "output_type": "stream",
     "text": [
      "Init: initializing centroids\n",
      "Init: initializing clusters\n",
      "Starting iterations...\n",
      "Run 1, iteration: 1/100, moves: 8418, cost: 299866.0\n",
      "Run 1, iteration: 2/100, moves: 2316, cost: 299866.0\n",
      "Init: initializing centroids\n",
      "Init: initializing clusters\n",
      "Starting iterations...\n",
      "Run 2, iteration: 1/100, moves: 10449, cost: 309454.0\n",
      "Run 2, iteration: 2/100, moves: 3530, cost: 308006.0\n",
      "Run 2, iteration: 3/100, moves: 300, cost: 308005.0\n",
      "Run 2, iteration: 4/100, moves: 0, cost: 308005.0\n",
      "Init: initializing centroids\n",
      "Init: initializing clusters\n",
      "Starting iterations...\n",
      "Run 3, iteration: 1/100, moves: 8670, cost: 302400.0\n",
      "Run 3, iteration: 2/100, moves: 2404, cost: 299512.0\n",
      "Run 3, iteration: 3/100, moves: 1399, cost: 298681.0\n",
      "Run 3, iteration: 4/100, moves: 936, cost: 298680.0\n",
      "Run 3, iteration: 5/100, moves: 0, cost: 298680.0\n",
      "Init: initializing centroids\n",
      "Init: initializing clusters\n",
      "Starting iterations...\n",
      "Run 4, iteration: 1/100, moves: 9949, cost: 302852.0\n",
      "Run 4, iteration: 2/100, moves: 2111, cost: 302852.0\n",
      "Init: initializing centroids\n",
      "Init: initializing clusters\n",
      "Starting iterations...\n",
      "Run 5, iteration: 1/100, moves: 9933, cost: 306194.0\n",
      "Run 5, iteration: 2/100, moves: 1576, cost: 305068.0\n",
      "Run 5, iteration: 3/100, moves: 773, cost: 305067.0\n",
      "Run 5, iteration: 4/100, moves: 0, cost: 305067.0\n",
      "Best run was number 3\n"
     ]
    }
   ],
   "source": [
    "clusters = km.fit_predict(x)"
   ]
  },
  {
   "cell_type": "code",
   "execution_count": 303,
   "metadata": {
    "collapsed": true
   },
   "outputs": [],
   "source": [
    "test_data['clusters'] = clusters"
   ]
  },
  {
   "cell_type": "code",
   "execution_count": 304,
   "metadata": {
    "collapsed": true
   },
   "outputs": [],
   "source": [
    "pca = decomposition.PCA(3)"
   ]
  },
  {
   "cell_type": "code",
   "execution_count": 305,
   "metadata": {
    "collapsed": true
   },
   "outputs": [],
   "source": [
    "plot_columns = pca.fit_transform(test_data)"
   ]
  },
  {
   "cell_type": "code",
   "execution_count": 306,
   "metadata": {},
   "outputs": [
    {
     "data": {
      "image/png": "[encoded data removed]",
      "text/plain": [
       "<matplotlib.figure.Figure at 0x1c19dc8080>"
      ]
     },
     "metadata": {},
     "output_type": "display_data"
    }
   ],
   "source": [
    "plt.scatter(x=plot_columns[:,1], y=plot_columns[:,0], c=test_data[\"clusters\"], s=30)\n",
    "plt.show()"
   ]
  },
  {
   "cell_type": "code",
   "execution_count": 307,
   "metadata": {
    "scrolled": true
   },
   "outputs": [
    {
     "data": {
      "image/png": "[encoded data removed]",
      "text/plain": [
       "<matplotlib.figure.Figure at 0x1c1ca57320>"
      ]
     },
     "metadata": {},
     "output_type": "display_data"
    }
   ],
   "source": [
    "fig = plt.figure()\n",
    "ax = Axes3D(fig)\n",
    "\n",
    "ax.scatter(xs = plot_columns[:,1], ys = plot_columns[:,0], zs=plot_columns[:,2], zdir='z', c = test_data[\"clusters\"])\n",
    "plt.show()"
   ]
  },
  {
   "cell_type": "code",
   "execution_count": null,
   "metadata": {
    "collapsed": true
   },
   "outputs": [],
   "source": []
  }
 ],
 "metadata": {
  "kernelspec": {
   "display_name": "Python 3",
   "language": "python",
   "name": "python3"
  },
  "language_info": {
   "codemirror_mode": {
    "name": "ipython",
    "version": 3
   },
   "file_extension": ".py",
   "mimetype": "text/x-python",
   "name": "python",
   "nbconvert_exporter": "python",
   "pygments_lexer": "ipython3",
   "version": "3.6.2"
  }
 },
 "nbformat": 4,
 "nbformat_minor": 2
}
