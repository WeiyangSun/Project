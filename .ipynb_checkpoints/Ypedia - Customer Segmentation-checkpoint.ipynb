{
 "cells": [
  {
   "cell_type": "code",
   "execution_count": 95,
   "metadata": {
    "collapsed": true
   },
   "outputs": [],
   "source": [
    "import pandas as pd\n",
    "import os\n",
    "import numpy as np\n",
    "from scipy import stats\n",
    "import matplotlib.pyplot as plt"
   ]
  },
  {
   "cell_type": "code",
   "execution_count": 11,
   "metadata": {
    "collapsed": true
   },
   "outputs": [],
   "source": [
    "os.chdir('/Users/Weiyang/Desktop/Git/Project')"
   ]
  },
  {
   "cell_type": "code",
   "execution_count": 63,
   "metadata": {
    "collapsed": true
   },
   "outputs": [],
   "source": [
    "pd.set_option('display.width', 4000)\n",
    "pd.set_option('max_colwidth', 4000)\n",
    "pd.set_option('max_columns', 200)"
   ]
  },
  {
   "cell_type": "code",
   "execution_count": 64,
   "metadata": {
    "collapsed": true
   },
   "outputs": [],
   "source": [
    "dataset = pd.read_csv('Ypedia.csv')"
   ]
  },
  {
   "cell_type": "markdown",
   "metadata": {},
   "source": [
    "## Data Exploratory"
   ]
  },
  {
   "cell_type": "code",
   "execution_count": 65,
   "metadata": {},
   "outputs": [
    {
     "data": {
      "text/html": [
       "<div>\n",
       "<style>\n",
       "    .dataframe thead tr:only-child th {\n",
       "        text-align: right;\n",
       "    }\n",
       "\n",
       "    .dataframe thead th {\n",
       "        text-align: left;\n",
       "    }\n",
       "\n",
       "    .dataframe tbody tr th {\n",
       "        vertical-align: top;\n",
       "    }\n",
       "</style>\n",
       "<table border=\"1\" class=\"dataframe\">\n",
       "  <thead>\n",
       "    <tr style=\"text-align: right;\">\n",
       "      <th></th>\n",
       "      <th>Unnamed: 0</th>\n",
       "      <th>date_time</th>\n",
       "      <th>site_name</th>\n",
       "      <th>posa_continent</th>\n",
       "      <th>user_location_country</th>\n",
       "      <th>user_location_region</th>\n",
       "      <th>user_location_city</th>\n",
       "      <th>orig_destination_distance</th>\n",
       "      <th>user_id</th>\n",
       "      <th>is_mobile</th>\n",
       "      <th>is_package</th>\n",
       "      <th>channel</th>\n",
       "      <th>srch_ci</th>\n",
       "      <th>srch_co</th>\n",
       "      <th>srch_adults_cnt</th>\n",
       "      <th>srch_children_cnt</th>\n",
       "      <th>srch_rm_cnt</th>\n",
       "      <th>srch_destination_id</th>\n",
       "      <th>srch_destination_type_id</th>\n",
       "      <th>is_booking</th>\n",
       "      <th>cnt</th>\n",
       "      <th>hotel_continent</th>\n",
       "      <th>hotel_country</th>\n",
       "      <th>hotel_market</th>\n",
       "      <th>hotel_cluster</th>\n",
       "    </tr>\n",
       "  </thead>\n",
       "  <tbody>\n",
       "    <tr>\n",
       "      <th>0</th>\n",
       "      <td>24636210</td>\n",
       "      <td>2014-11-03 16:02:28</td>\n",
       "      <td>24</td>\n",
       "      <td>2</td>\n",
       "      <td>77</td>\n",
       "      <td>871</td>\n",
       "      <td>36643</td>\n",
       "      <td>456.1151</td>\n",
       "      <td>792280</td>\n",
       "      <td>0</td>\n",
       "      <td>1</td>\n",
       "      <td>1</td>\n",
       "      <td>2014-12-15</td>\n",
       "      <td>2014-12-19</td>\n",
       "      <td>2</td>\n",
       "      <td>0</td>\n",
       "      <td>1</td>\n",
       "      <td>8286</td>\n",
       "      <td>1</td>\n",
       "      <td>0</td>\n",
       "      <td>1</td>\n",
       "      <td>0</td>\n",
       "      <td>63</td>\n",
       "      <td>1258</td>\n",
       "      <td>68</td>\n",
       "    </tr>\n",
       "    <tr>\n",
       "      <th>1</th>\n",
       "      <td>19837144</td>\n",
       "      <td>2013-03-13 19:25:01</td>\n",
       "      <td>11</td>\n",
       "      <td>3</td>\n",
       "      <td>205</td>\n",
       "      <td>135</td>\n",
       "      <td>38749</td>\n",
       "      <td>232.4737</td>\n",
       "      <td>961995</td>\n",
       "      <td>0</td>\n",
       "      <td>0</td>\n",
       "      <td>9</td>\n",
       "      <td>2013-03-13</td>\n",
       "      <td>2013-03-14</td>\n",
       "      <td>2</td>\n",
       "      <td>0</td>\n",
       "      <td>1</td>\n",
       "      <td>1842</td>\n",
       "      <td>3</td>\n",
       "      <td>0</td>\n",
       "      <td>1</td>\n",
       "      <td>2</td>\n",
       "      <td>198</td>\n",
       "      <td>786</td>\n",
       "      <td>37</td>\n",
       "    </tr>\n",
       "    <tr>\n",
       "      <th>2</th>\n",
       "      <td>13066459</td>\n",
       "      <td>2014-10-13 13:20:25</td>\n",
       "      <td>2</td>\n",
       "      <td>3</td>\n",
       "      <td>66</td>\n",
       "      <td>314</td>\n",
       "      <td>48562</td>\n",
       "      <td>4468.2720</td>\n",
       "      <td>495669</td>\n",
       "      <td>0</td>\n",
       "      <td>1</td>\n",
       "      <td>9</td>\n",
       "      <td>2015-04-03</td>\n",
       "      <td>2015-04-10</td>\n",
       "      <td>2</td>\n",
       "      <td>0</td>\n",
       "      <td>1</td>\n",
       "      <td>8746</td>\n",
       "      <td>1</td>\n",
       "      <td>0</td>\n",
       "      <td>1</td>\n",
       "      <td>6</td>\n",
       "      <td>105</td>\n",
       "      <td>29</td>\n",
       "      <td>22</td>\n",
       "    </tr>\n",
       "    <tr>\n",
       "      <th>3</th>\n",
       "      <td>4691082</td>\n",
       "      <td>2013-11-05 10:40:34</td>\n",
       "      <td>11</td>\n",
       "      <td>3</td>\n",
       "      <td>205</td>\n",
       "      <td>411</td>\n",
       "      <td>52752</td>\n",
       "      <td>171.6021</td>\n",
       "      <td>106611</td>\n",
       "      <td>0</td>\n",
       "      <td>0</td>\n",
       "      <td>0</td>\n",
       "      <td>2013-11-07</td>\n",
       "      <td>2013-11-08</td>\n",
       "      <td>2</td>\n",
       "      <td>0</td>\n",
       "      <td>1</td>\n",
       "      <td>6210</td>\n",
       "      <td>3</td>\n",
       "      <td>1</td>\n",
       "      <td>1</td>\n",
       "      <td>2</td>\n",
       "      <td>198</td>\n",
       "      <td>1234</td>\n",
       "      <td>42</td>\n",
       "    </tr>\n",
       "    <tr>\n",
       "      <th>4</th>\n",
       "      <td>4878884</td>\n",
       "      <td>2014-06-10 13:34:56</td>\n",
       "      <td>2</td>\n",
       "      <td>3</td>\n",
       "      <td>66</td>\n",
       "      <td>174</td>\n",
       "      <td>50644</td>\n",
       "      <td>NaN</td>\n",
       "      <td>596177</td>\n",
       "      <td>0</td>\n",
       "      <td>0</td>\n",
       "      <td>9</td>\n",
       "      <td>2014-08-03</td>\n",
       "      <td>2014-08-08</td>\n",
       "      <td>2</td>\n",
       "      <td>1</td>\n",
       "      <td>1</td>\n",
       "      <td>12812</td>\n",
       "      <td>5</td>\n",
       "      <td>0</td>\n",
       "      <td>1</td>\n",
       "      <td>2</td>\n",
       "      <td>50</td>\n",
       "      <td>368</td>\n",
       "      <td>83</td>\n",
       "    </tr>\n",
       "  </tbody>\n",
       "</table>\n",
       "</div>"
      ],
      "text/plain": [
       "   Unnamed: 0            date_time  site_name  posa_continent  user_location_country  user_location_region  user_location_city  orig_destination_distance  user_id  is_mobile  is_package  channel     srch_ci     srch_co  srch_adults_cnt  srch_children_cnt  srch_rm_cnt  srch_destination_id  srch_destination_type_id  is_booking  cnt  hotel_continent  hotel_country  hotel_market  hotel_cluster\n",
       "0    24636210  2014-11-03 16:02:28         24               2                     77                   871               36643                   456.1151   792280          0           1        1  2014-12-15  2014-12-19                2                  0            1                 8286                         1           0    1                0             63          1258             68\n",
       "1    19837144  2013-03-13 19:25:01         11               3                    205                   135               38749                   232.4737   961995          0           0        9  2013-03-13  2013-03-14                2                  0            1                 1842                         3           0    1                2            198           786             37\n",
       "2    13066459  2014-10-13 13:20:25          2               3                     66                   314               48562                  4468.2720   495669          0           1        9  2015-04-03  2015-04-10                2                  0            1                 8746                         1           0    1                6            105            29             22\n",
       "3     4691082  2013-11-05 10:40:34         11               3                    205                   411               52752                   171.6021   106611          0           0        0  2013-11-07  2013-11-08                2                  0            1                 6210                         3           1    1                2            198          1234             42\n",
       "4     4878884  2014-06-10 13:34:56          2               3                     66                   174               50644                        NaN   596177          0           0        9  2014-08-03  2014-08-08                2                  1            1                12812                         5           0    1                2             50           368             83"
      ]
     },
     "execution_count": 65,
     "metadata": {},
     "output_type": "execute_result"
    }
   ],
   "source": [
    "dataset.head()"
   ]
  },
  {
   "cell_type": "code",
   "execution_count": 66,
   "metadata": {},
   "outputs": [
    {
     "data": {
      "text/html": [
       "<div>\n",
       "<style>\n",
       "    .dataframe thead tr:only-child th {\n",
       "        text-align: right;\n",
       "    }\n",
       "\n",
       "    .dataframe thead th {\n",
       "        text-align: left;\n",
       "    }\n",
       "\n",
       "    .dataframe tbody tr th {\n",
       "        vertical-align: top;\n",
       "    }\n",
       "</style>\n",
       "<table border=\"1\" class=\"dataframe\">\n",
       "  <thead>\n",
       "    <tr style=\"text-align: right;\">\n",
       "      <th></th>\n",
       "      <th>Unnamed: 0</th>\n",
       "      <th>site_name</th>\n",
       "      <th>posa_continent</th>\n",
       "      <th>user_location_country</th>\n",
       "      <th>user_location_region</th>\n",
       "      <th>user_location_city</th>\n",
       "      <th>orig_destination_distance</th>\n",
       "      <th>user_id</th>\n",
       "      <th>is_mobile</th>\n",
       "      <th>is_package</th>\n",
       "      <th>channel</th>\n",
       "      <th>srch_adults_cnt</th>\n",
       "      <th>srch_children_cnt</th>\n",
       "      <th>srch_rm_cnt</th>\n",
       "      <th>srch_destination_id</th>\n",
       "      <th>srch_destination_type_id</th>\n",
       "      <th>is_booking</th>\n",
       "      <th>cnt</th>\n",
       "      <th>hotel_continent</th>\n",
       "      <th>hotel_country</th>\n",
       "      <th>hotel_market</th>\n",
       "      <th>hotel_cluster</th>\n",
       "    </tr>\n",
       "  </thead>\n",
       "  <tbody>\n",
       "    <tr>\n",
       "      <th>count</th>\n",
       "      <td>1.000000e+05</td>\n",
       "      <td>100000.000000</td>\n",
       "      <td>100000.000000</td>\n",
       "      <td>100000.000000</td>\n",
       "      <td>100000.000000</td>\n",
       "      <td>100000.000000</td>\n",
       "      <td>63915.000000</td>\n",
       "      <td>1.000000e+05</td>\n",
       "      <td>100000.000000</td>\n",
       "      <td>100000.000000</td>\n",
       "      <td>100000.000000</td>\n",
       "      <td>100000.000000</td>\n",
       "      <td>100000.000000</td>\n",
       "      <td>100000.000000</td>\n",
       "      <td>100000.00000</td>\n",
       "      <td>100000.000000</td>\n",
       "      <td>100000.000000</td>\n",
       "      <td>100000.000000</td>\n",
       "      <td>100000.000000</td>\n",
       "      <td>100000.000000</td>\n",
       "      <td>100000.000000</td>\n",
       "      <td>100000.000000</td>\n",
       "    </tr>\n",
       "    <tr>\n",
       "      <th>mean</th>\n",
       "      <td>1.882530e+07</td>\n",
       "      <td>9.838570</td>\n",
       "      <td>2.678150</td>\n",
       "      <td>85.995070</td>\n",
       "      <td>308.636990</td>\n",
       "      <td>27676.391240</td>\n",
       "      <td>1960.661721</td>\n",
       "      <td>6.054383e+05</td>\n",
       "      <td>0.133770</td>\n",
       "      <td>0.248140</td>\n",
       "      <td>5.858590</td>\n",
       "      <td>2.020710</td>\n",
       "      <td>0.336750</td>\n",
       "      <td>1.111750</td>\n",
       "      <td>14426.32738</td>\n",
       "      <td>2.577290</td>\n",
       "      <td>0.079930</td>\n",
       "      <td>1.487980</td>\n",
       "      <td>3.150920</td>\n",
       "      <td>81.093290</td>\n",
       "      <td>598.848330</td>\n",
       "      <td>49.860370</td>\n",
       "    </tr>\n",
       "    <tr>\n",
       "      <th>std</th>\n",
       "      <td>1.086183e+07</td>\n",
       "      <td>11.996426</td>\n",
       "      <td>0.749018</td>\n",
       "      <td>59.292002</td>\n",
       "      <td>208.706581</td>\n",
       "      <td>16768.647409</td>\n",
       "      <td>2228.153377</td>\n",
       "      <td>3.516154e+05</td>\n",
       "      <td>0.340407</td>\n",
       "      <td>0.431936</td>\n",
       "      <td>3.722823</td>\n",
       "      <td>0.909774</td>\n",
       "      <td>0.734449</td>\n",
       "      <td>0.451602</td>\n",
       "      <td>11036.98122</td>\n",
       "      <td>2.149263</td>\n",
       "      <td>0.271186</td>\n",
       "      <td>1.280262</td>\n",
       "      <td>1.620534</td>\n",
       "      <td>56.111519</td>\n",
       "      <td>510.959297</td>\n",
       "      <td>28.885423</td>\n",
       "    </tr>\n",
       "    <tr>\n",
       "      <th>min</th>\n",
       "      <td>1.012000e+03</td>\n",
       "      <td>2.000000</td>\n",
       "      <td>0.000000</td>\n",
       "      <td>0.000000</td>\n",
       "      <td>0.000000</td>\n",
       "      <td>0.000000</td>\n",
       "      <td>0.005600</td>\n",
       "      <td>1.400000e+01</td>\n",
       "      <td>0.000000</td>\n",
       "      <td>0.000000</td>\n",
       "      <td>0.000000</td>\n",
       "      <td>0.000000</td>\n",
       "      <td>0.000000</td>\n",
       "      <td>0.000000</td>\n",
       "      <td>4.00000</td>\n",
       "      <td>1.000000</td>\n",
       "      <td>0.000000</td>\n",
       "      <td>1.000000</td>\n",
       "      <td>0.000000</td>\n",
       "      <td>0.000000</td>\n",
       "      <td>0.000000</td>\n",
       "      <td>0.000000</td>\n",
       "    </tr>\n",
       "    <tr>\n",
       "      <th>25%</th>\n",
       "      <td>9.448967e+06</td>\n",
       "      <td>2.000000</td>\n",
       "      <td>3.000000</td>\n",
       "      <td>66.000000</td>\n",
       "      <td>174.000000</td>\n",
       "      <td>12949.000000</td>\n",
       "      <td>312.792100</td>\n",
       "      <td>2.987962e+05</td>\n",
       "      <td>0.000000</td>\n",
       "      <td>0.000000</td>\n",
       "      <td>2.000000</td>\n",
       "      <td>2.000000</td>\n",
       "      <td>0.000000</td>\n",
       "      <td>1.000000</td>\n",
       "      <td>8267.00000</td>\n",
       "      <td>1.000000</td>\n",
       "      <td>0.000000</td>\n",
       "      <td>1.000000</td>\n",
       "      <td>2.000000</td>\n",
       "      <td>50.000000</td>\n",
       "      <td>158.000000</td>\n",
       "      <td>25.000000</td>\n",
       "    </tr>\n",
       "    <tr>\n",
       "      <th>50%</th>\n",
       "      <td>1.881212e+07</td>\n",
       "      <td>2.000000</td>\n",
       "      <td>3.000000</td>\n",
       "      <td>66.000000</td>\n",
       "      <td>314.000000</td>\n",
       "      <td>27655.000000</td>\n",
       "      <td>1131.835300</td>\n",
       "      <td>6.028825e+05</td>\n",
       "      <td>0.000000</td>\n",
       "      <td>0.000000</td>\n",
       "      <td>9.000000</td>\n",
       "      <td>2.000000</td>\n",
       "      <td>0.000000</td>\n",
       "      <td>1.000000</td>\n",
       "      <td>9145.00000</td>\n",
       "      <td>1.000000</td>\n",
       "      <td>0.000000</td>\n",
       "      <td>1.000000</td>\n",
       "      <td>2.000000</td>\n",
       "      <td>50.000000</td>\n",
       "      <td>591.000000</td>\n",
       "      <td>49.000000</td>\n",
       "    </tr>\n",
       "    <tr>\n",
       "      <th>75%</th>\n",
       "      <td>2.825307e+07</td>\n",
       "      <td>15.000000</td>\n",
       "      <td>3.000000</td>\n",
       "      <td>70.000000</td>\n",
       "      <td>385.000000</td>\n",
       "      <td>42328.000000</td>\n",
       "      <td>2542.359350</td>\n",
       "      <td>9.157222e+05</td>\n",
       "      <td>0.000000</td>\n",
       "      <td>0.000000</td>\n",
       "      <td>9.000000</td>\n",
       "      <td>2.000000</td>\n",
       "      <td>0.000000</td>\n",
       "      <td>1.000000</td>\n",
       "      <td>18784.00000</td>\n",
       "      <td>5.000000</td>\n",
       "      <td>0.000000</td>\n",
       "      <td>2.000000</td>\n",
       "      <td>4.000000</td>\n",
       "      <td>106.000000</td>\n",
       "      <td>701.000000</td>\n",
       "      <td>73.000000</td>\n",
       "    </tr>\n",
       "    <tr>\n",
       "      <th>max</th>\n",
       "      <td>3.767009e+07</td>\n",
       "      <td>53.000000</td>\n",
       "      <td>4.000000</td>\n",
       "      <td>239.000000</td>\n",
       "      <td>1025.000000</td>\n",
       "      <td>56507.000000</td>\n",
       "      <td>11965.376100</td>\n",
       "      <td>1.198783e+06</td>\n",
       "      <td>1.000000</td>\n",
       "      <td>1.000000</td>\n",
       "      <td>10.000000</td>\n",
       "      <td>9.000000</td>\n",
       "      <td>9.000000</td>\n",
       "      <td>8.000000</td>\n",
       "      <td>65035.00000</td>\n",
       "      <td>9.000000</td>\n",
       "      <td>1.000000</td>\n",
       "      <td>120.000000</td>\n",
       "      <td>6.000000</td>\n",
       "      <td>212.000000</td>\n",
       "      <td>2117.000000</td>\n",
       "      <td>99.000000</td>\n",
       "    </tr>\n",
       "  </tbody>\n",
       "</table>\n",
       "</div>"
      ],
      "text/plain": [
       "         Unnamed: 0      site_name  posa_continent  user_location_country  user_location_region  user_location_city  orig_destination_distance       user_id      is_mobile     is_package        channel  srch_adults_cnt  srch_children_cnt    srch_rm_cnt  srch_destination_id  srch_destination_type_id     is_booking            cnt  hotel_continent  hotel_country   hotel_market  hotel_cluster\n",
       "count  1.000000e+05  100000.000000   100000.000000          100000.000000         100000.000000       100000.000000               63915.000000  1.000000e+05  100000.000000  100000.000000  100000.000000    100000.000000      100000.000000  100000.000000         100000.00000             100000.000000  100000.000000  100000.000000    100000.000000  100000.000000  100000.000000  100000.000000\n",
       "mean   1.882530e+07       9.838570        2.678150              85.995070            308.636990        27676.391240                1960.661721  6.054383e+05       0.133770       0.248140       5.858590         2.020710           0.336750       1.111750          14426.32738                  2.577290       0.079930       1.487980         3.150920      81.093290     598.848330      49.860370\n",
       "std    1.086183e+07      11.996426        0.749018              59.292002            208.706581        16768.647409                2228.153377  3.516154e+05       0.340407       0.431936       3.722823         0.909774           0.734449       0.451602          11036.98122                  2.149263       0.271186       1.280262         1.620534      56.111519     510.959297      28.885423\n",
       "min    1.012000e+03       2.000000        0.000000               0.000000              0.000000            0.000000                   0.005600  1.400000e+01       0.000000       0.000000       0.000000         0.000000           0.000000       0.000000              4.00000                  1.000000       0.000000       1.000000         0.000000       0.000000       0.000000       0.000000\n",
       "25%    9.448967e+06       2.000000        3.000000              66.000000            174.000000        12949.000000                 312.792100  2.987962e+05       0.000000       0.000000       2.000000         2.000000           0.000000       1.000000           8267.00000                  1.000000       0.000000       1.000000         2.000000      50.000000     158.000000      25.000000\n",
       "50%    1.881212e+07       2.000000        3.000000              66.000000            314.000000        27655.000000                1131.835300  6.028825e+05       0.000000       0.000000       9.000000         2.000000           0.000000       1.000000           9145.00000                  1.000000       0.000000       1.000000         2.000000      50.000000     591.000000      49.000000\n",
       "75%    2.825307e+07      15.000000        3.000000              70.000000            385.000000        42328.000000                2542.359350  9.157222e+05       0.000000       0.000000       9.000000         2.000000           0.000000       1.000000          18784.00000                  5.000000       0.000000       2.000000         4.000000     106.000000     701.000000      73.000000\n",
       "max    3.767009e+07      53.000000        4.000000             239.000000           1025.000000        56507.000000               11965.376100  1.198783e+06       1.000000       1.000000      10.000000         9.000000           9.000000       8.000000          65035.00000                  9.000000       1.000000     120.000000         6.000000     212.000000    2117.000000      99.000000"
      ]
     },
     "execution_count": 66,
     "metadata": {},
     "output_type": "execute_result"
    }
   ],
   "source": [
    "dataset.describe()"
   ]
  },
  {
   "cell_type": "code",
   "execution_count": 67,
   "metadata": {},
   "outputs": [
    {
     "data": {
      "text/plain": [
       "Unnamed: 0                     int64\n",
       "date_time                     object\n",
       "site_name                      int64\n",
       "posa_continent                 int64\n",
       "user_location_country          int64\n",
       "user_location_region           int64\n",
       "user_location_city             int64\n",
       "orig_destination_distance    float64\n",
       "user_id                        int64\n",
       "is_mobile                      int64\n",
       "is_package                     int64\n",
       "channel                        int64\n",
       "srch_ci                       object\n",
       "srch_co                       object\n",
       "srch_adults_cnt                int64\n",
       "srch_children_cnt              int64\n",
       "srch_rm_cnt                    int64\n",
       "srch_destination_id            int64\n",
       "srch_destination_type_id       int64\n",
       "is_booking                     int64\n",
       "cnt                            int64\n",
       "hotel_continent                int64\n",
       "hotel_country                  int64\n",
       "hotel_market                   int64\n",
       "hotel_cluster                  int64\n",
       "dtype: object"
      ]
     },
     "execution_count": 67,
     "metadata": {},
     "output_type": "execute_result"
    }
   ],
   "source": [
    "dataset.dtypes"
   ]
  },
  {
   "cell_type": "code",
   "execution_count": 68,
   "metadata": {},
   "outputs": [
    {
     "data": {
      "text/plain": [
       "201"
      ]
     },
     "execution_count": 68,
     "metadata": {},
     "output_type": "execute_result"
    }
   ],
   "source": [
    "dataset['user_location_country'].nunique()"
   ]
  },
  {
   "cell_type": "code",
   "execution_count": 69,
   "metadata": {},
   "outputs": [
    {
     "name": "stdout",
     "output_type": "stream",
     "text": [
      "<class 'pandas.core.frame.DataFrame'>\n",
      "RangeIndex: 100000 entries, 0 to 99999\n",
      "Data columns (total 25 columns):\n",
      "Unnamed: 0                   100000 non-null int64\n",
      "date_time                    100000 non-null object\n",
      "site_name                    100000 non-null int64\n",
      "posa_continent               100000 non-null int64\n",
      "user_location_country        100000 non-null int64\n",
      "user_location_region         100000 non-null int64\n",
      "user_location_city           100000 non-null int64\n",
      "orig_destination_distance    63915 non-null float64\n",
      "user_id                      100000 non-null int64\n",
      "is_mobile                    100000 non-null int64\n",
      "is_package                   100000 non-null int64\n",
      "channel                      100000 non-null int64\n",
      "srch_ci                      99878 non-null object\n",
      "srch_co                      99878 non-null object\n",
      "srch_adults_cnt              100000 non-null int64\n",
      "srch_children_cnt            100000 non-null int64\n",
      "srch_rm_cnt                  100000 non-null int64\n",
      "srch_destination_id          100000 non-null int64\n",
      "srch_destination_type_id     100000 non-null int64\n",
      "is_booking                   100000 non-null int64\n",
      "cnt                          100000 non-null int64\n",
      "hotel_continent              100000 non-null int64\n",
      "hotel_country                100000 non-null int64\n",
      "hotel_market                 100000 non-null int64\n",
      "hotel_cluster                100000 non-null int64\n",
      "dtypes: float64(1), int64(21), object(3)\n",
      "memory usage: 19.1+ MB\n"
     ]
    }
   ],
   "source": [
    "dataset.info()"
   ]
  },
  {
   "cell_type": "markdown",
   "metadata": {},
   "source": [
    "##### Comments:\n",
    "\n",
    "##### 1) Null values present in original destination distance, Check-in and Check-out timings\n",
    "##### 2) Dates are object data types\n",
    "##### 3) Original destination distance is the only other float variables"
   ]
  },
  {
   "cell_type": "code",
   "execution_count": 70,
   "metadata": {
    "collapsed": true
   },
   "outputs": [],
   "source": [
    "def unique_counts(dataset):\n",
    "    for i in dataset.columns:\n",
    "        count = dataset[i].nunique()\n",
    "        print(i, \": \", count)"
   ]
  },
  {
   "cell_type": "code",
   "execution_count": 71,
   "metadata": {},
   "outputs": [
    {
     "name": "stdout",
     "output_type": "stream",
     "text": [
      "Unnamed: 0 :  100000\n",
      "date_time :  99886\n",
      "site_name :  41\n",
      "posa_continent :  5\n",
      "user_location_country :  201\n",
      "user_location_region :  779\n",
      "user_location_city :  10779\n",
      "orig_destination_distance :  62206\n",
      "user_id :  88863\n",
      "is_mobile :  2\n",
      "is_package :  2\n",
      "channel :  11\n",
      "srch_ci :  1066\n",
      "srch_co :  1068\n",
      "srch_adults_cnt :  10\n",
      "srch_children_cnt :  10\n",
      "srch_rm_cnt :  9\n",
      "srch_destination_id :  8827\n",
      "srch_destination_type_id :  8\n",
      "is_booking :  2\n",
      "cnt :  32\n",
      "hotel_continent :  7\n",
      "hotel_country :  178\n",
      "hotel_market :  1843\n",
      "hotel_cluster :  100\n"
     ]
    }
   ],
   "source": [
    "unique_counts(dataset)"
   ]
  },
  {
   "cell_type": "code",
   "execution_count": 72,
   "metadata": {
    "collapsed": true
   },
   "outputs": [],
   "source": [
    "def correlation_check(dataset):\n",
    "    for i in dataset.columns:\n",
    "        if i == 'is_booking' or i == 'srch_rm_cnt':\n",
    "            break\n",
    "        else:\n",
    "            booking_correlation = pd.crosstab(dataset[i], dataset['is_booking'])\n",
    "            room_correlation = pd.crosstab(dataset[i], dataset['srch_rm_cnt'])\n",
    "            print('The correlation {a} has with booking rate is: \\n {b} \\n'.format(a = i, b = booking_correlation))\n",
    "            print('The correlation {c} has with room counts is: \\n {d} \\n'.format(c = i, d = room_correlation))"
   ]
  },
  {
   "cell_type": "markdown",
   "metadata": {},
   "source": [
    "#### Subsetting Dataset for Correlation Check"
   ]
  },
  {
   "cell_type": "code",
   "execution_count": 73,
   "metadata": {
    "collapsed": true
   },
   "outputs": [],
   "source": [
    "interested_columns = ['posa_continent', 'is_mobile', 'is_package', 'channel', 'srch_adults_cnt', 'srch_destination_type_id', 'srch_children_cnt', 'srch_rm_cnt', 'is_booking']"
   ]
  },
  {
   "cell_type": "code",
   "execution_count": 74,
   "metadata": {
    "collapsed": true
   },
   "outputs": [],
   "source": [
    "new_dataset = dataset.loc[:,interested_columns]"
   ]
  },
  {
   "cell_type": "code",
   "execution_count": 75,
   "metadata": {},
   "outputs": [
    {
     "name": "stdout",
     "output_type": "stream",
     "text": [
      "The correlation posa_continent has with booking rate is: \n",
      " is_booking          0     1\n",
      "posa_continent             \n",
      "0                 664    44\n",
      "1               10977   902\n",
      "2                8866   572\n",
      "3               68571  6269\n",
      "4                2929   206 \n",
      "\n",
      "The correlation posa_continent has with room counts is: \n",
      " srch_rm_cnt     0      1     2    3    4   5   6   7   8\n",
      "posa_continent                                          \n",
      "0               0    622    73    6    3   3   1   0   0\n",
      "1               0  10633   993  155   40  20  14   8  16\n",
      "2               0   8590   592  151   56  25   8   5  11\n",
      "3               1  68952  4805  740  185  63  41  16  37\n",
      "4               0   2876   208   25   11   6   3   1   5 \n",
      "\n",
      "The correlation is_mobile has with booking rate is: \n",
      " is_booking      0     1\n",
      "is_mobile              \n",
      "0           79435  7188\n",
      "1           12572   805 \n",
      "\n",
      "The correlation is_mobile has with room counts is: \n",
      " srch_rm_cnt  0      1     2    3    4    5   6   7   8\n",
      "is_mobile                                             \n",
      "0            1  79237  5882  957  275  112  62  30  67\n",
      "1            0  12436   789  120   20    5   5   0   2 \n",
      "\n",
      "The correlation is_package has with booking rate is: \n",
      " is_booking      0     1\n",
      "is_package             \n",
      "0           68224  6962\n",
      "1           23783  1031 \n",
      "\n",
      "The correlation is_package has with room counts is: \n",
      " srch_rm_cnt  0      1     2    3    4    5   6   7   8\n",
      "is_package                                            \n",
      "0            1  68650  5125  842  291  113  67  30  67\n",
      "1            0  23023  1546  235    4    4   0   0   2 \n",
      "\n",
      "The correlation channel has with booking rate is: \n",
      " is_booking      0     1\n",
      "channel                \n",
      "0           11622   901\n",
      "1            9558   716\n",
      "2            7362   474\n",
      "3            4138   266\n",
      "4            1929   265\n",
      "5            5577   581\n",
      "6             151    11\n",
      "7             776    35\n",
      "8             256    15\n",
      "9           50626  4726\n",
      "10             12     3 \n",
      "\n",
      "The correlation channel has with room counts is: \n",
      " srch_rm_cnt  0      1     2    3    4   5   6   7   8\n",
      "channel                                              \n",
      "0            0  11547   797  125   35  10   4   1   4\n",
      "1            0   9472   669   92   19   9   8   3   2\n",
      "2            0   7365   379   61   17   5   3   3   3\n",
      "3            0   4104   249   40    8   2   0   0   1\n",
      "4            0   1999   148   30    7   4   5   0   1\n",
      "5            0   5294   592  132   59  31  15   9  26\n",
      "6            0    151    10    1    0   0   0   0   0\n",
      "7            0    768    31   10    1   0   0   1   0\n",
      "8            0    246    20    3    2   0   0   0   0\n",
      "9            1  50713  3775  583  147  56  32  13  32\n",
      "10           0     14     1    0    0   0   0   0   0 \n",
      "\n",
      "The correlation srch_adults_cnt has with booking rate is: \n",
      " is_booking           0     1\n",
      "srch_adults_cnt             \n",
      "0                  168    13\n",
      "1                18919  2631\n",
      "2                61076  4484\n",
      "3                 5056   358\n",
      "4                 4915   375\n",
      "5                  703    36\n",
      "6                  808    53\n",
      "7                  128    13\n",
      "8                  201    24\n",
      "9                   33     6 \n",
      "\n",
      "The correlation srch_adults_cnt has with room counts is: \n",
      " srch_rm_cnt      0      1     2    3    4   5   6   7   8\n",
      "srch_adults_cnt                                          \n",
      "0                1    173     7    0    0   0   0   0   0\n",
      "1                0  21320    35   21   14  51  41  20  48\n",
      "2                0  63883  1661   10    0   3   2   0   1\n",
      "3                0   3988  1166  260    0   0   0   0   0\n",
      "4                0   1974  3164   74   78   0   0   0   0\n",
      "5                0    189   354  149   14  33   0   0   0\n",
      "6                0    127   201  491   16   7  19   0   0\n",
      "7                0      7    38   40   38   6   2  10   0\n",
      "8                0     12    43   16  128   5   1   0  20\n",
      "9                0      0     2   16    7  12   2   0   0 \n",
      "\n",
      "The correlation srch_destination_type_id has with booking rate is: \n",
      " is_booking                    0     1\n",
      "srch_destination_type_id             \n",
      "1                         57494  4415\n",
      "3                          6681   657\n",
      "4                          3049   302\n",
      "5                          4167   590\n",
      "6                         20271  1998\n",
      "7                             7     1\n",
      "8                           336    29\n",
      "9                             2     1 \n",
      "\n",
      "The correlation srch_destination_type_id has with room counts is: \n",
      " srch_rm_cnt               0      1     2    3    4   5   6   7   8\n",
      "srch_destination_type_id                                          \n",
      "1                         0  56871  4083  642  164  58  41  15  35\n",
      "3                         0   6716   517   64   19   9   4   4   5\n",
      "4                         0   3063   218   43   16   7   2   0   2\n",
      "5                         0   4367   292   62   13  11   5   1   6\n",
      "6                         1  20306  1539  262   83  32  15  10  21\n",
      "7                         0      7     1    0    0   0   0   0   0\n",
      "8                         0    340    21    4    0   0   0   0   0\n",
      "9                         0      3     0    0    0   0   0   0   0 \n",
      "\n",
      "The correlation srch_children_cnt has with booking rate is: \n",
      " is_booking             0     1\n",
      "srch_children_cnt             \n",
      "0                  72262  6485\n",
      "1                  10348   946\n",
      "2                   7679   455\n",
      "3                   1285    74\n",
      "4                    342    24\n",
      "5                     47     4\n",
      "6                     34     2\n",
      "7                      4     2\n",
      "8                      4     0\n",
      "9                      2     1 \n",
      "\n",
      "The correlation srch_children_cnt has with room counts is: \n",
      " srch_rm_cnt        0      1     2    3    4   5   6   7   8\n",
      "srch_children_cnt                                          \n",
      "0                  1  73106  4354  828  226  87  52  28  65\n",
      "1                  0  10181   971   92   23  17   7   0   3\n",
      "2                  0   7197   853   61   17   3   3   0   0\n",
      "3                  0   1019   285   42    9   3   1   0   0\n",
      "4                  0    151   180   25    6   2   0   2   0\n",
      "5                  0      7    21   15    4   3   1   0   0\n",
      "6                  0     12     5   11    5   1   2   0   0\n",
      "7                  0      0     2    1    2   0   1   0   0\n",
      "8                  0      0     0    0    2   1   0   0   1\n",
      "9                  0      0     0    2    1   0   0   0   0 \n",
      "\n"
     ]
    }
   ],
   "source": [
    "correlation_check(new_dataset)"
   ]
  },
  {
   "cell_type": "markdown",
   "metadata": {},
   "source": [
    "##### Comments:\n",
    "\n",
    "##### 1) There is an errorenous row showing 1 count of 0 rooms.\n",
    "\n",
    "##### 2) It would seem that posa_continents might be an effective method of segmentation\n",
    "\n",
    "##### 3) Conversion rate using mobile is at 6% with the majority focused on 1 room booking\n",
    "\n",
    "##### 4) Conversion rate using promotional package (is_package) does not seem to out-perform booking rates associated with non-promo\n",
    "\n",
    "##### 5) It would be interesting to see which marketing channel (channel) is the most effective means of out-reach"
   ]
  },
  {
   "cell_type": "code",
   "execution_count": 80,
   "metadata": {
    "collapsed": true
   },
   "outputs": [],
   "source": [
    "corr = dataset.corr()"
   ]
  },
  {
   "cell_type": "code",
   "execution_count": 91,
   "metadata": {
    "collapsed": true
   },
   "outputs": [],
   "source": [
    "indices = np.where(corr > 0.5)\n",
    "\n",
    "indices = [(corr.index[x], corr.columns[y]) for x, y in zip(*indices) if x != y and x < y]"
   ]
  },
  {
   "cell_type": "code",
   "execution_count": 92,
   "metadata": {},
   "outputs": [
    {
     "data": {
      "text/plain": [
       "[('srch_adults_cnt', 'srch_rm_cnt')]"
      ]
     },
     "execution_count": 92,
     "metadata": {},
     "output_type": "execute_result"
    }
   ],
   "source": [
    "indices"
   ]
  },
  {
   "cell_type": "markdown",
   "metadata": {},
   "source": [
    "##### Comments:\n",
    "\n",
    "##### 1) Adult counts and Room counts have a moderate correlation of about 0.57 (more adults = more rooms)"
   ]
  },
  {
   "cell_type": "code",
   "execution_count": 109,
   "metadata": {
    "collapsed": true
   },
   "outputs": [],
   "source": [
    "interested_plots = ['channel', 'is_booking', 'is_mobile', 'srch_rm_cnt', 'srch_adults_cnt', 'srch_children_cnt']"
   ]
  },
  {
   "cell_type": "code",
   "execution_count": 111,
   "metadata": {},
   "outputs": [
    {
     "data": {
      "image/png": "[encoded data removed]",
      "text/plain": [
       "<matplotlib.figure.Figure at 0x10d7cc2e8>"
      ]
     },
     "metadata": {},
     "output_type": "display_data"
    },
    {
     "data": {
      "image/png": "[encoded data removed]",
      "text/plain": [
       "<matplotlib.figure.Figure at 0x10ddafdd8>"
      ]
     },
     "metadata": {},
     "output_type": "display_data"
    },
    {
     "data": {
      "image/png": "[encoded data removed]",
      "text/plain": [
       "<matplotlib.figure.Figure at 0x10d1fac88>"
      ]
     },
     "metadata": {},
     "output_type": "display_data"
    },
    {
     "data": {
      "image/png": "[encoded data removed]",
      "text/plain": [
       "<matplotlib.figure.Figure at 0x10d824588>"
      ]
     },
     "metadata": {},
     "output_type": "display_data"
    },
    {
     "data": {
      "image/png": "[encoded data removed]",
      "text/plain": [
       "<matplotlib.figure.Figure at 0x1a18c223c8>"
      ]
     },
     "metadata": {},
     "output_type": "display_data"
    },
    {
     "data": {
      "image/png": "[encoded data removed]",
      "text/plain": [
       "<matplotlib.figure.Figure at 0x10cd4dac8>"
      ]
     },
     "metadata": {},
     "output_type": "display_data"
    }
   ],
   "source": [
    "for i in interested_plots:\n",
    "\n",
    "    plt.hist(dataset[i])\n",
    "    plt.ylabel('Count')\n",
    "    plt.xlabel(i)\n",
    "    plt.show()"
   ]
  },
  {
   "cell_type": "markdown",
   "metadata": {},
   "source": [
    "##### Comments:\n",
    "\n",
    "##### 1) Channel 10 has a big exposure to the clientele of Ypedia\n",
    "\n",
    "##### 2) The low booking rate among the clientele exposed to Ypedia marketing is worrying\n",
    "\n",
    "##### 3) There is a low utilization of the mobile app in creating booking\n",
    "\n",
    "##### 4) Most commonly, amongst those who book, the preference setup for booking is 1 room for 2 adults and 0 children"
   ]
  },
  {
   "cell_type": "code",
   "execution_count": 146,
   "metadata": {},
   "outputs": [
    {
     "data": {
      "text/html": [
       "<div>\n",
       "<style>\n",
       "    .dataframe thead tr:only-child th {\n",
       "        text-align: right;\n",
       "    }\n",
       "\n",
       "    .dataframe thead th {\n",
       "        text-align: left;\n",
       "    }\n",
       "\n",
       "    .dataframe tbody tr th {\n",
       "        vertical-align: top;\n",
       "    }\n",
       "</style>\n",
       "<table border=\"1\" class=\"dataframe\">\n",
       "  <thead>\n",
       "    <tr style=\"text-align: right;\">\n",
       "      <th>col_0</th>\n",
       "      <th>count</th>\n",
       "    </tr>\n",
       "    <tr>\n",
       "      <th>is_booking</th>\n",
       "      <th></th>\n",
       "    </tr>\n",
       "  </thead>\n",
       "  <tbody>\n",
       "    <tr>\n",
       "      <th>0</th>\n",
       "      <td>92007</td>\n",
       "    </tr>\n",
       "    <tr>\n",
       "      <th>1</th>\n",
       "      <td>7993</td>\n",
       "    </tr>\n",
       "  </tbody>\n",
       "</table>\n",
       "</div>"
      ],
      "text/plain": [
       "col_0       count\n",
       "is_booking       \n",
       "0           92007\n",
       "1            7993"
      ]
     },
     "execution_count": 146,
     "metadata": {},
     "output_type": "execute_result"
    }
   ],
   "source": [
    "my_tab = pd.crosstab(index=dataset['is_booking'], columns=\"count\")\n",
    "my_tab"
   ]
  },
  {
   "cell_type": "code",
   "execution_count": 145,
   "metadata": {},
   "outputs": [
    {
     "data": {
      "text/plain": [
       "88863"
      ]
     },
     "execution_count": 145,
     "metadata": {},
     "output_type": "execute_result"
    }
   ],
   "source": [
    "dataset['user_id'].nunique()"
   ]
  },
  {
   "cell_type": "code",
   "execution_count": 142,
   "metadata": {},
   "outputs": [
    {
     "data": {
      "text/plain": [
       "count\n",
       "1    79189\n",
       "2     8423\n",
       "3     1065\n",
       "4      161\n",
       "5       24\n",
       "6        1\n",
       "Name: user_id, dtype: int64"
      ]
     },
     "execution_count": 142,
     "metadata": {},
     "output_type": "execute_result"
    }
   ],
   "source": [
    "dataset.groupby('user_id')['is_booking'].agg(['count']).reset_index().groupby('count')['user_id'].agg('count')"
   ]
  },
  {
   "cell_type": "markdown",
   "metadata": {},
   "source": [
    "##### Comments:\n",
    "\n",
    "##### 1) There are a total of 88,863 unique users in this dataset.\n",
    "\n",
    "##### 2) Out of which, 79189 users appeared once. 8423 users appeared twice, 1065 users appeared thrice and so on.\n",
    "\n",
    "##### 3) By multiplying the users with the number of appearance, we will get back the original 100,000 data rows."
   ]
  },
  {
   "cell_type": "code",
   "execution_count": 141,
   "metadata": {},
   "outputs": [
    {
     "data": {
      "text/html": [
       "<div>\n",
       "<style>\n",
       "    .dataframe thead tr:only-child th {\n",
       "        text-align: right;\n",
       "    }\n",
       "\n",
       "    .dataframe thead th {\n",
       "        text-align: left;\n",
       "    }\n",
       "\n",
       "    .dataframe tbody tr th {\n",
       "        vertical-align: top;\n",
       "    }\n",
       "</style>\n",
       "<table border=\"1\" class=\"dataframe\">\n",
       "  <thead>\n",
       "    <tr style=\"text-align: right;\">\n",
       "      <th></th>\n",
       "      <th>user_id</th>\n",
       "    </tr>\n",
       "    <tr>\n",
       "      <th>mean</th>\n",
       "      <th></th>\n",
       "    </tr>\n",
       "  </thead>\n",
       "  <tbody>\n",
       "    <tr>\n",
       "      <th>0.000000</th>\n",
       "      <td>80991</td>\n",
       "    </tr>\n",
       "    <tr>\n",
       "      <th>0.200000</th>\n",
       "      <td>5</td>\n",
       "    </tr>\n",
       "    <tr>\n",
       "      <th>0.250000</th>\n",
       "      <td>35</td>\n",
       "    </tr>\n",
       "    <tr>\n",
       "      <th>0.333333</th>\n",
       "      <td>153</td>\n",
       "    </tr>\n",
       "    <tr>\n",
       "      <th>0.400000</th>\n",
       "      <td>1</td>\n",
       "    </tr>\n",
       "    <tr>\n",
       "      <th>0.500000</th>\n",
       "      <td>1054</td>\n",
       "    </tr>\n",
       "    <tr>\n",
       "      <th>0.600000</th>\n",
       "      <td>1</td>\n",
       "    </tr>\n",
       "    <tr>\n",
       "      <th>0.666667</th>\n",
       "      <td>26</td>\n",
       "    </tr>\n",
       "    <tr>\n",
       "      <th>0.750000</th>\n",
       "      <td>1</td>\n",
       "    </tr>\n",
       "    <tr>\n",
       "      <th>1.000000</th>\n",
       "      <td>6596</td>\n",
       "    </tr>\n",
       "  </tbody>\n",
       "</table>\n",
       "</div>"
      ],
      "text/plain": [
       "          user_id\n",
       "mean             \n",
       "0.000000    80991\n",
       "0.200000        5\n",
       "0.250000       35\n",
       "0.333333      153\n",
       "0.400000        1\n",
       "0.500000     1054\n",
       "0.600000        1\n",
       "0.666667       26\n",
       "0.750000        1\n",
       "1.000000     6596"
      ]
     },
     "execution_count": 141,
     "metadata": {},
     "output_type": "execute_result"
    }
   ],
   "source": [
    "dataset.groupby('user_id')['is_booking'].agg(['mean']).reset_index().groupby('mean').agg('count')"
   ]
  },
  {
   "cell_type": "markdown",
   "metadata": {},
   "source": [
    "##### Comments:\n",
    "\n",
    "##### 1) Rather than looking at it from the number of instances, by taking the mean value, we are able to find the booking rates.\n",
    "\n",
    "##### 2) 80991 users did not book any at all.\n",
    "\n",
    "##### 3) We would expect that in total 7993 bookings were done, and some were done multiple times."
   ]
  },
  {
   "cell_type": "markdown",
   "metadata": {},
   "source": [
    "## Data Correction"
   ]
  },
  {
   "cell_type": "markdown",
   "metadata": {},
   "source": [
    "### Correcting for booking of 0 room size"
   ]
  },
  {
   "cell_type": "code",
   "execution_count": 153,
   "metadata": {},
   "outputs": [
    {
     "data": {
      "text/html": [
       "<div>\n",
       "<style>\n",
       "    .dataframe thead tr:only-child th {\n",
       "        text-align: right;\n",
       "    }\n",
       "\n",
       "    .dataframe thead th {\n",
       "        text-align: left;\n",
       "    }\n",
       "\n",
       "    .dataframe tbody tr th {\n",
       "        vertical-align: top;\n",
       "    }\n",
       "</style>\n",
       "<table border=\"1\" class=\"dataframe\">\n",
       "  <thead>\n",
       "    <tr style=\"text-align: right;\">\n",
       "      <th>is_booking</th>\n",
       "      <th>0</th>\n",
       "      <th>1</th>\n",
       "    </tr>\n",
       "    <tr>\n",
       "      <th>srch_rm_cnt</th>\n",
       "      <th></th>\n",
       "      <th></th>\n",
       "    </tr>\n",
       "  </thead>\n",
       "  <tbody>\n",
       "    <tr>\n",
       "      <th>0</th>\n",
       "      <td>0</td>\n",
       "      <td>1</td>\n",
       "    </tr>\n",
       "    <tr>\n",
       "      <th>1</th>\n",
       "      <td>84425</td>\n",
       "      <td>7248</td>\n",
       "    </tr>\n",
       "    <tr>\n",
       "      <th>2</th>\n",
       "      <td>6091</td>\n",
       "      <td>580</td>\n",
       "    </tr>\n",
       "    <tr>\n",
       "      <th>3</th>\n",
       "      <td>975</td>\n",
       "      <td>102</td>\n",
       "    </tr>\n",
       "    <tr>\n",
       "      <th>4</th>\n",
       "      <td>253</td>\n",
       "      <td>42</td>\n",
       "    </tr>\n",
       "    <tr>\n",
       "      <th>5</th>\n",
       "      <td>108</td>\n",
       "      <td>9</td>\n",
       "    </tr>\n",
       "    <tr>\n",
       "      <th>6</th>\n",
       "      <td>61</td>\n",
       "      <td>6</td>\n",
       "    </tr>\n",
       "    <tr>\n",
       "      <th>7</th>\n",
       "      <td>29</td>\n",
       "      <td>1</td>\n",
       "    </tr>\n",
       "    <tr>\n",
       "      <th>8</th>\n",
       "      <td>65</td>\n",
       "      <td>4</td>\n",
       "    </tr>\n",
       "  </tbody>\n",
       "</table>\n",
       "</div>"
      ],
      "text/plain": [
       "is_booking       0     1\n",
       "srch_rm_cnt             \n",
       "0                0     1\n",
       "1            84425  7248\n",
       "2             6091   580\n",
       "3              975   102\n",
       "4              253    42\n",
       "5              108     9\n",
       "6               61     6\n",
       "7               29     1\n",
       "8               65     4"
      ]
     },
     "execution_count": 153,
     "metadata": {},
     "output_type": "execute_result"
    }
   ],
   "source": [
    "book_0 = pd.crosstab(dataset['srch_rm_cnt'], dataset['is_booking'])\n",
    "book_0"
   ]
  },
  {
   "cell_type": "code",
   "execution_count": 154,
   "metadata": {
    "collapsed": true
   },
   "outputs": [],
   "source": [
    "dataset = dataset[dataset.srch_rm_cnt != 0]"
   ]
  },
  {
   "cell_type": "markdown",
   "metadata": {},
   "source": [
    "### Check-in Date > Booking Date"
   ]
  },
  {
   "cell_type": "code",
   "execution_count": 174,
   "metadata": {},
   "outputs": [
    {
     "name": "stderr",
     "output_type": "stream",
     "text": [
      "/Users/Weiyang/anaconda3/lib/python3.6/site-packages/pandas/core/indexing.py:517: SettingWithCopyWarning: \n",
      "A value is trying to be set on a copy of a slice from a DataFrame.\n",
      "Try using .loc[row_indexer,col_indexer] = value instead\n",
      "\n",
      "See the caveats in the documentation: http://pandas.pydata.org/pandas-docs/stable/indexing.html#indexing-view-versus-copy\n",
      "  self.obj[item] = s\n"
     ]
    }
   ],
   "source": [
    "dataset.loc[:,'srch_ci'] = pd.to_datetime(dataset.loc[:,'srch_ci'], format = '%Y-%m-%d')"
   ]
  },
  {
   "cell_type": "code",
   "execution_count": null,
   "metadata": {
    "collapsed": true
   },
   "outputs": [],
   "source": []
  },
  {
   "cell_type": "code",
   "execution_count": null,
   "metadata": {
    "collapsed": true
   },
   "outputs": [],
   "source": []
  },
  {
   "cell_type": "code",
   "execution_count": null,
   "metadata": {
    "collapsed": true
   },
   "outputs": [],
   "source": []
  },
  {
   "cell_type": "code",
   "execution_count": null,
   "metadata": {
    "collapsed": true
   },
   "outputs": [],
   "source": []
  },
  {
   "cell_type": "code",
   "execution_count": null,
   "metadata": {
    "collapsed": true
   },
   "outputs": [],
   "source": []
  },
  {
   "cell_type": "code",
   "execution_count": null,
   "metadata": {
    "collapsed": true
   },
   "outputs": [],
   "source": []
  },
  {
   "cell_type": "code",
   "execution_count": null,
   "metadata": {
    "collapsed": true
   },
   "outputs": [],
   "source": []
  }
 ],
 "metadata": {
  "kernelspec": {
   "display_name": "Python 3",
   "language": "python",
   "name": "python3"
  },
  "language_info": {
   "codemirror_mode": {
    "name": "ipython",
    "version": 3
   },
   "file_extension": ".py",
   "mimetype": "text/x-python",
   "name": "python",
   "nbconvert_exporter": "python",
   "pygments_lexer": "ipython3",
   "version": "3.6.2"
  }
 },
 "nbformat": 4,
 "nbformat_minor": 2
}
